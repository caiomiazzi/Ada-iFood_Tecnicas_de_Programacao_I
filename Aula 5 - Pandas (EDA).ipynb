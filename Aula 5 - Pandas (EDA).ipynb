{
 "cells": [
  {
   "cell_type": "markdown",
   "id": "4f51956c",
   "metadata": {
    "id": "4f51956c"
   },
   "source": [
    "**Relembrando**  \n",
    "  \n",
    "A biblioteca **Pandas** proporciona uma forma eficiente de armazenagem e processamento de conjuntos de dados, e é utilizada como base para a construção da biblioteca Pandas, que estudaremos a seguir.\n",
    "\n",
    "O diferencial do Numpy é sua velocidade e eficiência, o que faz com que ela seja amplamente utilizada para computação científica e analise de dados. \n",
    "\n",
    "A velocidade e eficiência é possível graças à estrutura chamada **numpy array**, que é um forma eficiente de guardar e manipular matrizes, que serve como base para as tabelas que iremos utilizar."
   ]
  },
  {
   "cell_type": "code",
   "execution_count": null,
   "id": "57ad54b6",
   "metadata": {
    "id": "57ad54b6",
    "tags": []
   },
   "outputs": [],
   "source": [
    "import pandas as pd\n",
    "import numpy as np"
   ]
  },
  {
   "cell_type": "markdown",
   "id": "24b9908c",
   "metadata": {
    "id": "24b9908c"
   },
   "source": [
    "## Series\n",
    "\n",
    "O objeto fundamental do Pandas são as **Series**, uma classe do pandas.\n",
    "\n",
    "As Series são as **colunas das tabelas** (que veremos mais a frente), e por baixo dos panos, os dados ficam armazenados como **numpy arrays**!\n",
    "\n",
    "A diferença é que a série possui um **índice associado**, permitindo o acesso aos conteúdos dessa estrutura por ele, como um dicionário.\n",
    "\n",
    "Além disso, as séries têm métodos específicos além dos que vimos pra arrays, o que será super útil!\n",
    "\n",
    "Podemos criar uma série **a partir de uma lista**, usando a função do pandas `pd.Series()`: "
   ]
  },
  {
   "cell_type": "markdown",
   "id": "44612acf",
   "metadata": {
    "id": "44612acf"
   },
   "source": [
    "### DataFrame\n",
    "\n",
    "Agora que conhecemos as séries, vamos partir pro objeto do Pandas que mais utilizaremos: o **DataFrame**\n",
    "\n",
    "Como veremos a seguir, o DataFrame é uma estrutura que se assemalha a uma **tabela**.\n",
    "\n",
    "Estruturalmente, o DataFrame nada mais é que um **conjunto de Series**, uma para cada coluna (e, claro, com mesmo índice, que irão indexar as linhas).\n",
    "  \n",
    "Veremos depois como **ler um dataframe a partir de um arquivo** (que é provavelmente a forma mais comum)\n",
    "\n",
    "Há muitas formas de construir um DataFrame do zero. Todas elas fazem uso da função **pd.DataFrame()**, como veremos a seguir.\n",
    "\n",
    "Se quisermos especificar os índices de linha, o nome das colunas, e os dados, podemos passá-los separadamente: "
   ]
  },
  {
   "cell_type": "markdown",
   "id": "8c30e202",
   "metadata": {
    "id": "8c30e202"
   },
   "source": [
    "## Exploração de dados\n",
    "\n",
    "Em estatística, a análise exploratória de dados (EDA - Exploratory Data Analysis) é uma abordagem de análise de conjuntos de dados para resumir suas principais características, muitas vezes usando gráficos estatísticos e outros métodos de visualização de dados. Neste módulo vamos nos ater ao uso de tabelas e estatísticas para este trabalho, principalmente usando o ```pandas```."
   ]
  },
  {
   "cell_type": "code",
   "execution_count": null,
   "id": "62e39ca4",
   "metadata": {
    "id": "62e39ca4",
    "tags": []
   },
   "outputs": [],
   "source": [
    "df = pd.read_table('./dados/dados_parciais.txt', sep=';', decimal=',')"
   ]
  },
  {
   "cell_type": "markdown",
   "id": "e8bcaff8",
   "metadata": {
    "id": "e8bcaff8"
   },
   "source": [
    "### Head"
   ]
  },
  {
   "cell_type": "code",
   "execution_count": null,
   "id": "d2c16cfb",
   "metadata": {
    "colab": {
     "base_uri": "https://localhost:8080/",
     "height": 143
    },
    "id": "d2c16cfb",
    "outputId": "91dbe742-e282-419c-ffa3-b8aa46136212",
    "tags": []
   },
   "outputs": [],
   "source": [
    "# O head é utilizado para observarmos o início de um dataframe\n",
    "df.head()"
   ]
  },
  {
   "cell_type": "code",
   "execution_count": null,
   "id": "183ec3ad-1e5c-4e75-8ba3-493deb0389b5",
   "metadata": {
    "tags": []
   },
   "outputs": [],
   "source": [
    "df[df['uf']=='PI']"
   ]
  },
  {
   "cell_type": "markdown",
   "id": "05351d5c",
   "metadata": {
    "id": "05351d5c"
   },
   "source": [
    "### Tail"
   ]
  },
  {
   "cell_type": "code",
   "execution_count": null,
   "id": "82730f0d",
   "metadata": {
    "colab": {
     "base_uri": "https://localhost:8080/",
     "height": 143
    },
    "id": "82730f0d",
    "outputId": "edb746fe-96b3-4a1d-f146-1fd39d7a3254",
    "tags": []
   },
   "outputs": [],
   "source": [
    "# O tail é utilizado para observarmos o final de um dataframe\n",
    "df.tail()"
   ]
  },
  {
   "cell_type": "markdown",
   "id": "51572bbf",
   "metadata": {
    "id": "51572bbf"
   },
   "source": [
    "### Describe"
   ]
  },
  {
   "cell_type": "markdown",
   "id": "a5c15855-45da-44cb-8409-c517960dc90a",
   "metadata": {},
   "source": [
    "### info"
   ]
  },
  {
   "cell_type": "code",
   "execution_count": null,
   "id": "f10068bc-0fc5-45e4-b8da-295b6f25d45c",
   "metadata": {
    "tags": []
   },
   "outputs": [],
   "source": [
    "# .info() \n",
    "df.info()"
   ]
  },
  {
   "cell_type": "code",
   "execution_count": null,
   "id": "b44ad19f",
   "metadata": {
    "colab": {
     "base_uri": "https://localhost:8080/",
     "height": 300
    },
    "id": "b44ad19f",
    "outputId": "d2a7ffda-0bf9-4974-bf75-c94ea1c85904",
    "tags": []
   },
   "outputs": [],
   "source": [
    "# Podemos sumarizar algumas estatísticas de várias colunas de uma única vez.\n",
    "df.describe()"
   ]
  },
  {
   "cell_type": "code",
   "execution_count": null,
   "id": "EJGmc6E2N1BS",
   "metadata": {
    "colab": {
     "base_uri": "https://localhost:8080/"
    },
    "id": "EJGmc6E2N1BS",
    "outputId": "b252e2ef-9d83-4e59-db40-328e179d97af"
   },
   "outputs": [],
   "source": [
    "df_statiscics = df.describle()"
   ]
  },
  {
   "cell_type": "code",
   "execution_count": null,
   "id": "psxiEMVvOA5t",
   "metadata": {
    "colab": {
     "base_uri": "https://localhost:8080/"
    },
    "id": "psxiEMVvOA5t",
    "outputId": "32bd5f61-c272-4c81-b49b-2912af680c9b"
   },
   "outputs": [],
   "source": []
  },
  {
   "cell_type": "markdown",
   "id": "5f46ac7e",
   "metadata": {
    "id": "5f46ac7e"
   },
   "source": [
    "### Outras estatísticas"
   ]
  },
  {
   "cell_type": "code",
   "execution_count": null,
   "id": "jk8HwVKRSnGn",
   "metadata": {
    "colab": {
     "base_uri": "https://localhost:8080/"
    },
    "id": "jk8HwVKRSnGn",
    "outputId": "19a0d396-4122-479e-e45a-53735b92c55f",
    "tags": []
   },
   "outputs": [],
   "source": [
    "# Obtendo uma estatística por vez\n",
    "# Calculando a média\n",
    "df.mean()"
   ]
  },
  {
   "cell_type": "code",
   "execution_count": null,
   "id": "a7b4dcee-4889-4b53-93cb-07139e322b26",
   "metadata": {
    "tags": []
   },
   "outputs": [],
   "source": [
    "numeric_columns = df.select_dtypes(include='number')\n",
    "mean_numeric = numeric_columns.mean()\n",
    "mean_numeric"
   ]
  },
  {
   "cell_type": "code",
   "execution_count": null,
   "id": "TmJeqRIIS3G0",
   "metadata": {
    "colab": {
     "base_uri": "https://localhost:8080/"
    },
    "id": "TmJeqRIIS3G0",
    "outputId": "2ba98217-88af-4424-f4f6-96816e910fd8",
    "tags": []
   },
   "outputs": [],
   "source": [
    "# Calculando a mediana\n",
    "df.median"
   ]
  },
  {
   "cell_type": "code",
   "execution_count": null,
   "id": "MyADP8nSS6mm",
   "metadata": {
    "colab": {
     "base_uri": "https://localhost:8080/",
     "height": 112
    },
    "id": "MyADP8nSS6mm",
    "outputId": "ee6ded62-b960-4a1d-f783-da3c200780dc",
    "tags": []
   },
   "outputs": [],
   "source": [
    "# Calculando os quantis\n",
    "df.quantile"
   ]
  },
  {
   "cell_type": "code",
   "execution_count": null,
   "id": "izufBy8KTbOb",
   "metadata": {
    "colab": {
     "base_uri": "https://localhost:8080/",
     "height": 112
    },
    "id": "izufBy8KTbOb",
    "outputId": "fc895601-86f7-4ff8-acc4-a76b5c1dc649"
   },
   "outputs": [],
   "source": []
  },
  {
   "cell_type": "code",
   "execution_count": null,
   "id": "30P1UMeNUK1l",
   "metadata": {
    "colab": {
     "base_uri": "https://localhost:8080/"
    },
    "id": "30P1UMeNUK1l",
    "outputId": "1e6c1fd5-3f26-4c62-ff33-a87d3a1b0525"
   },
   "outputs": [],
   "source": [
    "# Obtendo valor mínimo de cada variável\n",
    "df.min()"
   ]
  },
  {
   "cell_type": "code",
   "execution_count": null,
   "id": "mw_lIPP1Ui_8",
   "metadata": {
    "colab": {
     "base_uri": "https://localhost:8080/",
     "height": 237
    },
    "id": "mw_lIPP1Ui_8",
    "outputId": "bf2f0c34-928f-49b7-a4f7-9060a617f944",
    "tags": []
   },
   "outputs": [],
   "source": [
    "# se quisermos estatísticas separadas por região\n",
    "# group by\n",
    "df.groupby('regiao').mean()"
   ]
  },
  {
   "cell_type": "code",
   "execution_count": null,
   "id": "1fb1850e-3058-4b0d-bdf8-952b68803fd3",
   "metadata": {
    "tags": []
   },
   "outputs": [],
   "source": [
    "df.groupby('regiao').sum()"
   ]
  },
  {
   "cell_type": "code",
   "execution_count": null,
   "id": "50f3cab3-64f7-4ce0-83c2-7563ea5ae373",
   "metadata": {
    "tags": []
   },
   "outputs": [],
   "source": [
    "df[df['regiao']=='Centro-Oeste']"
   ]
  },
  {
   "cell_type": "markdown",
   "id": "9cc2b3b5",
   "metadata": {
    "id": "9cc2b3b5"
   },
   "source": [
    "### Importando novo Dataframe"
   ]
  },
  {
   "cell_type": "code",
   "execution_count": null,
   "id": "7L-JQlU8VIC0",
   "metadata": {
    "id": "7L-JQlU8VIC0",
    "tags": []
   },
   "outputs": [],
   "source": [
    "# importando o dataframe de municípios\n",
    "df_muni = pd.read_table('./dados/populacao_brasileira_por_municipio.txt', sep = ';', thousands = '.')"
   ]
  },
  {
   "cell_type": "code",
   "execution_count": null,
   "id": "wyubOqaFVqzi",
   "metadata": {
    "colab": {
     "base_uri": "https://localhost:8080/",
     "height": 363
    },
    "id": "wyubOqaFVqzi",
    "outputId": "f6af2cd6-f6a9-4779-fb64-39f3357d3188",
    "tags": []
   },
   "outputs": [],
   "source": [
    "df_muni.head()"
   ]
  },
  {
   "cell_type": "markdown",
   "id": "8e83c773",
   "metadata": {
    "id": "8e83c773"
   },
   "source": [
    "### Colunas\n",
    "  \n",
    "Podemos acessar os dados de uma colunas de três métodos"
   ]
  },
  {
   "cell_type": "code",
   "execution_count": null,
   "id": "SKJugtfJV1WL",
   "metadata": {
    "colab": {
     "base_uri": "https://localhost:8080/"
    },
    "id": "SKJugtfJV1WL",
    "outputId": "630b0fb7-1123-46a3-be68-a00489064ea1",
    "tags": []
   },
   "outputs": [],
   "source": [
    "df_muni['UF']"
   ]
  },
  {
   "cell_type": "code",
   "execution_count": null,
   "id": "um1RZvWRWDeN",
   "metadata": {
    "colab": {
     "base_uri": "https://localhost:8080/"
    },
    "id": "um1RZvWRWDeN",
    "outputId": "2973fdc1-f1bc-468f-c66d-470dc2c35b40",
    "tags": []
   },
   "outputs": [],
   "source": [
    "df_muni.UF\n",
    "# faz o mesmo que acima."
   ]
  },
  {
   "cell_type": "code",
   "execution_count": null,
   "id": "Cu_Mpbv6WJV8",
   "metadata": {
    "colab": {
     "base_uri": "https://localhost:8080/"
    },
    "id": "Cu_Mpbv6WJV8",
    "outputId": "21e6e9da-6875-45f6-bf39-4b34820837ba",
    "tags": []
   },
   "outputs": [],
   "source": [
    "type(df_muni.UF)"
   ]
  },
  {
   "cell_type": "code",
   "execution_count": null,
   "id": "_AVKeoVoWPaL",
   "metadata": {
    "colab": {
     "base_uri": "https://localhost:8080/"
    },
    "id": "_AVKeoVoWPaL",
    "outputId": "384f7dd4-eca5-4b3f-a068-b273046a3157"
   },
   "outputs": [],
   "source": []
  },
  {
   "cell_type": "code",
   "execution_count": null,
   "id": "-ZkZu9QTWRnz",
   "metadata": {
    "colab": {
     "base_uri": "https://localhost:8080/",
     "height": 959
    },
    "id": "-ZkZu9QTWRnz",
    "outputId": "0811c96b-a4bf-49d7-e8d9-df7f7e63206a",
    "tags": []
   },
   "outputs": [],
   "source": [
    "# terceira forma - retorna um dataframe\n",
    "# Neste caso eu estou trazendo uma lista de dados.\n",
    "#df_muni[['UF', 'COD. MUNIC']] Trazer mais de uma coluna\n",
    "df_muni[['UF']]"
   ]
  },
  {
   "cell_type": "code",
   "execution_count": null,
   "id": "8T1tXrEHWcWr",
   "metadata": {
    "colab": {
     "base_uri": "https://localhost:8080/"
    },
    "id": "8T1tXrEHWcWr",
    "outputId": "a85729be-f86e-4999-e3bc-36a028ce1cb0",
    "tags": []
   },
   "outputs": [],
   "source": [
    "type(df_muni[['UF']])"
   ]
  },
  {
   "cell_type": "markdown",
   "id": "c33b2cbc",
   "metadata": {
    "id": "c33b2cbc"
   },
   "source": [
    "### Query\n",
    "  \n",
    "O método query permite realizar filtros dentro do nosso dataframe semelhante ao utilizado na linguagem SQL na clausula where"
   ]
  },
  {
   "cell_type": "code",
   "execution_count": null,
   "id": "a0fe7911-6688-4a29-b6e1-6e1189050717",
   "metadata": {
    "tags": []
   },
   "outputs": [],
   "source": [
    "df_muni.rename(columns={'POPULAÇÃO ESTIMADA': 'populacao_estimada'}, inplace=True)\n"
   ]
  },
  {
   "cell_type": "code",
   "execution_count": null,
   "id": "BA0l_z1SX5nb",
   "metadata": {
    "colab": {
     "base_uri": "https://localhost:8080/",
     "height": 802
    },
    "id": "BA0l_z1SX5nb",
    "outputId": "be5f5ff7-526a-4795-984d-22e470a23a2d",
    "tags": []
   },
   "outputs": [],
   "source": [
    "# quero saber quais cidades tem população urbana > 500000\n",
    "# A query tem que estar em string\n",
    "df_muni.query('populacao_estimada > 500000')"
   ]
  },
  {
   "cell_type": "code",
   "execution_count": null,
   "id": "d2bpYmWcYeXi",
   "metadata": {
    "colab": {
     "base_uri": "https://localhost:8080/",
     "height": 802
    },
    "id": "d2bpYmWcYeXi",
    "outputId": "ba7e8679-327d-4d62-9be3-543f85cb1b30",
    "tags": []
   },
   "outputs": [],
   "source": [
    "# podemos usar uma variável\n",
    "\n",
    "limite = 500000\n",
    "df_muni.query('populacao_estimada > @limite')  # O @ serve para indicar que é uma variável ja estabelecida"
   ]
  },
  {
   "cell_type": "markdown",
   "id": "Ylh4h5RMY6Iq",
   "metadata": {
    "id": "Ylh4h5RMY6Iq"
   },
   "source": [
    "### .loc e .iloc"
   ]
  },
  {
   "cell_type": "code",
   "execution_count": null,
   "id": "OZOH9gR2ZBTq",
   "metadata": {
    "colab": {
     "base_uri": "https://localhost:8080/"
    },
    "id": "OZOH9gR2ZBTq",
    "outputId": "dd6448fd-8db2-4da1-f4ab-ce617d89a658",
    "tags": []
   },
   "outputs": [],
   "source": [
    "# .loc usado para pesquisar índices e colunas explicitamente | o loc. é para localizar. Usa a logica da mascara boleaana\n",
    "\n",
    "# quero a população urbana da segunda linha do dataset\n",
    "df_muni.loc[1, 'populacao_estimada'] # Eu uso como argumento a posição do indice que eu quero e em qual coluna eu quero"
   ]
  },
  {
   "cell_type": "code",
   "execution_count": null,
   "id": "Myogr1imZcRp",
   "metadata": {
    "colab": {
     "base_uri": "https://localhost:8080/"
    },
    "id": "Myogr1imZcRp",
    "outputId": "1f1aa56d-7cb4-49d9-b1bc-13d563d76c70",
    "tags": []
   },
   "outputs": [],
   "source": [
    "# qual estado corresponde à segunda linha do dataset\n",
    "df_muni.loc[1,:] # Assim ele acessa a segunda linha e me traz tudo dela, igualmente a slice [linhas, colunas]"
   ]
  },
  {
   "cell_type": "code",
   "execution_count": null,
   "id": "5d4aa488-092d-4907-9ab0-70a1c07e70ac",
   "metadata": {
    "tags": []
   },
   "outputs": [],
   "source": [
    "# Ou seja eu consigo usar como no numpy com  linhas e colunas e posso tirar slices como eu bem entender\n",
    "# [da linha 0 até a 10, coluna tal ]\n",
    "df_muni.loc[ :10, 'populacao_estimada']"
   ]
  },
  {
   "cell_type": "code",
   "execution_count": null,
   "id": "zf3Kv9j5ZnuS",
   "metadata": {
    "colab": {
     "base_uri": "https://localhost:8080/"
    },
    "id": "zf3Kv9j5ZnuS",
    "outputId": "5817c69e-ab97-475e-d9b0-fa91e0cbf373",
    "tags": []
   },
   "outputs": [],
   "source": [
    "# posso usar lógicas para filtrar o dataset\n",
    "\n",
    "# quais estados pertencem à região NE?\n",
    "df_muni.loc[df_muni['UF'] == 'SP', 'populacao_estimada']"
   ]
  },
  {
   "cell_type": "code",
   "execution_count": null,
   "id": "9d2a7b84-7862-484c-85c8-253327bee9a7",
   "metadata": {
    "tags": []
   },
   "outputs": [],
   "source": [
    "# Se eu quiser trazer todas as colunas.\n",
    "df_muni.loc[df_muni['UF'] == 'SP', :]"
   ]
  },
  {
   "cell_type": "code",
   "execution_count": null,
   "id": "fffd8a73-9ebd-408f-ba06-36d315915772",
   "metadata": {
    "tags": []
   },
   "outputs": [],
   "source": [
    "# Funciona tambem com os nomes\n",
    "\n",
    "df_muni.loc[df_muni['UF'] == 'SP', 'COD. MUNIC':'populacao_estimada']"
   ]
  },
  {
   "cell_type": "code",
   "execution_count": null,
   "id": "V0alUfbZZ-OL",
   "metadata": {
    "colab": {
     "base_uri": "https://localhost:8080/"
    },
    "id": "V0alUfbZZ-OL",
    "outputId": "e7f89def-24c6-4662-dcd7-c98284d59c5f",
    "tags": []
   },
   "outputs": [],
   "source": [
    "# quais estados pertencem à região NE e N?\n",
    "\n",
    "df_muni.loc[(df_muni['UF'] == 'SP') | (df_muni['UF'] == 'RJ'), 'COD. MUNIC':'populacao_estimada']"
   ]
  },
  {
   "cell_type": "code",
   "execution_count": null,
   "id": "vqoK683rajf7",
   "metadata": {
    "colab": {
     "base_uri": "https://localhost:8080/"
    },
    "id": "vqoK683rajf7",
    "outputId": "eda5723c-4e88-4e49-8590-fac1b60996f4",
    "tags": []
   },
   "outputs": [],
   "source": [
    "# iloc faz a referência aos índices e colunas de forma implícita\n",
    "df_muni.iloc[2, 2]  # O iloc. usa somente os indices"
   ]
  },
  {
   "cell_type": "code",
   "execution_count": null,
   "id": "mN3rH8mcbP05",
   "metadata": {
    "colab": {
     "base_uri": "https://localhost:8080/",
     "height": 237
    },
    "id": "mN3rH8mcbP05",
    "outputId": "de2761cf-402e-45e6-ca10-f088f91ccdc6",
    "tags": []
   },
   "outputs": [],
   "source": [
    "# definir a coluna uf como a coluna de índice\n",
    "\n",
    "df_muni1 = df_muni.set_index(['UF'])\n",
    "df_muni1.head()"
   ]
  },
  {
   "cell_type": "code",
   "execution_count": null,
   "id": "f5083983-64e0-459b-bf89-a2732fb67155",
   "metadata": {
    "tags": []
   },
   "outputs": [],
   "source": [
    "df_muni2 = df_muni.set_index(['NOME DO MUNICÍPIO'])"
   ]
  },
  {
   "cell_type": "code",
   "execution_count": null,
   "id": "aFE166lZbZUK",
   "metadata": {
    "colab": {
     "base_uri": "https://localhost:8080/"
    },
    "id": "aFE166lZbZUK",
    "outputId": "35f7af77-3ca3-4b18-8b17-b3f9da3b49a8",
    "tags": []
   },
   "outputs": [],
   "source": [
    "# desejo obter a população rural do AC\n",
    "\n",
    "# loc (explícito)  # Ou seja como coloquei as unidades federativas como indice eu consigo usar eles direto.\n",
    "print(df_muni2.loc['Cabixi', 'populacao_estimada'])\n",
    "\n",
    "# iloc (implícito)\n",
    "print(df_muni2.iloc[2,3])"
   ]
  },
  {
   "cell_type": "code",
   "execution_count": null,
   "id": "Tw6Djxwsb_0p",
   "metadata": {
    "colab": {
     "base_uri": "https://localhost:8080/",
     "height": 112
    },
    "id": "Tw6Djxwsb_0p",
    "outputId": "de7cf4ba-8764-4497-dbce-b239f2a7fab8",
    "tags": []
   },
   "outputs": [],
   "source": [
    "# queremos as cidades que têm menos de 500000 habitantes (total)\n",
    "\n",
    "\n",
    "# [df_muni2.populacao_estimada < 500000, :] df_muni2.populacao_estimada < 500000 =  linhas ,  : = trazer todas as colunas\n",
    "df_muni2.loc[df_muni2.populacao_estimada < 500000, :]"
   ]
  },
  {
   "cell_type": "markdown",
   "id": "6943b036",
   "metadata": {
    "id": "6943b036"
   },
   "source": [
    "### Operações matemáticas"
   ]
  },
  {
   "cell_type": "code",
   "execution_count": null,
   "id": "vJBNnEygif7_",
   "metadata": {
    "colab": {
     "base_uri": "https://localhost:8080/",
     "height": 237
    },
    "id": "vJBNnEygif7_",
    "outputId": "92fe1748-df0e-4356-d799-46b012b0a283",
    "tags": []
   },
   "outputs": [],
   "source": [
    "# quero saber a razão entre as população urbana e a população rural\n",
    "\n",
    "df['razao_urbana_rural'] = df['pop_urbana']/df['pop_rural']\n",
    "df.head()"
   ]
  },
  {
   "cell_type": "code",
   "execution_count": null,
   "id": "BIkUlBcEkYM3",
   "metadata": {
    "id": "BIkUlBcEkYM3",
    "tags": []
   },
   "outputs": [],
   "source": [
    "# se eu chamar uma coluna inexiste em modo de leitura\n",
    "df['nome_não_existe']\n",
    "# vai trazer keyerror"
   ]
  },
  {
   "cell_type": "code",
   "execution_count": null,
   "id": "DP0ZocXEkmU9",
   "metadata": {
    "id": "DP0ZocXEkmU9",
    "tags": []
   },
   "outputs": [],
   "source": [
    "# calcular a fração da população urbana sobre a geral\n",
    "df['razao_urbana_total'] = df['pop_urbana']/df['total']\n",
    "df.head()"
   ]
  },
  {
   "cell_type": "code",
   "execution_count": null,
   "id": "9Lk7P0-nlEX9",
   "metadata": {
    "id": "9Lk7P0-nlEX9",
    "tags": []
   },
   "outputs": [],
   "source": [
    "# iterar por cada linha e atribuir 1 se frac_urbana > 0.7 e 0 caso contrário\n",
    "\n",
    "for linha in df.index:\n",
    "    if df.loc[linha, 'razao_urbana_total'] > 0.7:\n",
    "        df.loc[linha, 'indicador'] = 1\n",
    "    else:\n",
    "        df.loc[linha, 'indicador'] = 0\n",
    "        \n",
    "# Criei um indicador sobre a coluna 'razao_urbana_total' para dizer se ele tem muita população urbana ou não"
   ]
  },
  {
   "cell_type": "code",
   "execution_count": null,
   "id": "b7827229-5de1-402a-89ab-2cfeadb4153a",
   "metadata": {
    "tags": []
   },
   "outputs": [],
   "source": [
    "df.head()"
   ]
  },
  {
   "cell_type": "markdown",
   "id": "abd19742",
   "metadata": {},
   "source": [
    "### Apply"
   ]
  },
  {
   "cell_type": "code",
   "execution_count": null,
   "id": "XByJiHoOl6IN",
   "metadata": {
    "id": "XByJiHoOl6IN",
    "tags": []
   },
   "outputs": [],
   "source": [
    "# Uma outra forma de realizar isso é utilizando o apply\n",
    "# O apply tambem cria um critério e ele pode usar uma lambda para fazer o que fizemos acima ou uma função.\n",
    "\n",
    "df['indicador'] = df['razao_urbana_total'].apply(lambda x: 1 if x > 0.7 else 0)\n",
    "df.head()\n",
    "\n",
    "# Diferente do que fizemos anteriormente aqui ele vem como int."
   ]
  },
  {
   "cell_type": "code",
   "execution_count": null,
   "id": "L3YZBNx6ljMl",
   "metadata": {
    "colab": {
     "base_uri": "https://localhost:8080/",
     "height": 237
    },
    "id": "L3YZBNx6ljMl",
    "outputId": "1c4498e6-d4b4-45a8-b67b-d392f5d5fb7b"
   },
   "outputs": [],
   "source": []
  },
  {
   "cell_type": "code",
   "execution_count": null,
   "id": "eLgVeA9_nkDN",
   "metadata": {
    "id": "eLgVeA9_nkDN",
    "tags": []
   },
   "outputs": [],
   "source": [
    "# Também é possível criar funções\n",
    "def soma_quadrados(row):\n",
    "  # Esta é uma função que calcula a divisão da soma dos quadrados das populações urbana e rural, pelo total\n",
    "  soma = (row['pop_urbana']**2 + row['pop_rural']**2) / (row['total'] ** 2)\n",
    "\n",
    "  return soma"
   ]
  },
  {
   "cell_type": "code",
   "execution_count": null,
   "id": "Ie7R1GfhoBjF",
   "metadata": {
    "colab": {
     "base_uri": "https://localhost:8080/",
     "height": 301
    },
    "id": "Ie7R1GfhoBjF",
    "outputId": "efd71370-5045-4239-f46a-d02881a45a7b",
    "tags": []
   },
   "outputs": [],
   "source": [
    "# usando o apply em múltiplas colunas\n",
    "df['indicador2'] = df.apply(soma_quadrados, axis=1) # O axis indica que é nas linhas\n",
    "df.head()"
   ]
  },
  {
   "cell_type": "markdown",
   "id": "303bc537",
   "metadata": {},
   "source": [
    "### map"
   ]
  },
  {
   "cell_type": "code",
   "execution_count": null,
   "id": "4cbkC3Dlm-kl",
   "metadata": {
    "colab": {
     "base_uri": "https://localhost:8080/",
     "height": 301
    },
    "id": "4cbkC3Dlm-kl",
    "outputId": "55abe95e-3e6d-46a9-ea05-59f95068a0a9",
    "tags": []
   },
   "outputs": [],
   "source": [
    "ponto_cardeal = {\n",
    "    'Norte': 'N',\n",
    "    'Nordeste': 'NE',\n",
    "    'Centro-Oeste': 'CO',\n",
    "    'Sul': 'S',\n",
    "    'Sudeste': 'SE'\n",
    "}\n",
    "\n",
    "# podemos fazer transformações com dicionários\n",
    "df['região_cardeal'] = df['regiao'].map(ponto_cardeal)\n",
    "df.head()\n"
   ]
  },
  {
   "cell_type": "markdown",
   "id": "83fa77ad",
   "metadata": {
    "id": "83fa77ad"
   },
   "source": [
    "### Merge (join)\n",
    "\n",
    "Outra tarefa muito comum quando estamos trabalhando com bases de dados é o **cruzamento**\n",
    "\n",
    "Para fazer isso, utilizamos o método **.merge()**, cujos modos de cruzamento são:\n",
    "\n",
    "<img src=\"https://community.qlik.com/legacyfs/online/87693_all-joins.png\" width=450>"
   ]
  },
  {
   "cell_type": "code",
   "execution_count": null,
   "id": "b040ed61",
   "metadata": {
    "tags": []
   },
   "outputs": [],
   "source": [
    "lista_on_left = [1, 2, 3, 4, 5, 6, 7, 8, 9, 10]\n",
    "lista_on_right = [1, 3, 5, 7, 9, 11]"
   ]
  },
  {
   "cell_type": "code",
   "execution_count": null,
   "id": "0e16ddb7",
   "metadata": {
    "tags": []
   },
   "outputs": [],
   "source": [
    "dict_left = {'coluna_on': lista_on_left, 'valores_esquerda': lista_on_left}\n",
    "dict_right = {'coluna_on': lista_on_right, 'valores_esquerda': lista_on_right}\n",
    "\n",
    "df_left = pd.DataFrame(dict_left)\n",
    "df_left"
   ]
  },
  {
   "cell_type": "code",
   "execution_count": null,
   "id": "fa161cf8",
   "metadata": {
    "tags": []
   },
   "outputs": [],
   "source": [
    "df_left = pd.DataFrame(dict_right)\n",
    "df_left"
   ]
  },
  {
   "cell_type": "code",
   "execution_count": null,
   "id": "3d68d3db",
   "metadata": {
    "tags": []
   },
   "outputs": [],
   "source": [
    "df_left.merge(df_left, how = 'outner')"
   ]
  },
  {
   "cell_type": "markdown",
   "id": "f493e3f7",
   "metadata": {},
   "source": [
    "utilizando dataframes"
   ]
  },
  {
   "cell_type": "code",
   "execution_count": null,
   "id": "I611G_H1pLxF",
   "metadata": {
    "colab": {
     "base_uri": "https://localhost:8080/",
     "height": 206
    },
    "id": "I611G_H1pLxF",
    "outputId": "672d6ac2-81f5-4aba-b807-d9824bcdaeed",
    "tags": []
   },
   "outputs": [],
   "source": [
    "df.head()"
   ]
  },
  {
   "cell_type": "code",
   "execution_count": null,
   "id": "IR0UhtMapdFD",
   "metadata": {
    "colab": {
     "base_uri": "https://localhost:8080/",
     "height": 301
    },
    "id": "IR0UhtMapdFD",
    "outputId": "55e3b83d-36a0-4f4f-edea-b7e7aa48c6ad",
    "tags": []
   },
   "outputs": [],
   "source": [
    "df_muni.head()"
   ]
  },
  {
   "cell_type": "code",
   "execution_count": null,
   "id": "ZpNvL00ephJM",
   "metadata": {
    "colab": {
     "base_uri": "https://localhost:8080/",
     "height": 270
    },
    "id": "ZpNvL00ephJM",
    "outputId": "200e93f5-57ed-4d44-e021-b8f1426ea790",
    "tags": []
   },
   "outputs": [],
   "source": [
    "# retirar o uf dos índices\n",
    "df_muni = df_muni.reset_index()\n",
    "df_muni.head()"
   ]
  },
  {
   "cell_type": "code",
   "execution_count": null,
   "id": "VW2JsIqlpoqM",
   "metadata": {
    "colab": {
     "base_uri": "https://localhost:8080/",
     "height": 983
    },
    "id": "VW2JsIqlpoqM",
    "outputId": "66b964cb-695e-4d1f-e552-68479b45ddfe",
    "tags": []
   },
   "outputs": [],
   "source": [
    "df_reg = df_muni.merge(df, how = 'left', left_on = ['UF'], right_on = ['uf'])\n",
    "df_reg"
   ]
  },
  {
   "cell_type": "markdown",
   "id": "c111200a",
   "metadata": {},
   "source": [
    "Explorando os dados criados"
   ]
  },
  {
   "cell_type": "code",
   "execution_count": null,
   "id": "aZkO3zPDqUaz",
   "metadata": {
    "colab": {
     "base_uri": "https://localhost:8080/",
     "height": 269
    },
    "id": "aZkO3zPDqUaz",
    "outputId": "c96c33ec-6c84-4a5a-c2f3-69e4634b7e40",
    "tags": []
   },
   "outputs": [],
   "source": [
    "# quero a média e o desvio padrão da população estimada por região\n",
    "\n",
    "df_reg.groupby('regiao').mean()[['populacao_estimada']]"
   ]
  },
  {
   "cell_type": "code",
   "execution_count": null,
   "id": "5460b670-7247-48ad-a9ca-cde38944472f",
   "metadata": {
    "tags": []
   },
   "outputs": [],
   "source": [
    "# Outro jeito por agg(agragate)\n",
    "\n",
    "df_reg.groupby('regiao').agg({'populacao_estimada': ['mean', 'std']})"
   ]
  },
  {
   "cell_type": "code",
   "execution_count": null,
   "id": "295dc214-df98-4c9e-9fdf-f11ab2bdc22f",
   "metadata": {
    "tags": []
   },
   "outputs": [],
   "source": [
    "df_reg.pivot_table(index = 'regiao', values = 'populacao_estimada', aggfunc = ['mean', 'std'])"
   ]
  },
  {
   "cell_type": "markdown",
   "id": "deee974e",
   "metadata": {
    "id": "deee974e"
   },
   "source": [
    "### Bora praticar!"
   ]
  },
  {
   "cell_type": "markdown",
   "id": "fa51db0d",
   "metadata": {},
   "source": [
    "Importe novamente o DataFrame **alunos3.csv** usado nos exercícios da aula passada para responder às questões abaixo:"
   ]
  },
  {
   "cell_type": "code",
   "execution_count": 2,
   "id": "b4e60d79",
   "metadata": {
    "tags": []
   },
   "outputs": [],
   "source": [
    "df_notas = pd.read_csv('./dados/alunos3.csv', sep = ';', decimal = ',')"
   ]
  },
  {
   "cell_type": "markdown",
   "id": "9fcb851d",
   "metadata": {},
   "source": [
    "Primeiramente utilize o mesmo código da aula passada para calcular a média das 4 provas."
   ]
  },
  {
   "cell_type": "code",
   "execution_count": 3,
   "id": "7814b9c0",
   "metadata": {
    "tags": []
   },
   "outputs": [],
   "source": [
    "df_notas['media_provas'] = (df_notas['Prova_1'] + df_notas['Prova_2'] + df_notas['Prova_3'] + df_notas['Prova_4'])/ 4"
   ]
  },
  {
   "cell_type": "markdown",
   "id": "317131ae",
   "metadata": {
    "id": "317131ae"
   },
   "source": [
    "1) Quem foram os alunos que obtiveram a maior e a menor média"
   ]
  },
  {
   "cell_type": "code",
   "execution_count": 19,
   "id": "21cb77e7-d622-45eb-b887-a041be4ba679",
   "metadata": {
    "tags": []
   },
   "outputs": [
    {
     "data": {
      "text/html": [
       "<div>\n",
       "<style scoped>\n",
       "    .dataframe tbody tr th:only-of-type {\n",
       "        vertical-align: middle;\n",
       "    }\n",
       "\n",
       "    .dataframe tbody tr th {\n",
       "        vertical-align: top;\n",
       "    }\n",
       "\n",
       "    .dataframe thead th {\n",
       "        text-align: right;\n",
       "    }\n",
       "</style>\n",
       "<table border=\"1\" class=\"dataframe\">\n",
       "  <thead>\n",
       "    <tr style=\"text-align: right;\">\n",
       "      <th></th>\n",
       "      <th>RA</th>\n",
       "      <th>Nome</th>\n",
       "      <th>Frequencia</th>\n",
       "      <th>Prova_1</th>\n",
       "      <th>Prova_2</th>\n",
       "      <th>Prova_3</th>\n",
       "      <th>Prova_4</th>\n",
       "      <th>media_provas</th>\n",
       "      <th>status</th>\n",
       "    </tr>\n",
       "  </thead>\n",
       "  <tbody>\n",
       "    <tr>\n",
       "      <th>0</th>\n",
       "      <td>110201</td>\n",
       "      <td>Antonio Carlos</td>\n",
       "      <td>20</td>\n",
       "      <td>6.5</td>\n",
       "      <td>8.5</td>\n",
       "      <td>7.0</td>\n",
       "      <td>6</td>\n",
       "      <td>7.00</td>\n",
       "      <td>Aprovado</td>\n",
       "    </tr>\n",
       "    <tr>\n",
       "      <th>1</th>\n",
       "      <td>110212</td>\n",
       "      <td>Ana Beatriz</td>\n",
       "      <td>20</td>\n",
       "      <td>7.0</td>\n",
       "      <td>7.0</td>\n",
       "      <td>7.0</td>\n",
       "      <td>8</td>\n",
       "      <td>7.25</td>\n",
       "      <td>Aprovado</td>\n",
       "    </tr>\n",
       "    <tr>\n",
       "      <th>2</th>\n",
       "      <td>110218</td>\n",
       "      <td>Carlos Vernes</td>\n",
       "      <td>17</td>\n",
       "      <td>7.0</td>\n",
       "      <td>7.0</td>\n",
       "      <td>7.0</td>\n",
       "      <td>7</td>\n",
       "      <td>7.00</td>\n",
       "      <td>Aprovado</td>\n",
       "    </tr>\n",
       "    <tr>\n",
       "      <th>3</th>\n",
       "      <td>110307</td>\n",
       "      <td>Francisco Cunha</td>\n",
       "      <td>20</td>\n",
       "      <td>9.0</td>\n",
       "      <td>8.5</td>\n",
       "      <td>8.5</td>\n",
       "      <td>10</td>\n",
       "      <td>9.00</td>\n",
       "      <td>Aprovado</td>\n",
       "    </tr>\n",
       "    <tr>\n",
       "      <th>4</th>\n",
       "      <td>110275</td>\n",
       "      <td>Sandra Rosa</td>\n",
       "      <td>15</td>\n",
       "      <td>6.5</td>\n",
       "      <td>7.5</td>\n",
       "      <td>7.0</td>\n",
       "      <td>7</td>\n",
       "      <td>7.00</td>\n",
       "      <td>Aprovado</td>\n",
       "    </tr>\n",
       "  </tbody>\n",
       "</table>\n",
       "</div>"
      ],
      "text/plain": [
       "       RA             Nome  Frequencia  Prova_1  Prova_2  Prova_3  Prova_4  \\\n",
       "0  110201   Antonio Carlos          20      6.5      8.5      7.0        6   \n",
       "1  110212      Ana Beatriz          20      7.0      7.0      7.0        8   \n",
       "2  110218    Carlos Vernes          17      7.0      7.0      7.0        7   \n",
       "3  110307  Francisco Cunha          20      9.0      8.5      8.5       10   \n",
       "4  110275      Sandra Rosa          15      6.5      7.5      7.0        7   \n",
       "\n",
       "   media_provas    status  \n",
       "0          7.00  Aprovado  \n",
       "1          7.25  Aprovado  \n",
       "2          7.00  Aprovado  \n",
       "3          9.00  Aprovado  \n",
       "4          7.00  Aprovado  "
      ]
     },
     "execution_count": 19,
     "metadata": {},
     "output_type": "execute_result"
    }
   ],
   "source": [
    "df_notas.head()"
   ]
  },
  {
   "cell_type": "code",
   "execution_count": 5,
   "id": "25ee28f3",
   "metadata": {
    "id": "25ee28f3",
    "tags": []
   },
   "outputs": [
    {
     "name": "stdout",
     "output_type": "stream",
     "text": [
      "Aluno com a maior nota: José Valente\n",
      "Aluno com a menor nota: Joao Galo\n"
     ]
    }
   ],
   "source": [
    "#df_muni.loc[df_muni['UF'] == 'SP', :]\n",
    "\n",
    "df_notas_ordenado = df_notas.sort_values(by='media_provas')\n",
    "\n",
    "aluno_min_nota = df_notas_ordenado.iloc[0]['Nome']\n",
    "aluno_max_nota = df_notas_ordenado.iloc[-1]['Nome']\n",
    "\n",
    "print(f'Aluno com a maior nota: {aluno_max_nota}\\nAluno com a menor nota: {aluno_min_nota}')"
   ]
  },
  {
   "cell_type": "code",
   "execution_count": 16,
   "id": "665fa1fe-06b8-42e7-8aa6-84a41fd3c13b",
   "metadata": {
    "tags": []
   },
   "outputs": [
    {
     "name": "stdout",
     "output_type": "stream",
     "text": [
      "10.0\n",
      "5.875\n"
     ]
    }
   ],
   "source": [
    "# Outro jeito porem não trouxe a pessoa, somente as notas\n",
    "print(df_notas.max()['media_provas'])\n",
    "print(df_notas.min()['media_provas'])"
   ]
  },
  {
   "cell_type": "code",
   "execution_count": 22,
   "id": "05ea27e5-14a0-41cb-b3e5-8f518defbaf0",
   "metadata": {
    "tags": []
   },
   "outputs": [
    {
     "data": {
      "text/html": [
       "<div>\n",
       "<style scoped>\n",
       "    .dataframe tbody tr th:only-of-type {\n",
       "        vertical-align: middle;\n",
       "    }\n",
       "\n",
       "    .dataframe tbody tr th {\n",
       "        vertical-align: top;\n",
       "    }\n",
       "\n",
       "    .dataframe thead th {\n",
       "        text-align: right;\n",
       "    }\n",
       "</style>\n",
       "<table border=\"1\" class=\"dataframe\">\n",
       "  <thead>\n",
       "    <tr style=\"text-align: right;\">\n",
       "      <th></th>\n",
       "      <th>RA</th>\n",
       "      <th>Nome</th>\n",
       "      <th>Frequencia</th>\n",
       "      <th>Prova_1</th>\n",
       "      <th>Prova_2</th>\n",
       "      <th>Prova_3</th>\n",
       "      <th>Prova_4</th>\n",
       "      <th>media_provas</th>\n",
       "      <th>status</th>\n",
       "    </tr>\n",
       "  </thead>\n",
       "  <tbody>\n",
       "    <tr>\n",
       "      <th>7</th>\n",
       "      <td>110263</td>\n",
       "      <td>José Valente</td>\n",
       "      <td>20</td>\n",
       "      <td>10.0</td>\n",
       "      <td>10.0</td>\n",
       "      <td>10.0</td>\n",
       "      <td>10</td>\n",
       "      <td>10.0</td>\n",
       "      <td>Aprovado</td>\n",
       "    </tr>\n",
       "  </tbody>\n",
       "</table>\n",
       "</div>"
      ],
      "text/plain": [
       "       RA          Nome  Frequencia  Prova_1  Prova_2  Prova_3  Prova_4  \\\n",
       "7  110263  José Valente          20     10.0     10.0     10.0       10   \n",
       "\n",
       "   media_provas    status  \n",
       "7          10.0  Aprovado  "
      ]
     },
     "execution_count": 22,
     "metadata": {},
     "output_type": "execute_result"
    }
   ],
   "source": [
    "# Terminando a forma acima\n",
    "nota_max = df_notas.max()['media_provas']\n",
    "df_notas[df_notas['media_provas'] == nota_max] # Pego a nota maxima e passo uma mascara booleana"
   ]
  },
  {
   "cell_type": "code",
   "execution_count": null,
   "id": "712e0491-987b-44d1-8d2e-ab58e19b1897",
   "metadata": {
    "tags": []
   },
   "outputs": [],
   "source": [
    "# Esse traz o nome e mais coisa.\n",
    "\n",
    "print(df_notas.loc[df_notas['media_provas'].idxmin()])\n",
    "print()\n",
    "      \n",
    "print(df_notas.loc[df_notas['media_provas'].idxmax()])"
   ]
  },
  {
   "cell_type": "code",
   "execution_count": 24,
   "id": "99fc83ab-2f38-4434-9b80-438a69c114f2",
   "metadata": {
    "tags": []
   },
   "outputs": [
    {
     "data": {
      "text/plain": [
       "6       Joao Galo\n",
       "7    José Valente\n",
       "Name: Nome, dtype: object"
      ]
     },
     "execution_count": 24,
     "metadata": {},
     "output_type": "execute_result"
    }
   ],
   "source": [
    "# Mais um jeito\n",
    "\n",
    "df_notas.loc[(df_notas['media_provas'] == df_notas['media_provas'].max()) | (df_notas['media_provas'] == df_notas['media_provas'].min()), 'Nome']"
   ]
  },
  {
   "cell_type": "markdown",
   "id": "d06f3bb6",
   "metadata": {},
   "source": [
    "2. Crie uma coluna de ```status``` que possui o status de aprovação dos alunos seguindo os seguintes critérios, a partir da média das provas.\n",
    "- até 5: Reprovado \n",
    "- acima de 5 e até 7: Recuperacao\n",
    "- acima de 7: Aprovado"
   ]
  },
  {
   "cell_type": "code",
   "execution_count": 25,
   "id": "850a8f9d",
   "metadata": {},
   "outputs": [],
   "source": [
    "# Por apply + Lambda\n",
    "\n",
    "df_notas['status'] = df_notas['media_provas'].apply(lambda x: 'Aprovado' if x > 7 else ('Recuperacao' if 5 < x <= 7 else 'Reprovado'))"
   ]
  },
  {
   "cell_type": "code",
   "execution_count": 26,
   "id": "faf2fef0-d994-4d0e-93bf-c4d0618ebaa6",
   "metadata": {
    "tags": []
   },
   "outputs": [
    {
     "data": {
      "text/html": [
       "<div>\n",
       "<style scoped>\n",
       "    .dataframe tbody tr th:only-of-type {\n",
       "        vertical-align: middle;\n",
       "    }\n",
       "\n",
       "    .dataframe tbody tr th {\n",
       "        vertical-align: top;\n",
       "    }\n",
       "\n",
       "    .dataframe thead th {\n",
       "        text-align: right;\n",
       "    }\n",
       "</style>\n",
       "<table border=\"1\" class=\"dataframe\">\n",
       "  <thead>\n",
       "    <tr style=\"text-align: right;\">\n",
       "      <th></th>\n",
       "      <th>RA</th>\n",
       "      <th>Nome</th>\n",
       "      <th>Frequencia</th>\n",
       "      <th>Prova_1</th>\n",
       "      <th>Prova_2</th>\n",
       "      <th>Prova_3</th>\n",
       "      <th>Prova_4</th>\n",
       "      <th>media_provas</th>\n",
       "      <th>status</th>\n",
       "    </tr>\n",
       "  </thead>\n",
       "  <tbody>\n",
       "    <tr>\n",
       "      <th>0</th>\n",
       "      <td>110201</td>\n",
       "      <td>Antonio Carlos</td>\n",
       "      <td>20</td>\n",
       "      <td>6.5</td>\n",
       "      <td>8.5</td>\n",
       "      <td>7.0</td>\n",
       "      <td>6</td>\n",
       "      <td>7.00</td>\n",
       "      <td>Recuperacao</td>\n",
       "    </tr>\n",
       "    <tr>\n",
       "      <th>1</th>\n",
       "      <td>110212</td>\n",
       "      <td>Ana Beatriz</td>\n",
       "      <td>20</td>\n",
       "      <td>7.0</td>\n",
       "      <td>7.0</td>\n",
       "      <td>7.0</td>\n",
       "      <td>8</td>\n",
       "      <td>7.25</td>\n",
       "      <td>Aprovado</td>\n",
       "    </tr>\n",
       "    <tr>\n",
       "      <th>2</th>\n",
       "      <td>110218</td>\n",
       "      <td>Carlos Vernes</td>\n",
       "      <td>17</td>\n",
       "      <td>7.0</td>\n",
       "      <td>7.0</td>\n",
       "      <td>7.0</td>\n",
       "      <td>7</td>\n",
       "      <td>7.00</td>\n",
       "      <td>Recuperacao</td>\n",
       "    </tr>\n",
       "    <tr>\n",
       "      <th>3</th>\n",
       "      <td>110307</td>\n",
       "      <td>Francisco Cunha</td>\n",
       "      <td>20</td>\n",
       "      <td>9.0</td>\n",
       "      <td>8.5</td>\n",
       "      <td>8.5</td>\n",
       "      <td>10</td>\n",
       "      <td>9.00</td>\n",
       "      <td>Aprovado</td>\n",
       "    </tr>\n",
       "    <tr>\n",
       "      <th>4</th>\n",
       "      <td>110275</td>\n",
       "      <td>Sandra Rosa</td>\n",
       "      <td>15</td>\n",
       "      <td>6.5</td>\n",
       "      <td>7.5</td>\n",
       "      <td>7.0</td>\n",
       "      <td>7</td>\n",
       "      <td>7.00</td>\n",
       "      <td>Recuperacao</td>\n",
       "    </tr>\n",
       "  </tbody>\n",
       "</table>\n",
       "</div>"
      ],
      "text/plain": [
       "       RA             Nome  Frequencia  Prova_1  Prova_2  Prova_3  Prova_4  \\\n",
       "0  110201   Antonio Carlos          20      6.5      8.5      7.0        6   \n",
       "1  110212      Ana Beatriz          20      7.0      7.0      7.0        8   \n",
       "2  110218    Carlos Vernes          17      7.0      7.0      7.0        7   \n",
       "3  110307  Francisco Cunha          20      9.0      8.5      8.5       10   \n",
       "4  110275      Sandra Rosa          15      6.5      7.5      7.0        7   \n",
       "\n",
       "   media_provas       status  \n",
       "0          7.00  Recuperacao  \n",
       "1          7.25     Aprovado  \n",
       "2          7.00  Recuperacao  \n",
       "3          9.00     Aprovado  \n",
       "4          7.00  Recuperacao  "
      ]
     },
     "execution_count": 26,
     "metadata": {},
     "output_type": "execute_result"
    }
   ],
   "source": [
    "df_notas.head()"
   ]
  },
  {
   "cell_type": "code",
   "execution_count": null,
   "id": "e12ec81d-d838-4531-980f-de3b94f426f4",
   "metadata": {
    "tags": []
   },
   "outputs": [],
   "source": [
    "# Outro jeito (percorrendo)\n",
    "for i in df_notas.index:\n",
    "  if df_notas.loc[i, 'media_provas'] > 7:\n",
    "    df_notas.loc[i, 'status'] = 'Aprovado'\n",
    "  elif 5 < df_notas.loc[i, 'media_provas'] <= 7:\n",
    "    df_notas.loc[i, 'status'] = 'Recuperação'\n",
    "  else:\n",
    "    df_notas.loc[i, 'status'] = 'Reprovado'\n",
    "\n",
    "df_notas"
   ]
  },
  {
   "cell_type": "code",
   "execution_count": null,
   "id": "b2a37cda-3cc4-498f-81ba-119f6b697ef0",
   "metadata": {
    "tags": []
   },
   "outputs": [],
   "source": [
    "# Outra forma ( por apply + por função)\n",
    "\n",
    "def definir_status(media):\n",
    "    if media <= 5:\n",
    "        return 'Reprovado'\n",
    "    elif 5 < media <= 7:\n",
    "        return 'Recuperação'\n",
    "    else:\n",
    "        return 'Aprovado'\n",
    "    \n",
    "df_notas['status'] = df_notas['media_provas'].apply(definir_status)\n",
    "\n",
    "df_notas.head()"
   ]
  },
  {
   "cell_type": "markdown",
   "id": "9078986d",
   "metadata": {
    "id": "9078986d"
   },
   "source": [
    "3) Importe o arquivo ```cadastro_alunos.xlsx``` em um DataFrame ```df_cadastro``` e una este dataframe com o ```df_notas``` chamando de ```df_escola```"
   ]
  },
  {
   "cell_type": "code",
   "execution_count": 27,
   "id": "01f60e7b",
   "metadata": {},
   "outputs": [],
   "source": [
    "df_cadastro = pd.read_excel('./dados/cadastro_alunos.xlsx')"
   ]
  },
  {
   "cell_type": "code",
   "execution_count": 28,
   "id": "9636699c",
   "metadata": {
    "id": "9636699c"
   },
   "outputs": [],
   "source": [
    "# Ordena o DF por 'RA'\n",
    "df_notas_sorted = df_notas.sort_values(by='RA')\n",
    "df_cadastro_sorted = df_cadastro.sort_values(by='RA')\n",
    "\n",
    "# Resetar os índices \n",
    "df_notas_sorted.reset_index(drop=True, inplace=True)\n",
    "df_cadastro_sorted.reset_index(drop=True, inplace=True)\n",
    "\n",
    "# Concatenar o DF\n",
    "df_escola = pd.concat([df_notas_sorted, df_cadastro_sorted], axis=1)"
   ]
  },
  {
   "cell_type": "code",
   "execution_count": 39,
   "id": "6fd31242-d994-4f60-8508-f171f7d69579",
   "metadata": {
    "tags": []
   },
   "outputs": [],
   "source": [
    "#Outra forma, com o merge\n",
    "\n",
    "df_escola = df_cadastro.merge(df_notas, how ='outer')"
   ]
  },
  {
   "cell_type": "code",
   "execution_count": 40,
   "id": "e64c6909-31f3-423a-a576-e4b0a594dc89",
   "metadata": {
    "tags": []
   },
   "outputs": [],
   "source": [
    "# Com o on\n",
    "\n",
    "df_escola = df_cadastro.merge(df_notas, how ='outer', on = ['RA'])"
   ]
  },
  {
   "cell_type": "code",
   "execution_count": 38,
   "id": "dfc52288-5224-4c4a-b2fd-4dbf97e61481",
   "metadata": {
    "tags": []
   },
   "outputs": [
    {
     "data": {
      "text/html": [
       "<div>\n",
       "<style scoped>\n",
       "    .dataframe tbody tr th:only-of-type {\n",
       "        vertical-align: middle;\n",
       "    }\n",
       "\n",
       "    .dataframe tbody tr th {\n",
       "        vertical-align: top;\n",
       "    }\n",
       "\n",
       "    .dataframe thead th {\n",
       "        text-align: right;\n",
       "    }\n",
       "</style>\n",
       "<table border=\"1\" class=\"dataframe\">\n",
       "  <thead>\n",
       "    <tr style=\"text-align: right;\">\n",
       "      <th></th>\n",
       "      <th>RA</th>\n",
       "      <th>Cidade</th>\n",
       "      <th>Sexo</th>\n",
       "      <th>Idade</th>\n",
       "      <th>Nome</th>\n",
       "      <th>Frequencia</th>\n",
       "      <th>Prova_1</th>\n",
       "      <th>Prova_2</th>\n",
       "      <th>Prova_3</th>\n",
       "      <th>Prova_4</th>\n",
       "      <th>media_provas</th>\n",
       "      <th>status</th>\n",
       "    </tr>\n",
       "  </thead>\n",
       "  <tbody>\n",
       "    <tr>\n",
       "      <th>0</th>\n",
       "      <td>110201</td>\n",
       "      <td>São Paulo</td>\n",
       "      <td>Masculino</td>\n",
       "      <td>15</td>\n",
       "      <td>Antonio Carlos</td>\n",
       "      <td>20</td>\n",
       "      <td>6.5</td>\n",
       "      <td>8.5</td>\n",
       "      <td>7.0</td>\n",
       "      <td>6</td>\n",
       "      <td>7.00</td>\n",
       "      <td>Recuperação</td>\n",
       "    </tr>\n",
       "    <tr>\n",
       "      <th>1</th>\n",
       "      <td>110212</td>\n",
       "      <td>Rio de Janeiro</td>\n",
       "      <td>Feminino</td>\n",
       "      <td>20</td>\n",
       "      <td>Ana Beatriz</td>\n",
       "      <td>20</td>\n",
       "      <td>7.0</td>\n",
       "      <td>7.0</td>\n",
       "      <td>7.0</td>\n",
       "      <td>8</td>\n",
       "      <td>7.25</td>\n",
       "      <td>Aprovado</td>\n",
       "    </tr>\n",
       "    <tr>\n",
       "      <th>2</th>\n",
       "      <td>110218</td>\n",
       "      <td>Rio de Janeiro</td>\n",
       "      <td>Masculino</td>\n",
       "      <td>18</td>\n",
       "      <td>Carlos Vernes</td>\n",
       "      <td>17</td>\n",
       "      <td>7.0</td>\n",
       "      <td>7.0</td>\n",
       "      <td>7.0</td>\n",
       "      <td>7</td>\n",
       "      <td>7.00</td>\n",
       "      <td>Recuperação</td>\n",
       "    </tr>\n",
       "    <tr>\n",
       "      <th>3</th>\n",
       "      <td>110307</td>\n",
       "      <td>Belo Horizonte</td>\n",
       "      <td>Masculino</td>\n",
       "      <td>39</td>\n",
       "      <td>Francisco Cunha</td>\n",
       "      <td>20</td>\n",
       "      <td>9.0</td>\n",
       "      <td>8.5</td>\n",
       "      <td>8.5</td>\n",
       "      <td>10</td>\n",
       "      <td>9.00</td>\n",
       "      <td>Aprovado</td>\n",
       "    </tr>\n",
       "    <tr>\n",
       "      <th>4</th>\n",
       "      <td>110275</td>\n",
       "      <td>Belo Horizonte</td>\n",
       "      <td>Feminino</td>\n",
       "      <td>22</td>\n",
       "      <td>Sandra Rosa</td>\n",
       "      <td>15</td>\n",
       "      <td>6.5</td>\n",
       "      <td>7.5</td>\n",
       "      <td>7.0</td>\n",
       "      <td>7</td>\n",
       "      <td>7.00</td>\n",
       "      <td>Recuperação</td>\n",
       "    </tr>\n",
       "  </tbody>\n",
       "</table>\n",
       "</div>"
      ],
      "text/plain": [
       "       RA          Cidade       Sexo  Idade             Nome  Frequencia  \\\n",
       "0  110201       São Paulo  Masculino     15   Antonio Carlos          20   \n",
       "1  110212  Rio de Janeiro   Feminino     20      Ana Beatriz          20   \n",
       "2  110218  Rio de Janeiro  Masculino     18    Carlos Vernes          17   \n",
       "3  110307  Belo Horizonte  Masculino     39  Francisco Cunha          20   \n",
       "4  110275  Belo Horizonte   Feminino     22      Sandra Rosa          15   \n",
       "\n",
       "   Prova_1  Prova_2  Prova_3  Prova_4  media_provas       status  \n",
       "0      6.5      8.5      7.0        6          7.00  Recuperação  \n",
       "1      7.0      7.0      7.0        8          7.25     Aprovado  \n",
       "2      7.0      7.0      7.0        7          7.00  Recuperação  \n",
       "3      9.0      8.5      8.5       10          9.00     Aprovado  \n",
       "4      6.5      7.5      7.0        7          7.00  Recuperação  "
      ]
     },
     "execution_count": 38,
     "metadata": {},
     "output_type": "execute_result"
    }
   ],
   "source": [
    "df_escola.head()"
   ]
  },
  {
   "cell_type": "markdown",
   "id": "a26fb340",
   "metadata": {
    "id": "a26fb340"
   },
   "source": [
    "4) Qual a média entre as Media_provas dentro do público feminino? e masculino?"
   ]
  },
  {
   "cell_type": "code",
   "execution_count": 30,
   "id": "6c9bd524",
   "metadata": {
    "id": "6c9bd524"
   },
   "outputs": [
    {
     "name": "stdout",
     "output_type": "stream",
     "text": [
      "A média da Media_provas dentro o publico feminino é: 7.675\n",
      "\n",
      "A média da Media_provas dentro o publico masculino é: 7.775\n"
     ]
    }
   ],
   "source": [
    "# Usando loc.\n",
    "media_feminino = df_escola.loc[df_escola['Sexo'] == 'Feminino', 'media_provas'].mean()\n",
    "\n",
    "\n",
    "media_masculino = df_escola.loc[df_escola['Sexo'] == 'Masculino', 'media_provas'].mean()\n",
    "print(f'A média da Media_provas dentro o publico feminino é: {media_feminino}\\n\\nA média da Media_provas dentro o publico masculino é: {media_masculino}')"
   ]
  },
  {
   "cell_type": "code",
   "execution_count": 12,
   "id": "e6d95e18-4460-47cd-8818-3e39c97b22f7",
   "metadata": {
    "tags": []
   },
   "outputs": [
    {
     "name": "stdout",
     "output_type": "stream",
     "text": [
      "A média da Media_provas dentro o publico feminino é: 7.675\n",
      "\n",
      "A média da Media_provas dentro o publico masculino é: 7.775\n"
     ]
    }
   ],
   "source": [
    "# Usando Query\n",
    "\n",
    "media_feminino = df_escola.query('Sexo == \"Feminino\"')['media_provas'].mean()\n",
    "\n",
    "media_masculino = df_escola.query('Sexo == \"Masculino\"')['media_provas'].mean()\n",
    "\n",
    "\n",
    "print(f'A média da Media_provas dentro o publico feminino é: {media_feminino}\\n\\nA média da Media_provas dentro o publico masculino é: {media_masculino}')"
   ]
  },
  {
   "cell_type": "code",
   "execution_count": 42,
   "id": "1a6928df-a41a-4919-b0bb-d47e17c3c88d",
   "metadata": {
    "tags": []
   },
   "outputs": [
    {
     "data": {
      "text/plain": [
       "Sexo\n",
       "Feminino     7.675\n",
       "Masculino    7.775\n",
       "Name: media_provas, dtype: float64"
      ]
     },
     "execution_count": 42,
     "metadata": {},
     "output_type": "execute_result"
    }
   ],
   "source": [
    "# Outra maneira com o groupby. PS Achei bem mais facil.\n",
    "\n",
    "df_escola.groupby('Sexo')['media_provas'].mean()"
   ]
  },
  {
   "cell_type": "code",
   "execution_count": 43,
   "id": "2fdbb90c-32fb-4fdb-ae34-171daf37bf2e",
   "metadata": {
    "tags": []
   },
   "outputs": [
    {
     "data": {
      "text/html": [
       "<div>\n",
       "<style scoped>\n",
       "    .dataframe tbody tr th:only-of-type {\n",
       "        vertical-align: middle;\n",
       "    }\n",
       "\n",
       "    .dataframe tbody tr th {\n",
       "        vertical-align: top;\n",
       "    }\n",
       "\n",
       "    .dataframe thead th {\n",
       "        text-align: right;\n",
       "    }\n",
       "</style>\n",
       "<table border=\"1\" class=\"dataframe\">\n",
       "  <thead>\n",
       "    <tr style=\"text-align: right;\">\n",
       "      <th></th>\n",
       "      <th>media_provas</th>\n",
       "    </tr>\n",
       "    <tr>\n",
       "      <th>Sexo</th>\n",
       "      <th></th>\n",
       "    </tr>\n",
       "  </thead>\n",
       "  <tbody>\n",
       "    <tr>\n",
       "      <th>Feminino</th>\n",
       "      <td>7.675</td>\n",
       "    </tr>\n",
       "    <tr>\n",
       "      <th>Masculino</th>\n",
       "      <td>7.775</td>\n",
       "    </tr>\n",
       "  </tbody>\n",
       "</table>\n",
       "</div>"
      ],
      "text/plain": [
       "           media_provas\n",
       "Sexo                   \n",
       "Feminino          7.675\n",
       "Masculino         7.775"
      ]
     },
     "execution_count": 43,
     "metadata": {},
     "output_type": "execute_result"
    }
   ],
   "source": [
    "df_escola.pivot_table(index='Sexo', values = 'media_provas', aggfunc = 'mean')"
   ]
  },
  {
   "cell_type": "markdown",
   "id": "e93d6402",
   "metadata": {
    "id": "e93d6402"
   },
   "source": [
    "5) Qual a média de idade das pessoas que obtiveram Media_provas maior ou igual a 7?"
   ]
  },
  {
   "cell_type": "code",
   "execution_count": 31,
   "id": "b90d4494",
   "metadata": {
    "id": "b90d4494"
   },
   "outputs": [
    {
     "data": {
      "text/plain": [
       "25.333333333333332"
      ]
     },
     "execution_count": 31,
     "metadata": {},
     "output_type": "execute_result"
    }
   ],
   "source": [
    "# Usando .loc\n",
    "# Esta Errado, pois o statos é maior que 7 e não maior ou igual\n",
    "mediaIdade_aprovados = df_escola.loc[df_escola['status'] == 'Aprovado', 'Idade'].mean()\n",
    "mediaIdade_aprovados"
   ]
  },
  {
   "cell_type": "code",
   "execution_count": 46,
   "id": "662703e0-6865-4f6a-9a85-cc37f8107088",
   "metadata": {
    "tags": []
   },
   "outputs": [
    {
     "data": {
      "text/plain": [
       "23.0"
      ]
     },
     "execution_count": 46,
     "metadata": {},
     "output_type": "execute_result"
    }
   ],
   "source": [
    "mediaIdade_aprovados = df_escola.loc[df_escola['media_provas'] >= 7, 'Idade'].mean()\n",
    "mediaIdade_aprovados"
   ]
  },
  {
   "cell_type": "code",
   "execution_count": 32,
   "id": "c2e40798-b7b2-4abe-9223-e39dea785995",
   "metadata": {
    "tags": []
   },
   "outputs": [
    {
     "data": {
      "text/plain": [
       "25.333333333333332"
      ]
     },
     "execution_count": 32,
     "metadata": {},
     "output_type": "execute_result"
    }
   ],
   "source": [
    "#Usando query\n",
    "\n",
    "\n",
    "mediaIdade_aprovados = df_escola.query('status == \"Aprovado\"')['Idade'].mean()\n",
    "mediaIdade_aprovados"
   ]
  },
  {
   "cell_type": "code",
   "execution_count": 45,
   "id": "7c9435e2-2a27-4e11-a640-ae1a3a372172",
   "metadata": {
    "tags": []
   },
   "outputs": [
    {
     "data": {
      "text/plain": [
       "23.0"
      ]
     },
     "execution_count": 45,
     "metadata": {},
     "output_type": "execute_result"
    }
   ],
   "source": [
    "# Outra forma\n",
    "\n",
    "df_escola[df_escola['media_provas']>=7].Idade.mean()"
   ]
  },
  {
   "cell_type": "code",
   "execution_count": 48,
   "id": "6704416a-465d-418d-bcca-5bce2f804b9d",
   "metadata": {
    "tags": []
   },
   "outputs": [
    {
     "data": {
      "text/plain": [
       "23.0"
      ]
     },
     "execution_count": 48,
     "metadata": {},
     "output_type": "execute_result"
    }
   ],
   "source": [
    "df_escola[df_escola['media_provas'] >= 7]['Idade'].mean()"
   ]
  },
  {
   "cell_type": "markdown",
   "id": "cdfe1af6",
   "metadata": {},
   "source": [
    "6) Faça um código para mostrar a médias da coluna Media_provas entre as cidades, mostrando o valor para cada uma bem como ordenando de forma decrescente? "
   ]
  },
  {
   "cell_type": "code",
   "execution_count": 33,
   "id": "71bfbb05",
   "metadata": {},
   "outputs": [
    {
     "data": {
      "text/plain": [
       "Cidade\n",
       "Belo Horizonte    7.97\n",
       "São Paulo         7.88\n",
       "Rio de Janeiro    7.25\n",
       "Name: media_provas, dtype: float64"
      ]
     },
     "execution_count": 33,
     "metadata": {},
     "output_type": "execute_result"
    }
   ],
   "source": [
    "mediaMediaProvas_cidades = df_escola.groupby('Cidade')['media_provas'].mean().round(2).sort_values(ascending=False)\n",
    "#display(mediaMediaProvas_cidades)\n",
    "mediaMediaProvas_cidades"
   ]
  },
  {
   "cell_type": "code",
   "execution_count": 51,
   "id": "fd4339ac-7fd7-4b51-930c-b5e52cd2e54f",
   "metadata": {
    "tags": []
   },
   "outputs": [
    {
     "data": {
      "text/plain": [
       "Cidade\n",
       "Belo Horizonte    7.97\n",
       "São Paulo         7.88\n",
       "Rio de Janeiro    7.25\n",
       "Name: media_provas, dtype: float64"
      ]
     },
     "execution_count": 51,
     "metadata": {},
     "output_type": "execute_result"
    }
   ],
   "source": [
    "df_escola.groupby('Cidade')['media_provas'].mean().round(2).sort_values(ascending=False)"
   ]
  },
  {
   "cell_type": "code",
   "execution_count": 54,
   "id": "7b4f0712-0fe9-4eec-b3ac-5c30cf305389",
   "metadata": {
    "tags": []
   },
   "outputs": [
    {
     "data": {
      "text/html": [
       "<div>\n",
       "<style scoped>\n",
       "    .dataframe tbody tr th:only-of-type {\n",
       "        vertical-align: middle;\n",
       "    }\n",
       "\n",
       "    .dataframe tbody tr th {\n",
       "        vertical-align: top;\n",
       "    }\n",
       "\n",
       "    .dataframe thead th {\n",
       "        text-align: right;\n",
       "    }\n",
       "</style>\n",
       "<table border=\"1\" class=\"dataframe\">\n",
       "  <thead>\n",
       "    <tr style=\"text-align: right;\">\n",
       "      <th></th>\n",
       "      <th>Média_Provas_por_Cidade</th>\n",
       "    </tr>\n",
       "    <tr>\n",
       "      <th>Cidade</th>\n",
       "      <th></th>\n",
       "    </tr>\n",
       "  </thead>\n",
       "  <tbody>\n",
       "    <tr>\n",
       "      <th>Belo Horizonte</th>\n",
       "      <td>7.97</td>\n",
       "    </tr>\n",
       "    <tr>\n",
       "      <th>São Paulo</th>\n",
       "      <td>7.88</td>\n",
       "    </tr>\n",
       "    <tr>\n",
       "      <th>Rio de Janeiro</th>\n",
       "      <td>7.25</td>\n",
       "    </tr>\n",
       "  </tbody>\n",
       "</table>\n",
       "</div>"
      ],
      "text/plain": [
       "                Média_Provas_por_Cidade\n",
       "Cidade                                 \n",
       "Belo Horizonte                     7.97\n",
       "São Paulo                          7.88\n",
       "Rio de Janeiro                     7.25"
      ]
     },
     "execution_count": 54,
     "metadata": {},
     "output_type": "execute_result"
    }
   ],
   "source": [
    "mediaMediaProvas_cidades = df_escola.groupby('Cidade')['media_provas'].mean().round(2).sort_values(ascending=False).to_frame(name='Média_Provas_por_Cidade')\n",
    "mediaMediaProvas_cidades"
   ]
  },
  {
   "cell_type": "code",
   "execution_count": 50,
   "id": "2dcfb10f-53bb-467c-b0c3-04cd01f0d803",
   "metadata": {
    "tags": []
   },
   "outputs": [
    {
     "data": {
      "text/html": [
       "<div>\n",
       "<style scoped>\n",
       "    .dataframe tbody tr th:only-of-type {\n",
       "        vertical-align: middle;\n",
       "    }\n",
       "\n",
       "    .dataframe tbody tr th {\n",
       "        vertical-align: top;\n",
       "    }\n",
       "\n",
       "    .dataframe thead th {\n",
       "        text-align: right;\n",
       "    }\n",
       "</style>\n",
       "<table border=\"1\" class=\"dataframe\">\n",
       "  <thead>\n",
       "    <tr style=\"text-align: right;\">\n",
       "      <th></th>\n",
       "      <th>media_provas</th>\n",
       "    </tr>\n",
       "    <tr>\n",
       "      <th>Cidade</th>\n",
       "      <th></th>\n",
       "    </tr>\n",
       "  </thead>\n",
       "  <tbody>\n",
       "    <tr>\n",
       "      <th>Belo Horizonte</th>\n",
       "      <td>7.96875</td>\n",
       "    </tr>\n",
       "    <tr>\n",
       "      <th>São Paulo</th>\n",
       "      <td>7.87500</td>\n",
       "    </tr>\n",
       "    <tr>\n",
       "      <th>Rio de Janeiro</th>\n",
       "      <td>7.25000</td>\n",
       "    </tr>\n",
       "  </tbody>\n",
       "</table>\n",
       "</div>"
      ],
      "text/plain": [
       "                media_provas\n",
       "Cidade                      \n",
       "Belo Horizonte       7.96875\n",
       "São Paulo            7.87500\n",
       "Rio de Janeiro       7.25000"
      ]
     },
     "execution_count": 50,
     "metadata": {},
     "output_type": "execute_result"
    }
   ],
   "source": [
    "# Outro jeito\n",
    "\n",
    "df_escola.pivot_table(index='Cidade', values='media_provas', aggfunc='mean').sort_values(by='media_provas', ascending=False)"
   ]
  },
  {
   "cell_type": "markdown",
   "id": "a33f4818",
   "metadata": {},
   "source": [
    "## Mini tarefa"
   ]
  },
  {
   "cell_type": "markdown",
   "id": "58113dfe",
   "metadata": {},
   "source": [
    "A partir do dataframe df_escola é possível obter as médias de notas de cada cidade a partir da coluna Media_provas. Realizando este calculo e ordenando de forma decrescente, responda no [link](https://forms.gle/a7Lzb7cxN4d2FzK16), qual cidade possui maior média? E qual é esta média?"
   ]
  },
  {
   "cell_type": "code",
   "execution_count": null,
   "id": "5844f15c",
   "metadata": {},
   "outputs": [],
   "source": []
  }
 ],
 "metadata": {
  "colab": {
   "provenance": []
  },
  "kernelspec": {
   "display_name": "Python 3 (ipykernel)",
   "language": "python",
   "name": "python3"
  },
  "language_info": {
   "codemirror_mode": {
    "name": "ipython",
    "version": 3
   },
   "file_extension": ".py",
   "mimetype": "text/x-python",
   "name": "python",
   "nbconvert_exporter": "python",
   "pygments_lexer": "ipython3",
   "version": "3.11.5"
  },
  "vscode": {
   "interpreter": {
    "hash": "6b93bc143cf2aa4a53884dec4d65996ee4069beae8d4d0185b09d3e6e44a43f0"
   }
  }
 },
 "nbformat": 4,
 "nbformat_minor": 5
}
