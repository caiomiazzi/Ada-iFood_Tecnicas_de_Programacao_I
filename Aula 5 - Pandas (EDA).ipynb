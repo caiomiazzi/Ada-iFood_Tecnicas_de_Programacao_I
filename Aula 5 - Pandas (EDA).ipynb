{
 "cells": [
  {
   "cell_type": "markdown",
   "id": "4f51956c",
   "metadata": {
    "id": "4f51956c"
   },
   "source": [
    "**Relembrando**  \n",
    "  \n",
    "A biblioteca **Pandas** proporciona uma forma eficiente de armazenagem e processamento de conjuntos de dados, e é utilizada como base para a construção da biblioteca Pandas, que estudaremos a seguir.\n",
    "\n",
    "O diferencial do Numpy é sua velocidade e eficiência, o que faz com que ela seja amplamente utilizada para computação científica e analise de dados. \n",
    "\n",
    "A velocidade e eficiência é possível graças à estrutura chamada **numpy array**, que é um forma eficiente de guardar e manipular matrizes, que serve como base para as tabelas que iremos utilizar."
   ]
  },
  {
   "cell_type": "code",
   "execution_count": null,
   "id": "57ad54b6",
   "metadata": {
    "id": "57ad54b6",
    "tags": []
   },
   "outputs": [],
   "source": [
    "import pandas as pd\n",
    "import numpy as np"
   ]
  },
  {
   "cell_type": "markdown",
   "id": "24b9908c",
   "metadata": {
    "id": "24b9908c"
   },
   "source": [
    "## Series\n",
    "\n",
    "O objeto fundamental do Pandas são as **Series**, uma classe do pandas.\n",
    "\n",
    "As Series são as **colunas das tabelas** (que veremos mais a frente), e por baixo dos panos, os dados ficam armazenados como **numpy arrays**!\n",
    "\n",
    "A diferença é que a série possui um **índice associado**, permitindo o acesso aos conteúdos dessa estrutura por ele, como um dicionário.\n",
    "\n",
    "Além disso, as séries têm métodos específicos além dos que vimos pra arrays, o que será super útil!\n",
    "\n",
    "Podemos criar uma série **a partir de uma lista**, usando a função do pandas `pd.Series()`: "
   ]
  },
  {
   "cell_type": "markdown",
   "id": "44612acf",
   "metadata": {
    "id": "44612acf"
   },
   "source": [
    "### DataFrame\n",
    "\n",
    "Agora que conhecemos as séries, vamos partir pro objeto do Pandas que mais utilizaremos: o **DataFrame**\n",
    "\n",
    "Como veremos a seguir, o DataFrame é uma estrutura que se assemalha a uma **tabela**.\n",
    "\n",
    "Estruturalmente, o DataFrame nada mais é que um **conjunto de Series**, uma para cada coluna (e, claro, com mesmo índice, que irão indexar as linhas).\n",
    "  \n",
    "Veremos depois como **ler um dataframe a partir de um arquivo** (que é provavelmente a forma mais comum)\n",
    "\n",
    "Há muitas formas de construir um DataFrame do zero. Todas elas fazem uso da função **pd.DataFrame()**, como veremos a seguir.\n",
    "\n",
    "Se quisermos especificar os índices de linha, o nome das colunas, e os dados, podemos passá-los separadamente: "
   ]
  },
  {
   "cell_type": "markdown",
   "id": "8c30e202",
   "metadata": {
    "id": "8c30e202"
   },
   "source": [
    "## Exploração de dados\n",
    "\n",
    "Em estatística, a análise exploratória de dados (EDA - Exploratory Data Analysis) é uma abordagem de análise de conjuntos de dados para resumir suas principais características, muitas vezes usando gráficos estatísticos e outros métodos de visualização de dados. Neste módulo vamos nos ater ao uso de tabelas e estatísticas para este trabalho, principalmente usando o ```pandas```."
   ]
  },
  {
   "cell_type": "code",
   "execution_count": null,
   "id": "62e39ca4",
   "metadata": {
    "id": "62e39ca4",
    "tags": []
   },
   "outputs": [],
   "source": [
    "df = pd.read_table('./dados/dados_parciais.txt', sep=';', decimal=',')"
   ]
  },
  {
   "cell_type": "markdown",
   "id": "e8bcaff8",
   "metadata": {
    "id": "e8bcaff8"
   },
   "source": [
    "### Head"
   ]
  },
  {
   "cell_type": "code",
   "execution_count": null,
   "id": "d2c16cfb",
   "metadata": {
    "colab": {
     "base_uri": "https://localhost:8080/",
     "height": 143
    },
    "id": "d2c16cfb",
    "outputId": "91dbe742-e282-419c-ffa3-b8aa46136212",
    "tags": []
   },
   "outputs": [],
   "source": [
    "# O head é utilizado para observarmos o início de um dataframe\n",
    "df.head()"
   ]
  },
  {
   "cell_type": "code",
   "execution_count": null,
   "id": "183ec3ad-1e5c-4e75-8ba3-493deb0389b5",
   "metadata": {
    "tags": []
   },
   "outputs": [],
   "source": [
    "df[df['uf']=='PI']"
   ]
  },
  {
   "cell_type": "markdown",
   "id": "05351d5c",
   "metadata": {
    "id": "05351d5c"
   },
   "source": [
    "### Tail"
   ]
  },
  {
   "cell_type": "code",
   "execution_count": null,
   "id": "82730f0d",
   "metadata": {
    "colab": {
     "base_uri": "https://localhost:8080/",
     "height": 143
    },
    "id": "82730f0d",
    "outputId": "edb746fe-96b3-4a1d-f146-1fd39d7a3254",
    "tags": []
   },
   "outputs": [],
   "source": [
    "# O tail é utilizado para observarmos o final de um dataframe\n",
    "df.tail()"
   ]
  },
  {
   "cell_type": "markdown",
   "id": "51572bbf",
   "metadata": {
    "id": "51572bbf"
   },
   "source": [
    "### Describe"
   ]
  },
  {
   "cell_type": "markdown",
   "id": "a5c15855-45da-44cb-8409-c517960dc90a",
   "metadata": {},
   "source": [
    "### info"
   ]
  },
  {
   "cell_type": "code",
   "execution_count": null,
   "id": "f10068bc-0fc5-45e4-b8da-295b6f25d45c",
   "metadata": {
    "tags": []
   },
   "outputs": [],
   "source": [
    "# .info() \n",
    "df.info()"
   ]
  },
  {
   "cell_type": "code",
   "execution_count": null,
   "id": "b44ad19f",
   "metadata": {
    "colab": {
     "base_uri": "https://localhost:8080/",
     "height": 300
    },
    "id": "b44ad19f",
    "outputId": "d2a7ffda-0bf9-4974-bf75-c94ea1c85904",
    "tags": []
   },
   "outputs": [],
   "source": [
    "# Podemos sumarizar algumas estatísticas de várias colunas de uma única vez.\n",
    "df.describe()"
   ]
  },
  {
   "cell_type": "code",
   "execution_count": null,
   "id": "EJGmc6E2N1BS",
   "metadata": {
    "colab": {
     "base_uri": "https://localhost:8080/"
    },
    "id": "EJGmc6E2N1BS",
    "outputId": "b252e2ef-9d83-4e59-db40-328e179d97af"
   },
   "outputs": [],
   "source": [
    "df_statiscics = df.describle()"
   ]
  },
  {
   "cell_type": "code",
   "execution_count": null,
   "id": "psxiEMVvOA5t",
   "metadata": {
    "colab": {
     "base_uri": "https://localhost:8080/"
    },
    "id": "psxiEMVvOA5t",
    "outputId": "32bd5f61-c272-4c81-b49b-2912af680c9b"
   },
   "outputs": [],
   "source": []
  },
  {
   "cell_type": "markdown",
   "id": "5f46ac7e",
   "metadata": {
    "id": "5f46ac7e"
   },
   "source": [
    "### Outras estatísticas"
   ]
  },
  {
   "cell_type": "code",
   "execution_count": null,
   "id": "jk8HwVKRSnGn",
   "metadata": {
    "colab": {
     "base_uri": "https://localhost:8080/"
    },
    "id": "jk8HwVKRSnGn",
    "outputId": "19a0d396-4122-479e-e45a-53735b92c55f",
    "tags": []
   },
   "outputs": [],
   "source": [
    "# Obtendo uma estatística por vez\n",
    "# Calculando a média\n",
    "df.mean()"
   ]
  },
  {
   "cell_type": "code",
   "execution_count": 22,
   "id": "a7b4dcee-4889-4b53-93cb-07139e322b26",
   "metadata": {
    "tags": []
   },
   "outputs": [
    {
     "data": {
      "text/plain": [
       "superficie    4.006556e+05\n",
       "pop_urbana    4.558599e+06\n",
       "pop_rural     1.259163e+06\n",
       "total         5.817762e+06\n",
       "dtype: float64"
      ]
     },
     "execution_count": 22,
     "metadata": {},
     "output_type": "execute_result"
    }
   ],
   "source": [
    "numeric_columns = df.select_dtypes(include='number')\n",
    "mean_numeric = numeric_columns.mean()\n",
    "mean_numeric"
   ]
  },
  {
   "cell_type": "code",
   "execution_count": null,
   "id": "TmJeqRIIS3G0",
   "metadata": {
    "colab": {
     "base_uri": "https://localhost:8080/"
    },
    "id": "TmJeqRIIS3G0",
    "outputId": "2ba98217-88af-4424-f4f6-96816e910fd8",
    "tags": []
   },
   "outputs": [],
   "source": [
    "# Calculando a mediana\n",
    "df.median"
   ]
  },
  {
   "cell_type": "code",
   "execution_count": null,
   "id": "MyADP8nSS6mm",
   "metadata": {
    "colab": {
     "base_uri": "https://localhost:8080/",
     "height": 112
    },
    "id": "MyADP8nSS6mm",
    "outputId": "ee6ded62-b960-4a1d-f783-da3c200780dc",
    "tags": []
   },
   "outputs": [],
   "source": [
    "# Calculando os quantis\n",
    "df.quantile"
   ]
  },
  {
   "cell_type": "code",
   "execution_count": null,
   "id": "izufBy8KTbOb",
   "metadata": {
    "colab": {
     "base_uri": "https://localhost:8080/",
     "height": 112
    },
    "id": "izufBy8KTbOb",
    "outputId": "fc895601-86f7-4ff8-acc4-a76b5c1dc649"
   },
   "outputs": [],
   "source": []
  },
  {
   "cell_type": "code",
   "execution_count": null,
   "id": "30P1UMeNUK1l",
   "metadata": {
    "colab": {
     "base_uri": "https://localhost:8080/"
    },
    "id": "30P1UMeNUK1l",
    "outputId": "1e6c1fd5-3f26-4c62-ff33-a87d3a1b0525"
   },
   "outputs": [],
   "source": [
    "# Obtendo valor mínimo de cada variável\n",
    "df.min()"
   ]
  },
  {
   "cell_type": "code",
   "execution_count": null,
   "id": "mw_lIPP1Ui_8",
   "metadata": {
    "colab": {
     "base_uri": "https://localhost:8080/",
     "height": 237
    },
    "id": "mw_lIPP1Ui_8",
    "outputId": "bf2f0c34-928f-49b7-a4f7-9060a617f944",
    "tags": []
   },
   "outputs": [],
   "source": [
    "# se quisermos estatísticas separadas por região\n",
    "# group by\n",
    "df.groupby('regiao').mean()"
   ]
  },
  {
   "cell_type": "code",
   "execution_count": 18,
   "id": "1fb1850e-3058-4b0d-bdf8-952b68803fd3",
   "metadata": {
    "tags": []
   },
   "outputs": [
    {
     "data": {
      "text/html": [
       "<div>\n",
       "<style scoped>\n",
       "    .dataframe tbody tr th:only-of-type {\n",
       "        vertical-align: middle;\n",
       "    }\n",
       "\n",
       "    .dataframe tbody tr th {\n",
       "        vertical-align: top;\n",
       "    }\n",
       "\n",
       "    .dataframe thead th {\n",
       "        text-align: right;\n",
       "    }\n",
       "</style>\n",
       "<table border=\"1\" class=\"dataframe\">\n",
       "  <thead>\n",
       "    <tr style=\"text-align: right;\">\n",
       "      <th></th>\n",
       "      <th>uf</th>\n",
       "      <th>superficie</th>\n",
       "      <th>pop_urbana</th>\n",
       "      <th>pop_rural</th>\n",
       "      <th>total</th>\n",
       "    </tr>\n",
       "    <tr>\n",
       "      <th>regiao</th>\n",
       "      <th></th>\n",
       "      <th></th>\n",
       "      <th></th>\n",
       "      <th></th>\n",
       "      <th></th>\n",
       "    </tr>\n",
       "  </thead>\n",
       "  <tbody>\n",
       "    <tr>\n",
       "      <th>Centro-Oeste</th>\n",
       "      <td>MSMTGODF</td>\n",
       "      <td>4683683</td>\n",
       "      <td>8865836.0</td>\n",
       "      <td>1635644.0</td>\n",
       "      <td>10501480.0</td>\n",
       "    </tr>\n",
       "    <tr>\n",
       "      <th>Nordeste</th>\n",
       "      <td>MAPILitígio*CERNPBPE**ALSEBA</td>\n",
       "      <td>1561178</td>\n",
       "      <td>29192696.0</td>\n",
       "      <td>15575505.0</td>\n",
       "      <td>44768201.0</td>\n",
       "    </tr>\n",
       "    <tr>\n",
       "      <th>Norte</th>\n",
       "      <td>ROACAMRRPAAPTO</td>\n",
       "      <td>3869639</td>\n",
       "      <td>7039324.0</td>\n",
       "      <td>4250766.0</td>\n",
       "      <td>11290093.0</td>\n",
       "    </tr>\n",
       "    <tr>\n",
       "      <th>Sudeste</th>\n",
       "      <td>MGESRJSP</td>\n",
       "      <td>927287</td>\n",
       "      <td>59825958.0</td>\n",
       "      <td>7177111.0</td>\n",
       "      <td>67003069.0</td>\n",
       "    </tr>\n",
       "    <tr>\n",
       "      <th>Sul</th>\n",
       "      <td>PRSCRS</td>\n",
       "      <td>577214</td>\n",
       "      <td>18158350.0</td>\n",
       "      <td>5358380.0</td>\n",
       "      <td>23516730.0</td>\n",
       "    </tr>\n",
       "  </tbody>\n",
       "</table>\n",
       "</div>"
      ],
      "text/plain": [
       "                                        uf  superficie  pop_urbana  \\\n",
       "regiao                                                               \n",
       "Centro-Oeste                      MSMTGODF     4683683   8865836.0   \n",
       "Nordeste      MAPILitígio*CERNPBPE**ALSEBA     1561178  29192696.0   \n",
       "Norte                       ROACAMRRPAAPTO     3869639   7039324.0   \n",
       "Sudeste                           MGESRJSP      927287  59825958.0   \n",
       "Sul                                 PRSCRS      577214  18158350.0   \n",
       "\n",
       "               pop_rural       total  \n",
       "regiao                                \n",
       "Centro-Oeste   1635644.0  10501480.0  \n",
       "Nordeste      15575505.0  44768201.0  \n",
       "Norte          4250766.0  11290093.0  \n",
       "Sudeste        7177111.0  67003069.0  \n",
       "Sul            5358380.0  23516730.0  "
      ]
     },
     "execution_count": 18,
     "metadata": {},
     "output_type": "execute_result"
    }
   ],
   "source": [
    "df.groupby('regiao').sum()"
   ]
  },
  {
   "cell_type": "code",
   "execution_count": 20,
   "id": "50f3cab3-64f7-4ce0-83c2-7563ea5ae373",
   "metadata": {
    "tags": []
   },
   "outputs": [
    {
     "data": {
      "text/html": [
       "<div>\n",
       "<style scoped>\n",
       "    .dataframe tbody tr th:only-of-type {\n",
       "        vertical-align: middle;\n",
       "    }\n",
       "\n",
       "    .dataframe tbody tr th {\n",
       "        vertical-align: top;\n",
       "    }\n",
       "\n",
       "    .dataframe thead th {\n",
       "        text-align: right;\n",
       "    }\n",
       "</style>\n",
       "<table border=\"1\" class=\"dataframe\">\n",
       "  <thead>\n",
       "    <tr style=\"text-align: right;\">\n",
       "      <th></th>\n",
       "      <th>regiao</th>\n",
       "      <th>uf</th>\n",
       "      <th>superficie</th>\n",
       "      <th>pop_urbana</th>\n",
       "      <th>pop_rural</th>\n",
       "      <th>total</th>\n",
       "    </tr>\n",
       "  </thead>\n",
       "  <tbody>\n",
       "    <tr>\n",
       "      <th>24</th>\n",
       "      <td>Centro-Oeste</td>\n",
       "      <td>MS</td>\n",
       "      <td>358159</td>\n",
       "      <td>1604318.0</td>\n",
       "      <td>323516.0</td>\n",
       "      <td>1927834.0</td>\n",
       "    </tr>\n",
       "    <tr>\n",
       "      <th>25</th>\n",
       "      <td>Centro-Oeste</td>\n",
       "      <td>MT</td>\n",
       "      <td>906807</td>\n",
       "      <td>1695548.0</td>\n",
       "      <td>540284.0</td>\n",
       "      <td>2235832.0</td>\n",
       "    </tr>\n",
       "    <tr>\n",
       "      <th>26</th>\n",
       "      <td>Centro-Oeste</td>\n",
       "      <td>GO</td>\n",
       "      <td>3412895</td>\n",
       "      <td>3873722.0</td>\n",
       "      <td>642146.0</td>\n",
       "      <td>4515868.0</td>\n",
       "    </tr>\n",
       "    <tr>\n",
       "      <th>27</th>\n",
       "      <td>Centro-Oeste</td>\n",
       "      <td>DF</td>\n",
       "      <td>5822</td>\n",
       "      <td>1692248.0</td>\n",
       "      <td>129698.0</td>\n",
       "      <td>1821946.0</td>\n",
       "    </tr>\n",
       "  </tbody>\n",
       "</table>\n",
       "</div>"
      ],
      "text/plain": [
       "          regiao  uf  superficie  pop_urbana  pop_rural      total\n",
       "24  Centro-Oeste  MS      358159   1604318.0   323516.0  1927834.0\n",
       "25  Centro-Oeste  MT      906807   1695548.0   540284.0  2235832.0\n",
       "26  Centro-Oeste  GO     3412895   3873722.0   642146.0  4515868.0\n",
       "27  Centro-Oeste  DF        5822   1692248.0   129698.0  1821946.0"
      ]
     },
     "execution_count": 20,
     "metadata": {},
     "output_type": "execute_result"
    }
   ],
   "source": [
    "df[df['regiao']=='Centro-Oeste']"
   ]
  },
  {
   "cell_type": "markdown",
   "id": "9cc2b3b5",
   "metadata": {
    "id": "9cc2b3b5"
   },
   "source": [
    "### Importando novo Dataframe"
   ]
  },
  {
   "cell_type": "code",
   "execution_count": 29,
   "id": "7L-JQlU8VIC0",
   "metadata": {
    "id": "7L-JQlU8VIC0",
    "tags": []
   },
   "outputs": [],
   "source": [
    "# importando o dataframe de municípios\n",
    "df_muni = pd.read_table('./dados/populacao_brasileira_por_municipio.txt', sep = ';', thousands = '.')"
   ]
  },
  {
   "cell_type": "code",
   "execution_count": 30,
   "id": "wyubOqaFVqzi",
   "metadata": {
    "colab": {
     "base_uri": "https://localhost:8080/",
     "height": 363
    },
    "id": "wyubOqaFVqzi",
    "outputId": "f6af2cd6-f6a9-4779-fb64-39f3357d3188",
    "tags": []
   },
   "outputs": [
    {
     "data": {
      "text/html": [
       "<div>\n",
       "<style scoped>\n",
       "    .dataframe tbody tr th:only-of-type {\n",
       "        vertical-align: middle;\n",
       "    }\n",
       "\n",
       "    .dataframe tbody tr th {\n",
       "        vertical-align: top;\n",
       "    }\n",
       "\n",
       "    .dataframe thead th {\n",
       "        text-align: right;\n",
       "    }\n",
       "</style>\n",
       "<table border=\"1\" class=\"dataframe\">\n",
       "  <thead>\n",
       "    <tr style=\"text-align: right;\">\n",
       "      <th></th>\n",
       "      <th>UF</th>\n",
       "      <th>COD. UF</th>\n",
       "      <th>COD. MUNIC</th>\n",
       "      <th>NOME DO MUNICÍPIO</th>\n",
       "      <th>POPULAÇÃO ESTIMADA</th>\n",
       "    </tr>\n",
       "  </thead>\n",
       "  <tbody>\n",
       "    <tr>\n",
       "      <th>0</th>\n",
       "      <td>RO</td>\n",
       "      <td>11</td>\n",
       "      <td>15</td>\n",
       "      <td>Alta Floresta D'Oeste</td>\n",
       "      <td>22516</td>\n",
       "    </tr>\n",
       "    <tr>\n",
       "      <th>1</th>\n",
       "      <td>RO</td>\n",
       "      <td>11</td>\n",
       "      <td>23</td>\n",
       "      <td>Ariquemes</td>\n",
       "      <td>111148</td>\n",
       "    </tr>\n",
       "    <tr>\n",
       "      <th>2</th>\n",
       "      <td>RO</td>\n",
       "      <td>11</td>\n",
       "      <td>31</td>\n",
       "      <td>Cabixi</td>\n",
       "      <td>5067</td>\n",
       "    </tr>\n",
       "    <tr>\n",
       "      <th>3</th>\n",
       "      <td>RO</td>\n",
       "      <td>11</td>\n",
       "      <td>49</td>\n",
       "      <td>Cacoal</td>\n",
       "      <td>86416</td>\n",
       "    </tr>\n",
       "    <tr>\n",
       "      <th>4</th>\n",
       "      <td>RO</td>\n",
       "      <td>11</td>\n",
       "      <td>56</td>\n",
       "      <td>Cerejeiras</td>\n",
       "      <td>16088</td>\n",
       "    </tr>\n",
       "  </tbody>\n",
       "</table>\n",
       "</div>"
      ],
      "text/plain": [
       "   UF  COD. UF  COD. MUNIC      NOME DO MUNICÍPIO  POPULAÇÃO ESTIMADA\n",
       "0  RO       11          15  Alta Floresta D'Oeste               22516\n",
       "1  RO       11          23              Ariquemes              111148\n",
       "2  RO       11          31                 Cabixi                5067\n",
       "3  RO       11          49                 Cacoal               86416\n",
       "4  RO       11          56             Cerejeiras               16088"
      ]
     },
     "execution_count": 30,
     "metadata": {},
     "output_type": "execute_result"
    }
   ],
   "source": [
    "df_muni.head()"
   ]
  },
  {
   "cell_type": "markdown",
   "id": "8e83c773",
   "metadata": {
    "id": "8e83c773"
   },
   "source": [
    "### Colunas\n",
    "  \n",
    "Podemos acessar os dados de uma colunas de três métodos"
   ]
  },
  {
   "cell_type": "code",
   "execution_count": 34,
   "id": "SKJugtfJV1WL",
   "metadata": {
    "colab": {
     "base_uri": "https://localhost:8080/"
    },
    "id": "SKJugtfJV1WL",
    "outputId": "630b0fb7-1123-46a3-be68-a00489064ea1",
    "tags": []
   },
   "outputs": [
    {
     "data": {
      "text/plain": [
       "0       RO\n",
       "1       RO\n",
       "2       RO\n",
       "3       RO\n",
       "4       RO\n",
       "        ..\n",
       "5565    GO\n",
       "5566    GO\n",
       "5567    GO\n",
       "5568    GO\n",
       "5569    DF\n",
       "Name: UF, Length: 5570, dtype: object"
      ]
     },
     "execution_count": 34,
     "metadata": {},
     "output_type": "execute_result"
    }
   ],
   "source": [
    "df_muni['UF']"
   ]
  },
  {
   "cell_type": "code",
   "execution_count": 36,
   "id": "um1RZvWRWDeN",
   "metadata": {
    "colab": {
     "base_uri": "https://localhost:8080/"
    },
    "id": "um1RZvWRWDeN",
    "outputId": "2973fdc1-f1bc-468f-c66d-470dc2c35b40",
    "tags": []
   },
   "outputs": [
    {
     "data": {
      "text/plain": [
       "0       RO\n",
       "1       RO\n",
       "2       RO\n",
       "3       RO\n",
       "4       RO\n",
       "        ..\n",
       "5565    GO\n",
       "5566    GO\n",
       "5567    GO\n",
       "5568    GO\n",
       "5569    DF\n",
       "Name: UF, Length: 5570, dtype: object"
      ]
     },
     "execution_count": 36,
     "metadata": {},
     "output_type": "execute_result"
    }
   ],
   "source": [
    "df_muni.UF\n",
    "# faz o mesmo que acima."
   ]
  },
  {
   "cell_type": "code",
   "execution_count": 37,
   "id": "Cu_Mpbv6WJV8",
   "metadata": {
    "colab": {
     "base_uri": "https://localhost:8080/"
    },
    "id": "Cu_Mpbv6WJV8",
    "outputId": "21e6e9da-6875-45f6-bf39-4b34820837ba",
    "tags": []
   },
   "outputs": [
    {
     "data": {
      "text/plain": [
       "pandas.core.series.Series"
      ]
     },
     "execution_count": 37,
     "metadata": {},
     "output_type": "execute_result"
    }
   ],
   "source": [
    "type(df_muni.UF)"
   ]
  },
  {
   "cell_type": "code",
   "execution_count": null,
   "id": "_AVKeoVoWPaL",
   "metadata": {
    "colab": {
     "base_uri": "https://localhost:8080/"
    },
    "id": "_AVKeoVoWPaL",
    "outputId": "384f7dd4-eca5-4b3f-a068-b273046a3157"
   },
   "outputs": [],
   "source": []
  },
  {
   "cell_type": "code",
   "execution_count": 40,
   "id": "-ZkZu9QTWRnz",
   "metadata": {
    "colab": {
     "base_uri": "https://localhost:8080/",
     "height": 959
    },
    "id": "-ZkZu9QTWRnz",
    "outputId": "0811c96b-a4bf-49d7-e8d9-df7f7e63206a",
    "tags": []
   },
   "outputs": [
    {
     "data": {
      "text/html": [
       "<div>\n",
       "<style scoped>\n",
       "    .dataframe tbody tr th:only-of-type {\n",
       "        vertical-align: middle;\n",
       "    }\n",
       "\n",
       "    .dataframe tbody tr th {\n",
       "        vertical-align: top;\n",
       "    }\n",
       "\n",
       "    .dataframe thead th {\n",
       "        text-align: right;\n",
       "    }\n",
       "</style>\n",
       "<table border=\"1\" class=\"dataframe\">\n",
       "  <thead>\n",
       "    <tr style=\"text-align: right;\">\n",
       "      <th></th>\n",
       "      <th>UF</th>\n",
       "      <th>COD. MUNIC</th>\n",
       "    </tr>\n",
       "  </thead>\n",
       "  <tbody>\n",
       "    <tr>\n",
       "      <th>0</th>\n",
       "      <td>RO</td>\n",
       "      <td>15</td>\n",
       "    </tr>\n",
       "    <tr>\n",
       "      <th>1</th>\n",
       "      <td>RO</td>\n",
       "      <td>23</td>\n",
       "    </tr>\n",
       "    <tr>\n",
       "      <th>2</th>\n",
       "      <td>RO</td>\n",
       "      <td>31</td>\n",
       "    </tr>\n",
       "    <tr>\n",
       "      <th>3</th>\n",
       "      <td>RO</td>\n",
       "      <td>49</td>\n",
       "    </tr>\n",
       "    <tr>\n",
       "      <th>4</th>\n",
       "      <td>RO</td>\n",
       "      <td>56</td>\n",
       "    </tr>\n",
       "    <tr>\n",
       "      <th>...</th>\n",
       "      <td>...</td>\n",
       "      <td>...</td>\n",
       "    </tr>\n",
       "    <tr>\n",
       "      <th>5565</th>\n",
       "      <td>GO</td>\n",
       "      <td>22005</td>\n",
       "    </tr>\n",
       "    <tr>\n",
       "      <th>5566</th>\n",
       "      <td>GO</td>\n",
       "      <td>22054</td>\n",
       "    </tr>\n",
       "    <tr>\n",
       "      <th>5567</th>\n",
       "      <td>GO</td>\n",
       "      <td>22203</td>\n",
       "    </tr>\n",
       "    <tr>\n",
       "      <th>5568</th>\n",
       "      <td>GO</td>\n",
       "      <td>22302</td>\n",
       "    </tr>\n",
       "    <tr>\n",
       "      <th>5569</th>\n",
       "      <td>DF</td>\n",
       "      <td>108</td>\n",
       "    </tr>\n",
       "  </tbody>\n",
       "</table>\n",
       "<p>5570 rows × 2 columns</p>\n",
       "</div>"
      ],
      "text/plain": [
       "      UF  COD. MUNIC\n",
       "0     RO          15\n",
       "1     RO          23\n",
       "2     RO          31\n",
       "3     RO          49\n",
       "4     RO          56\n",
       "...   ..         ...\n",
       "5565  GO       22005\n",
       "5566  GO       22054\n",
       "5567  GO       22203\n",
       "5568  GO       22302\n",
       "5569  DF         108\n",
       "\n",
       "[5570 rows x 2 columns]"
      ]
     },
     "execution_count": 40,
     "metadata": {},
     "output_type": "execute_result"
    }
   ],
   "source": [
    "# terceira forma - retorna um dataframe\n",
    "# Neste caso eu estou trazendo uma lista de dados.\n",
    "#df_muni[['UF', 'COD. MUNIC']] Trazer mais de uma coluna\n",
    "df_muni[['UF']]"
   ]
  },
  {
   "cell_type": "code",
   "execution_count": 41,
   "id": "8T1tXrEHWcWr",
   "metadata": {
    "colab": {
     "base_uri": "https://localhost:8080/"
    },
    "id": "8T1tXrEHWcWr",
    "outputId": "a85729be-f86e-4999-e3bc-36a028ce1cb0",
    "tags": []
   },
   "outputs": [
    {
     "data": {
      "text/plain": [
       "pandas.core.frame.DataFrame"
      ]
     },
     "execution_count": 41,
     "metadata": {},
     "output_type": "execute_result"
    }
   ],
   "source": [
    "type(df_muni[['UF']])"
   ]
  },
  {
   "cell_type": "markdown",
   "id": "c33b2cbc",
   "metadata": {
    "id": "c33b2cbc"
   },
   "source": [
    "### Query\n",
    "  \n",
    "O método query permite realizar filtros dentro do nosso dataframe semelhante ao utilizado na linguagem SQL na clausula where"
   ]
  },
  {
   "cell_type": "code",
   "execution_count": 48,
   "id": "a0fe7911-6688-4a29-b6e1-6e1189050717",
   "metadata": {
    "tags": []
   },
   "outputs": [],
   "source": [
    "df_muni.rename(columns={'POPULAÇÃO ESTIMADA': 'populacao_estimada'}, inplace=True)\n"
   ]
  },
  {
   "cell_type": "code",
   "execution_count": null,
   "id": "BA0l_z1SX5nb",
   "metadata": {
    "colab": {
     "base_uri": "https://localhost:8080/",
     "height": 802
    },
    "id": "BA0l_z1SX5nb",
    "outputId": "be5f5ff7-526a-4795-984d-22e470a23a2d",
    "tags": []
   },
   "outputs": [],
   "source": [
    "# quero saber quais cidades tem população urbana > 500000\n",
    "# A query tem que estar em string\n",
    "df_muni.query('populacao_estimada > 500000')"
   ]
  },
  {
   "cell_type": "code",
   "execution_count": null,
   "id": "d2bpYmWcYeXi",
   "metadata": {
    "colab": {
     "base_uri": "https://localhost:8080/",
     "height": 802
    },
    "id": "d2bpYmWcYeXi",
    "outputId": "ba7e8679-327d-4d62-9be3-543f85cb1b30",
    "tags": []
   },
   "outputs": [],
   "source": [
    "# podemos usar uma variável\n",
    "\n",
    "limite = 500000\n",
    "df_muni.query('populacao_estimada > @limite')  # O @ serve para indicar que é uma variável ja estabelecida"
   ]
  },
  {
   "cell_type": "markdown",
   "id": "Ylh4h5RMY6Iq",
   "metadata": {
    "id": "Ylh4h5RMY6Iq"
   },
   "source": [
    "### .loc e .iloc"
   ]
  },
  {
   "cell_type": "code",
   "execution_count": 54,
   "id": "OZOH9gR2ZBTq",
   "metadata": {
    "colab": {
     "base_uri": "https://localhost:8080/"
    },
    "id": "OZOH9gR2ZBTq",
    "outputId": "dd6448fd-8db2-4da1-f4ab-ce617d89a658",
    "tags": []
   },
   "outputs": [
    {
     "data": {
      "text/plain": [
       "111148"
      ]
     },
     "execution_count": 54,
     "metadata": {},
     "output_type": "execute_result"
    }
   ],
   "source": [
    "# .loc usado para pesquisar índices e colunas explicitamente | o loc. é para localizar. Usa a logica da mascara boleaana\n",
    "\n",
    "# quero a população urbana da segunda linha do dataset\n",
    "df_muni.loc[1, 'populacao_estimada'] # Eu uso como argumento a posição do indice que eu quero e em qual coluna eu quero"
   ]
  },
  {
   "cell_type": "code",
   "execution_count": 56,
   "id": "Myogr1imZcRp",
   "metadata": {
    "colab": {
     "base_uri": "https://localhost:8080/"
    },
    "id": "Myogr1imZcRp",
    "outputId": "1f1aa56d-7cb4-49d9-b1bc-13d563d76c70",
    "tags": []
   },
   "outputs": [
    {
     "data": {
      "text/plain": [
       "UF                           RO\n",
       "COD. UF                      11\n",
       "COD. MUNIC                   23\n",
       "NOME DO MUNICÍPIO     Ariquemes\n",
       "populacao_estimada       111148\n",
       "Name: 1, dtype: object"
      ]
     },
     "execution_count": 56,
     "metadata": {},
     "output_type": "execute_result"
    }
   ],
   "source": [
    "# qual estado corresponde à segunda linha do dataset\n",
    "df_muni.loc[1,:] # Assim ele acessa a segunda linha e me traz tudo dela, igualmente a slice [linhas, colunas]"
   ]
  },
  {
   "cell_type": "code",
   "execution_count": 58,
   "id": "5d4aa488-092d-4907-9ab0-70a1c07e70ac",
   "metadata": {
    "tags": []
   },
   "outputs": [
    {
     "data": {
      "text/plain": [
       "0      22516\n",
       "1     111148\n",
       "2       5067\n",
       "3      86416\n",
       "4      16088\n",
       "5      15213\n",
       "6       7052\n",
       "7      19255\n",
       "8      33009\n",
       "9      46930\n",
       "10     51469\n",
       "Name: populacao_estimada, dtype: int64"
      ]
     },
     "execution_count": 58,
     "metadata": {},
     "output_type": "execute_result"
    }
   ],
   "source": [
    "# Ou seja eu consigo usar como no numpy com  linhas e colunas e posso tirar slices como eu bem entender\n",
    "# [da linha 0 até a 10, coluna tal ]\n",
    "df_muni.loc[ :10, 'populacao_estimada']"
   ]
  },
  {
   "cell_type": "code",
   "execution_count": 59,
   "id": "zf3Kv9j5ZnuS",
   "metadata": {
    "colab": {
     "base_uri": "https://localhost:8080/"
    },
    "id": "zf3Kv9j5ZnuS",
    "outputId": "5817c69e-ab97-475e-d9b0-fa91e0cbf373",
    "tags": []
   },
   "outputs": [
    {
     "data": {
      "text/plain": [
       "3267     35153\n",
       "3268      3545\n",
       "3269     36981\n",
       "3270      8262\n",
       "3271     18908\n",
       "         ...  \n",
       "3907    124468\n",
       "3908     96106\n",
       "3909      2784\n",
       "3910     12418\n",
       "3911     11507\n",
       "Name: populacao_estimada, Length: 645, dtype: int64"
      ]
     },
     "execution_count": 59,
     "metadata": {},
     "output_type": "execute_result"
    }
   ],
   "source": [
    "# posso usar lógicas para filtrar o dataset\n",
    "\n",
    "# quais estados pertencem à região NE?\n",
    "df_muni.loc[df_muni['UF'] == 'SP', 'populacao_estimada']"
   ]
  },
  {
   "cell_type": "code",
   "execution_count": 61,
   "id": "9d2a7b84-7862-484c-85c8-253327bee9a7",
   "metadata": {
    "tags": []
   },
   "outputs": [
    {
     "data": {
      "text/html": [
       "<div>\n",
       "<style scoped>\n",
       "    .dataframe tbody tr th:only-of-type {\n",
       "        vertical-align: middle;\n",
       "    }\n",
       "\n",
       "    .dataframe tbody tr th {\n",
       "        vertical-align: top;\n",
       "    }\n",
       "\n",
       "    .dataframe thead th {\n",
       "        text-align: right;\n",
       "    }\n",
       "</style>\n",
       "<table border=\"1\" class=\"dataframe\">\n",
       "  <thead>\n",
       "    <tr style=\"text-align: right;\">\n",
       "      <th></th>\n",
       "      <th>UF</th>\n",
       "      <th>COD. UF</th>\n",
       "      <th>COD. MUNIC</th>\n",
       "      <th>NOME DO MUNICÍPIO</th>\n",
       "      <th>populacao_estimada</th>\n",
       "    </tr>\n",
       "  </thead>\n",
       "  <tbody>\n",
       "    <tr>\n",
       "      <th>3267</th>\n",
       "      <td>SP</td>\n",
       "      <td>35</td>\n",
       "      <td>105</td>\n",
       "      <td>Adamantina</td>\n",
       "      <td>35153</td>\n",
       "    </tr>\n",
       "    <tr>\n",
       "      <th>3268</th>\n",
       "      <td>SP</td>\n",
       "      <td>35</td>\n",
       "      <td>204</td>\n",
       "      <td>Adolfo</td>\n",
       "      <td>3545</td>\n",
       "    </tr>\n",
       "    <tr>\n",
       "      <th>3269</th>\n",
       "      <td>SP</td>\n",
       "      <td>35</td>\n",
       "      <td>303</td>\n",
       "      <td>Aguaí</td>\n",
       "      <td>36981</td>\n",
       "    </tr>\n",
       "    <tr>\n",
       "      <th>3270</th>\n",
       "      <td>SP</td>\n",
       "      <td>35</td>\n",
       "      <td>402</td>\n",
       "      <td>Águas da Prata</td>\n",
       "      <td>8262</td>\n",
       "    </tr>\n",
       "    <tr>\n",
       "      <th>3271</th>\n",
       "      <td>SP</td>\n",
       "      <td>35</td>\n",
       "      <td>501</td>\n",
       "      <td>Águas de Lindóia</td>\n",
       "      <td>18908</td>\n",
       "    </tr>\n",
       "    <tr>\n",
       "      <th>...</th>\n",
       "      <td>...</td>\n",
       "      <td>...</td>\n",
       "      <td>...</td>\n",
       "      <td>...</td>\n",
       "      <td>...</td>\n",
       "    </tr>\n",
       "    <tr>\n",
       "      <th>3907</th>\n",
       "      <td>SP</td>\n",
       "      <td>35</td>\n",
       "      <td>57006</td>\n",
       "      <td>Votorantim</td>\n",
       "      <td>124468</td>\n",
       "    </tr>\n",
       "    <tr>\n",
       "      <th>3908</th>\n",
       "      <td>SP</td>\n",
       "      <td>35</td>\n",
       "      <td>57105</td>\n",
       "      <td>Votuporanga</td>\n",
       "      <td>96106</td>\n",
       "    </tr>\n",
       "    <tr>\n",
       "      <th>3909</th>\n",
       "      <td>SP</td>\n",
       "      <td>35</td>\n",
       "      <td>57154</td>\n",
       "      <td>Zacarias</td>\n",
       "      <td>2784</td>\n",
       "    </tr>\n",
       "    <tr>\n",
       "      <th>3910</th>\n",
       "      <td>SP</td>\n",
       "      <td>35</td>\n",
       "      <td>57204</td>\n",
       "      <td>Chavantes</td>\n",
       "      <td>12418</td>\n",
       "    </tr>\n",
       "    <tr>\n",
       "      <th>3911</th>\n",
       "      <td>SP</td>\n",
       "      <td>35</td>\n",
       "      <td>57303</td>\n",
       "      <td>Estiva Gerbi</td>\n",
       "      <td>11507</td>\n",
       "    </tr>\n",
       "  </tbody>\n",
       "</table>\n",
       "<p>645 rows × 5 columns</p>\n",
       "</div>"
      ],
      "text/plain": [
       "      UF  COD. UF  COD. MUNIC NOME DO MUNICÍPIO  populacao_estimada\n",
       "3267  SP       35         105        Adamantina               35153\n",
       "3268  SP       35         204            Adolfo                3545\n",
       "3269  SP       35         303             Aguaí               36981\n",
       "3270  SP       35         402    Águas da Prata                8262\n",
       "3271  SP       35         501  Águas de Lindóia               18908\n",
       "...   ..      ...         ...               ...                 ...\n",
       "3907  SP       35       57006        Votorantim              124468\n",
       "3908  SP       35       57105       Votuporanga               96106\n",
       "3909  SP       35       57154          Zacarias                2784\n",
       "3910  SP       35       57204         Chavantes               12418\n",
       "3911  SP       35       57303      Estiva Gerbi               11507\n",
       "\n",
       "[645 rows x 5 columns]"
      ]
     },
     "execution_count": 61,
     "metadata": {},
     "output_type": "execute_result"
    }
   ],
   "source": [
    "# Se eu quiser trazer todas as colunas.\n",
    "df_muni.loc[df_muni['UF'] == 'SP', :]"
   ]
  },
  {
   "cell_type": "code",
   "execution_count": 62,
   "id": "fffd8a73-9ebd-408f-ba06-36d315915772",
   "metadata": {
    "tags": []
   },
   "outputs": [
    {
     "data": {
      "text/html": [
       "<div>\n",
       "<style scoped>\n",
       "    .dataframe tbody tr th:only-of-type {\n",
       "        vertical-align: middle;\n",
       "    }\n",
       "\n",
       "    .dataframe tbody tr th {\n",
       "        vertical-align: top;\n",
       "    }\n",
       "\n",
       "    .dataframe thead th {\n",
       "        text-align: right;\n",
       "    }\n",
       "</style>\n",
       "<table border=\"1\" class=\"dataframe\">\n",
       "  <thead>\n",
       "    <tr style=\"text-align: right;\">\n",
       "      <th></th>\n",
       "      <th>COD. MUNIC</th>\n",
       "      <th>NOME DO MUNICÍPIO</th>\n",
       "      <th>populacao_estimada</th>\n",
       "    </tr>\n",
       "  </thead>\n",
       "  <tbody>\n",
       "    <tr>\n",
       "      <th>3267</th>\n",
       "      <td>105</td>\n",
       "      <td>Adamantina</td>\n",
       "      <td>35153</td>\n",
       "    </tr>\n",
       "    <tr>\n",
       "      <th>3268</th>\n",
       "      <td>204</td>\n",
       "      <td>Adolfo</td>\n",
       "      <td>3545</td>\n",
       "    </tr>\n",
       "    <tr>\n",
       "      <th>3269</th>\n",
       "      <td>303</td>\n",
       "      <td>Aguaí</td>\n",
       "      <td>36981</td>\n",
       "    </tr>\n",
       "    <tr>\n",
       "      <th>3270</th>\n",
       "      <td>402</td>\n",
       "      <td>Águas da Prata</td>\n",
       "      <td>8262</td>\n",
       "    </tr>\n",
       "    <tr>\n",
       "      <th>3271</th>\n",
       "      <td>501</td>\n",
       "      <td>Águas de Lindóia</td>\n",
       "      <td>18908</td>\n",
       "    </tr>\n",
       "    <tr>\n",
       "      <th>...</th>\n",
       "      <td>...</td>\n",
       "      <td>...</td>\n",
       "      <td>...</td>\n",
       "    </tr>\n",
       "    <tr>\n",
       "      <th>3907</th>\n",
       "      <td>57006</td>\n",
       "      <td>Votorantim</td>\n",
       "      <td>124468</td>\n",
       "    </tr>\n",
       "    <tr>\n",
       "      <th>3908</th>\n",
       "      <td>57105</td>\n",
       "      <td>Votuporanga</td>\n",
       "      <td>96106</td>\n",
       "    </tr>\n",
       "    <tr>\n",
       "      <th>3909</th>\n",
       "      <td>57154</td>\n",
       "      <td>Zacarias</td>\n",
       "      <td>2784</td>\n",
       "    </tr>\n",
       "    <tr>\n",
       "      <th>3910</th>\n",
       "      <td>57204</td>\n",
       "      <td>Chavantes</td>\n",
       "      <td>12418</td>\n",
       "    </tr>\n",
       "    <tr>\n",
       "      <th>3911</th>\n",
       "      <td>57303</td>\n",
       "      <td>Estiva Gerbi</td>\n",
       "      <td>11507</td>\n",
       "    </tr>\n",
       "  </tbody>\n",
       "</table>\n",
       "<p>645 rows × 3 columns</p>\n",
       "</div>"
      ],
      "text/plain": [
       "      COD. MUNIC NOME DO MUNICÍPIO  populacao_estimada\n",
       "3267         105        Adamantina               35153\n",
       "3268         204            Adolfo                3545\n",
       "3269         303             Aguaí               36981\n",
       "3270         402    Águas da Prata                8262\n",
       "3271         501  Águas de Lindóia               18908\n",
       "...          ...               ...                 ...\n",
       "3907       57006        Votorantim              124468\n",
       "3908       57105       Votuporanga               96106\n",
       "3909       57154          Zacarias                2784\n",
       "3910       57204         Chavantes               12418\n",
       "3911       57303      Estiva Gerbi               11507\n",
       "\n",
       "[645 rows x 3 columns]"
      ]
     },
     "execution_count": 62,
     "metadata": {},
     "output_type": "execute_result"
    }
   ],
   "source": [
    "# Funciona tambem com os nomes\n",
    "\n",
    "df_muni.loc[df_muni['UF'] == 'SP', 'COD. MUNIC':'populacao_estimada']"
   ]
  },
  {
   "cell_type": "code",
   "execution_count": 63,
   "id": "V0alUfbZZ-OL",
   "metadata": {
    "colab": {
     "base_uri": "https://localhost:8080/"
    },
    "id": "V0alUfbZZ-OL",
    "outputId": "e7f89def-24c6-4662-dcd7-c98284d59c5f",
    "tags": []
   },
   "outputs": [
    {
     "data": {
      "text/html": [
       "<div>\n",
       "<style scoped>\n",
       "    .dataframe tbody tr th:only-of-type {\n",
       "        vertical-align: middle;\n",
       "    }\n",
       "\n",
       "    .dataframe tbody tr th {\n",
       "        vertical-align: top;\n",
       "    }\n",
       "\n",
       "    .dataframe thead th {\n",
       "        text-align: right;\n",
       "    }\n",
       "</style>\n",
       "<table border=\"1\" class=\"dataframe\">\n",
       "  <thead>\n",
       "    <tr style=\"text-align: right;\">\n",
       "      <th></th>\n",
       "      <th>COD. MUNIC</th>\n",
       "      <th>NOME DO MUNICÍPIO</th>\n",
       "      <th>populacao_estimada</th>\n",
       "    </tr>\n",
       "  </thead>\n",
       "  <tbody>\n",
       "    <tr>\n",
       "      <th>3175</th>\n",
       "      <td>100</td>\n",
       "      <td>Angra dos Reis</td>\n",
       "      <td>210171</td>\n",
       "    </tr>\n",
       "    <tr>\n",
       "      <th>3176</th>\n",
       "      <td>159</td>\n",
       "      <td>Aperibé</td>\n",
       "      <td>12036</td>\n",
       "    </tr>\n",
       "    <tr>\n",
       "      <th>3177</th>\n",
       "      <td>209</td>\n",
       "      <td>Araruama</td>\n",
       "      <td>136109</td>\n",
       "    </tr>\n",
       "    <tr>\n",
       "      <th>3178</th>\n",
       "      <td>225</td>\n",
       "      <td>Areal</td>\n",
       "      <td>12763</td>\n",
       "    </tr>\n",
       "    <tr>\n",
       "      <th>3179</th>\n",
       "      <td>233</td>\n",
       "      <td>Armação dos Búzios</td>\n",
       "      <td>35060</td>\n",
       "    </tr>\n",
       "    <tr>\n",
       "      <th>...</th>\n",
       "      <td>...</td>\n",
       "      <td>...</td>\n",
       "      <td>...</td>\n",
       "    </tr>\n",
       "    <tr>\n",
       "      <th>3907</th>\n",
       "      <td>57006</td>\n",
       "      <td>Votorantim</td>\n",
       "      <td>124468</td>\n",
       "    </tr>\n",
       "    <tr>\n",
       "      <th>3908</th>\n",
       "      <td>57105</td>\n",
       "      <td>Votuporanga</td>\n",
       "      <td>96106</td>\n",
       "    </tr>\n",
       "    <tr>\n",
       "      <th>3909</th>\n",
       "      <td>57154</td>\n",
       "      <td>Zacarias</td>\n",
       "      <td>2784</td>\n",
       "    </tr>\n",
       "    <tr>\n",
       "      <th>3910</th>\n",
       "      <td>57204</td>\n",
       "      <td>Chavantes</td>\n",
       "      <td>12418</td>\n",
       "    </tr>\n",
       "    <tr>\n",
       "      <th>3911</th>\n",
       "      <td>57303</td>\n",
       "      <td>Estiva Gerbi</td>\n",
       "      <td>11507</td>\n",
       "    </tr>\n",
       "  </tbody>\n",
       "</table>\n",
       "<p>737 rows × 3 columns</p>\n",
       "</div>"
      ],
      "text/plain": [
       "      COD. MUNIC   NOME DO MUNICÍPIO  populacao_estimada\n",
       "3175         100      Angra dos Reis              210171\n",
       "3176         159             Aperibé               12036\n",
       "3177         209            Araruama              136109\n",
       "3178         225               Areal               12763\n",
       "3179         233  Armação dos Búzios               35060\n",
       "...          ...                 ...                 ...\n",
       "3907       57006          Votorantim              124468\n",
       "3908       57105         Votuporanga               96106\n",
       "3909       57154            Zacarias                2784\n",
       "3910       57204           Chavantes               12418\n",
       "3911       57303        Estiva Gerbi               11507\n",
       "\n",
       "[737 rows x 3 columns]"
      ]
     },
     "execution_count": 63,
     "metadata": {},
     "output_type": "execute_result"
    }
   ],
   "source": [
    "# quais estados pertencem à região NE e N?\n",
    "\n",
    "df_muni.loc[(df_muni['UF'] == 'SP') | (df_muni['UF'] == 'RJ'), 'COD. MUNIC':'populacao_estimada']"
   ]
  },
  {
   "cell_type": "code",
   "execution_count": 64,
   "id": "vqoK683rajf7",
   "metadata": {
    "colab": {
     "base_uri": "https://localhost:8080/"
    },
    "id": "vqoK683rajf7",
    "outputId": "eda5723c-4e88-4e49-8590-fac1b60996f4",
    "tags": []
   },
   "outputs": [
    {
     "data": {
      "text/plain": [
       "31"
      ]
     },
     "execution_count": 64,
     "metadata": {},
     "output_type": "execute_result"
    }
   ],
   "source": [
    "# iloc faz a referência aos índices e colunas de forma implícita\n",
    "df_muni.iloc[2, 2]  # O iloc. usa somente os indices"
   ]
  },
  {
   "cell_type": "code",
   "execution_count": 68,
   "id": "mN3rH8mcbP05",
   "metadata": {
    "colab": {
     "base_uri": "https://localhost:8080/",
     "height": 237
    },
    "id": "mN3rH8mcbP05",
    "outputId": "de2761cf-402e-45e6-ca10-f088f91ccdc6",
    "tags": []
   },
   "outputs": [
    {
     "data": {
      "text/html": [
       "<div>\n",
       "<style scoped>\n",
       "    .dataframe tbody tr th:only-of-type {\n",
       "        vertical-align: middle;\n",
       "    }\n",
       "\n",
       "    .dataframe tbody tr th {\n",
       "        vertical-align: top;\n",
       "    }\n",
       "\n",
       "    .dataframe thead th {\n",
       "        text-align: right;\n",
       "    }\n",
       "</style>\n",
       "<table border=\"1\" class=\"dataframe\">\n",
       "  <thead>\n",
       "    <tr style=\"text-align: right;\">\n",
       "      <th></th>\n",
       "      <th>COD. UF</th>\n",
       "      <th>COD. MUNIC</th>\n",
       "      <th>NOME DO MUNICÍPIO</th>\n",
       "      <th>populacao_estimada</th>\n",
       "    </tr>\n",
       "    <tr>\n",
       "      <th>UF</th>\n",
       "      <th></th>\n",
       "      <th></th>\n",
       "      <th></th>\n",
       "      <th></th>\n",
       "    </tr>\n",
       "  </thead>\n",
       "  <tbody>\n",
       "    <tr>\n",
       "      <th>RO</th>\n",
       "      <td>11</td>\n",
       "      <td>15</td>\n",
       "      <td>Alta Floresta D'Oeste</td>\n",
       "      <td>22516</td>\n",
       "    </tr>\n",
       "    <tr>\n",
       "      <th>RO</th>\n",
       "      <td>11</td>\n",
       "      <td>23</td>\n",
       "      <td>Ariquemes</td>\n",
       "      <td>111148</td>\n",
       "    </tr>\n",
       "    <tr>\n",
       "      <th>RO</th>\n",
       "      <td>11</td>\n",
       "      <td>31</td>\n",
       "      <td>Cabixi</td>\n",
       "      <td>5067</td>\n",
       "    </tr>\n",
       "    <tr>\n",
       "      <th>RO</th>\n",
       "      <td>11</td>\n",
       "      <td>49</td>\n",
       "      <td>Cacoal</td>\n",
       "      <td>86416</td>\n",
       "    </tr>\n",
       "    <tr>\n",
       "      <th>RO</th>\n",
       "      <td>11</td>\n",
       "      <td>56</td>\n",
       "      <td>Cerejeiras</td>\n",
       "      <td>16088</td>\n",
       "    </tr>\n",
       "  </tbody>\n",
       "</table>\n",
       "</div>"
      ],
      "text/plain": [
       "    COD. UF  COD. MUNIC      NOME DO MUNICÍPIO  populacao_estimada\n",
       "UF                                                                \n",
       "RO       11          15  Alta Floresta D'Oeste               22516\n",
       "RO       11          23              Ariquemes              111148\n",
       "RO       11          31                 Cabixi                5067\n",
       "RO       11          49                 Cacoal               86416\n",
       "RO       11          56             Cerejeiras               16088"
      ]
     },
     "execution_count": 68,
     "metadata": {},
     "output_type": "execute_result"
    }
   ],
   "source": [
    "# definir a coluna uf como a coluna de índice\n",
    "\n",
    "df_muni1 = df_muni.set_index(['UF'])\n",
    "df_muni1.head()"
   ]
  },
  {
   "cell_type": "code",
   "execution_count": 69,
   "id": "f5083983-64e0-459b-bf89-a2732fb67155",
   "metadata": {
    "tags": []
   },
   "outputs": [],
   "source": [
    "df_muni2 = df_muni.set_index(['NOME DO MUNICÍPIO'])"
   ]
  },
  {
   "cell_type": "code",
   "execution_count": 71,
   "id": "aFE166lZbZUK",
   "metadata": {
    "colab": {
     "base_uri": "https://localhost:8080/"
    },
    "id": "aFE166lZbZUK",
    "outputId": "35f7af77-3ca3-4b18-8b17-b3f9da3b49a8",
    "tags": []
   },
   "outputs": [
    {
     "name": "stdout",
     "output_type": "stream",
     "text": [
      "5067\n",
      "5067\n"
     ]
    }
   ],
   "source": [
    "# desejo obter a população rural do AC\n",
    "\n",
    "# loc (explícito)  # Ou seja como coloquei as unidades federativas como indice eu consigo usar eles direto.\n",
    "print(df_muni2.loc['Cabixi', 'populacao_estimada'])\n",
    "\n",
    "# iloc (implícito)\n",
    "print(df_muni2.iloc[2,3])"
   ]
  },
  {
   "cell_type": "code",
   "execution_count": 73,
   "id": "Tw6Djxwsb_0p",
   "metadata": {
    "colab": {
     "base_uri": "https://localhost:8080/",
     "height": 112
    },
    "id": "Tw6Djxwsb_0p",
    "outputId": "de7cf4ba-8764-4497-dbce-b239f2a7fab8",
    "tags": []
   },
   "outputs": [
    {
     "data": {
      "text/html": [
       "<div>\n",
       "<style scoped>\n",
       "    .dataframe tbody tr th:only-of-type {\n",
       "        vertical-align: middle;\n",
       "    }\n",
       "\n",
       "    .dataframe tbody tr th {\n",
       "        vertical-align: top;\n",
       "    }\n",
       "\n",
       "    .dataframe thead th {\n",
       "        text-align: right;\n",
       "    }\n",
       "</style>\n",
       "<table border=\"1\" class=\"dataframe\">\n",
       "  <thead>\n",
       "    <tr style=\"text-align: right;\">\n",
       "      <th></th>\n",
       "      <th>UF</th>\n",
       "      <th>COD. UF</th>\n",
       "      <th>COD. MUNIC</th>\n",
       "      <th>populacao_estimada</th>\n",
       "    </tr>\n",
       "    <tr>\n",
       "      <th>NOME DO MUNICÍPIO</th>\n",
       "      <th></th>\n",
       "      <th></th>\n",
       "      <th></th>\n",
       "      <th></th>\n",
       "    </tr>\n",
       "  </thead>\n",
       "  <tbody>\n",
       "    <tr>\n",
       "      <th>Alta Floresta D'Oeste</th>\n",
       "      <td>RO</td>\n",
       "      <td>11</td>\n",
       "      <td>15</td>\n",
       "      <td>22516</td>\n",
       "    </tr>\n",
       "    <tr>\n",
       "      <th>Ariquemes</th>\n",
       "      <td>RO</td>\n",
       "      <td>11</td>\n",
       "      <td>23</td>\n",
       "      <td>111148</td>\n",
       "    </tr>\n",
       "    <tr>\n",
       "      <th>Cabixi</th>\n",
       "      <td>RO</td>\n",
       "      <td>11</td>\n",
       "      <td>31</td>\n",
       "      <td>5067</td>\n",
       "    </tr>\n",
       "    <tr>\n",
       "      <th>Cacoal</th>\n",
       "      <td>RO</td>\n",
       "      <td>11</td>\n",
       "      <td>49</td>\n",
       "      <td>86416</td>\n",
       "    </tr>\n",
       "    <tr>\n",
       "      <th>Cerejeiras</th>\n",
       "      <td>RO</td>\n",
       "      <td>11</td>\n",
       "      <td>56</td>\n",
       "      <td>16088</td>\n",
       "    </tr>\n",
       "    <tr>\n",
       "      <th>...</th>\n",
       "      <td>...</td>\n",
       "      <td>...</td>\n",
       "      <td>...</td>\n",
       "      <td>...</td>\n",
       "    </tr>\n",
       "    <tr>\n",
       "      <th>Varjão</th>\n",
       "      <td>GO</td>\n",
       "      <td>52</td>\n",
       "      <td>21908</td>\n",
       "      <td>3848</td>\n",
       "    </tr>\n",
       "    <tr>\n",
       "      <th>Vianópolis</th>\n",
       "      <td>GO</td>\n",
       "      <td>52</td>\n",
       "      <td>22005</td>\n",
       "      <td>14088</td>\n",
       "    </tr>\n",
       "    <tr>\n",
       "      <th>Vicentinópolis</th>\n",
       "      <td>GO</td>\n",
       "      <td>52</td>\n",
       "      <td>22054</td>\n",
       "      <td>9002</td>\n",
       "    </tr>\n",
       "    <tr>\n",
       "      <th>Vila Boa</th>\n",
       "      <td>GO</td>\n",
       "      <td>52</td>\n",
       "      <td>22203</td>\n",
       "      <td>6451</td>\n",
       "    </tr>\n",
       "    <tr>\n",
       "      <th>Vila Propício</th>\n",
       "      <td>GO</td>\n",
       "      <td>52</td>\n",
       "      <td>22302</td>\n",
       "      <td>5941</td>\n",
       "    </tr>\n",
       "  </tbody>\n",
       "</table>\n",
       "<p>5521 rows × 4 columns</p>\n",
       "</div>"
      ],
      "text/plain": [
       "                       UF  COD. UF  COD. MUNIC  populacao_estimada\n",
       "NOME DO MUNICÍPIO                                                 \n",
       "Alta Floresta D'Oeste  RO       11          15               22516\n",
       "Ariquemes              RO       11          23              111148\n",
       "Cabixi                 RO       11          31                5067\n",
       "Cacoal                 RO       11          49               86416\n",
       "Cerejeiras             RO       11          56               16088\n",
       "...                    ..      ...         ...                 ...\n",
       "Varjão                 GO       52       21908                3848\n",
       "Vianópolis             GO       52       22005               14088\n",
       "Vicentinópolis         GO       52       22054                9002\n",
       "Vila Boa               GO       52       22203                6451\n",
       "Vila Propício          GO       52       22302                5941\n",
       "\n",
       "[5521 rows x 4 columns]"
      ]
     },
     "execution_count": 73,
     "metadata": {},
     "output_type": "execute_result"
    }
   ],
   "source": [
    "# queremos as cidades que têm menos de 500000 habitantes (total)\n",
    "\n",
    "\n",
    "# [df_muni2.populacao_estimada < 500000, :] df_muni2.populacao_estimada < 500000 =  linhas ,  : = trazer todas as colunas\n",
    "df_muni2.loc[df_muni2.populacao_estimada < 500000, :]"
   ]
  },
  {
   "cell_type": "markdown",
   "id": "6943b036",
   "metadata": {
    "id": "6943b036"
   },
   "source": [
    "### Operações matemáticas"
   ]
  },
  {
   "cell_type": "code",
   "execution_count": 77,
   "id": "vJBNnEygif7_",
   "metadata": {
    "colab": {
     "base_uri": "https://localhost:8080/",
     "height": 237
    },
    "id": "vJBNnEygif7_",
    "outputId": "92fe1748-df0e-4356-d799-46b012b0a283",
    "tags": []
   },
   "outputs": [
    {
     "data": {
      "text/html": [
       "<div>\n",
       "<style scoped>\n",
       "    .dataframe tbody tr th:only-of-type {\n",
       "        vertical-align: middle;\n",
       "    }\n",
       "\n",
       "    .dataframe tbody tr th {\n",
       "        vertical-align: top;\n",
       "    }\n",
       "\n",
       "    .dataframe thead th {\n",
       "        text-align: right;\n",
       "    }\n",
       "</style>\n",
       "<table border=\"1\" class=\"dataframe\">\n",
       "  <thead>\n",
       "    <tr style=\"text-align: right;\">\n",
       "      <th></th>\n",
       "      <th>regiao</th>\n",
       "      <th>uf</th>\n",
       "      <th>superficie</th>\n",
       "      <th>pop_urbana</th>\n",
       "      <th>pop_rural</th>\n",
       "      <th>total</th>\n",
       "      <th>razao_urbana_rural</th>\n",
       "    </tr>\n",
       "  </thead>\n",
       "  <tbody>\n",
       "    <tr>\n",
       "      <th>0</th>\n",
       "      <td>Norte</td>\n",
       "      <td>RO</td>\n",
       "      <td>238513</td>\n",
       "      <td>762864.0</td>\n",
       "      <td>468143.0</td>\n",
       "      <td>1231007.0</td>\n",
       "      <td>1.629553</td>\n",
       "    </tr>\n",
       "    <tr>\n",
       "      <th>1</th>\n",
       "      <td>Norte</td>\n",
       "      <td>AC</td>\n",
       "      <td>153150</td>\n",
       "      <td>315401.0</td>\n",
       "      <td>168322.0</td>\n",
       "      <td>483726.0</td>\n",
       "      <td>1.873795</td>\n",
       "    </tr>\n",
       "    <tr>\n",
       "      <th>2</th>\n",
       "      <td>Norte</td>\n",
       "      <td>AM</td>\n",
       "      <td>1577820</td>\n",
       "      <td>1766166.0</td>\n",
       "      <td>623113.0</td>\n",
       "      <td>2389279.0</td>\n",
       "      <td>2.834423</td>\n",
       "    </tr>\n",
       "    <tr>\n",
       "      <th>3</th>\n",
       "      <td>Norte</td>\n",
       "      <td>RR</td>\n",
       "      <td>225116</td>\n",
       "      <td>174277.0</td>\n",
       "      <td>72854.0</td>\n",
       "      <td>247131.0</td>\n",
       "      <td>2.392140</td>\n",
       "    </tr>\n",
       "    <tr>\n",
       "      <th>4</th>\n",
       "      <td>Norte</td>\n",
       "      <td>PA</td>\n",
       "      <td>1253165</td>\n",
       "      <td>2949017.0</td>\n",
       "      <td>2561832.0</td>\n",
       "      <td>5510849.0</td>\n",
       "      <td>1.151136</td>\n",
       "    </tr>\n",
       "  </tbody>\n",
       "</table>\n",
       "</div>"
      ],
      "text/plain": [
       "  regiao  uf  superficie  pop_urbana  pop_rural      total  razao_urbana_rural\n",
       "0  Norte  RO      238513    762864.0   468143.0  1231007.0            1.629553\n",
       "1  Norte  AC      153150    315401.0   168322.0   483726.0            1.873795\n",
       "2  Norte  AM     1577820   1766166.0   623113.0  2389279.0            2.834423\n",
       "3  Norte  RR      225116    174277.0    72854.0   247131.0            2.392140\n",
       "4  Norte  PA     1253165   2949017.0  2561832.0  5510849.0            1.151136"
      ]
     },
     "execution_count": 77,
     "metadata": {},
     "output_type": "execute_result"
    }
   ],
   "source": [
    "# quero saber a razão entre as população urbana e a população rural\n",
    "\n",
    "df['razao_urbana_rural'] = df['pop_urbana']/df['pop_rural']\n",
    "df.head()"
   ]
  },
  {
   "cell_type": "code",
   "execution_count": null,
   "id": "BIkUlBcEkYM3",
   "metadata": {
    "id": "BIkUlBcEkYM3",
    "tags": []
   },
   "outputs": [],
   "source": [
    "# se eu chamar uma coluna inexiste em modo de leitura\n",
    "df['nome_não_existe']\n",
    "# vai trazer keyerror"
   ]
  },
  {
   "cell_type": "code",
   "execution_count": 80,
   "id": "DP0ZocXEkmU9",
   "metadata": {
    "id": "DP0ZocXEkmU9",
    "tags": []
   },
   "outputs": [
    {
     "data": {
      "text/html": [
       "<div>\n",
       "<style scoped>\n",
       "    .dataframe tbody tr th:only-of-type {\n",
       "        vertical-align: middle;\n",
       "    }\n",
       "\n",
       "    .dataframe tbody tr th {\n",
       "        vertical-align: top;\n",
       "    }\n",
       "\n",
       "    .dataframe thead th {\n",
       "        text-align: right;\n",
       "    }\n",
       "</style>\n",
       "<table border=\"1\" class=\"dataframe\">\n",
       "  <thead>\n",
       "    <tr style=\"text-align: right;\">\n",
       "      <th></th>\n",
       "      <th>regiao</th>\n",
       "      <th>uf</th>\n",
       "      <th>superficie</th>\n",
       "      <th>pop_urbana</th>\n",
       "      <th>pop_rural</th>\n",
       "      <th>total</th>\n",
       "      <th>razao_urbana_rural</th>\n",
       "      <th>razao_urbana_total</th>\n",
       "    </tr>\n",
       "  </thead>\n",
       "  <tbody>\n",
       "    <tr>\n",
       "      <th>0</th>\n",
       "      <td>Norte</td>\n",
       "      <td>RO</td>\n",
       "      <td>238513</td>\n",
       "      <td>762864.0</td>\n",
       "      <td>468143.0</td>\n",
       "      <td>1231007.0</td>\n",
       "      <td>1.629553</td>\n",
       "      <td>0.619707</td>\n",
       "    </tr>\n",
       "    <tr>\n",
       "      <th>1</th>\n",
       "      <td>Norte</td>\n",
       "      <td>AC</td>\n",
       "      <td>153150</td>\n",
       "      <td>315401.0</td>\n",
       "      <td>168322.0</td>\n",
       "      <td>483726.0</td>\n",
       "      <td>1.873795</td>\n",
       "      <td>0.652024</td>\n",
       "    </tr>\n",
       "    <tr>\n",
       "      <th>2</th>\n",
       "      <td>Norte</td>\n",
       "      <td>AM</td>\n",
       "      <td>1577820</td>\n",
       "      <td>1766166.0</td>\n",
       "      <td>623113.0</td>\n",
       "      <td>2389279.0</td>\n",
       "      <td>2.834423</td>\n",
       "      <td>0.739205</td>\n",
       "    </tr>\n",
       "    <tr>\n",
       "      <th>3</th>\n",
       "      <td>Norte</td>\n",
       "      <td>RR</td>\n",
       "      <td>225116</td>\n",
       "      <td>174277.0</td>\n",
       "      <td>72854.0</td>\n",
       "      <td>247131.0</td>\n",
       "      <td>2.392140</td>\n",
       "      <td>0.705201</td>\n",
       "    </tr>\n",
       "    <tr>\n",
       "      <th>4</th>\n",
       "      <td>Norte</td>\n",
       "      <td>PA</td>\n",
       "      <td>1253165</td>\n",
       "      <td>2949017.0</td>\n",
       "      <td>2561832.0</td>\n",
       "      <td>5510849.0</td>\n",
       "      <td>1.151136</td>\n",
       "      <td>0.535129</td>\n",
       "    </tr>\n",
       "  </tbody>\n",
       "</table>\n",
       "</div>"
      ],
      "text/plain": [
       "  regiao  uf  superficie  pop_urbana  pop_rural      total  \\\n",
       "0  Norte  RO      238513    762864.0   468143.0  1231007.0   \n",
       "1  Norte  AC      153150    315401.0   168322.0   483726.0   \n",
       "2  Norte  AM     1577820   1766166.0   623113.0  2389279.0   \n",
       "3  Norte  RR      225116    174277.0    72854.0   247131.0   \n",
       "4  Norte  PA     1253165   2949017.0  2561832.0  5510849.0   \n",
       "\n",
       "   razao_urbana_rural  razao_urbana_total  \n",
       "0            1.629553            0.619707  \n",
       "1            1.873795            0.652024  \n",
       "2            2.834423            0.739205  \n",
       "3            2.392140            0.705201  \n",
       "4            1.151136            0.535129  "
      ]
     },
     "execution_count": 80,
     "metadata": {},
     "output_type": "execute_result"
    }
   ],
   "source": [
    "# calcular a fração da população urbana sobre a geral\n",
    "df['razao_urbana_total'] = df['pop_urbana']/df['total']\n",
    "df.head()"
   ]
  },
  {
   "cell_type": "code",
   "execution_count": 81,
   "id": "9Lk7P0-nlEX9",
   "metadata": {
    "id": "9Lk7P0-nlEX9",
    "tags": []
   },
   "outputs": [],
   "source": [
    "# iterar por cada linha e atribuir 1 se frac_urbana > 0.7 e 0 caso contrário\n",
    "\n",
    "for linha in df.index:\n",
    "    if df.loc[linha, 'razao_urbana_total'] > 0.7:\n",
    "        df.loc[linha, 'indicador'] = 1\n",
    "    else:\n",
    "        df.loc[linha, 'indicador'] = 0\n",
    "        \n",
    "# Criei um indicador sobre a coluna 'razao_urbana_total' para dizer se ele tem muita população urbana ou não"
   ]
  },
  {
   "cell_type": "code",
   "execution_count": 82,
   "id": "b7827229-5de1-402a-89ab-2cfeadb4153a",
   "metadata": {
    "tags": []
   },
   "outputs": [
    {
     "data": {
      "text/html": [
       "<div>\n",
       "<style scoped>\n",
       "    .dataframe tbody tr th:only-of-type {\n",
       "        vertical-align: middle;\n",
       "    }\n",
       "\n",
       "    .dataframe tbody tr th {\n",
       "        vertical-align: top;\n",
       "    }\n",
       "\n",
       "    .dataframe thead th {\n",
       "        text-align: right;\n",
       "    }\n",
       "</style>\n",
       "<table border=\"1\" class=\"dataframe\">\n",
       "  <thead>\n",
       "    <tr style=\"text-align: right;\">\n",
       "      <th></th>\n",
       "      <th>regiao</th>\n",
       "      <th>uf</th>\n",
       "      <th>superficie</th>\n",
       "      <th>pop_urbana</th>\n",
       "      <th>pop_rural</th>\n",
       "      <th>total</th>\n",
       "      <th>razao_urbana_rural</th>\n",
       "      <th>razao_urbana_total</th>\n",
       "      <th>indicador</th>\n",
       "    </tr>\n",
       "  </thead>\n",
       "  <tbody>\n",
       "    <tr>\n",
       "      <th>0</th>\n",
       "      <td>Norte</td>\n",
       "      <td>RO</td>\n",
       "      <td>238513</td>\n",
       "      <td>762864.0</td>\n",
       "      <td>468143.0</td>\n",
       "      <td>1231007.0</td>\n",
       "      <td>1.629553</td>\n",
       "      <td>0.619707</td>\n",
       "      <td>0.0</td>\n",
       "    </tr>\n",
       "    <tr>\n",
       "      <th>1</th>\n",
       "      <td>Norte</td>\n",
       "      <td>AC</td>\n",
       "      <td>153150</td>\n",
       "      <td>315401.0</td>\n",
       "      <td>168322.0</td>\n",
       "      <td>483726.0</td>\n",
       "      <td>1.873795</td>\n",
       "      <td>0.652024</td>\n",
       "      <td>0.0</td>\n",
       "    </tr>\n",
       "    <tr>\n",
       "      <th>2</th>\n",
       "      <td>Norte</td>\n",
       "      <td>AM</td>\n",
       "      <td>1577820</td>\n",
       "      <td>1766166.0</td>\n",
       "      <td>623113.0</td>\n",
       "      <td>2389279.0</td>\n",
       "      <td>2.834423</td>\n",
       "      <td>0.739205</td>\n",
       "      <td>1.0</td>\n",
       "    </tr>\n",
       "    <tr>\n",
       "      <th>3</th>\n",
       "      <td>Norte</td>\n",
       "      <td>RR</td>\n",
       "      <td>225116</td>\n",
       "      <td>174277.0</td>\n",
       "      <td>72854.0</td>\n",
       "      <td>247131.0</td>\n",
       "      <td>2.392140</td>\n",
       "      <td>0.705201</td>\n",
       "      <td>1.0</td>\n",
       "    </tr>\n",
       "    <tr>\n",
       "      <th>4</th>\n",
       "      <td>Norte</td>\n",
       "      <td>PA</td>\n",
       "      <td>1253165</td>\n",
       "      <td>2949017.0</td>\n",
       "      <td>2561832.0</td>\n",
       "      <td>5510849.0</td>\n",
       "      <td>1.151136</td>\n",
       "      <td>0.535129</td>\n",
       "      <td>0.0</td>\n",
       "    </tr>\n",
       "  </tbody>\n",
       "</table>\n",
       "</div>"
      ],
      "text/plain": [
       "  regiao  uf  superficie  pop_urbana  pop_rural      total  \\\n",
       "0  Norte  RO      238513    762864.0   468143.0  1231007.0   \n",
       "1  Norte  AC      153150    315401.0   168322.0   483726.0   \n",
       "2  Norte  AM     1577820   1766166.0   623113.0  2389279.0   \n",
       "3  Norte  RR      225116    174277.0    72854.0   247131.0   \n",
       "4  Norte  PA     1253165   2949017.0  2561832.0  5510849.0   \n",
       "\n",
       "   razao_urbana_rural  razao_urbana_total  indicador  \n",
       "0            1.629553            0.619707        0.0  \n",
       "1            1.873795            0.652024        0.0  \n",
       "2            2.834423            0.739205        1.0  \n",
       "3            2.392140            0.705201        1.0  \n",
       "4            1.151136            0.535129        0.0  "
      ]
     },
     "execution_count": 82,
     "metadata": {},
     "output_type": "execute_result"
    }
   ],
   "source": [
    "df.head()"
   ]
  },
  {
   "cell_type": "markdown",
   "id": "abd19742",
   "metadata": {},
   "source": [
    "### Apply"
   ]
  },
  {
   "cell_type": "code",
   "execution_count": 84,
   "id": "XByJiHoOl6IN",
   "metadata": {
    "id": "XByJiHoOl6IN",
    "tags": []
   },
   "outputs": [
    {
     "data": {
      "text/html": [
       "<div>\n",
       "<style scoped>\n",
       "    .dataframe tbody tr th:only-of-type {\n",
       "        vertical-align: middle;\n",
       "    }\n",
       "\n",
       "    .dataframe tbody tr th {\n",
       "        vertical-align: top;\n",
       "    }\n",
       "\n",
       "    .dataframe thead th {\n",
       "        text-align: right;\n",
       "    }\n",
       "</style>\n",
       "<table border=\"1\" class=\"dataframe\">\n",
       "  <thead>\n",
       "    <tr style=\"text-align: right;\">\n",
       "      <th></th>\n",
       "      <th>regiao</th>\n",
       "      <th>uf</th>\n",
       "      <th>superficie</th>\n",
       "      <th>pop_urbana</th>\n",
       "      <th>pop_rural</th>\n",
       "      <th>total</th>\n",
       "      <th>razao_urbana_rural</th>\n",
       "      <th>razao_urbana_total</th>\n",
       "      <th>indicador</th>\n",
       "    </tr>\n",
       "  </thead>\n",
       "  <tbody>\n",
       "    <tr>\n",
       "      <th>0</th>\n",
       "      <td>Norte</td>\n",
       "      <td>RO</td>\n",
       "      <td>238513</td>\n",
       "      <td>762864.0</td>\n",
       "      <td>468143.0</td>\n",
       "      <td>1231007.0</td>\n",
       "      <td>1.629553</td>\n",
       "      <td>0.619707</td>\n",
       "      <td>0</td>\n",
       "    </tr>\n",
       "    <tr>\n",
       "      <th>1</th>\n",
       "      <td>Norte</td>\n",
       "      <td>AC</td>\n",
       "      <td>153150</td>\n",
       "      <td>315401.0</td>\n",
       "      <td>168322.0</td>\n",
       "      <td>483726.0</td>\n",
       "      <td>1.873795</td>\n",
       "      <td>0.652024</td>\n",
       "      <td>0</td>\n",
       "    </tr>\n",
       "    <tr>\n",
       "      <th>2</th>\n",
       "      <td>Norte</td>\n",
       "      <td>AM</td>\n",
       "      <td>1577820</td>\n",
       "      <td>1766166.0</td>\n",
       "      <td>623113.0</td>\n",
       "      <td>2389279.0</td>\n",
       "      <td>2.834423</td>\n",
       "      <td>0.739205</td>\n",
       "      <td>1</td>\n",
       "    </tr>\n",
       "    <tr>\n",
       "      <th>3</th>\n",
       "      <td>Norte</td>\n",
       "      <td>RR</td>\n",
       "      <td>225116</td>\n",
       "      <td>174277.0</td>\n",
       "      <td>72854.0</td>\n",
       "      <td>247131.0</td>\n",
       "      <td>2.392140</td>\n",
       "      <td>0.705201</td>\n",
       "      <td>1</td>\n",
       "    </tr>\n",
       "    <tr>\n",
       "      <th>4</th>\n",
       "      <td>Norte</td>\n",
       "      <td>PA</td>\n",
       "      <td>1253165</td>\n",
       "      <td>2949017.0</td>\n",
       "      <td>2561832.0</td>\n",
       "      <td>5510849.0</td>\n",
       "      <td>1.151136</td>\n",
       "      <td>0.535129</td>\n",
       "      <td>0</td>\n",
       "    </tr>\n",
       "  </tbody>\n",
       "</table>\n",
       "</div>"
      ],
      "text/plain": [
       "  regiao  uf  superficie  pop_urbana  pop_rural      total  \\\n",
       "0  Norte  RO      238513    762864.0   468143.0  1231007.0   \n",
       "1  Norte  AC      153150    315401.0   168322.0   483726.0   \n",
       "2  Norte  AM     1577820   1766166.0   623113.0  2389279.0   \n",
       "3  Norte  RR      225116    174277.0    72854.0   247131.0   \n",
       "4  Norte  PA     1253165   2949017.0  2561832.0  5510849.0   \n",
       "\n",
       "   razao_urbana_rural  razao_urbana_total  indicador  \n",
       "0            1.629553            0.619707          0  \n",
       "1            1.873795            0.652024          0  \n",
       "2            2.834423            0.739205          1  \n",
       "3            2.392140            0.705201          1  \n",
       "4            1.151136            0.535129          0  "
      ]
     },
     "execution_count": 84,
     "metadata": {},
     "output_type": "execute_result"
    }
   ],
   "source": [
    "# Uma outra forma de realizar isso é utilizando o apply\n",
    "# O apply tambem cria um critério e ele pode usar uma lambda para fazer o que fizemos acima ou uma função.\n",
    "\n",
    "df['indicador'] = df['razao_urbana_total'].apply(lambda x: 1 if x > 0.7 else 0)\n",
    "df.head()\n",
    "\n",
    "# Diferente do que fizemos anteriormente aqui ele vem como int."
   ]
  },
  {
   "cell_type": "code",
   "execution_count": null,
   "id": "L3YZBNx6ljMl",
   "metadata": {
    "colab": {
     "base_uri": "https://localhost:8080/",
     "height": 237
    },
    "id": "L3YZBNx6ljMl",
    "outputId": "1c4498e6-d4b4-45a8-b67b-d392f5d5fb7b"
   },
   "outputs": [],
   "source": []
  },
  {
   "cell_type": "code",
   "execution_count": 86,
   "id": "eLgVeA9_nkDN",
   "metadata": {
    "id": "eLgVeA9_nkDN",
    "tags": []
   },
   "outputs": [],
   "source": [
    "# Também é possível criar funções\n",
    "def soma_quadrados(row):\n",
    "  # Esta é uma função que calcula a divisão da soma dos quadrados das populações urbana e rural, pelo total\n",
    "  soma = (row['pop_urbana']**2 + row['pop_rural']**2) / (row['total'] ** 2)\n",
    "\n",
    "  return soma"
   ]
  },
  {
   "cell_type": "code",
   "execution_count": 87,
   "id": "Ie7R1GfhoBjF",
   "metadata": {
    "colab": {
     "base_uri": "https://localhost:8080/",
     "height": 301
    },
    "id": "Ie7R1GfhoBjF",
    "outputId": "efd71370-5045-4239-f46a-d02881a45a7b",
    "tags": []
   },
   "outputs": [
    {
     "data": {
      "text/html": [
       "<div>\n",
       "<style scoped>\n",
       "    .dataframe tbody tr th:only-of-type {\n",
       "        vertical-align: middle;\n",
       "    }\n",
       "\n",
       "    .dataframe tbody tr th {\n",
       "        vertical-align: top;\n",
       "    }\n",
       "\n",
       "    .dataframe thead th {\n",
       "        text-align: right;\n",
       "    }\n",
       "</style>\n",
       "<table border=\"1\" class=\"dataframe\">\n",
       "  <thead>\n",
       "    <tr style=\"text-align: right;\">\n",
       "      <th></th>\n",
       "      <th>regiao</th>\n",
       "      <th>uf</th>\n",
       "      <th>superficie</th>\n",
       "      <th>pop_urbana</th>\n",
       "      <th>pop_rural</th>\n",
       "      <th>total</th>\n",
       "      <th>razao_urbana_rural</th>\n",
       "      <th>razao_urbana_total</th>\n",
       "      <th>indicador</th>\n",
       "      <th>indicador2</th>\n",
       "    </tr>\n",
       "  </thead>\n",
       "  <tbody>\n",
       "    <tr>\n",
       "      <th>0</th>\n",
       "      <td>Norte</td>\n",
       "      <td>RO</td>\n",
       "      <td>238513</td>\n",
       "      <td>762864.0</td>\n",
       "      <td>468143.0</td>\n",
       "      <td>1231007.0</td>\n",
       "      <td>1.629553</td>\n",
       "      <td>0.619707</td>\n",
       "      <td>0</td>\n",
       "      <td>0.528660</td>\n",
       "    </tr>\n",
       "    <tr>\n",
       "      <th>1</th>\n",
       "      <td>Norte</td>\n",
       "      <td>AC</td>\n",
       "      <td>153150</td>\n",
       "      <td>315401.0</td>\n",
       "      <td>168322.0</td>\n",
       "      <td>483726.0</td>\n",
       "      <td>1.873795</td>\n",
       "      <td>0.652024</td>\n",
       "      <td>0</td>\n",
       "      <td>0.546218</td>\n",
       "    </tr>\n",
       "    <tr>\n",
       "      <th>2</th>\n",
       "      <td>Norte</td>\n",
       "      <td>AM</td>\n",
       "      <td>1577820</td>\n",
       "      <td>1766166.0</td>\n",
       "      <td>623113.0</td>\n",
       "      <td>2389279.0</td>\n",
       "      <td>2.834423</td>\n",
       "      <td>0.739205</td>\n",
       "      <td>1</td>\n",
       "      <td>0.614438</td>\n",
       "    </tr>\n",
       "    <tr>\n",
       "      <th>3</th>\n",
       "      <td>Norte</td>\n",
       "      <td>RR</td>\n",
       "      <td>225116</td>\n",
       "      <td>174277.0</td>\n",
       "      <td>72854.0</td>\n",
       "      <td>247131.0</td>\n",
       "      <td>2.392140</td>\n",
       "      <td>0.705201</td>\n",
       "      <td>1</td>\n",
       "      <td>0.584215</td>\n",
       "    </tr>\n",
       "    <tr>\n",
       "      <th>4</th>\n",
       "      <td>Norte</td>\n",
       "      <td>PA</td>\n",
       "      <td>1253165</td>\n",
       "      <td>2949017.0</td>\n",
       "      <td>2561832.0</td>\n",
       "      <td>5510849.0</td>\n",
       "      <td>1.151136</td>\n",
       "      <td>0.535129</td>\n",
       "      <td>0</td>\n",
       "      <td>0.502468</td>\n",
       "    </tr>\n",
       "  </tbody>\n",
       "</table>\n",
       "</div>"
      ],
      "text/plain": [
       "  regiao  uf  superficie  pop_urbana  pop_rural      total  \\\n",
       "0  Norte  RO      238513    762864.0   468143.0  1231007.0   \n",
       "1  Norte  AC      153150    315401.0   168322.0   483726.0   \n",
       "2  Norte  AM     1577820   1766166.0   623113.0  2389279.0   \n",
       "3  Norte  RR      225116    174277.0    72854.0   247131.0   \n",
       "4  Norte  PA     1253165   2949017.0  2561832.0  5510849.0   \n",
       "\n",
       "   razao_urbana_rural  razao_urbana_total  indicador  indicador2  \n",
       "0            1.629553            0.619707          0    0.528660  \n",
       "1            1.873795            0.652024          0    0.546218  \n",
       "2            2.834423            0.739205          1    0.614438  \n",
       "3            2.392140            0.705201          1    0.584215  \n",
       "4            1.151136            0.535129          0    0.502468  "
      ]
     },
     "execution_count": 87,
     "metadata": {},
     "output_type": "execute_result"
    }
   ],
   "source": [
    "# usando o apply em múltiplas colunas\n",
    "df['indicador2'] = df.apply(soma_quadrados, axis=1) # O axis indica que é nas linhas\n",
    "df.head()"
   ]
  },
  {
   "cell_type": "markdown",
   "id": "303bc537",
   "metadata": {},
   "source": [
    "### map"
   ]
  },
  {
   "cell_type": "code",
   "execution_count": 89,
   "id": "4cbkC3Dlm-kl",
   "metadata": {
    "colab": {
     "base_uri": "https://localhost:8080/",
     "height": 301
    },
    "id": "4cbkC3Dlm-kl",
    "outputId": "55abe95e-3e6d-46a9-ea05-59f95068a0a9",
    "tags": []
   },
   "outputs": [
    {
     "data": {
      "text/html": [
       "<div>\n",
       "<style scoped>\n",
       "    .dataframe tbody tr th:only-of-type {\n",
       "        vertical-align: middle;\n",
       "    }\n",
       "\n",
       "    .dataframe tbody tr th {\n",
       "        vertical-align: top;\n",
       "    }\n",
       "\n",
       "    .dataframe thead th {\n",
       "        text-align: right;\n",
       "    }\n",
       "</style>\n",
       "<table border=\"1\" class=\"dataframe\">\n",
       "  <thead>\n",
       "    <tr style=\"text-align: right;\">\n",
       "      <th></th>\n",
       "      <th>regiao</th>\n",
       "      <th>uf</th>\n",
       "      <th>superficie</th>\n",
       "      <th>pop_urbana</th>\n",
       "      <th>pop_rural</th>\n",
       "      <th>total</th>\n",
       "      <th>razao_urbana_rural</th>\n",
       "      <th>razao_urbana_total</th>\n",
       "      <th>indicador</th>\n",
       "      <th>indicador2</th>\n",
       "      <th>região_cardeal</th>\n",
       "    </tr>\n",
       "  </thead>\n",
       "  <tbody>\n",
       "    <tr>\n",
       "      <th>0</th>\n",
       "      <td>Norte</td>\n",
       "      <td>RO</td>\n",
       "      <td>238513</td>\n",
       "      <td>762864.0</td>\n",
       "      <td>468143.0</td>\n",
       "      <td>1231007.0</td>\n",
       "      <td>1.629553</td>\n",
       "      <td>0.619707</td>\n",
       "      <td>0</td>\n",
       "      <td>0.528660</td>\n",
       "      <td>N</td>\n",
       "    </tr>\n",
       "    <tr>\n",
       "      <th>1</th>\n",
       "      <td>Norte</td>\n",
       "      <td>AC</td>\n",
       "      <td>153150</td>\n",
       "      <td>315401.0</td>\n",
       "      <td>168322.0</td>\n",
       "      <td>483726.0</td>\n",
       "      <td>1.873795</td>\n",
       "      <td>0.652024</td>\n",
       "      <td>0</td>\n",
       "      <td>0.546218</td>\n",
       "      <td>N</td>\n",
       "    </tr>\n",
       "    <tr>\n",
       "      <th>2</th>\n",
       "      <td>Norte</td>\n",
       "      <td>AM</td>\n",
       "      <td>1577820</td>\n",
       "      <td>1766166.0</td>\n",
       "      <td>623113.0</td>\n",
       "      <td>2389279.0</td>\n",
       "      <td>2.834423</td>\n",
       "      <td>0.739205</td>\n",
       "      <td>1</td>\n",
       "      <td>0.614438</td>\n",
       "      <td>N</td>\n",
       "    </tr>\n",
       "    <tr>\n",
       "      <th>3</th>\n",
       "      <td>Norte</td>\n",
       "      <td>RR</td>\n",
       "      <td>225116</td>\n",
       "      <td>174277.0</td>\n",
       "      <td>72854.0</td>\n",
       "      <td>247131.0</td>\n",
       "      <td>2.392140</td>\n",
       "      <td>0.705201</td>\n",
       "      <td>1</td>\n",
       "      <td>0.584215</td>\n",
       "      <td>N</td>\n",
       "    </tr>\n",
       "    <tr>\n",
       "      <th>4</th>\n",
       "      <td>Norte</td>\n",
       "      <td>PA</td>\n",
       "      <td>1253165</td>\n",
       "      <td>2949017.0</td>\n",
       "      <td>2561832.0</td>\n",
       "      <td>5510849.0</td>\n",
       "      <td>1.151136</td>\n",
       "      <td>0.535129</td>\n",
       "      <td>0</td>\n",
       "      <td>0.502468</td>\n",
       "      <td>N</td>\n",
       "    </tr>\n",
       "  </tbody>\n",
       "</table>\n",
       "</div>"
      ],
      "text/plain": [
       "  regiao  uf  superficie  pop_urbana  pop_rural      total  \\\n",
       "0  Norte  RO      238513    762864.0   468143.0  1231007.0   \n",
       "1  Norte  AC      153150    315401.0   168322.0   483726.0   \n",
       "2  Norte  AM     1577820   1766166.0   623113.0  2389279.0   \n",
       "3  Norte  RR      225116    174277.0    72854.0   247131.0   \n",
       "4  Norte  PA     1253165   2949017.0  2561832.0  5510849.0   \n",
       "\n",
       "   razao_urbana_rural  razao_urbana_total  indicador  indicador2  \\\n",
       "0            1.629553            0.619707          0    0.528660   \n",
       "1            1.873795            0.652024          0    0.546218   \n",
       "2            2.834423            0.739205          1    0.614438   \n",
       "3            2.392140            0.705201          1    0.584215   \n",
       "4            1.151136            0.535129          0    0.502468   \n",
       "\n",
       "  região_cardeal  \n",
       "0              N  \n",
       "1              N  \n",
       "2              N  \n",
       "3              N  \n",
       "4              N  "
      ]
     },
     "execution_count": 89,
     "metadata": {},
     "output_type": "execute_result"
    }
   ],
   "source": [
    "ponto_cardeal = {\n",
    "    'Norte': 'N',\n",
    "    'Nordeste': 'NE',\n",
    "    'Centro-Oeste': 'CO',\n",
    "    'Sul': 'S',\n",
    "    'Sudeste': 'SE'\n",
    "}\n",
    "\n",
    "# podemos fazer transformações com dicionários\n",
    "df['região_cardeal'] = df['regiao'].map(ponto_cardeal)\n",
    "df.head()\n"
   ]
  },
  {
   "cell_type": "markdown",
   "id": "83fa77ad",
   "metadata": {
    "id": "83fa77ad"
   },
   "source": [
    "### Merge (join)\n",
    "\n",
    "Outra tarefa muito comum quando estamos trabalhando com bases de dados é o **cruzamento**\n",
    "\n",
    "Para fazer isso, utilizamos o método **.merge()**, cujos modos de cruzamento são:\n",
    "\n",
    "<img src=\"https://community.qlik.com/legacyfs/online/87693_all-joins.png\" width=450>"
   ]
  },
  {
   "cell_type": "code",
   "execution_count": 90,
   "id": "b040ed61",
   "metadata": {
    "tags": []
   },
   "outputs": [],
   "source": [
    "lista_on_left = [1, 2, 3, 4, 5, 6, 7, 8, 9, 10]\n",
    "lista_on_right = [1, 3, 5, 7, 9, 11]"
   ]
  },
  {
   "cell_type": "code",
   "execution_count": 93,
   "id": "0e16ddb7",
   "metadata": {
    "tags": []
   },
   "outputs": [
    {
     "data": {
      "text/html": [
       "<div>\n",
       "<style scoped>\n",
       "    .dataframe tbody tr th:only-of-type {\n",
       "        vertical-align: middle;\n",
       "    }\n",
       "\n",
       "    .dataframe tbody tr th {\n",
       "        vertical-align: top;\n",
       "    }\n",
       "\n",
       "    .dataframe thead th {\n",
       "        text-align: right;\n",
       "    }\n",
       "</style>\n",
       "<table border=\"1\" class=\"dataframe\">\n",
       "  <thead>\n",
       "    <tr style=\"text-align: right;\">\n",
       "      <th></th>\n",
       "      <th>coluna_on</th>\n",
       "      <th>valores_esquerda</th>\n",
       "    </tr>\n",
       "  </thead>\n",
       "  <tbody>\n",
       "    <tr>\n",
       "      <th>0</th>\n",
       "      <td>1</td>\n",
       "      <td>1</td>\n",
       "    </tr>\n",
       "    <tr>\n",
       "      <th>1</th>\n",
       "      <td>2</td>\n",
       "      <td>2</td>\n",
       "    </tr>\n",
       "    <tr>\n",
       "      <th>2</th>\n",
       "      <td>3</td>\n",
       "      <td>3</td>\n",
       "    </tr>\n",
       "    <tr>\n",
       "      <th>3</th>\n",
       "      <td>4</td>\n",
       "      <td>4</td>\n",
       "    </tr>\n",
       "    <tr>\n",
       "      <th>4</th>\n",
       "      <td>5</td>\n",
       "      <td>5</td>\n",
       "    </tr>\n",
       "    <tr>\n",
       "      <th>5</th>\n",
       "      <td>6</td>\n",
       "      <td>6</td>\n",
       "    </tr>\n",
       "    <tr>\n",
       "      <th>6</th>\n",
       "      <td>7</td>\n",
       "      <td>7</td>\n",
       "    </tr>\n",
       "    <tr>\n",
       "      <th>7</th>\n",
       "      <td>8</td>\n",
       "      <td>8</td>\n",
       "    </tr>\n",
       "    <tr>\n",
       "      <th>8</th>\n",
       "      <td>9</td>\n",
       "      <td>9</td>\n",
       "    </tr>\n",
       "    <tr>\n",
       "      <th>9</th>\n",
       "      <td>10</td>\n",
       "      <td>10</td>\n",
       "    </tr>\n",
       "  </tbody>\n",
       "</table>\n",
       "</div>"
      ],
      "text/plain": [
       "   coluna_on  valores_esquerda\n",
       "0          1                 1\n",
       "1          2                 2\n",
       "2          3                 3\n",
       "3          4                 4\n",
       "4          5                 5\n",
       "5          6                 6\n",
       "6          7                 7\n",
       "7          8                 8\n",
       "8          9                 9\n",
       "9         10                10"
      ]
     },
     "execution_count": 93,
     "metadata": {},
     "output_type": "execute_result"
    }
   ],
   "source": [
    "dict_left = {'coluna_on': lista_on_left, 'valores_esquerda': lista_on_left}\n",
    "dict_right = {'coluna_on': lista_on_right, 'valores_esquerda': lista_on_right}\n",
    "\n",
    "df_left = pd.DataFrame(dict_left)\n",
    "df_left"
   ]
  },
  {
   "cell_type": "code",
   "execution_count": 96,
   "id": "fa161cf8",
   "metadata": {
    "tags": []
   },
   "outputs": [
    {
     "data": {
      "text/html": [
       "<div>\n",
       "<style scoped>\n",
       "    .dataframe tbody tr th:only-of-type {\n",
       "        vertical-align: middle;\n",
       "    }\n",
       "\n",
       "    .dataframe tbody tr th {\n",
       "        vertical-align: top;\n",
       "    }\n",
       "\n",
       "    .dataframe thead th {\n",
       "        text-align: right;\n",
       "    }\n",
       "</style>\n",
       "<table border=\"1\" class=\"dataframe\">\n",
       "  <thead>\n",
       "    <tr style=\"text-align: right;\">\n",
       "      <th></th>\n",
       "      <th>coluna_on</th>\n",
       "      <th>valores_esquerda</th>\n",
       "    </tr>\n",
       "  </thead>\n",
       "  <tbody>\n",
       "    <tr>\n",
       "      <th>0</th>\n",
       "      <td>1</td>\n",
       "      <td>1</td>\n",
       "    </tr>\n",
       "    <tr>\n",
       "      <th>1</th>\n",
       "      <td>3</td>\n",
       "      <td>3</td>\n",
       "    </tr>\n",
       "    <tr>\n",
       "      <th>2</th>\n",
       "      <td>5</td>\n",
       "      <td>5</td>\n",
       "    </tr>\n",
       "    <tr>\n",
       "      <th>3</th>\n",
       "      <td>7</td>\n",
       "      <td>7</td>\n",
       "    </tr>\n",
       "    <tr>\n",
       "      <th>4</th>\n",
       "      <td>9</td>\n",
       "      <td>9</td>\n",
       "    </tr>\n",
       "    <tr>\n",
       "      <th>5</th>\n",
       "      <td>11</td>\n",
       "      <td>11</td>\n",
       "    </tr>\n",
       "  </tbody>\n",
       "</table>\n",
       "</div>"
      ],
      "text/plain": [
       "   coluna_on  valores_esquerda\n",
       "0          1                 1\n",
       "1          3                 3\n",
       "2          5                 5\n",
       "3          7                 7\n",
       "4          9                 9\n",
       "5         11                11"
      ]
     },
     "execution_count": 96,
     "metadata": {},
     "output_type": "execute_result"
    }
   ],
   "source": [
    "df_left = pd.DataFrame(dict_right)\n",
    "df_left"
   ]
  },
  {
   "cell_type": "code",
   "execution_count": null,
   "id": "3d68d3db",
   "metadata": {
    "tags": []
   },
   "outputs": [],
   "source": [
    "df_left.merge(df_left, how = 'outner')"
   ]
  },
  {
   "cell_type": "markdown",
   "id": "f493e3f7",
   "metadata": {},
   "source": [
    "utilizando dataframes"
   ]
  },
  {
   "cell_type": "code",
   "execution_count": 98,
   "id": "I611G_H1pLxF",
   "metadata": {
    "colab": {
     "base_uri": "https://localhost:8080/",
     "height": 206
    },
    "id": "I611G_H1pLxF",
    "outputId": "672d6ac2-81f5-4aba-b807-d9824bcdaeed",
    "tags": []
   },
   "outputs": [
    {
     "data": {
      "text/html": [
       "<div>\n",
       "<style scoped>\n",
       "    .dataframe tbody tr th:only-of-type {\n",
       "        vertical-align: middle;\n",
       "    }\n",
       "\n",
       "    .dataframe tbody tr th {\n",
       "        vertical-align: top;\n",
       "    }\n",
       "\n",
       "    .dataframe thead th {\n",
       "        text-align: right;\n",
       "    }\n",
       "</style>\n",
       "<table border=\"1\" class=\"dataframe\">\n",
       "  <thead>\n",
       "    <tr style=\"text-align: right;\">\n",
       "      <th></th>\n",
       "      <th>regiao</th>\n",
       "      <th>uf</th>\n",
       "      <th>superficie</th>\n",
       "      <th>pop_urbana</th>\n",
       "      <th>pop_rural</th>\n",
       "      <th>total</th>\n",
       "      <th>razao_urbana_rural</th>\n",
       "      <th>razao_urbana_total</th>\n",
       "      <th>indicador</th>\n",
       "      <th>indicador2</th>\n",
       "      <th>região_cardeal</th>\n",
       "    </tr>\n",
       "  </thead>\n",
       "  <tbody>\n",
       "    <tr>\n",
       "      <th>0</th>\n",
       "      <td>Norte</td>\n",
       "      <td>RO</td>\n",
       "      <td>238513</td>\n",
       "      <td>762864.0</td>\n",
       "      <td>468143.0</td>\n",
       "      <td>1231007.0</td>\n",
       "      <td>1.629553</td>\n",
       "      <td>0.619707</td>\n",
       "      <td>0</td>\n",
       "      <td>0.528660</td>\n",
       "      <td>N</td>\n",
       "    </tr>\n",
       "    <tr>\n",
       "      <th>1</th>\n",
       "      <td>Norte</td>\n",
       "      <td>AC</td>\n",
       "      <td>153150</td>\n",
       "      <td>315401.0</td>\n",
       "      <td>168322.0</td>\n",
       "      <td>483726.0</td>\n",
       "      <td>1.873795</td>\n",
       "      <td>0.652024</td>\n",
       "      <td>0</td>\n",
       "      <td>0.546218</td>\n",
       "      <td>N</td>\n",
       "    </tr>\n",
       "    <tr>\n",
       "      <th>2</th>\n",
       "      <td>Norte</td>\n",
       "      <td>AM</td>\n",
       "      <td>1577820</td>\n",
       "      <td>1766166.0</td>\n",
       "      <td>623113.0</td>\n",
       "      <td>2389279.0</td>\n",
       "      <td>2.834423</td>\n",
       "      <td>0.739205</td>\n",
       "      <td>1</td>\n",
       "      <td>0.614438</td>\n",
       "      <td>N</td>\n",
       "    </tr>\n",
       "    <tr>\n",
       "      <th>3</th>\n",
       "      <td>Norte</td>\n",
       "      <td>RR</td>\n",
       "      <td>225116</td>\n",
       "      <td>174277.0</td>\n",
       "      <td>72854.0</td>\n",
       "      <td>247131.0</td>\n",
       "      <td>2.392140</td>\n",
       "      <td>0.705201</td>\n",
       "      <td>1</td>\n",
       "      <td>0.584215</td>\n",
       "      <td>N</td>\n",
       "    </tr>\n",
       "    <tr>\n",
       "      <th>4</th>\n",
       "      <td>Norte</td>\n",
       "      <td>PA</td>\n",
       "      <td>1253165</td>\n",
       "      <td>2949017.0</td>\n",
       "      <td>2561832.0</td>\n",
       "      <td>5510849.0</td>\n",
       "      <td>1.151136</td>\n",
       "      <td>0.535129</td>\n",
       "      <td>0</td>\n",
       "      <td>0.502468</td>\n",
       "      <td>N</td>\n",
       "    </tr>\n",
       "  </tbody>\n",
       "</table>\n",
       "</div>"
      ],
      "text/plain": [
       "  regiao  uf  superficie  pop_urbana  pop_rural      total  \\\n",
       "0  Norte  RO      238513    762864.0   468143.0  1231007.0   \n",
       "1  Norte  AC      153150    315401.0   168322.0   483726.0   \n",
       "2  Norte  AM     1577820   1766166.0   623113.0  2389279.0   \n",
       "3  Norte  RR      225116    174277.0    72854.0   247131.0   \n",
       "4  Norte  PA     1253165   2949017.0  2561832.0  5510849.0   \n",
       "\n",
       "   razao_urbana_rural  razao_urbana_total  indicador  indicador2  \\\n",
       "0            1.629553            0.619707          0    0.528660   \n",
       "1            1.873795            0.652024          0    0.546218   \n",
       "2            2.834423            0.739205          1    0.614438   \n",
       "3            2.392140            0.705201          1    0.584215   \n",
       "4            1.151136            0.535129          0    0.502468   \n",
       "\n",
       "  região_cardeal  \n",
       "0              N  \n",
       "1              N  \n",
       "2              N  \n",
       "3              N  \n",
       "4              N  "
      ]
     },
     "execution_count": 98,
     "metadata": {},
     "output_type": "execute_result"
    }
   ],
   "source": [
    "df.head()"
   ]
  },
  {
   "cell_type": "code",
   "execution_count": 100,
   "id": "IR0UhtMapdFD",
   "metadata": {
    "colab": {
     "base_uri": "https://localhost:8080/",
     "height": 301
    },
    "id": "IR0UhtMapdFD",
    "outputId": "55e3b83d-36a0-4f4f-edea-b7e7aa48c6ad",
    "tags": []
   },
   "outputs": [
    {
     "data": {
      "text/html": [
       "<div>\n",
       "<style scoped>\n",
       "    .dataframe tbody tr th:only-of-type {\n",
       "        vertical-align: middle;\n",
       "    }\n",
       "\n",
       "    .dataframe tbody tr th {\n",
       "        vertical-align: top;\n",
       "    }\n",
       "\n",
       "    .dataframe thead th {\n",
       "        text-align: right;\n",
       "    }\n",
       "</style>\n",
       "<table border=\"1\" class=\"dataframe\">\n",
       "  <thead>\n",
       "    <tr style=\"text-align: right;\">\n",
       "      <th></th>\n",
       "      <th>UF</th>\n",
       "      <th>COD. UF</th>\n",
       "      <th>COD. MUNIC</th>\n",
       "      <th>NOME DO MUNICÍPIO</th>\n",
       "      <th>populacao_estimada</th>\n",
       "    </tr>\n",
       "  </thead>\n",
       "  <tbody>\n",
       "    <tr>\n",
       "      <th>0</th>\n",
       "      <td>RO</td>\n",
       "      <td>11</td>\n",
       "      <td>15</td>\n",
       "      <td>Alta Floresta D'Oeste</td>\n",
       "      <td>22516</td>\n",
       "    </tr>\n",
       "    <tr>\n",
       "      <th>1</th>\n",
       "      <td>RO</td>\n",
       "      <td>11</td>\n",
       "      <td>23</td>\n",
       "      <td>Ariquemes</td>\n",
       "      <td>111148</td>\n",
       "    </tr>\n",
       "    <tr>\n",
       "      <th>2</th>\n",
       "      <td>RO</td>\n",
       "      <td>11</td>\n",
       "      <td>31</td>\n",
       "      <td>Cabixi</td>\n",
       "      <td>5067</td>\n",
       "    </tr>\n",
       "    <tr>\n",
       "      <th>3</th>\n",
       "      <td>RO</td>\n",
       "      <td>11</td>\n",
       "      <td>49</td>\n",
       "      <td>Cacoal</td>\n",
       "      <td>86416</td>\n",
       "    </tr>\n",
       "    <tr>\n",
       "      <th>4</th>\n",
       "      <td>RO</td>\n",
       "      <td>11</td>\n",
       "      <td>56</td>\n",
       "      <td>Cerejeiras</td>\n",
       "      <td>16088</td>\n",
       "    </tr>\n",
       "  </tbody>\n",
       "</table>\n",
       "</div>"
      ],
      "text/plain": [
       "   UF  COD. UF  COD. MUNIC      NOME DO MUNICÍPIO  populacao_estimada\n",
       "0  RO       11          15  Alta Floresta D'Oeste               22516\n",
       "1  RO       11          23              Ariquemes              111148\n",
       "2  RO       11          31                 Cabixi                5067\n",
       "3  RO       11          49                 Cacoal               86416\n",
       "4  RO       11          56             Cerejeiras               16088"
      ]
     },
     "execution_count": 100,
     "metadata": {},
     "output_type": "execute_result"
    }
   ],
   "source": [
    "df_muni.head()"
   ]
  },
  {
   "cell_type": "code",
   "execution_count": 101,
   "id": "ZpNvL00ephJM",
   "metadata": {
    "colab": {
     "base_uri": "https://localhost:8080/",
     "height": 270
    },
    "id": "ZpNvL00ephJM",
    "outputId": "200e93f5-57ed-4d44-e021-b8f1426ea790",
    "tags": []
   },
   "outputs": [
    {
     "data": {
      "text/html": [
       "<div>\n",
       "<style scoped>\n",
       "    .dataframe tbody tr th:only-of-type {\n",
       "        vertical-align: middle;\n",
       "    }\n",
       "\n",
       "    .dataframe tbody tr th {\n",
       "        vertical-align: top;\n",
       "    }\n",
       "\n",
       "    .dataframe thead th {\n",
       "        text-align: right;\n",
       "    }\n",
       "</style>\n",
       "<table border=\"1\" class=\"dataframe\">\n",
       "  <thead>\n",
       "    <tr style=\"text-align: right;\">\n",
       "      <th></th>\n",
       "      <th>index</th>\n",
       "      <th>UF</th>\n",
       "      <th>COD. UF</th>\n",
       "      <th>COD. MUNIC</th>\n",
       "      <th>NOME DO MUNICÍPIO</th>\n",
       "      <th>populacao_estimada</th>\n",
       "    </tr>\n",
       "  </thead>\n",
       "  <tbody>\n",
       "    <tr>\n",
       "      <th>0</th>\n",
       "      <td>0</td>\n",
       "      <td>RO</td>\n",
       "      <td>11</td>\n",
       "      <td>15</td>\n",
       "      <td>Alta Floresta D'Oeste</td>\n",
       "      <td>22516</td>\n",
       "    </tr>\n",
       "    <tr>\n",
       "      <th>1</th>\n",
       "      <td>1</td>\n",
       "      <td>RO</td>\n",
       "      <td>11</td>\n",
       "      <td>23</td>\n",
       "      <td>Ariquemes</td>\n",
       "      <td>111148</td>\n",
       "    </tr>\n",
       "    <tr>\n",
       "      <th>2</th>\n",
       "      <td>2</td>\n",
       "      <td>RO</td>\n",
       "      <td>11</td>\n",
       "      <td>31</td>\n",
       "      <td>Cabixi</td>\n",
       "      <td>5067</td>\n",
       "    </tr>\n",
       "    <tr>\n",
       "      <th>3</th>\n",
       "      <td>3</td>\n",
       "      <td>RO</td>\n",
       "      <td>11</td>\n",
       "      <td>49</td>\n",
       "      <td>Cacoal</td>\n",
       "      <td>86416</td>\n",
       "    </tr>\n",
       "    <tr>\n",
       "      <th>4</th>\n",
       "      <td>4</td>\n",
       "      <td>RO</td>\n",
       "      <td>11</td>\n",
       "      <td>56</td>\n",
       "      <td>Cerejeiras</td>\n",
       "      <td>16088</td>\n",
       "    </tr>\n",
       "  </tbody>\n",
       "</table>\n",
       "</div>"
      ],
      "text/plain": [
       "   index  UF  COD. UF  COD. MUNIC      NOME DO MUNICÍPIO  populacao_estimada\n",
       "0      0  RO       11          15  Alta Floresta D'Oeste               22516\n",
       "1      1  RO       11          23              Ariquemes              111148\n",
       "2      2  RO       11          31                 Cabixi                5067\n",
       "3      3  RO       11          49                 Cacoal               86416\n",
       "4      4  RO       11          56             Cerejeiras               16088"
      ]
     },
     "execution_count": 101,
     "metadata": {},
     "output_type": "execute_result"
    }
   ],
   "source": [
    "# retirar o uf dos índices\n",
    "df_muni = df_muni.reset_index()\n",
    "df_muni.head()"
   ]
  },
  {
   "cell_type": "code",
   "execution_count": 109,
   "id": "VW2JsIqlpoqM",
   "metadata": {
    "colab": {
     "base_uri": "https://localhost:8080/",
     "height": 983
    },
    "id": "VW2JsIqlpoqM",
    "outputId": "66b964cb-695e-4d1f-e552-68479b45ddfe",
    "tags": []
   },
   "outputs": [
    {
     "data": {
      "text/html": [
       "<div>\n",
       "<style scoped>\n",
       "    .dataframe tbody tr th:only-of-type {\n",
       "        vertical-align: middle;\n",
       "    }\n",
       "\n",
       "    .dataframe tbody tr th {\n",
       "        vertical-align: top;\n",
       "    }\n",
       "\n",
       "    .dataframe thead th {\n",
       "        text-align: right;\n",
       "    }\n",
       "</style>\n",
       "<table border=\"1\" class=\"dataframe\">\n",
       "  <thead>\n",
       "    <tr style=\"text-align: right;\">\n",
       "      <th></th>\n",
       "      <th>index</th>\n",
       "      <th>UF</th>\n",
       "      <th>COD. UF</th>\n",
       "      <th>COD. MUNIC</th>\n",
       "      <th>NOME DO MUNICÍPIO</th>\n",
       "      <th>populacao_estimada</th>\n",
       "      <th>regiao</th>\n",
       "      <th>uf</th>\n",
       "      <th>superficie</th>\n",
       "      <th>pop_urbana</th>\n",
       "      <th>pop_rural</th>\n",
       "      <th>total</th>\n",
       "      <th>razao_urbana_rural</th>\n",
       "      <th>razao_urbana_total</th>\n",
       "      <th>indicador</th>\n",
       "      <th>indicador2</th>\n",
       "      <th>região_cardeal</th>\n",
       "    </tr>\n",
       "  </thead>\n",
       "  <tbody>\n",
       "    <tr>\n",
       "      <th>0</th>\n",
       "      <td>0</td>\n",
       "      <td>RO</td>\n",
       "      <td>11</td>\n",
       "      <td>15</td>\n",
       "      <td>Alta Floresta D'Oeste</td>\n",
       "      <td>22516</td>\n",
       "      <td>Norte</td>\n",
       "      <td>RO</td>\n",
       "      <td>238513.0</td>\n",
       "      <td>762864.0</td>\n",
       "      <td>468143.0</td>\n",
       "      <td>1231007.0</td>\n",
       "      <td>1.629553</td>\n",
       "      <td>0.619707</td>\n",
       "      <td>0.0</td>\n",
       "      <td>0.528660</td>\n",
       "      <td>N</td>\n",
       "    </tr>\n",
       "    <tr>\n",
       "      <th>1</th>\n",
       "      <td>1</td>\n",
       "      <td>RO</td>\n",
       "      <td>11</td>\n",
       "      <td>23</td>\n",
       "      <td>Ariquemes</td>\n",
       "      <td>111148</td>\n",
       "      <td>Norte</td>\n",
       "      <td>RO</td>\n",
       "      <td>238513.0</td>\n",
       "      <td>762864.0</td>\n",
       "      <td>468143.0</td>\n",
       "      <td>1231007.0</td>\n",
       "      <td>1.629553</td>\n",
       "      <td>0.619707</td>\n",
       "      <td>0.0</td>\n",
       "      <td>0.528660</td>\n",
       "      <td>N</td>\n",
       "    </tr>\n",
       "    <tr>\n",
       "      <th>2</th>\n",
       "      <td>2</td>\n",
       "      <td>RO</td>\n",
       "      <td>11</td>\n",
       "      <td>31</td>\n",
       "      <td>Cabixi</td>\n",
       "      <td>5067</td>\n",
       "      <td>Norte</td>\n",
       "      <td>RO</td>\n",
       "      <td>238513.0</td>\n",
       "      <td>762864.0</td>\n",
       "      <td>468143.0</td>\n",
       "      <td>1231007.0</td>\n",
       "      <td>1.629553</td>\n",
       "      <td>0.619707</td>\n",
       "      <td>0.0</td>\n",
       "      <td>0.528660</td>\n",
       "      <td>N</td>\n",
       "    </tr>\n",
       "    <tr>\n",
       "      <th>3</th>\n",
       "      <td>3</td>\n",
       "      <td>RO</td>\n",
       "      <td>11</td>\n",
       "      <td>49</td>\n",
       "      <td>Cacoal</td>\n",
       "      <td>86416</td>\n",
       "      <td>Norte</td>\n",
       "      <td>RO</td>\n",
       "      <td>238513.0</td>\n",
       "      <td>762864.0</td>\n",
       "      <td>468143.0</td>\n",
       "      <td>1231007.0</td>\n",
       "      <td>1.629553</td>\n",
       "      <td>0.619707</td>\n",
       "      <td>0.0</td>\n",
       "      <td>0.528660</td>\n",
       "      <td>N</td>\n",
       "    </tr>\n",
       "    <tr>\n",
       "      <th>4</th>\n",
       "      <td>4</td>\n",
       "      <td>RO</td>\n",
       "      <td>11</td>\n",
       "      <td>56</td>\n",
       "      <td>Cerejeiras</td>\n",
       "      <td>16088</td>\n",
       "      <td>Norte</td>\n",
       "      <td>RO</td>\n",
       "      <td>238513.0</td>\n",
       "      <td>762864.0</td>\n",
       "      <td>468143.0</td>\n",
       "      <td>1231007.0</td>\n",
       "      <td>1.629553</td>\n",
       "      <td>0.619707</td>\n",
       "      <td>0.0</td>\n",
       "      <td>0.528660</td>\n",
       "      <td>N</td>\n",
       "    </tr>\n",
       "    <tr>\n",
       "      <th>...</th>\n",
       "      <td>...</td>\n",
       "      <td>...</td>\n",
       "      <td>...</td>\n",
       "      <td>...</td>\n",
       "      <td>...</td>\n",
       "      <td>...</td>\n",
       "      <td>...</td>\n",
       "      <td>...</td>\n",
       "      <td>...</td>\n",
       "      <td>...</td>\n",
       "      <td>...</td>\n",
       "      <td>...</td>\n",
       "      <td>...</td>\n",
       "      <td>...</td>\n",
       "      <td>...</td>\n",
       "      <td>...</td>\n",
       "      <td>...</td>\n",
       "    </tr>\n",
       "    <tr>\n",
       "      <th>5565</th>\n",
       "      <td>5565</td>\n",
       "      <td>GO</td>\n",
       "      <td>52</td>\n",
       "      <td>22005</td>\n",
       "      <td>Vianópolis</td>\n",
       "      <td>14088</td>\n",
       "      <td>Centro-Oeste</td>\n",
       "      <td>GO</td>\n",
       "      <td>3412895.0</td>\n",
       "      <td>3873722.0</td>\n",
       "      <td>642146.0</td>\n",
       "      <td>4515868.0</td>\n",
       "      <td>6.032463</td>\n",
       "      <td>0.857802</td>\n",
       "      <td>1.0</td>\n",
       "      <td>0.756045</td>\n",
       "      <td>CO</td>\n",
       "    </tr>\n",
       "    <tr>\n",
       "      <th>5566</th>\n",
       "      <td>5566</td>\n",
       "      <td>GO</td>\n",
       "      <td>52</td>\n",
       "      <td>22054</td>\n",
       "      <td>Vicentinópolis</td>\n",
       "      <td>9002</td>\n",
       "      <td>Centro-Oeste</td>\n",
       "      <td>GO</td>\n",
       "      <td>3412895.0</td>\n",
       "      <td>3873722.0</td>\n",
       "      <td>642146.0</td>\n",
       "      <td>4515868.0</td>\n",
       "      <td>6.032463</td>\n",
       "      <td>0.857802</td>\n",
       "      <td>1.0</td>\n",
       "      <td>0.756045</td>\n",
       "      <td>CO</td>\n",
       "    </tr>\n",
       "    <tr>\n",
       "      <th>5567</th>\n",
       "      <td>5567</td>\n",
       "      <td>GO</td>\n",
       "      <td>52</td>\n",
       "      <td>22203</td>\n",
       "      <td>Vila Boa</td>\n",
       "      <td>6451</td>\n",
       "      <td>Centro-Oeste</td>\n",
       "      <td>GO</td>\n",
       "      <td>3412895.0</td>\n",
       "      <td>3873722.0</td>\n",
       "      <td>642146.0</td>\n",
       "      <td>4515868.0</td>\n",
       "      <td>6.032463</td>\n",
       "      <td>0.857802</td>\n",
       "      <td>1.0</td>\n",
       "      <td>0.756045</td>\n",
       "      <td>CO</td>\n",
       "    </tr>\n",
       "    <tr>\n",
       "      <th>5568</th>\n",
       "      <td>5568</td>\n",
       "      <td>GO</td>\n",
       "      <td>52</td>\n",
       "      <td>22302</td>\n",
       "      <td>Vila Propício</td>\n",
       "      <td>5941</td>\n",
       "      <td>Centro-Oeste</td>\n",
       "      <td>GO</td>\n",
       "      <td>3412895.0</td>\n",
       "      <td>3873722.0</td>\n",
       "      <td>642146.0</td>\n",
       "      <td>4515868.0</td>\n",
       "      <td>6.032463</td>\n",
       "      <td>0.857802</td>\n",
       "      <td>1.0</td>\n",
       "      <td>0.756045</td>\n",
       "      <td>CO</td>\n",
       "    </tr>\n",
       "    <tr>\n",
       "      <th>5569</th>\n",
       "      <td>5569</td>\n",
       "      <td>DF</td>\n",
       "      <td>53</td>\n",
       "      <td>108</td>\n",
       "      <td>Brasília</td>\n",
       "      <td>3094325</td>\n",
       "      <td>Centro-Oeste</td>\n",
       "      <td>DF</td>\n",
       "      <td>5822.0</td>\n",
       "      <td>1692248.0</td>\n",
       "      <td>129698.0</td>\n",
       "      <td>1821946.0</td>\n",
       "      <td>13.047603</td>\n",
       "      <td>0.928813</td>\n",
       "      <td>1.0</td>\n",
       "      <td>0.867762</td>\n",
       "      <td>CO</td>\n",
       "    </tr>\n",
       "  </tbody>\n",
       "</table>\n",
       "<p>5570 rows × 17 columns</p>\n",
       "</div>"
      ],
      "text/plain": [
       "      index  UF  COD. UF  COD. MUNIC      NOME DO MUNICÍPIO  \\\n",
       "0         0  RO       11          15  Alta Floresta D'Oeste   \n",
       "1         1  RO       11          23              Ariquemes   \n",
       "2         2  RO       11          31                 Cabixi   \n",
       "3         3  RO       11          49                 Cacoal   \n",
       "4         4  RO       11          56             Cerejeiras   \n",
       "...     ...  ..      ...         ...                    ...   \n",
       "5565   5565  GO       52       22005             Vianópolis   \n",
       "5566   5566  GO       52       22054         Vicentinópolis   \n",
       "5567   5567  GO       52       22203               Vila Boa   \n",
       "5568   5568  GO       52       22302          Vila Propício   \n",
       "5569   5569  DF       53         108               Brasília   \n",
       "\n",
       "      populacao_estimada        regiao  uf  superficie  pop_urbana  pop_rural  \\\n",
       "0                  22516         Norte  RO    238513.0    762864.0   468143.0   \n",
       "1                 111148         Norte  RO    238513.0    762864.0   468143.0   \n",
       "2                   5067         Norte  RO    238513.0    762864.0   468143.0   \n",
       "3                  86416         Norte  RO    238513.0    762864.0   468143.0   \n",
       "4                  16088         Norte  RO    238513.0    762864.0   468143.0   \n",
       "...                  ...           ...  ..         ...         ...        ...   \n",
       "5565               14088  Centro-Oeste  GO   3412895.0   3873722.0   642146.0   \n",
       "5566                9002  Centro-Oeste  GO   3412895.0   3873722.0   642146.0   \n",
       "5567                6451  Centro-Oeste  GO   3412895.0   3873722.0   642146.0   \n",
       "5568                5941  Centro-Oeste  GO   3412895.0   3873722.0   642146.0   \n",
       "5569             3094325  Centro-Oeste  DF      5822.0   1692248.0   129698.0   \n",
       "\n",
       "          total  razao_urbana_rural  razao_urbana_total  indicador  \\\n",
       "0     1231007.0            1.629553            0.619707        0.0   \n",
       "1     1231007.0            1.629553            0.619707        0.0   \n",
       "2     1231007.0            1.629553            0.619707        0.0   \n",
       "3     1231007.0            1.629553            0.619707        0.0   \n",
       "4     1231007.0            1.629553            0.619707        0.0   \n",
       "...         ...                 ...                 ...        ...   \n",
       "5565  4515868.0            6.032463            0.857802        1.0   \n",
       "5566  4515868.0            6.032463            0.857802        1.0   \n",
       "5567  4515868.0            6.032463            0.857802        1.0   \n",
       "5568  4515868.0            6.032463            0.857802        1.0   \n",
       "5569  1821946.0           13.047603            0.928813        1.0   \n",
       "\n",
       "      indicador2 região_cardeal  \n",
       "0       0.528660              N  \n",
       "1       0.528660              N  \n",
       "2       0.528660              N  \n",
       "3       0.528660              N  \n",
       "4       0.528660              N  \n",
       "...          ...            ...  \n",
       "5565    0.756045             CO  \n",
       "5566    0.756045             CO  \n",
       "5567    0.756045             CO  \n",
       "5568    0.756045             CO  \n",
       "5569    0.867762             CO  \n",
       "\n",
       "[5570 rows x 17 columns]"
      ]
     },
     "execution_count": 109,
     "metadata": {},
     "output_type": "execute_result"
    }
   ],
   "source": [
    "df_reg = df_muni.merge(df, how = 'left', left_on = ['UF'], right_on = ['uf'])\n",
    "df_reg"
   ]
  },
  {
   "cell_type": "markdown",
   "id": "c111200a",
   "metadata": {},
   "source": [
    "Explorando os dados criados"
   ]
  },
  {
   "cell_type": "code",
   "execution_count": null,
   "id": "aZkO3zPDqUaz",
   "metadata": {
    "colab": {
     "base_uri": "https://localhost:8080/",
     "height": 269
    },
    "id": "aZkO3zPDqUaz",
    "outputId": "c96c33ec-6c84-4a5a-c2f3-69e4634b7e40",
    "tags": []
   },
   "outputs": [],
   "source": [
    "# quero a média e o desvio padrão da população estimada por região\n",
    "\n",
    "df_reg.groupby('regiao').mean()[['populacao_estimada']]"
   ]
  },
  {
   "cell_type": "code",
   "execution_count": 113,
   "id": "5460b670-7247-48ad-a9ca-cde38944472f",
   "metadata": {
    "tags": []
   },
   "outputs": [
    {
     "data": {
      "text/html": [
       "<div>\n",
       "<style scoped>\n",
       "    .dataframe tbody tr th:only-of-type {\n",
       "        vertical-align: middle;\n",
       "    }\n",
       "\n",
       "    .dataframe tbody tr th {\n",
       "        vertical-align: top;\n",
       "    }\n",
       "\n",
       "    .dataframe thead tr th {\n",
       "        text-align: left;\n",
       "    }\n",
       "\n",
       "    .dataframe thead tr:last-of-type th {\n",
       "        text-align: right;\n",
       "    }\n",
       "</style>\n",
       "<table border=\"1\" class=\"dataframe\">\n",
       "  <thead>\n",
       "    <tr>\n",
       "      <th></th>\n",
       "      <th colspan=\"2\" halign=\"left\">populacao_estimada</th>\n",
       "    </tr>\n",
       "    <tr>\n",
       "      <th></th>\n",
       "      <th>mean</th>\n",
       "      <th>std</th>\n",
       "    </tr>\n",
       "    <tr>\n",
       "      <th>regiao</th>\n",
       "      <th></th>\n",
       "      <th></th>\n",
       "    </tr>\n",
       "  </thead>\n",
       "  <tbody>\n",
       "    <tr>\n",
       "      <th>Centro-Oeste</th>\n",
       "      <td>35775.880086</td>\n",
       "      <td>172714.901533</td>\n",
       "    </tr>\n",
       "    <tr>\n",
       "      <th>Nordeste</th>\n",
       "      <td>29827.873835</td>\n",
       "      <td>117781.505810</td>\n",
       "    </tr>\n",
       "    <tr>\n",
       "      <th>Norte</th>\n",
       "      <td>42015.471111</td>\n",
       "      <td>140141.406672</td>\n",
       "    </tr>\n",
       "    <tr>\n",
       "      <th>Sudeste</th>\n",
       "      <td>53736.757794</td>\n",
       "      <td>364442.832617</td>\n",
       "    </tr>\n",
       "    <tr>\n",
       "      <th>Sul</th>\n",
       "      <td>25526.941226</td>\n",
       "      <td>88461.904412</td>\n",
       "    </tr>\n",
       "  </tbody>\n",
       "</table>\n",
       "</div>"
      ],
      "text/plain": [
       "             populacao_estimada               \n",
       "                           mean            std\n",
       "regiao                                        \n",
       "Centro-Oeste       35775.880086  172714.901533\n",
       "Nordeste           29827.873835  117781.505810\n",
       "Norte              42015.471111  140141.406672\n",
       "Sudeste            53736.757794  364442.832617\n",
       "Sul                25526.941226   88461.904412"
      ]
     },
     "execution_count": 113,
     "metadata": {},
     "output_type": "execute_result"
    }
   ],
   "source": [
    "# Outro jeito por agg(agragate)\n",
    "\n",
    "df_reg.groupby('regiao').agg({'populacao_estimada': ['mean', 'std']})"
   ]
  },
  {
   "cell_type": "code",
   "execution_count": 114,
   "id": "295dc214-df98-4c9e-9fdf-f11ab2bdc22f",
   "metadata": {
    "tags": []
   },
   "outputs": [
    {
     "data": {
      "text/html": [
       "<div>\n",
       "<style scoped>\n",
       "    .dataframe tbody tr th:only-of-type {\n",
       "        vertical-align: middle;\n",
       "    }\n",
       "\n",
       "    .dataframe tbody tr th {\n",
       "        vertical-align: top;\n",
       "    }\n",
       "\n",
       "    .dataframe thead tr th {\n",
       "        text-align: left;\n",
       "    }\n",
       "\n",
       "    .dataframe thead tr:last-of-type th {\n",
       "        text-align: right;\n",
       "    }\n",
       "</style>\n",
       "<table border=\"1\" class=\"dataframe\">\n",
       "  <thead>\n",
       "    <tr>\n",
       "      <th></th>\n",
       "      <th>mean</th>\n",
       "      <th>std</th>\n",
       "    </tr>\n",
       "    <tr>\n",
       "      <th></th>\n",
       "      <th>populacao_estimada</th>\n",
       "      <th>populacao_estimada</th>\n",
       "    </tr>\n",
       "    <tr>\n",
       "      <th>regiao</th>\n",
       "      <th></th>\n",
       "      <th></th>\n",
       "    </tr>\n",
       "  </thead>\n",
       "  <tbody>\n",
       "    <tr>\n",
       "      <th>Centro-Oeste</th>\n",
       "      <td>35775.880086</td>\n",
       "      <td>172714.901533</td>\n",
       "    </tr>\n",
       "    <tr>\n",
       "      <th>Nordeste</th>\n",
       "      <td>29827.873835</td>\n",
       "      <td>117781.505810</td>\n",
       "    </tr>\n",
       "    <tr>\n",
       "      <th>Norte</th>\n",
       "      <td>42015.471111</td>\n",
       "      <td>140141.406672</td>\n",
       "    </tr>\n",
       "    <tr>\n",
       "      <th>Sudeste</th>\n",
       "      <td>53736.757794</td>\n",
       "      <td>364442.832617</td>\n",
       "    </tr>\n",
       "    <tr>\n",
       "      <th>Sul</th>\n",
       "      <td>25526.941226</td>\n",
       "      <td>88461.904412</td>\n",
       "    </tr>\n",
       "  </tbody>\n",
       "</table>\n",
       "</div>"
      ],
      "text/plain": [
       "                           mean                std\n",
       "             populacao_estimada populacao_estimada\n",
       "regiao                                            \n",
       "Centro-Oeste       35775.880086      172714.901533\n",
       "Nordeste           29827.873835      117781.505810\n",
       "Norte              42015.471111      140141.406672\n",
       "Sudeste            53736.757794      364442.832617\n",
       "Sul                25526.941226       88461.904412"
      ]
     },
     "execution_count": 114,
     "metadata": {},
     "output_type": "execute_result"
    }
   ],
   "source": [
    "df_reg.pivot_table(index = 'regiao', values = 'populacao_estimada', aggfunc = ['mean', 'std'])"
   ]
  },
  {
   "cell_type": "markdown",
   "id": "deee974e",
   "metadata": {
    "id": "deee974e"
   },
   "source": [
    "### Bora praticar!"
   ]
  },
  {
   "cell_type": "markdown",
   "id": "fa51db0d",
   "metadata": {},
   "source": [
    "Importe novamente o DataFrame **alunos3.csv** usado nos exercícios da aula passada para responder às questões abaixo:"
   ]
  },
  {
   "cell_type": "code",
   "execution_count": 115,
   "id": "b4e60d79",
   "metadata": {
    "tags": []
   },
   "outputs": [],
   "source": [
    "df_notas = pd.read_csv('./dados/alunos3.csv', sep = ';', decimal = ',')"
   ]
  },
  {
   "cell_type": "markdown",
   "id": "9fcb851d",
   "metadata": {},
   "source": [
    "Primeiramente utilize o mesmo código da aula passada para calcular a média das 4 provas."
   ]
  },
  {
   "cell_type": "code",
   "execution_count": 117,
   "id": "7814b9c0",
   "metadata": {
    "tags": []
   },
   "outputs": [],
   "source": [
    "df_notas['media_provas'] = (df_notas['Prova_1'] + df_notas['Prova_2'] + df_notas['Prova_3'] + df_notas['Prova_4'])/ 4"
   ]
  },
  {
   "cell_type": "markdown",
   "id": "317131ae",
   "metadata": {
    "id": "317131ae"
   },
   "source": [
    "1) Quem foram os alunos que obtiveram a maior e a menor média"
   ]
  },
  {
   "cell_type": "code",
   "execution_count": 120,
   "id": "21cb77e7-d622-45eb-b887-a041be4ba679",
   "metadata": {
    "tags": []
   },
   "outputs": [
    {
     "data": {
      "text/html": [
       "<div>\n",
       "<style scoped>\n",
       "    .dataframe tbody tr th:only-of-type {\n",
       "        vertical-align: middle;\n",
       "    }\n",
       "\n",
       "    .dataframe tbody tr th {\n",
       "        vertical-align: top;\n",
       "    }\n",
       "\n",
       "    .dataframe thead th {\n",
       "        text-align: right;\n",
       "    }\n",
       "</style>\n",
       "<table border=\"1\" class=\"dataframe\">\n",
       "  <thead>\n",
       "    <tr style=\"text-align: right;\">\n",
       "      <th></th>\n",
       "      <th>RA</th>\n",
       "      <th>Nome</th>\n",
       "      <th>Frequencia</th>\n",
       "      <th>Prova_1</th>\n",
       "      <th>Prova_2</th>\n",
       "      <th>Prova_3</th>\n",
       "      <th>Prova_4</th>\n",
       "      <th>media_provas</th>\n",
       "    </tr>\n",
       "  </thead>\n",
       "  <tbody>\n",
       "    <tr>\n",
       "      <th>0</th>\n",
       "      <td>110201</td>\n",
       "      <td>Antonio Carlos</td>\n",
       "      <td>20</td>\n",
       "      <td>6.5</td>\n",
       "      <td>8.5</td>\n",
       "      <td>7.0</td>\n",
       "      <td>6</td>\n",
       "      <td>7.00</td>\n",
       "    </tr>\n",
       "    <tr>\n",
       "      <th>1</th>\n",
       "      <td>110212</td>\n",
       "      <td>Ana Beatriz</td>\n",
       "      <td>20</td>\n",
       "      <td>7.0</td>\n",
       "      <td>7.0</td>\n",
       "      <td>7.0</td>\n",
       "      <td>8</td>\n",
       "      <td>7.25</td>\n",
       "    </tr>\n",
       "    <tr>\n",
       "      <th>2</th>\n",
       "      <td>110218</td>\n",
       "      <td>Carlos Vernes</td>\n",
       "      <td>17</td>\n",
       "      <td>7.0</td>\n",
       "      <td>7.0</td>\n",
       "      <td>7.0</td>\n",
       "      <td>7</td>\n",
       "      <td>7.00</td>\n",
       "    </tr>\n",
       "    <tr>\n",
       "      <th>3</th>\n",
       "      <td>110307</td>\n",
       "      <td>Francisco Cunha</td>\n",
       "      <td>20</td>\n",
       "      <td>9.0</td>\n",
       "      <td>8.5</td>\n",
       "      <td>8.5</td>\n",
       "      <td>10</td>\n",
       "      <td>9.00</td>\n",
       "    </tr>\n",
       "    <tr>\n",
       "      <th>4</th>\n",
       "      <td>110275</td>\n",
       "      <td>Sandra Rosa</td>\n",
       "      <td>15</td>\n",
       "      <td>6.5</td>\n",
       "      <td>7.5</td>\n",
       "      <td>7.0</td>\n",
       "      <td>7</td>\n",
       "      <td>7.00</td>\n",
       "    </tr>\n",
       "  </tbody>\n",
       "</table>\n",
       "</div>"
      ],
      "text/plain": [
       "       RA             Nome  Frequencia  Prova_1  Prova_2  Prova_3  Prova_4  \\\n",
       "0  110201   Antonio Carlos          20      6.5      8.5      7.0        6   \n",
       "1  110212      Ana Beatriz          20      7.0      7.0      7.0        8   \n",
       "2  110218    Carlos Vernes          17      7.0      7.0      7.0        7   \n",
       "3  110307  Francisco Cunha          20      9.0      8.5      8.5       10   \n",
       "4  110275      Sandra Rosa          15      6.5      7.5      7.0        7   \n",
       "\n",
       "   media_provas  \n",
       "0          7.00  \n",
       "1          7.25  \n",
       "2          7.00  \n",
       "3          9.00  \n",
       "4          7.00  "
      ]
     },
     "execution_count": 120,
     "metadata": {},
     "output_type": "execute_result"
    }
   ],
   "source": [
    "df_notas.head()"
   ]
  },
  {
   "cell_type": "code",
   "execution_count": 121,
   "id": "25ee28f3",
   "metadata": {
    "id": "25ee28f3",
    "tags": []
   },
   "outputs": [
    {
     "name": "stdout",
     "output_type": "stream",
     "text": [
      "Aluno com a maior nota: José Valente\n",
      "Aluno com a menor nota: Joao Galo\n"
     ]
    }
   ],
   "source": [
    "#df_muni.loc[df_muni['UF'] == 'SP', :]\n",
    "\n",
    "df_notas_ordenado = df_notas.sort_values(by='media_provas')\n",
    "\n",
    "aluno_min_nota = df_notas_ordenado.iloc[0]['Nome']\n",
    "aluno_max_nota = df_notas_ordenado.iloc[-1]['Nome']\n",
    "\n",
    "print(f'Aluno com a maior nota: {aluno_max_nota}\\nAluno com a menor nota: {aluno_min_nota}')"
   ]
  },
  {
   "cell_type": "markdown",
   "id": "d06f3bb6",
   "metadata": {},
   "source": [
    "2. Crie uma coluna de ```status``` que possui o status de aprovação dos alunos seguindo os seguintes critérios, a partir da média das provas.\n",
    "- até 5: Reprovado \n",
    "- acima de 5 e até 7: Recuperacao\n",
    "- acima de 7: Aprovado"
   ]
  },
  {
   "cell_type": "code",
   "execution_count": null,
   "id": "850a8f9d",
   "metadata": {},
   "outputs": [],
   "source": []
  },
  {
   "cell_type": "markdown",
   "id": "9078986d",
   "metadata": {
    "id": "9078986d"
   },
   "source": [
    "3) Importe o arquivo ```cadastro_alunos.xlsx``` em um DataFrame ```df_cadastro``` e una este dataframe com o ```df_notas``` chamando de ```df_escola```"
   ]
  },
  {
   "cell_type": "code",
   "execution_count": null,
   "id": "01f60e7b",
   "metadata": {},
   "outputs": [],
   "source": []
  },
  {
   "cell_type": "code",
   "execution_count": null,
   "id": "9636699c",
   "metadata": {
    "id": "9636699c"
   },
   "outputs": [],
   "source": []
  },
  {
   "cell_type": "markdown",
   "id": "a26fb340",
   "metadata": {
    "id": "a26fb340"
   },
   "source": [
    "4) Qual a média entre as Media_provas dentro do público feminino? e masculino?"
   ]
  },
  {
   "cell_type": "code",
   "execution_count": null,
   "id": "6c9bd524",
   "metadata": {
    "id": "6c9bd524"
   },
   "outputs": [],
   "source": []
  },
  {
   "cell_type": "markdown",
   "id": "e93d6402",
   "metadata": {
    "id": "e93d6402"
   },
   "source": [
    "5) Qual a média de idade das pessoas que obtiveram Media_provas maior ou igual a 7?"
   ]
  },
  {
   "cell_type": "code",
   "execution_count": null,
   "id": "b90d4494",
   "metadata": {
    "id": "b90d4494"
   },
   "outputs": [],
   "source": []
  },
  {
   "cell_type": "markdown",
   "id": "cdfe1af6",
   "metadata": {},
   "source": [
    "6) Faça um código para mostrar a médias da coluna Media_provas entre as cidades, mostrando o valor para cada uma bem como ordenando de forma decrescente? "
   ]
  },
  {
   "cell_type": "code",
   "execution_count": null,
   "id": "71bfbb05",
   "metadata": {},
   "outputs": [],
   "source": []
  },
  {
   "cell_type": "markdown",
   "id": "a33f4818",
   "metadata": {},
   "source": [
    "## Mini tarefa"
   ]
  },
  {
   "cell_type": "markdown",
   "id": "58113dfe",
   "metadata": {},
   "source": [
    "A partir do dataframe df_escola é possível obter as médias de notas de cada cidade a partir da coluna Media_provas. Realizando este calculo e ordenando de forma decrescente, responda no [link](https://forms.gle/a7Lzb7cxN4d2FzK16), qual cidade possui maior média? E qual é esta média?"
   ]
  },
  {
   "cell_type": "code",
   "execution_count": null,
   "id": "5844f15c",
   "metadata": {},
   "outputs": [],
   "source": []
  }
 ],
 "metadata": {
  "colab": {
   "provenance": []
  },
  "kernelspec": {
   "display_name": "Python 3 (ipykernel)",
   "language": "python",
   "name": "python3"
  },
  "language_info": {
   "codemirror_mode": {
    "name": "ipython",
    "version": 3
   },
   "file_extension": ".py",
   "mimetype": "text/x-python",
   "name": "python",
   "nbconvert_exporter": "python",
   "pygments_lexer": "ipython3",
   "version": "3.11.5"
  },
  "vscode": {
   "interpreter": {
    "hash": "6b93bc143cf2aa4a53884dec4d65996ee4069beae8d4d0185b09d3e6e44a43f0"
   }
  }
 },
 "nbformat": 4,
 "nbformat_minor": 5
}
