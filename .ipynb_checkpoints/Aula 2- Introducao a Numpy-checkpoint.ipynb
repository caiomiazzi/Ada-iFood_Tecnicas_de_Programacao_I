{
 "cells": [
  {
   "cell_type": "markdown",
   "id": "396e845d",
   "metadata": {},
   "source": [
    "# Numpy\n",
    "\n",
    "Hoje, vamos começara ver a biblioteca matemática mais importante pro ecossistema \n",
    "científico do Python: O Numpy."
   ]
  },
  {
   "cell_type": "markdown",
   "id": "a5994e92",
   "metadata": {},
   "source": [
    "Vamos relembrar alguns conceitos"
   ]
  },
  {
   "cell_type": "code",
   "execution_count": 2,
   "id": "df7119fb",
   "metadata": {},
   "outputs": [],
   "source": [
    "lista = ['s', 2, 2.4, True, [1,3], {'a': 1}]"
   ]
  },
  {
   "cell_type": "code",
   "execution_count": 3,
   "id": "a2b0a0b5",
   "metadata": {},
   "outputs": [],
   "source": [
    "lista.append('Oi')"
   ]
  },
  {
   "cell_type": "code",
   "execution_count": 4,
   "id": "6a9d0ef4",
   "metadata": {},
   "outputs": [
    {
     "data": {
      "text/plain": [
       "['s', 2, 2.4, True, [1, 3], {'a': 1}, 'Oi']"
      ]
     },
     "execution_count": 4,
     "metadata": {},
     "output_type": "execute_result"
    }
   ],
   "source": [
    "lista"
   ]
  },
  {
   "cell_type": "code",
   "execution_count": null,
   "id": "255aec1a",
   "metadata": {},
   "outputs": [],
   "source": [
    "a = 42.5"
   ]
  },
  {
   "cell_type": "code",
   "execution_count": null,
   "id": "5fd19229",
   "metadata": {},
   "outputs": [],
   "source": [
    "a = 'aaaa'"
   ]
  },
  {
   "cell_type": "code",
   "execution_count": null,
   "id": "fc5445f4",
   "metadata": {},
   "outputs": [],
   "source": []
  },
  {
   "cell_type": "markdown",
   "id": "f7b40eb6",
   "metadata": {},
   "source": [
    "A biblioteca **NumPy** _(Numerical Python)_ proporciona uma forma eficiente de armazenagem e processamento de conjuntos de dados, e é utilizada como base para a construção da biblioteca Pandas, que estudaremos a seguir.\n",
    "\n",
    "O diferencial do Numpy é sua velocidade e eficiência, o que faz com que ela seja amplamente utilizada para computação científica e analise de dados. \n",
    "\n",
    "A velocidade e eficiência é possível graças à estrutura chamada **numpy array**, que é um forma eficiente de guardar e manipular matrizes, que serve como base para as tabelas que iremos utilizar."
   ]
  },
  {
   "cell_type": "code",
   "execution_count": 2,
   "id": "9c2e96a9",
   "metadata": {},
   "outputs": [],
   "source": [
    "# A gente importa o numpy sempre chamando ele de \"np\"\n",
    "import numpy as np"
   ]
  },
  {
   "cell_type": "code",
   "execution_count": 7,
   "id": "e70ebe21",
   "metadata": {},
   "outputs": [
    {
     "name": "stdout",
     "output_type": "stream",
     "text": [
      "[[1, 2, 3]]\n",
      "<class 'list'>\n"
     ]
    }
   ],
   "source": [
    "# Vamos fazer uma comparação com uma lista de Python\n",
    "py_array = [[1, 2, 3]]\n",
    "print(py_array)\n",
    "print(type(py_array))"
   ]
  },
  {
   "cell_type": "code",
   "execution_count": 8,
   "id": "e8d181e7",
   "metadata": {},
   "outputs": [
    {
     "name": "stdout",
     "output_type": "stream",
     "text": [
      "<class 'list'>\n"
     ]
    }
   ],
   "source": [
    "# Uma lista com 2 dimensões é uma lista de listas\n",
    "print(type(py_array[0]))\n"
   ]
  },
  {
   "cell_type": "code",
   "execution_count": 9,
   "id": "7ab9fbe9",
   "metadata": {},
   "outputs": [
    {
     "name": "stdout",
     "output_type": "stream",
     "text": [
      "[[1 2 3]]\n",
      "<class 'numpy.ndarray'>\n"
     ]
    }
   ],
   "source": [
    "# Nota como o tipo da variável muda para \"ndarray\"\n",
    "np_array = np.array(py_array)\n",
    "\n",
    "print(np_array)\n",
    "print(type(np_array))"
   ]
  },
  {
   "cell_type": "code",
   "execution_count": 10,
   "id": "3908c9a0",
   "metadata": {},
   "outputs": [
    {
     "name": "stdout",
     "output_type": "stream",
     "text": [
      "[['1' 'a' '3']]\n",
      "<class 'numpy.ndarray'>\n"
     ]
    }
   ],
   "source": [
    "py_array_string = [[1, 'a', 3]]\n",
    "np_array_string = np.array(py_array_string)\n",
    "\n",
    "print(np_array_string)\n",
    "print(type(np_array_string))"
   ]
  },
  {
   "cell_type": "code",
   "execution_count": null,
   "id": "5f3a07bf",
   "metadata": {},
   "outputs": [],
   "source": [
    "# Mas no  numpy, um ndarray continua sendo formado de ndarrays."
   ]
  },
  {
   "cell_type": "code",
   "execution_count": 11,
   "id": "ad7087b8",
   "metadata": {},
   "outputs": [
    {
     "name": "stdout",
     "output_type": "stream",
     "text": [
      "(1, 3)\n",
      "2\n",
      "int32\n"
     ]
    }
   ],
   "source": [
    "# 3 atributos básicos pra um ndarray\n",
    "\n",
    "print(np_array.shape) # O formato do array\n",
    "print(np_array.ndim) # A quantidade de dimensões\n",
    "print(np_array.dtype) # O tipo de dado dos elementos do array"
   ]
  },
  {
   "cell_type": "code",
   "execution_count": 12,
   "id": "61e3d7b5",
   "metadata": {},
   "outputs": [
    {
     "ename": "NameError",
     "evalue": "name 'no' is not defined",
     "output_type": "error",
     "traceback": [
      "\u001b[1;31m---------------------------------------------------------------------------\u001b[0m",
      "\u001b[1;31mNameError\u001b[0m                                 Traceback (most recent call last)",
      "Cell \u001b[1;32mIn[12], line 1\u001b[0m\n\u001b[1;32m----> 1\u001b[0m x \u001b[38;5;241m=\u001b[39m \u001b[43mno\u001b[49m\u001b[38;5;241m.\u001b[39marray([\u001b[38;5;241m1\u001b[39m, \u001b[38;5;241m2\u001b[39m, \u001b[38;5;241m3\u001b[39m,])\n\u001b[0;32m      2\u001b[0m \u001b[38;5;28mprint\u001b[39m(\u001b[38;5;28mtype\u001b[39m(x))\n",
      "\u001b[1;31mNameError\u001b[0m: name 'no' is not defined"
     ]
    }
   ],
   "source": [
    "x = no.array([1, 2, 3,])\n",
    "print(type(x))"
   ]
  },
  {
   "cell_type": "code",
   "execution_count": 13,
   "id": "984f58cd",
   "metadata": {},
   "outputs": [],
   "source": [
    "# O dtype de um array do numpy pode ser controlado na hora que a gente cria.\n",
    "py_array = [1, 2, 3]\n",
    "\n",
    "array_int = np.array(py_array, dtype = np.float64)\n",
    "#array_int = np.array(py_array, np.float64) # Eu posso tambem fazer assim sem especificar o 'dtype = '"
   ]
  },
  {
   "cell_type": "code",
   "execution_count": 14,
   "id": "23d3f5a4",
   "metadata": {},
   "outputs": [
    {
     "name": "stdout",
     "output_type": "stream",
     "text": [
      "[1. 2. 3.]\n",
      "float64\n"
     ]
    }
   ],
   "source": [
    "print(array_int)\n",
    "print(array_int.dtype)"
   ]
  },
  {
   "cell_type": "code",
   "execution_count": 15,
   "id": "26597647",
   "metadata": {},
   "outputs": [
    {
     "name": "stdout",
     "output_type": "stream",
     "text": [
      "[1. 2. 3.]\n",
      "float64\n"
     ]
    }
   ],
   "source": [
    "# Mas quando a gente não define, ele infere a partir dos nossos dados.\n",
    "\n",
    "py_array_2 = [1.0, 2, 3]\n",
    "\n",
    "array_float = np.array(py_array_2)\n",
    "\n",
    "print(array_float)\n",
    "print(array_float.dtype)"
   ]
  },
  {
   "cell_type": "code",
   "execution_count": 16,
   "id": "25019902",
   "metadata": {},
   "outputs": [
    {
     "name": "stdout",
     "output_type": "stream",
     "text": [
      "3.0\n"
     ]
    }
   ],
   "source": [
    "# Para selecionar um elemento de uma tabela no Python e no Numpy, tem uma ligeira diferença.\n",
    "\n",
    "print(array_float[2])"
   ]
  },
  {
   "cell_type": "markdown",
   "id": "ea6b13b7",
   "metadata": {},
   "source": [
    "**Revisando**"
   ]
  },
  {
   "cell_type": "code",
   "execution_count": 18,
   "id": "08c1bea8",
   "metadata": {},
   "outputs": [
    {
     "name": "stdout",
     "output_type": "stream",
     "text": [
      "1\n",
      "4\n",
      "9\n"
     ]
    }
   ],
   "source": [
    "# No Python, existe o conceito de \"indexing\", que é pegar elementos pelo seu índice (a sua posição) \n",
    "lista = [1, 2, 3, 4, 5, 6, 7, 8, 9]\n",
    "\n",
    "print(lista[0])\n",
    "print(lista[3])\n",
    "print(lista[-1])"
   ]
  },
  {
   "cell_type": "code",
   "execution_count": null,
   "id": "79573a18",
   "metadata": {},
   "outputs": [],
   "source": []
  },
  {
   "cell_type": "code",
   "execution_count": 21,
   "id": "25ad1f32",
   "metadata": {},
   "outputs": [
    {
     "name": "stdout",
     "output_type": "stream",
     "text": [
      "[1, 2, 3, 4, 5, 6, 7, 8, 9]\n",
      "[3]\n",
      "[3, 4, 5, 6]\n"
     ]
    }
   ],
   "source": [
    "# Também existe uma forma de pegar um subconjunto da lista.\n",
    "# A gente chama isso de \"slicing\". Nota que o último elemento não entra!\n",
    "print(lista[:])\n",
    "print(lista[2:3])\n",
    "print(lista[2:-3])"
   ]
  },
  {
   "cell_type": "code",
   "execution_count": 23,
   "id": "a1e06838",
   "metadata": {},
   "outputs": [
    {
     "name": "stdout",
     "output_type": "stream",
     "text": [
      "[1, 2, 3, 4, 5, 6]\n",
      "[7, 8, 9]\n"
     ]
    }
   ],
   "source": [
    "# Podemos definir um início também pro slicing.\n",
    "# Quando não colocamos nada, ele assume que o início é 0.\n",
    "# No caso do fim, se não colocamos nada, ele assume que o fim é o último elemento.\n",
    "print(lista[:-3])\n",
    "print(lista[-3:])"
   ]
  },
  {
   "cell_type": "code",
   "execution_count": 25,
   "id": "8d08c2f9",
   "metadata": {
    "scrolled": true
   },
   "outputs": [
    {
     "name": "stdout",
     "output_type": "stream",
     "text": [
      "[1, 3, 5, 7, 9]\n",
      "[9, 8, 7, 6, 5, 4, 3, 2, 1]\n"
     ]
    }
   ],
   "source": [
    "# O poder do slicing é que a gente pode definir diferentes tamanhos de passo (step)\n",
    "\n",
    "print(lista[0:9:2])\n",
    "print(lista[::-1])"
   ]
  },
  {
   "cell_type": "markdown",
   "id": "4ed4c99b",
   "metadata": {},
   "source": [
    "Também podemos aplicar o conceito do slicing no numpy"
   ]
  },
  {
   "cell_type": "code",
   "execution_count": 28,
   "id": "c6851172",
   "metadata": {},
   "outputs": [
    {
     "name": "stdout",
     "output_type": "stream",
     "text": [
      "3.0\n",
      "[1.]\n",
      "[3. 1.]\n"
     ]
    }
   ],
   "source": [
    "print(array_int[2])\n",
    "print(array_int[:1])\n",
    "print(array_int[-1:-5:-2])"
   ]
  },
  {
   "cell_type": "markdown",
   "id": "e864132c",
   "metadata": {},
   "source": [
    "**Funções numpy**  \n",
    "O numpy também tem diversas funções para facilitar criação de arrays."
   ]
  },
  {
   "cell_type": "code",
   "execution_count": 32,
   "id": "cb47ae67",
   "metadata": {},
   "outputs": [
    {
     "name": "stdout",
     "output_type": "stream",
     "text": [
      "[0. 0. 0. 0. 0. 0. 0. 0. 0. 0.]\n",
      "[1. 1. 1. 1. 1.]\n",
      "[[1. 0. 0. 0.]\n",
      " [0. 1. 0. 0.]\n",
      " [0. 0. 1. 0.]\n",
      " [0. 0. 0. 1.]]\n",
      "[[1. 0. 0.]\n",
      " [0. 1. 0.]\n",
      " [0. 0. 1.]\n",
      " [0. 0. 0.]]\n"
     ]
    }
   ],
   "source": [
    "print(np.zeros(10)) # o np.zeros me traz a qtde de 0 que eu passar como argumento\n",
    "print(np.ones(5))  # igualmente ao np.zeros porem com 1\n",
    "\n",
    "# Alguns spoilers\n",
    "print(np.identity(4)) # traz a matriz identidade, matriz quadrada \n",
    "print(np.eye(4,3)) # matriz olho, traz a diagonal principal com 1 mas não é quadrada igual a identidade"
   ]
  },
  {
   "cell_type": "code",
   "execution_count": 40,
   "id": "55a44241",
   "metadata": {},
   "outputs": [
    {
     "data": {
      "text/plain": [
       "[2, 4, 6, 8]"
      ]
     },
     "execution_count": 40,
     "metadata": {},
     "output_type": "execute_result"
    }
   ],
   "source": [
    "# Relembrando a função range\n",
    "\n",
    "list(range(2, 10, 2))"
   ]
  },
  {
   "cell_type": "code",
   "execution_count": 41,
   "id": "577f8ac5",
   "metadata": {},
   "outputs": [
    {
     "name": "stdout",
     "output_type": "stream",
     "text": [
      "[2 4 6 8]\n",
      "\n",
      "[10.5 11.  11.5 12.  12.5 13.  13.5 14.  14.5 15.  15.5 16.  16.5 17.\n",
      " 17.5 18.  18.5 19.  19.5 20.  20.5 21.  21.5 22.  22.5 23.  23.5 24.\n",
      " 24.5 25.  25.5 26.  26.5 27.  27.5 28.  28.5 29.  29.5 30. ]\n"
     ]
    }
   ],
   "source": [
    "# Também podemos fazer listas de números.\n",
    "print(np.arange(2, 10, 2))\n",
    "print()\n",
    "print(np.arange(10.5, 30.5, 0.5))"
   ]
  },
  {
   "cell_type": "code",
   "execution_count": 42,
   "id": "3d1d95da-1da4-451d-8379-d90067f2167c",
   "metadata": {
    "tags": []
   },
   "outputs": [
    {
     "name": "stdout",
     "output_type": "stream",
     "text": [
      "[10.         12.22222222 14.44444444 16.66666667 18.88888889 21.11111111\n",
      " 23.33333333 25.55555556 27.77777778 30.        ]\n"
     ]
    }
   ],
   "source": [
    "print(np.linspace(10,30,10)) #np.linspace(10começo, 30fim ,10 qtde de valores)) e o linspace estarão espaçados com o mesmo espaço"
   ]
  },
  {
   "cell_type": "markdown",
   "id": "f4de84d1",
   "metadata": {},
   "source": [
    "# Operações Básicas"
   ]
  },
  {
   "cell_type": "code",
   "execution_count": 47,
   "id": "35472610",
   "metadata": {},
   "outputs": [
    {
     "name": "stdout",
     "output_type": "stream",
     "text": [
      "[0 1 2 3 4 5 6 7 8 9]\n",
      "[ 0  2  4  6  8 10 12 14 16 18]\n"
     ]
    }
   ],
   "source": [
    "# Se a força do numpy é ter tudo operando como vetores, \n",
    "# então ele tem que ter operações de vetores.\n",
    "\n",
    "vetor1 = np.arange(0,10)\n",
    "vetor2 = np.arange(0, 20, 2)\n",
    "\n",
    "print(vetor1)\n",
    "print(vetor2)"
   ]
  },
  {
   "cell_type": "code",
   "execution_count": 48,
   "id": "bf86da54",
   "metadata": {},
   "outputs": [
    {
     "name": "stdout",
     "output_type": "stream",
     "text": [
      "[ 0  3  6  9 12 15 18 21 24 27]\n"
     ]
    }
   ],
   "source": [
    "# Soma por elemento\n",
    "print(vetor1 + vetor2)"
   ]
  },
  {
   "cell_type": "code",
   "execution_count": 49,
   "id": "cf606dab",
   "metadata": {},
   "outputs": [
    {
     "name": "stdout",
     "output_type": "stream",
     "text": [
      "[  0   2   8  18  32  50  72  98 128 162]\n"
     ]
    }
   ],
   "source": [
    "# Multiplicação elemento por elemento\n",
    "print(vetor1 * vetor2)"
   ]
  },
  {
   "cell_type": "code",
   "execution_count": 51,
   "id": "97971086",
   "metadata": {},
   "outputs": [
    {
     "name": "stdout",
     "output_type": "stream",
     "text": [
      "570\n",
      "\n",
      "570\n"
     ]
    }
   ],
   "source": [
    "# produto de matrizes (neste caso, produto escalar)\n",
    "# Isso é multiplicar elemento por elemento, e depois somar\n",
    "\n",
    "print((vetor1 * vetor2).sum())\n",
    "print()\n",
    "print( vetor1 @ vetor2) # o @ tambem faz o produto escalar"
   ]
  },
  {
   "cell_type": "markdown",
   "id": "a830d605",
   "metadata": {},
   "source": [
    "## Bora praticar!"
   ]
  },
  {
   "cell_type": "markdown",
   "id": "decc3719",
   "metadata": {},
   "source": [
    "1) Inverta um vetor (o primeiro elemento vira o último). Para testar crie um vetor a partir da seguinte lista [0, 5, 1, 9, 9, 87]"
   ]
  },
  {
   "cell_type": "code",
   "execution_count": 53,
   "id": "334ec634",
   "metadata": {},
   "outputs": [
    {
     "name": "stdout",
     "output_type": "stream",
     "text": [
      "[87  9  9  1  5  0]\n"
     ]
    }
   ],
   "source": [
    "lista = [0, 5, 1, 9, 9, 87]\n",
    "\n",
    "np_lista = np.array(lista)\n",
    "\n",
    "np_listaInversa = np_lista[::-1]\n",
    "\n",
    "print(np_listaInversa)"
   ]
  },
  {
   "cell_type": "markdown",
   "id": "22f43f5a",
   "metadata": {},
   "source": [
    "2) Crie um vetor com valores que vão de 1 até 21 de dois em dois, a partir da função arange"
   ]
  },
  {
   "cell_type": "code",
   "execution_count": 56,
   "id": "d1435bb6",
   "metadata": {},
   "outputs": [
    {
     "name": "stdout",
     "output_type": "stream",
     "text": [
      "[ 1  3  5  7  9 11 13 15 17 19 21]\n"
     ]
    }
   ],
   "source": [
    "vetor_ex2 = np.arange(1,22,2)\n",
    "print(vetor_ex2)"
   ]
  },
  {
   "cell_type": "markdown",
   "id": "a13b9a8f",
   "metadata": {},
   "source": [
    "3) Ache os índices dos elementos não-zero a partir do array [1,2,0,0,4,0]"
   ]
  },
  {
   "cell_type": "code",
   "execution_count": 71,
   "id": "54173573",
   "metadata": {},
   "outputs": [
    {
     "data": {
      "text/plain": [
       "array([0, 1, 4], dtype=int64)"
      ]
     },
     "execution_count": 71,
     "metadata": {},
     "output_type": "execute_result"
    }
   ],
   "source": [
    "array_ex3 = np.array([1,2,0,0,4,0])\n",
    "\n",
    "# indices = [i for i in range(len(array_ex3)) if array_ex3[i] != 0]\n",
    "# print(indices)\n",
    "\n",
    "# outra forma\n",
    "\n",
    "#np.where(array_ex3 != 0)\n",
    "\n",
    "# Mais uma forma\n",
    "\n",
    "np.nonzero(array_ex3)[0]"
   ]
  },
  {
   "cell_type": "markdown",
   "id": "a440386d",
   "metadata": {},
   "source": [
    "E se a gente quisesse pegar os elementos diferentes de zero?"
   ]
  },
  {
   "cell_type": "code",
   "execution_count": 75,
   "id": "80276ee0",
   "metadata": {},
   "outputs": [
    {
     "data": {
      "text/plain": [
       "array([1, 2, 4])"
      ]
     },
     "execution_count": 75,
     "metadata": {},
     "output_type": "execute_result"
    }
   ],
   "source": [
    "#print((array_ex3[0]),(array_ex3[1]), (array_ex3[-2]))\n",
    "\n",
    "#elementos_NaoZero = [i for i in array_ex3 if i != 0]\n",
    "\n",
    "#print(elementos_NaoZero)\n",
    "\n",
    "# outra forma\n",
    "\n",
    "array_ex3[array_ex3 != 0] # Estou utilizando a ideia de slice para usar com uma condição de verdadeiros e falsos e faço um filtro e trago somente o que cumpre a condição."
   ]
  },
  {
   "cell_type": "markdown",
   "id": "c8badc9d",
   "metadata": {},
   "source": [
    "4) Crie uma matriz identidade 3x3"
   ]
  },
  {
   "cell_type": "code",
   "execution_count": 60,
   "id": "bb39a57e",
   "metadata": {},
   "outputs": [
    {
     "name": "stdout",
     "output_type": "stream",
     "text": [
      "[[1. 0. 0.]\n",
      " [0. 1. 0.]\n",
      " [0. 0. 1.]]\n"
     ]
    }
   ],
   "source": [
    "print(np.identity(3))"
   ]
  },
  {
   "cell_type": "markdown",
   "id": "81c1b69e",
   "metadata": {},
   "source": [
    "5) Crie um array de 10 com valores aleatórios "
   ]
  },
  {
   "cell_type": "code",
   "execution_count": 62,
   "id": "412fcfb6",
   "metadata": {},
   "outputs": [
    {
     "name": "stdout",
     "output_type": "stream",
     "text": [
      "[0.40738168 0.36005496 0.19338837 0.34754504 0.2906996  0.65985188\n",
      " 0.32108789 0.78259966 0.38162237 0.43657083]\n"
     ]
    }
   ],
   "source": [
    "print(np.random.rand(10))"
   ]
  },
  {
   "cell_type": "markdown",
   "id": "bf75c0c6",
   "metadata": {},
   "source": [
    "6) Crie um array 100 com valores aleatórios e ache os valores máximo e mínimo"
   ]
  },
  {
   "cell_type": "code",
   "execution_count": 78,
   "id": "53880205",
   "metadata": {},
   "outputs": [
    {
     "name": "stdout",
     "output_type": "stream",
     "text": [
      "0.984229148503349 0.001201268761779728\n",
      "\n",
      "[0.77268236 0.52162249 0.14345349 0.11526476 0.09456363 0.82089815\n",
      " 0.73007868 0.4613332  0.83369404 0.3486019  0.51383692 0.03412321\n",
      " 0.89511899 0.97260073 0.69415044 0.28436501 0.71952425 0.76004412\n",
      " 0.39704108 0.08802958 0.9339579  0.36520948 0.77744884 0.93790852\n",
      " 0.65694354 0.1499342  0.68830915 0.80055366 0.96789981 0.7337178\n",
      " 0.82899262 0.78860328 0.87791765 0.08061675 0.33462677 0.66768683\n",
      " 0.9109375  0.38917338 0.42868066 0.67475599 0.28203424 0.69750971\n",
      " 0.30862812 0.05027392 0.83445014 0.72533543 0.50012933 0.30541882\n",
      " 0.52608527 0.64855158 0.25272435 0.57307918 0.06525438 0.760468\n",
      " 0.03228609 0.05081472 0.16623744 0.23998839 0.63120305 0.91026979\n",
      " 0.1069975  0.75977396 0.09053228 0.92409114 0.39584031 0.98390964\n",
      " 0.63466608 0.3249866  0.87368151 0.53447024 0.69967195 0.16813092\n",
      " 0.26499384 0.62944973 0.47407642 0.03792389 0.04435136 0.85884684\n",
      " 0.92930142 0.58637445 0.13033917 0.64906579 0.04292527 0.96172837\n",
      " 0.69493442 0.10590245 0.00120127 0.52521936 0.67141758 0.04867211\n",
      " 0.89900283 0.8508973  0.66579923 0.67477617 0.68614499 0.94561495\n",
      " 0.27919743 0.98422915 0.51891364 0.30740732]\n"
     ]
    }
   ],
   "source": [
    "array_aleatorio = np.random.rand(100)\n",
    "\n",
    "print(max(array_aleatorio), min(array_aleatorio))\n",
    "\n",
    "print()\n",
    "print(array_aleatorio)"
   ]
  },
  {
   "cell_type": "code",
   "execution_count": 82,
   "id": "517e7f78-b46e-4989-bde8-061a4fca98d4",
   "metadata": {
    "tags": []
   },
   "outputs": [
    {
     "name": "stdout",
     "output_type": "stream",
     "text": [
      "[28 34 66 80 77 97  6 93 91 81 96 74 99 37 61 28 35 44 12 86 82 73 61 48\n",
      " 76 68 86 54 31  8 42 95 64 74 28 60 57 14 41 21 37 36 51  5 67 28 20  6\n",
      " 52 75 18 32 96 44 62 75 90 31  7 74 57 31 30 71 77 73 34 62 89 86 29 14\n",
      "  7 41  2 66 38 86  4 67 35 41  2 35 95 78 60 79 63 55  1 57 53 36 68 92\n",
      " 14 19 99 74]\n"
     ]
    }
   ],
   "source": [
    "array_aleatorio = np.random.randint(1, 100, 100) # para fazer com números inteiros. O randint vai pedir parecido com o slice, (começo, fim, qtde de termos)\n",
    "\n",
    "print(array_aleatorio)"
   ]
  },
  {
   "cell_type": "markdown",
   "id": "6d439722",
   "metadata": {},
   "source": [
    "7) Crie um array 2D (bidimensional) com 1 na borda e 0 dentro"
   ]
  },
  {
   "cell_type": "code",
   "execution_count": 3,
   "id": "0d0e789a",
   "metadata": {},
   "outputs": [
    {
     "name": "stdout",
     "output_type": "stream",
     "text": [
      "[[1 1 1 1 1]\n",
      " [1 0 0 0 1]\n",
      " [1 0 0 0 1]\n",
      " [1 0 0 0 1]\n",
      " [1 1 1 1 1]]\n"
     ]
    }
   ],
   "source": [
    "linhas = 5\n",
    "colunas = 5\n",
    "\n",
    "array_2d = np.ones((linhas, colunas), dtype=int)\n",
    "array_2d[1:-1, 1:-1] = 0\n",
    "\n",
    "print(array_2d)"
   ]
  },
  {
   "cell_type": "code",
   "execution_count": null,
   "id": "c01e4f8c-e621-4fed-8436-c2924058ce12",
   "metadata": {},
   "outputs": [],
   "source": []
  },
  {
   "cell_type": "markdown",
   "id": "1da76040",
   "metadata": {},
   "source": [
    "8) Crie uma matriz 5x5 com valores 1, 2, 3, 4 logo abaixo da diagonal"
   ]
  },
  {
   "cell_type": "code",
   "execution_count": 4,
   "id": "95e65fda",
   "metadata": {},
   "outputs": [
    {
     "data": {
      "text/plain": [
       "array([[0, 0, 0, 0, 0],\n",
       "       [1, 0, 0, 0, 0],\n",
       "       [0, 2, 0, 0, 0],\n",
       "       [0, 0, 3, 0, 0],\n",
       "       [0, 0, 0, 4, 0]])"
      ]
     },
     "execution_count": 4,
     "metadata": {},
     "output_type": "execute_result"
    }
   ],
   "source": [
    "np.diag([1, 2, 3, 4], k = -1)"
   ]
  },
  {
   "cell_type": "code",
   "execution_count": 5,
   "id": "92d4cf0e-1586-46f8-a99e-888be68a8521",
   "metadata": {
    "tags": []
   },
   "outputs": [
    {
     "name": "stdout",
     "output_type": "stream",
     "text": [
      "[[0. 0. 0. 0. 0.]\n",
      " [1. 0. 0. 0. 0.]\n",
      " [0. 2. 0. 0. 0.]\n",
      " [0. 0. 3. 0. 0.]\n",
      " [0. 0. 0. 4. 0.]]\n"
     ]
    }
   ],
   "source": [
    "matriz = np.zeros((5, 5))\n",
    "\n",
    "\n",
    "for i in range(1, 5):   # usando os indices com o range para inserir os valores no local correto.\n",
    "    matriz[i, i - 1] = i\n",
    "\n",
    "print(matriz)"
   ]
  },
  {
   "cell_type": "markdown",
   "id": "96a07cf8",
   "metadata": {},
   "source": [
    "## Mini tarefa"
   ]
  },
  {
   "cell_type": "markdown",
   "id": "61067a54",
   "metadata": {},
   "source": [
    "Utilizando o numpy crie dois vetores a partir das listas ```lista_1 = [1, 2, 3, 4]``` e ```lista_2 = [12, 6, 0, 29]``` e calcule o produto escalar entre esses dois vetores. Responda no [link](https://forms.gle/oz5cHCfj5yQFWw6a9)."
   ]
  },
  {
   "cell_type": "code",
   "execution_count": 77,
   "id": "c371497b",
   "metadata": {},
   "outputs": [
    {
     "name": "stdout",
     "output_type": "stream",
     "text": [
      "140\n"
     ]
    }
   ],
   "source": [
    "lista_1 = [1, 2, 3, 4]\n",
    "lista_2 = [12, 6, 0, 29]\n",
    "\n",
    "vetor1 = np.array(lista_1)\n",
    "vetor2 = np.array(lista_2)\n",
    "\n",
    "produtoEscalar = (vetor1 @ vetor2)\n",
    "\n",
    "print(produtoEscalar)"
   ]
  }
 ],
 "metadata": {
  "kernelspec": {
   "display_name": "Python 3 (ipykernel)",
   "language": "python",
   "name": "python3"
  },
  "language_info": {
   "codemirror_mode": {
    "name": "ipython",
    "version": 3
   },
   "file_extension": ".py",
   "mimetype": "text/x-python",
   "name": "python",
   "nbconvert_exporter": "python",
   "pygments_lexer": "ipython3",
   "version": "3.11.5"
  },
  "vscode": {
   "interpreter": {
    "hash": "7f52069df51f55474cef70a04f6de2c8e83f851022777c4983d9d0bb63ea6184"
   }
  }
 },
 "nbformat": 4,
 "nbformat_minor": 5
}
