{
  "cells": [
    {
      "cell_type": "markdown",
      "id": "4f51956c",
      "metadata": {
        "id": "4f51956c"
      },
      "source": [
        "# Limpeza e Tratamento de Dados"
      ]
    },
    {
      "cell_type": "markdown",
      "id": "7d2e367d",
      "metadata": {
        "id": "7d2e367d"
      },
      "source": [
        "Durante o processo de construção de um modelo temos diversas etapas como coleta de dados, pré-processamento, modelagem, avaliação e, finalmente, implantação de modelos. Destes o pré-processamento de dados é aquele com maior volume de trabalho e valor agregado. Se perguntarmos a um cientista de dados sobre seu processo de modelagem, ele dirá que é uma proporção de 60:40, o que significa que 60% do trabalho está relacionado ao pré-processamento e o resto com as técnicas de Machine Learning.\n",
        "  \n",
        "A limpeza de dados faz parte do pré-processamento e se caracteriza pela fixação ou remoção de dados incorretos, corrompidos, formatados incorretamente, duplicados ou incompletos dentro de um conjunto de dados. Ao combinar várias fontes de dados, há muitas oportunidades para que os dados sejam duplicados ou mal rotulados. Se os dados estiverem incorretos, os resultados e algoritmos não são confiáveis, mesmo que possam parecer corretos. Não há uma maneira absoluta de prescrever as etapas exatas do processo de limpeza de dados, pois os processos variam de conjunto de dados para conjunto de dados."
      ]
    },
    {
      "cell_type": "markdown",
      "id": "b3d69b47",
      "metadata": {
        "id": "b3d69b47"
      },
      "source": [
        "## Dados Ausentes (Missing - NaN)\n",
        "  \n",
        "Os dados do tipo missing/ausente podem ser classificados em função do padrão\n",
        "  \n",
        "**1. Missing Completely at Random (MCAR)**  \n",
        "Os dados são ditos do tipo MCAR quando “a probabilidade de estarem ausentes é independente de qualquer observação no dataset”. Essa abordagem assume que tanto os dados observados como os não observados são amostras aleatórias do mesmo mecanismo de geração de dados. Ou seja, não conseguimos encontrar uma correlação entre as classes que possuem dados ausentes e as classes que não possuem dados ausentes.\n",
        "  \n",
        "**2. Missing at Random (MAR)**  \n",
        "A abordagem de dados do tipo MAR assume que as observações com dados faltantes não respeitam uma distribuição aleatória como as amostras com dados observados. Isso significa que precisamos modelar o comportamento das amostras com dados faltantes. Há uma relação sistemática entre os dados ausentes e alguma informação coletada sobre os dados\n",
        "  \n",
        "**3. Missing not at Random (MNAR)**  \n",
        "Esse é o tipo mais geral e mais complexo. No modelo MNAR, a probabilidade é que os valores faltantes dependam não só dos dados observados assim como dos dados não observados. Não há como ignorar o mecanismo que levou os dados a estarem ausentes. Para esse tipo de dado, não podemos somente ignorar a situação, um tratamento precisa ser realizado.\n",
        "  \n",
        "fonte: https://ealexbarros.medium.com/principais-tipos-de-dados-faltantes-missing-em-um-dataset-49aa35cf18c8"
      ]
    },
    {
      "cell_type": "code",
      "execution_count": null,
      "id": "dfdd89ee",
      "metadata": {
        "tags": [],
        "id": "dfdd89ee"
      },
      "outputs": [],
      "source": [
        "import pandas as pd\n",
        "import numpy as np"
      ]
    },
    {
      "cell_type": "markdown",
      "id": "01469a6e",
      "metadata": {
        "id": "01469a6e"
      },
      "source": [
        "### Trabalhando com dados ausentes"
      ]
    },
    {
      "cell_type": "markdown",
      "id": "cfea390a",
      "metadata": {
        "id": "cfea390a"
      },
      "source": [
        "Vamos ler a base **IT_Salary_Survey_EU_2020** que está na pasta dados, utilizando o método **pd.read_excel()**"
      ]
    },
    {
      "cell_type": "code",
      "execution_count": null,
      "id": "ea564e37",
      "metadata": {
        "tags": [],
        "id": "ea564e37",
        "outputId": "10c10de9-a26c-4309-96dc-de0c3ee7d352"
      },
      "outputs": [
        {
          "data": {
            "text/html": [
              "<div>\n",
              "<style scoped>\n",
              "    .dataframe tbody tr th:only-of-type {\n",
              "        vertical-align: middle;\n",
              "    }\n",
              "\n",
              "    .dataframe tbody tr th {\n",
              "        vertical-align: top;\n",
              "    }\n",
              "\n",
              "    .dataframe thead th {\n",
              "        text-align: right;\n",
              "    }\n",
              "</style>\n",
              "<table border=\"1\" class=\"dataframe\">\n",
              "  <thead>\n",
              "    <tr style=\"text-align: right;\">\n",
              "      <th></th>\n",
              "      <th>Age</th>\n",
              "      <th>Gender</th>\n",
              "      <th>City</th>\n",
              "      <th>Position</th>\n",
              "      <th>Years of experience</th>\n",
              "      <th>Seniority level</th>\n",
              "      <th>Main technology</th>\n",
              "      <th>Other technologies</th>\n",
              "      <th>Yearly salary</th>\n",
              "      <th>Vacation days</th>\n",
              "      <th>Employment status</th>\n",
              "      <th>Ð¡ontract duration</th>\n",
              "      <th>Language at work</th>\n",
              "      <th>Company size</th>\n",
              "      <th>Company type</th>\n",
              "    </tr>\n",
              "  </thead>\n",
              "  <tbody>\n",
              "    <tr>\n",
              "      <th>0</th>\n",
              "      <td>26</td>\n",
              "      <td>Male</td>\n",
              "      <td>Munich</td>\n",
              "      <td>Software Engineer</td>\n",
              "      <td>5</td>\n",
              "      <td>Senior</td>\n",
              "      <td>TypeScript</td>\n",
              "      <td>Kotlin, Javascript / Typescript</td>\n",
              "      <td>80000.0</td>\n",
              "      <td>30.0</td>\n",
              "      <td>Full-time employee</td>\n",
              "      <td>Unlimited contract</td>\n",
              "      <td>English</td>\n",
              "      <td>51-100</td>\n",
              "      <td>Product</td>\n",
              "    </tr>\n",
              "    <tr>\n",
              "      <th>1</th>\n",
              "      <td>26</td>\n",
              "      <td>Male</td>\n",
              "      <td>Berlin</td>\n",
              "      <td>Backend Developer</td>\n",
              "      <td>7</td>\n",
              "      <td>Senior</td>\n",
              "      <td>Ruby</td>\n",
              "      <td>NaN</td>\n",
              "      <td>80000.0</td>\n",
              "      <td>28.0</td>\n",
              "      <td>Full-time employee</td>\n",
              "      <td>Unlimited contract</td>\n",
              "      <td>English</td>\n",
              "      <td>101-1000</td>\n",
              "      <td>Product</td>\n",
              "    </tr>\n",
              "    <tr>\n",
              "      <th>2</th>\n",
              "      <td>29</td>\n",
              "      <td>Male</td>\n",
              "      <td>Berlin</td>\n",
              "      <td>Software Engineer</td>\n",
              "      <td>12</td>\n",
              "      <td>Lead</td>\n",
              "      <td>Javascript / Typescript</td>\n",
              "      <td>Javascript / Typescript, Docker</td>\n",
              "      <td>120000.0</td>\n",
              "      <td>30.0</td>\n",
              "      <td>Self-employed (freelancer)</td>\n",
              "      <td>Temporary contract</td>\n",
              "      <td>English</td>\n",
              "      <td>101-1000</td>\n",
              "      <td>Product</td>\n",
              "    </tr>\n",
              "    <tr>\n",
              "      <th>3</th>\n",
              "      <td>28</td>\n",
              "      <td>Male</td>\n",
              "      <td>Berlin</td>\n",
              "      <td>Frontend Developer</td>\n",
              "      <td>4</td>\n",
              "      <td>Junior</td>\n",
              "      <td>Javascript</td>\n",
              "      <td>NaN</td>\n",
              "      <td>54000.0</td>\n",
              "      <td>24.0</td>\n",
              "      <td>Full-time employee</td>\n",
              "      <td>Unlimited contract</td>\n",
              "      <td>English</td>\n",
              "      <td>51-100</td>\n",
              "      <td>Startup</td>\n",
              "    </tr>\n",
              "    <tr>\n",
              "      <th>4</th>\n",
              "      <td>37</td>\n",
              "      <td>Male</td>\n",
              "      <td>Berlin</td>\n",
              "      <td>Backend Developer</td>\n",
              "      <td>17</td>\n",
              "      <td>Senior</td>\n",
              "      <td>C# .NET</td>\n",
              "      <td>.NET, SQL, AWS, Docker</td>\n",
              "      <td>62000.0</td>\n",
              "      <td>29.0</td>\n",
              "      <td>Full-time employee</td>\n",
              "      <td>Unlimited contract</td>\n",
              "      <td>English</td>\n",
              "      <td>101-1000</td>\n",
              "      <td>Product</td>\n",
              "    </tr>\n",
              "  </tbody>\n",
              "</table>\n",
              "</div>"
            ],
            "text/plain": [
              "   Age Gender    City            Position  Years of experience  \\\n",
              "0   26   Male  Munich   Software Engineer                    5   \n",
              "1   26   Male  Berlin   Backend Developer                    7   \n",
              "2   29   Male  Berlin   Software Engineer                   12   \n",
              "3   28   Male  Berlin  Frontend Developer                    4   \n",
              "4   37   Male  Berlin   Backend Developer                   17   \n",
              "\n",
              "  Seniority level          Main technology               Other technologies  \\\n",
              "0          Senior               TypeScript  Kotlin, Javascript / Typescript   \n",
              "1          Senior                     Ruby                              NaN   \n",
              "2            Lead  Javascript / Typescript  Javascript / Typescript, Docker   \n",
              "3          Junior               Javascript                              NaN   \n",
              "4          Senior                  C# .NET           .NET, SQL, AWS, Docker   \n",
              "\n",
              "   Yearly salary  Vacation days           Employment status  \\\n",
              "0        80000.0           30.0          Full-time employee   \n",
              "1        80000.0           28.0          Full-time employee   \n",
              "2       120000.0           30.0  Self-employed (freelancer)   \n",
              "3        54000.0           24.0          Full-time employee   \n",
              "4        62000.0           29.0          Full-time employee   \n",
              "\n",
              "   Ð¡ontract duration Language at work Company size Company type  \n",
              "0  Unlimited contract          English       51-100      Product  \n",
              "1  Unlimited contract          English     101-1000      Product  \n",
              "2  Temporary contract          English     101-1000      Product  \n",
              "3  Unlimited contract          English       51-100      Startup  \n",
              "4  Unlimited contract          English     101-1000      Product  "
            ]
          },
          "execution_count": 3,
          "metadata": {},
          "output_type": "execute_result"
        }
      ],
      "source": [
        "df_salary = pd.read_excel('./dados/IT_salary_survey_EU_2020.xlsx')\n",
        "df_salary.head()"
      ]
    },
    {
      "cell_type": "code",
      "execution_count": null,
      "id": "4e6c9e88",
      "metadata": {
        "tags": [],
        "id": "4e6c9e88"
      },
      "outputs": [],
      "source": [
        "df_salary.tail()"
      ]
    },
    {
      "cell_type": "markdown",
      "id": "a8dc939d",
      "metadata": {
        "id": "a8dc939d"
      },
      "source": [
        "Para descobrir quantas ocorrências de dados ausentes existem"
      ]
    },
    {
      "cell_type": "code",
      "execution_count": null,
      "id": "5b5075bf",
      "metadata": {
        "tags": [],
        "id": "5b5075bf"
      },
      "outputs": [],
      "source": [
        "len(df_salary) # qtde de linhas"
      ]
    },
    {
      "cell_type": "code",
      "execution_count": null,
      "id": "9bcb451b",
      "metadata": {
        "tags": [],
        "id": "9bcb451b"
      },
      "outputs": [],
      "source": [
        "df_salary.shape"
      ]
    },
    {
      "cell_type": "code",
      "execution_count": null,
      "id": "9021d23e",
      "metadata": {
        "tags": [],
        "id": "9021d23e"
      },
      "outputs": [],
      "source": [
        "df_salary.columns"
      ]
    },
    {
      "cell_type": "code",
      "execution_count": null,
      "id": "ef4be89e",
      "metadata": {
        "tags": [],
        "id": "ef4be89e"
      },
      "outputs": [],
      "source": [
        "df_salary.info()"
      ]
    },
    {
      "cell_type": "code",
      "execution_count": null,
      "id": "630c81ac",
      "metadata": {
        "tags": [],
        "id": "630c81ac"
      },
      "outputs": [],
      "source": [
        "df_salary.isnull() # Me traz verdadeiro ou falso (0 = falso, 1 - verdadeiro)"
      ]
    },
    {
      "cell_type": "code",
      "execution_count": null,
      "id": "e66d8ac5-c1ad-4a37-8d6b-49d0defd790c",
      "metadata": {
        "tags": [],
        "id": "e66d8ac5-c1ad-4a37-8d6b-49d0defd790c"
      },
      "outputs": [],
      "source": [
        "df_salary.isnull().sum() # Agora quando eu somo ele me contabiliza quantos nulos tem em cada coluna\n",
        "\n",
        "# Muito bom para ver os nulos"
      ]
    },
    {
      "cell_type": "code",
      "execution_count": null,
      "id": "811e6577-e40c-4af5-9fd0-e94b2b5cf41c",
      "metadata": {
        "tags": [],
        "id": "811e6577-e40c-4af5-9fd0-e94b2b5cf41c"
      },
      "outputs": [],
      "source": [
        "df_salary.shape # Me traz a qtde de linhas e colunas\n",
        "df_salary.shape[0] # me traz só as  linhas"
      ]
    },
    {
      "cell_type": "code",
      "execution_count": null,
      "id": "39a17950",
      "metadata": {
        "scrolled": true,
        "tags": [],
        "id": "39a17950"
      },
      "outputs": [],
      "source": [
        "# % do Dataset\n",
        "df_salary.isnull().sum() / df_salary.shape[0] * 100\n",
        "\n",
        "# Estou pegando tudo que está faltando e dividindo por tudo que tem de linhas, e o x100 é para ficar em %"
      ]
    },
    {
      "cell_type": "markdown",
      "id": "2448c464",
      "metadata": {
        "id": "2448c464"
      },
      "source": [
        "### Tratamento dos dados\n",
        "\n",
        "1) Eliminando"
      ]
    },
    {
      "cell_type": "code",
      "execution_count": null,
      "id": "be1ec570",
      "metadata": {
        "scrolled": true,
        "tags": [],
        "id": "be1ec570"
      },
      "outputs": [],
      "source": [
        "df_salary.dropna() # Elimina todas as linhas com nulo."
      ]
    },
    {
      "cell_type": "code",
      "execution_count": null,
      "id": "7f24ae27-6c7b-4314-ad28-b1830777a41c",
      "metadata": {
        "tags": [],
        "id": "7f24ae27-6c7b-4314-ad28-b1830777a41c"
      },
      "outputs": [],
      "source": [
        "df_salary.dropna(subset = ['Yearly salary', 'Age'])\n",
        "# Eu posso especificar onde eu quero que veja se tem nulo para eliminar, eu posso passar como argumento"
      ]
    },
    {
      "cell_type": "markdown",
      "id": "98d26e36",
      "metadata": {
        "id": "98d26e36"
      },
      "source": [
        "2) Inserindo valores em seu lugar\n",
        "  \n",
        "a) Média"
      ]
    },
    {
      "cell_type": "code",
      "execution_count": null,
      "id": "c7816f4f",
      "metadata": {
        "scrolled": true,
        "tags": [],
        "id": "c7816f4f",
        "outputId": "a129b7ce-831d-4992-b659-971a83180ff2"
      },
      "outputs": [
        {
          "data": {
            "text/plain": [
              "0       8.000000e+04\n",
              "1       8.000000e+04\n",
              "2       1.200000e+05\n",
              "3       5.400000e+04\n",
              "4       6.200000e+04\n",
              "            ...     \n",
              "1248    7.000000e+04\n",
              "1249    6.000000e+04\n",
              "1250    1.100000e+05\n",
              "1251   -1.244314e+06\n",
              "1252    6.500000e+04\n",
              "Name: Yearly salary, Length: 1253, dtype: float64"
            ]
          },
          "execution_count": 18,
          "metadata": {},
          "output_type": "execute_result"
        }
      ],
      "source": [
        "\n",
        "# Estou pegando a coluna, e substituindo onde o NaN do Numpy existe, pelo valor médio da coluna.\n",
        "df_salary['Yearly salary'].replace(np.NaN, df_salary['Yearly salary'].mean()) # Eu não estou alterando\n",
        "\n",
        "# df_salary['Yearly salary'].replace(np.NaN, df_salary['Yearly salary'].mean(), inplace = True)\n",
        "# variavel = df_salary['Yearly salary'].replace(np.NaN, df_salary['Yearly salary'].mean())"
      ]
    },
    {
      "cell_type": "code",
      "execution_count": null,
      "id": "1e7fdda0-4b40-48eb-8026-31e7289293a3",
      "metadata": {
        "tags": [],
        "id": "1e7fdda0-4b40-48eb-8026-31e7289293a3",
        "outputId": "278c0b44-f265-4f8b-8082-98e46bd3c7cd"
      },
      "outputs": [
        {
          "ename": "NameError",
          "evalue": "name 'df' is not defined",
          "output_type": "error",
          "traceback": [
            "\u001b[1;31m---------------------------------------------------------------------------\u001b[0m",
            "\u001b[1;31mNameError\u001b[0m                                 Traceback (most recent call last)",
            "Cell \u001b[1;32mIn[29], line 3\u001b[0m\n\u001b[0;32m      1\u001b[0m \u001b[38;5;66;03m#df_salary.iloc(1251,8) # Tentando localizar o ponto que está negativo o salario anual\u001b[39;00m\n\u001b[1;32m----> 3\u001b[0m indice_linha_1251 \u001b[38;5;241m=\u001b[39m \u001b[43mdf\u001b[49m[df[\u001b[38;5;124m'\u001b[39m\u001b[38;5;124mYearly salary\u001b[39m\u001b[38;5;124m'\u001b[39m] \u001b[38;5;241m==\u001b[39m \u001b[38;5;241m-\u001b[39m\u001b[38;5;241m1.244314e+06\u001b[39m]\u001b[38;5;241m.\u001b[39mindex[\u001b[38;5;241m0\u001b[39m]\n",
            "\u001b[1;31mNameError\u001b[0m: name 'df' is not defined"
          ]
        }
      ],
      "source": [
        "#df_salary.iloc(1251,8) # Tentando localizar o ponto que está negativo o salario anual\n",
        "\n",
        "indice_linha_1251 = df[df['Yearly salary'] == -1.244314e+06].index[0]\n"
      ]
    },
    {
      "cell_type": "markdown",
      "id": "a8ada7ab",
      "metadata": {
        "id": "a8ada7ab"
      },
      "source": [
        "b) Mediana"
      ]
    },
    {
      "cell_type": "code",
      "execution_count": null,
      "id": "8be16225",
      "metadata": {
        "tags": [],
        "id": "8be16225",
        "outputId": "34d53b1e-f1fd-4edf-b7d1-bd24fe877567"
      },
      "outputs": [
        {
          "data": {
            "text/plain": [
              "0        80000.0\n",
              "1        80000.0\n",
              "2       120000.0\n",
              "3        54000.0\n",
              "4        62000.0\n",
              "          ...   \n",
              "1248     70000.0\n",
              "1249     60000.0\n",
              "1250    110000.0\n",
              "1251     70000.0\n",
              "1252     65000.0\n",
              "Name: Yearly salary, Length: 1253, dtype: float64"
            ]
          },
          "execution_count": 23,
          "metadata": {},
          "output_type": "execute_result"
        }
      ],
      "source": [
        "df_salary['Yearly salary'].replace(np.NaN, df_salary['Yearly salary'].median())"
      ]
    },
    {
      "cell_type": "markdown",
      "id": "1f22faac",
      "metadata": {
        "id": "1f22faac"
      },
      "source": [
        "c) Moda (categóricas)"
      ]
    },
    {
      "cell_type": "code",
      "execution_count": null,
      "id": "7a96bb8f-7731-482b-9085-c59e4f0e4ae1",
      "metadata": {
        "tags": [],
        "id": "7a96bb8f-7731-482b-9085-c59e4f0e4ae1",
        "outputId": "c37c6e9d-fb0a-4441-95fb-eb09daa7e404"
      },
      "outputs": [
        {
          "data": {
            "text/plain": [
              "'Senior'"
            ]
          },
          "execution_count": 26,
          "metadata": {},
          "output_type": "execute_result"
        }
      ],
      "source": [
        "# Calculando a moda\n",
        "import statistics\n",
        "\n",
        "statistics.mode(df_salary['Seniority level'])"
      ]
    },
    {
      "cell_type": "code",
      "execution_count": null,
      "id": "9876c2bc",
      "metadata": {
        "tags": [],
        "id": "9876c2bc",
        "outputId": "d6cf5941-837a-4cd5-c385-5d3f3e5af079"
      },
      "outputs": [
        {
          "data": {
            "text/plain": [
              "0       Senior\n",
              "1       Senior\n",
              "2         Lead\n",
              "3       Junior\n",
              "4       Senior\n",
              "         ...  \n",
              "1248    Senior\n",
              "1249    Senior\n",
              "1250      Lead\n",
              "1251    Middle\n",
              "1252    Middle\n",
              "Name: Seniority level, Length: 1253, dtype: object"
            ]
          },
          "execution_count": 28,
          "metadata": {},
          "output_type": "execute_result"
        }
      ],
      "source": [
        "df_salary['Seniority level'].replace(np.NaN, statistics.mode(df_salary['Seniority level']))"
      ]
    },
    {
      "cell_type": "markdown",
      "id": "8c50f745",
      "metadata": {
        "id": "8c50f745"
      },
      "source": [
        "## Exploratory Data Analysis (EDA)\n",
        "\n",
        "Conforme dicutimos na primeira aula, uma habilidade **MUITO** importante que cientistas de dados devem ter é a de **olha pros dados**, que quer dizer explorar os dados, ver do que eles se tratam, se habituar com eles.\n",
        "\n",
        "Essa etapa é muitíssimo importante para que as etapas seguintes, em especial a de modelagem, funcionem adequadamente!\n",
        "\n",
        "Dentro do jargão da área, essa etapa se chama **Exploratory Data Analysis** (**Análise Exploratória dos Dados**), ou simplesmente EDA. Quando dizemos \"olhar pros dados\", é a isso que nos referimos!\n",
        "\n",
        "A etapa de EDA é muitíssimo importante, e deve tomar grande parte de um projeto de ciência de dados, como já discutimos, e ela comumente feita também com o auxílio de **gráficos** e outras ferramentas visuais. Faremos isso no próximo módulo, depois que aprendermos sobre ferramentas importantíssimas de **visualização de dados** (*dataviz*).\n",
        "\n",
        "Por hora, faremos a EDA apenas utilizando o pandas, utilizando diversos métodos e funções específicas.\n",
        "\n",
        "Lembre-se: o objetivo é que exploremos os dados o máximo possível!\n",
        "\n",
        "Então, essa é a etapa em que:\n",
        "\n",
        "- Formulamos as perguntas importantes;\n",
        "- E tentamos respondê-las com base nos dados!\n",
        "\n",
        "Vamos lá?"
      ]
    },
    {
      "cell_type": "markdown",
      "id": "e36a6fea",
      "metadata": {
        "id": "e36a6fea"
      },
      "source": [
        "### Dataset: Titanic\n",
        "\n",
        "Agora exploraremos um pouco mais a fundo o dataset do <a href=\"https://www.kaggle.com/c/titanic\">Titanic</a>.\n",
        "\n",
        "Faremos a leitura da base, e também os primeiros passos da EDA, respondendo diversas perguntas muito interessantes.\n",
        "\n",
        "Semana que vem, após aprendermos como fazer gráficos, avançaremos na EDA de forma visual!"
      ]
    },
    {
      "cell_type": "code",
      "source": [
        "from google.colab import drive\n",
        "drive.mount('/content/drive')\n",
        "\n",
        "\n",
        "#/content/drive/MyDrive/seu_caminho/titanic_completa_oficial.csv"
      ],
      "metadata": {
        "colab": {
          "base_uri": "https://localhost:8080/"
        },
        "id": "g5csHe4GhfSN",
        "outputId": "bc323d34-3954-458c-f16c-557d7db7c2ee"
      },
      "id": "g5csHe4GhfSN",
      "execution_count": null,
      "outputs": [
        {
          "output_type": "stream",
          "name": "stdout",
          "text": [
            "Mounted at /content/drive\n"
          ]
        }
      ]
    },
    {
      "cell_type": "code",
      "execution_count": null,
      "id": "be63905e",
      "metadata": {
        "tags": [],
        "id": "be63905e"
      },
      "outputs": [],
      "source": [
        "df_titanic = pd.read_csv('/content/drive/MyDrive/Ada-iFood_Tecnicas_de_Programacao_I-main/dados/titanic_completa_oficial.csv')\n",
        "df_titanic.replace('?', np.NaN, inplace= True)"
      ]
    },
    {
      "cell_type": "code",
      "execution_count": null,
      "id": "6dd1970d",
      "metadata": {
        "tags": [],
        "colab": {
          "base_uri": "https://localhost:8080/"
        },
        "id": "6dd1970d",
        "outputId": "85c50153-09b2-4267-8e34-b4e6236b5226"
      },
      "outputs": [
        {
          "output_type": "execute_result",
          "data": {
            "text/plain": [
              "(1309, 14)"
            ]
          },
          "metadata": {},
          "execution_count": 6
        }
      ],
      "source": [
        "# dimensão do dataframe\n",
        "# é uma tupla na forma (numero_de_linhas, numero_de_colunas)\n",
        "df_titanic.shape"
      ]
    },
    {
      "cell_type": "code",
      "execution_count": null,
      "id": "bfc88889",
      "metadata": {
        "tags": [],
        "colab": {
          "base_uri": "https://localhost:8080/"
        },
        "id": "bfc88889",
        "outputId": "0cf31c46-45eb-412d-faff-5a665565af57"
      },
      "outputs": [
        {
          "output_type": "execute_result",
          "data": {
            "text/plain": [
              "Index(['pclass', 'survived', 'name', 'sex', 'age', 'sibsp', 'parch', 'ticket',\n",
              "       'fare', 'cabin', 'embarked', 'boat', 'body', 'home.dest'],\n",
              "      dtype='object')"
            ]
          },
          "metadata": {},
          "execution_count": 7
        }
      ],
      "source": [
        "# uma lista com as colunas\n",
        "df_titanic.columns"
      ]
    },
    {
      "cell_type": "code",
      "execution_count": null,
      "id": "31f83913",
      "metadata": {
        "tags": [],
        "id": "31f83913",
        "outputId": "11a0483d-f07b-4020-cb31-a91e5d545c65"
      },
      "outputs": [
        {
          "data": {
            "text/html": [
              "<div>\n",
              "<style scoped>\n",
              "    .dataframe tbody tr th:only-of-type {\n",
              "        vertical-align: middle;\n",
              "    }\n",
              "\n",
              "    .dataframe tbody tr th {\n",
              "        vertical-align: top;\n",
              "    }\n",
              "\n",
              "    .dataframe thead th {\n",
              "        text-align: right;\n",
              "    }\n",
              "</style>\n",
              "<table border=\"1\" class=\"dataframe\">\n",
              "  <thead>\n",
              "    <tr style=\"text-align: right;\">\n",
              "      <th></th>\n",
              "      <th>pclass</th>\n",
              "      <th>survived</th>\n",
              "      <th>sibsp</th>\n",
              "      <th>parch</th>\n",
              "    </tr>\n",
              "  </thead>\n",
              "  <tbody>\n",
              "    <tr>\n",
              "      <th>count</th>\n",
              "      <td>1309.000000</td>\n",
              "      <td>1309.000000</td>\n",
              "      <td>1309.000000</td>\n",
              "      <td>1309.000000</td>\n",
              "    </tr>\n",
              "    <tr>\n",
              "      <th>mean</th>\n",
              "      <td>2.294882</td>\n",
              "      <td>0.381971</td>\n",
              "      <td>0.498854</td>\n",
              "      <td>0.385027</td>\n",
              "    </tr>\n",
              "    <tr>\n",
              "      <th>std</th>\n",
              "      <td>0.837836</td>\n",
              "      <td>0.486055</td>\n",
              "      <td>1.041658</td>\n",
              "      <td>0.865560</td>\n",
              "    </tr>\n",
              "    <tr>\n",
              "      <th>min</th>\n",
              "      <td>1.000000</td>\n",
              "      <td>0.000000</td>\n",
              "      <td>0.000000</td>\n",
              "      <td>0.000000</td>\n",
              "    </tr>\n",
              "    <tr>\n",
              "      <th>25%</th>\n",
              "      <td>2.000000</td>\n",
              "      <td>0.000000</td>\n",
              "      <td>0.000000</td>\n",
              "      <td>0.000000</td>\n",
              "    </tr>\n",
              "    <tr>\n",
              "      <th>50%</th>\n",
              "      <td>3.000000</td>\n",
              "      <td>0.000000</td>\n",
              "      <td>0.000000</td>\n",
              "      <td>0.000000</td>\n",
              "    </tr>\n",
              "    <tr>\n",
              "      <th>75%</th>\n",
              "      <td>3.000000</td>\n",
              "      <td>1.000000</td>\n",
              "      <td>1.000000</td>\n",
              "      <td>0.000000</td>\n",
              "    </tr>\n",
              "    <tr>\n",
              "      <th>max</th>\n",
              "      <td>3.000000</td>\n",
              "      <td>1.000000</td>\n",
              "      <td>8.000000</td>\n",
              "      <td>9.000000</td>\n",
              "    </tr>\n",
              "  </tbody>\n",
              "</table>\n",
              "</div>"
            ],
            "text/plain": [
              "            pclass     survived        sibsp        parch\n",
              "count  1309.000000  1309.000000  1309.000000  1309.000000\n",
              "mean      2.294882     0.381971     0.498854     0.385027\n",
              "std       0.837836     0.486055     1.041658     0.865560\n",
              "min       1.000000     0.000000     0.000000     0.000000\n",
              "25%       2.000000     0.000000     0.000000     0.000000\n",
              "50%       3.000000     0.000000     0.000000     0.000000\n",
              "75%       3.000000     1.000000     1.000000     0.000000\n",
              "max       3.000000     1.000000     8.000000     9.000000"
            ]
          },
          "execution_count": 7,
          "metadata": {},
          "output_type": "execute_result"
        }
      ],
      "source": [
        "df_titanic.describe()"
      ]
    },
    {
      "cell_type": "code",
      "execution_count": null,
      "id": "5c378b3b",
      "metadata": {
        "tags": [],
        "id": "5c378b3b",
        "outputId": "696c1f02-5d49-42e2-bcf1-412ec5aaf282"
      },
      "outputs": [
        {
          "name": "stdout",
          "output_type": "stream",
          "text": [
            "<class 'pandas.core.frame.DataFrame'>\n",
            "RangeIndex: 1309 entries, 0 to 1308\n",
            "Data columns (total 14 columns):\n",
            " #   Column     Non-Null Count  Dtype \n",
            "---  ------     --------------  ----- \n",
            " 0   pclass     1309 non-null   int64 \n",
            " 1   survived   1309 non-null   int64 \n",
            " 2   name       1309 non-null   object\n",
            " 3   sex        1309 non-null   object\n",
            " 4   age        1046 non-null   object\n",
            " 5   sibsp      1309 non-null   int64 \n",
            " 6   parch      1309 non-null   int64 \n",
            " 7   ticket     1309 non-null   object\n",
            " 8   fare       1308 non-null   object\n",
            " 9   cabin      295 non-null    object\n",
            " 10  embarked   1307 non-null   object\n",
            " 11  boat       486 non-null    object\n",
            " 12  body       121 non-null    object\n",
            " 13  home.dest  745 non-null    object\n",
            "dtypes: int64(4), object(10)\n",
            "memory usage: 143.3+ KB\n"
          ]
        }
      ],
      "source": [
        "# informações sobre o df\n",
        "df_titanic.info()"
      ]
    },
    {
      "cell_type": "code",
      "execution_count": null,
      "id": "5023f2e7",
      "metadata": {
        "tags": [],
        "id": "5023f2e7",
        "outputId": "f3fef462-cd78-4862-e7df-bc541a5f23e9"
      },
      "outputs": [
        {
          "data": {
            "text/plain": [
              "pclass        0.000000\n",
              "survived      0.000000\n",
              "name          0.000000\n",
              "sex           0.000000\n",
              "age          20.091673\n",
              "sibsp         0.000000\n",
              "parch         0.000000\n",
              "ticket        0.000000\n",
              "fare          0.076394\n",
              "cabin        77.463713\n",
              "embarked      0.152788\n",
              "boat         62.872422\n",
              "body         90.756303\n",
              "home.dest    43.086325\n",
              "dtype: float64"
            ]
          },
          "execution_count": 8,
          "metadata": {},
          "output_type": "execute_result"
        }
      ],
      "source": [
        "df_titanic.isnull().sum() / len(df_titanic) *100"
      ]
    },
    {
      "cell_type": "markdown",
      "id": "04b465f1",
      "metadata": {
        "id": "04b465f1"
      },
      "source": [
        "Não vamos esquecer do nosso objetivo"
      ]
    },
    {
      "cell_type": "code",
      "execution_count": null,
      "id": "bc217748",
      "metadata": {
        "tags": [],
        "id": "bc217748",
        "outputId": "e15e3fbd-b172-43f4-b616-c1db4c4d3a35"
      },
      "outputs": [
        {
          "data": {
            "text/plain": [
              "survived\n",
              "0    809\n",
              "1    500\n",
              "Name: count, dtype: int64"
            ]
          },
          "execution_count": 9,
          "metadata": {},
          "output_type": "execute_result"
        }
      ],
      "source": [
        "df_titanic['survived'].value_counts()"
      ]
    },
    {
      "cell_type": "code",
      "execution_count": null,
      "id": "535862a1",
      "metadata": {
        "tags": [],
        "id": "535862a1",
        "outputId": "e57cf1b6-6a90-42c1-fc43-9f8bec1a63a1"
      },
      "outputs": [
        {
          "data": {
            "text/plain": [
              "survived\n",
              "0    0.618029\n",
              "1    0.381971\n",
              "Name: proportion, dtype: float64"
            ]
          },
          "execution_count": 45,
          "metadata": {},
          "output_type": "execute_result"
        }
      ],
      "source": [
        "df_titanic['survived'].value_counts(normalize = True)"
      ]
    },
    {
      "cell_type": "code",
      "execution_count": null,
      "id": "5728fe99",
      "metadata": {
        "tags": [],
        "id": "5728fe99",
        "outputId": "92492449-d023-44f0-e8cb-3027c25f506f"
      },
      "outputs": [
        {
          "data": {
            "text/plain": [
              "0.3819709702062643"
            ]
          },
          "execution_count": 46,
          "metadata": {},
          "output_type": "execute_result"
        }
      ],
      "source": [
        "df_titanic['survived'].mean()"
      ]
    },
    {
      "cell_type": "markdown",
      "id": "e02a5f34",
      "metadata": {
        "id": "e02a5f34"
      },
      "source": [
        "**Bora praticar!**\n",
        "  \n",
        "Taxa de sobrevivência por:  \n",
        "  \n",
        "1) idade?  \n",
        "2) faixa etária?  \n",
        "3) sexo?  \n",
        "4) classe?   \n",
        "5) porto de embarque?  \n",
        "6) preço medio por classe?  \n",
        "7) fare?  \n",
        "\n",
        "\n",
        "(Dos que sobreviveram:)\n",
        "\n",
        "- qtos parentes tinham no navio?\n",
        "- qtos da mesma família sobreviveram?"
      ]
    },
    {
      "cell_type": "markdown",
      "id": "324f5289-786d-4b42-ab78-b5784f759142",
      "metadata": {
        "id": "324f5289-786d-4b42-ab78-b5784f759142"
      },
      "source": [
        "1. Idade\n",
        "2. Sexo\n",
        "\n",
        "Dos que sobreviveram, quantos parentes em media tinham no navio?"
      ]
    },
    {
      "cell_type": "code",
      "execution_count": null,
      "id": "4f187b60-91eb-4af7-9a92-de6d5a67ca0f",
      "metadata": {
        "tags": [],
        "id": "4f187b60-91eb-4af7-9a92-de6d5a67ca0f",
        "outputId": "56c4a339-4891-4870-bcb2-a9b7b0348972"
      },
      "outputs": [
        {
          "data": {
            "text/html": [
              "<div>\n",
              "<style scoped>\n",
              "    .dataframe tbody tr th:only-of-type {\n",
              "        vertical-align: middle;\n",
              "    }\n",
              "\n",
              "    .dataframe tbody tr th {\n",
              "        vertical-align: top;\n",
              "    }\n",
              "\n",
              "    .dataframe thead th {\n",
              "        text-align: right;\n",
              "    }\n",
              "</style>\n",
              "<table border=\"1\" class=\"dataframe\">\n",
              "  <thead>\n",
              "    <tr style=\"text-align: right;\">\n",
              "      <th></th>\n",
              "      <th>pclass</th>\n",
              "      <th>survived</th>\n",
              "      <th>name</th>\n",
              "      <th>sex</th>\n",
              "      <th>age</th>\n",
              "      <th>sibsp</th>\n",
              "      <th>parch</th>\n",
              "      <th>ticket</th>\n",
              "      <th>fare</th>\n",
              "      <th>cabin</th>\n",
              "      <th>embarked</th>\n",
              "      <th>boat</th>\n",
              "      <th>body</th>\n",
              "      <th>home.dest</th>\n",
              "    </tr>\n",
              "  </thead>\n",
              "  <tbody>\n",
              "    <tr>\n",
              "      <th>0</th>\n",
              "      <td>1</td>\n",
              "      <td>1</td>\n",
              "      <td>Allen, Miss. Elisabeth Walton</td>\n",
              "      <td>female</td>\n",
              "      <td>29</td>\n",
              "      <td>0</td>\n",
              "      <td>0</td>\n",
              "      <td>24160</td>\n",
              "      <td>211.3375</td>\n",
              "      <td>B5</td>\n",
              "      <td>S</td>\n",
              "      <td>2</td>\n",
              "      <td>NaN</td>\n",
              "      <td>St Louis, MO</td>\n",
              "    </tr>\n",
              "    <tr>\n",
              "      <th>1</th>\n",
              "      <td>1</td>\n",
              "      <td>1</td>\n",
              "      <td>Allison, Master. Hudson Trevor</td>\n",
              "      <td>male</td>\n",
              "      <td>0.9167</td>\n",
              "      <td>1</td>\n",
              "      <td>2</td>\n",
              "      <td>113781</td>\n",
              "      <td>151.55</td>\n",
              "      <td>C22 C26</td>\n",
              "      <td>S</td>\n",
              "      <td>11</td>\n",
              "      <td>NaN</td>\n",
              "      <td>Montreal, PQ / Chesterville, ON</td>\n",
              "    </tr>\n",
              "    <tr>\n",
              "      <th>2</th>\n",
              "      <td>1</td>\n",
              "      <td>0</td>\n",
              "      <td>Allison, Miss. Helen Loraine</td>\n",
              "      <td>female</td>\n",
              "      <td>2</td>\n",
              "      <td>1</td>\n",
              "      <td>2</td>\n",
              "      <td>113781</td>\n",
              "      <td>151.55</td>\n",
              "      <td>C22 C26</td>\n",
              "      <td>S</td>\n",
              "      <td>NaN</td>\n",
              "      <td>NaN</td>\n",
              "      <td>Montreal, PQ / Chesterville, ON</td>\n",
              "    </tr>\n",
              "    <tr>\n",
              "      <th>3</th>\n",
              "      <td>1</td>\n",
              "      <td>0</td>\n",
              "      <td>Allison, Mr. Hudson Joshua Creighton</td>\n",
              "      <td>male</td>\n",
              "      <td>30</td>\n",
              "      <td>1</td>\n",
              "      <td>2</td>\n",
              "      <td>113781</td>\n",
              "      <td>151.55</td>\n",
              "      <td>C22 C26</td>\n",
              "      <td>S</td>\n",
              "      <td>NaN</td>\n",
              "      <td>135</td>\n",
              "      <td>Montreal, PQ / Chesterville, ON</td>\n",
              "    </tr>\n",
              "    <tr>\n",
              "      <th>4</th>\n",
              "      <td>1</td>\n",
              "      <td>0</td>\n",
              "      <td>Allison, Mrs. Hudson J C (Bessie Waldo Daniels)</td>\n",
              "      <td>female</td>\n",
              "      <td>25</td>\n",
              "      <td>1</td>\n",
              "      <td>2</td>\n",
              "      <td>113781</td>\n",
              "      <td>151.55</td>\n",
              "      <td>C22 C26</td>\n",
              "      <td>S</td>\n",
              "      <td>NaN</td>\n",
              "      <td>NaN</td>\n",
              "      <td>Montreal, PQ / Chesterville, ON</td>\n",
              "    </tr>\n",
              "  </tbody>\n",
              "</table>\n",
              "</div>"
            ],
            "text/plain": [
              "   pclass  survived                                             name     sex  \\\n",
              "0       1         1                    Allen, Miss. Elisabeth Walton  female   \n",
              "1       1         1                   Allison, Master. Hudson Trevor    male   \n",
              "2       1         0                     Allison, Miss. Helen Loraine  female   \n",
              "3       1         0             Allison, Mr. Hudson Joshua Creighton    male   \n",
              "4       1         0  Allison, Mrs. Hudson J C (Bessie Waldo Daniels)  female   \n",
              "\n",
              "      age  sibsp  parch  ticket      fare    cabin embarked boat body  \\\n",
              "0      29      0      0   24160  211.3375       B5        S    2  NaN   \n",
              "1  0.9167      1      2  113781    151.55  C22 C26        S   11  NaN   \n",
              "2       2      1      2  113781    151.55  C22 C26        S  NaN  NaN   \n",
              "3      30      1      2  113781    151.55  C22 C26        S  NaN  135   \n",
              "4      25      1      2  113781    151.55  C22 C26        S  NaN  NaN   \n",
              "\n",
              "                         home.dest  \n",
              "0                     St Louis, MO  \n",
              "1  Montreal, PQ / Chesterville, ON  \n",
              "2  Montreal, PQ / Chesterville, ON  \n",
              "3  Montreal, PQ / Chesterville, ON  \n",
              "4  Montreal, PQ / Chesterville, ON  "
            ]
          },
          "execution_count": 48,
          "metadata": {},
          "output_type": "execute_result"
        }
      ],
      "source": [
        "df_titanic.head()"
      ]
    },
    {
      "cell_type": "code",
      "execution_count": null,
      "id": "af0712b9",
      "metadata": {
        "tags": [],
        "id": "af0712b9",
        "outputId": "0b710041-534a-4365-b353-a51b08d761c0"
      },
      "outputs": [
        {
          "data": {
            "text/plain": [
              "age\n",
              "0.1667    1.000000\n",
              "0.3333    0.000000\n",
              "0.4167    1.000000\n",
              "0.6667    1.000000\n",
              "0.75      0.666667\n",
              "            ...   \n",
              "74        0.000000\n",
              "76        1.000000\n",
              "8         0.666667\n",
              "80        1.000000\n",
              "9         0.400000\n",
              "Name: survived, Length: 98, dtype: float64"
            ]
          },
          "execution_count": 50,
          "metadata": {},
          "output_type": "execute_result"
        }
      ],
      "source": [
        "# 1 taxa de sobrevivencia por idade\n",
        "df_titanic.groupby('age')['survived'].mean()\n"
      ]
    },
    {
      "cell_type": "code",
      "execution_count": null,
      "id": "4da9a3a3-d471-44fc-b142-ab5813d07c1f",
      "metadata": {
        "tags": [],
        "id": "4da9a3a3-d471-44fc-b142-ab5813d07c1f",
        "outputId": "7f309471-4f8f-4434-f959-bd235cce8c56"
      },
      "outputs": [
        {
          "data": {
            "text/html": [
              "<div>\n",
              "<style scoped>\n",
              "    .dataframe tbody tr th:only-of-type {\n",
              "        vertical-align: middle;\n",
              "    }\n",
              "\n",
              "    .dataframe tbody tr th {\n",
              "        vertical-align: top;\n",
              "    }\n",
              "\n",
              "    .dataframe thead th {\n",
              "        text-align: right;\n",
              "    }\n",
              "</style>\n",
              "<table border=\"1\" class=\"dataframe\">\n",
              "  <thead>\n",
              "    <tr style=\"text-align: right;\">\n",
              "      <th></th>\n",
              "      <th>survived</th>\n",
              "    </tr>\n",
              "    <tr>\n",
              "      <th>age</th>\n",
              "      <th></th>\n",
              "    </tr>\n",
              "  </thead>\n",
              "  <tbody>\n",
              "    <tr>\n",
              "      <th>0.1667</th>\n",
              "      <td>1.000000</td>\n",
              "    </tr>\n",
              "    <tr>\n",
              "      <th>0.3333</th>\n",
              "      <td>0.000000</td>\n",
              "    </tr>\n",
              "    <tr>\n",
              "      <th>0.4167</th>\n",
              "      <td>1.000000</td>\n",
              "    </tr>\n",
              "    <tr>\n",
              "      <th>0.6667</th>\n",
              "      <td>1.000000</td>\n",
              "    </tr>\n",
              "    <tr>\n",
              "      <th>0.75</th>\n",
              "      <td>0.666667</td>\n",
              "    </tr>\n",
              "    <tr>\n",
              "      <th>...</th>\n",
              "      <td>...</td>\n",
              "    </tr>\n",
              "    <tr>\n",
              "      <th>74</th>\n",
              "      <td>0.000000</td>\n",
              "    </tr>\n",
              "    <tr>\n",
              "      <th>76</th>\n",
              "      <td>1.000000</td>\n",
              "    </tr>\n",
              "    <tr>\n",
              "      <th>8</th>\n",
              "      <td>0.666667</td>\n",
              "    </tr>\n",
              "    <tr>\n",
              "      <th>80</th>\n",
              "      <td>1.000000</td>\n",
              "    </tr>\n",
              "    <tr>\n",
              "      <th>9</th>\n",
              "      <td>0.400000</td>\n",
              "    </tr>\n",
              "  </tbody>\n",
              "</table>\n",
              "<p>98 rows × 1 columns</p>\n",
              "</div>"
            ],
            "text/plain": [
              "        survived\n",
              "age             \n",
              "0.1667  1.000000\n",
              "0.3333  0.000000\n",
              "0.4167  1.000000\n",
              "0.6667  1.000000\n",
              "0.75    0.666667\n",
              "...          ...\n",
              "74      0.000000\n",
              "76      1.000000\n",
              "8       0.666667\n",
              "80      1.000000\n",
              "9       0.400000\n",
              "\n",
              "[98 rows x 1 columns]"
            ]
          },
          "execution_count": 54,
          "metadata": {},
          "output_type": "execute_result"
        }
      ],
      "source": [
        "# Outra forma\n",
        "\n",
        "df_titanic.pivot_table(index='age', values='survived', aggfunc='mean')"
      ]
    },
    {
      "cell_type": "code",
      "execution_count": null,
      "id": "86ccd30a",
      "metadata": {
        "id": "86ccd30a",
        "outputId": "be44441b-3196-41b0-d57a-59395a921911"
      },
      "outputs": [
        {
          "data": {
            "text/html": [
              "<div>\n",
              "<style scoped>\n",
              "    .dataframe tbody tr th:only-of-type {\n",
              "        vertical-align: middle;\n",
              "    }\n",
              "\n",
              "    .dataframe tbody tr th {\n",
              "        vertical-align: top;\n",
              "    }\n",
              "\n",
              "    .dataframe thead th {\n",
              "        text-align: right;\n",
              "    }\n",
              "</style>\n",
              "<table border=\"1\" class=\"dataframe\">\n",
              "  <thead>\n",
              "    <tr style=\"text-align: right;\">\n",
              "      <th></th>\n",
              "      <th>pclass</th>\n",
              "      <th>survived</th>\n",
              "      <th>name</th>\n",
              "      <th>sex</th>\n",
              "      <th>age</th>\n",
              "      <th>sibsp</th>\n",
              "      <th>parch</th>\n",
              "      <th>ticket</th>\n",
              "      <th>fare</th>\n",
              "      <th>cabin</th>\n",
              "      <th>embarked</th>\n",
              "      <th>boat</th>\n",
              "      <th>body</th>\n",
              "      <th>home.dest</th>\n",
              "      <th>age_range</th>\n",
              "    </tr>\n",
              "  </thead>\n",
              "  <tbody>\n",
              "    <tr>\n",
              "      <th>0</th>\n",
              "      <td>1</td>\n",
              "      <td>1</td>\n",
              "      <td>Allen, Miss. Elisabeth Walton</td>\n",
              "      <td>female</td>\n",
              "      <td>29</td>\n",
              "      <td>0</td>\n",
              "      <td>0</td>\n",
              "      <td>24160</td>\n",
              "      <td>211.3375</td>\n",
              "      <td>B5</td>\n",
              "      <td>S</td>\n",
              "      <td>2</td>\n",
              "      <td>NaN</td>\n",
              "      <td>St Louis, MO</td>\n",
              "      <td>young: 18 - 30</td>\n",
              "    </tr>\n",
              "    <tr>\n",
              "      <th>1</th>\n",
              "      <td>1</td>\n",
              "      <td>1</td>\n",
              "      <td>Allison, Master. Hudson Trevor</td>\n",
              "      <td>male</td>\n",
              "      <td>0.9167</td>\n",
              "      <td>1</td>\n",
              "      <td>2</td>\n",
              "      <td>113781</td>\n",
              "      <td>151.55</td>\n",
              "      <td>C22 C26</td>\n",
              "      <td>S</td>\n",
              "      <td>11</td>\n",
              "      <td>NaN</td>\n",
              "      <td>Montreal, PQ / Chesterville, ON</td>\n",
              "      <td>minor: 0-17</td>\n",
              "    </tr>\n",
              "    <tr>\n",
              "      <th>2</th>\n",
              "      <td>1</td>\n",
              "      <td>0</td>\n",
              "      <td>Allison, Miss. Helen Loraine</td>\n",
              "      <td>female</td>\n",
              "      <td>2</td>\n",
              "      <td>1</td>\n",
              "      <td>2</td>\n",
              "      <td>113781</td>\n",
              "      <td>151.55</td>\n",
              "      <td>C22 C26</td>\n",
              "      <td>S</td>\n",
              "      <td>NaN</td>\n",
              "      <td>NaN</td>\n",
              "      <td>Montreal, PQ / Chesterville, ON</td>\n",
              "      <td>minor: 0-17</td>\n",
              "    </tr>\n",
              "    <tr>\n",
              "      <th>3</th>\n",
              "      <td>1</td>\n",
              "      <td>0</td>\n",
              "      <td>Allison, Mr. Hudson Joshua Creighton</td>\n",
              "      <td>male</td>\n",
              "      <td>30</td>\n",
              "      <td>1</td>\n",
              "      <td>2</td>\n",
              "      <td>113781</td>\n",
              "      <td>151.55</td>\n",
              "      <td>C22 C26</td>\n",
              "      <td>S</td>\n",
              "      <td>NaN</td>\n",
              "      <td>135</td>\n",
              "      <td>Montreal, PQ / Chesterville, ON</td>\n",
              "      <td>young: 18 - 30</td>\n",
              "    </tr>\n",
              "    <tr>\n",
              "      <th>4</th>\n",
              "      <td>1</td>\n",
              "      <td>0</td>\n",
              "      <td>Allison, Mrs. Hudson J C (Bessie Waldo Daniels)</td>\n",
              "      <td>female</td>\n",
              "      <td>25</td>\n",
              "      <td>1</td>\n",
              "      <td>2</td>\n",
              "      <td>113781</td>\n",
              "      <td>151.55</td>\n",
              "      <td>C22 C26</td>\n",
              "      <td>S</td>\n",
              "      <td>NaN</td>\n",
              "      <td>NaN</td>\n",
              "      <td>Montreal, PQ / Chesterville, ON</td>\n",
              "      <td>young: 18 - 30</td>\n",
              "    </tr>\n",
              "  </tbody>\n",
              "</table>\n",
              "</div>"
            ],
            "text/plain": [
              "   pclass  survived                                             name     sex  \\\n",
              "0       1         1                    Allen, Miss. Elisabeth Walton  female   \n",
              "1       1         1                   Allison, Master. Hudson Trevor    male   \n",
              "2       1         0                     Allison, Miss. Helen Loraine  female   \n",
              "3       1         0             Allison, Mr. Hudson Joshua Creighton    male   \n",
              "4       1         0  Allison, Mrs. Hudson J C (Bessie Waldo Daniels)  female   \n",
              "\n",
              "      age  sibsp  parch  ticket      fare    cabin embarked boat body  \\\n",
              "0      29      0      0   24160  211.3375       B5        S    2  NaN   \n",
              "1  0.9167      1      2  113781    151.55  C22 C26        S   11  NaN   \n",
              "2       2      1      2  113781    151.55  C22 C26        S  NaN  NaN   \n",
              "3      30      1      2  113781    151.55  C22 C26        S  NaN  135   \n",
              "4      25      1      2  113781    151.55  C22 C26        S  NaN  NaN   \n",
              "\n",
              "                         home.dest       age_range  \n",
              "0                     St Louis, MO  young: 18 - 30  \n",
              "1  Montreal, PQ / Chesterville, ON     minor: 0-17  \n",
              "2  Montreal, PQ / Chesterville, ON     minor: 0-17  \n",
              "3  Montreal, PQ / Chesterville, ON  young: 18 - 30  \n",
              "4  Montreal, PQ / Chesterville, ON  young: 18 - 30  "
            ]
          },
          "execution_count": 15,
          "metadata": {},
          "output_type": "execute_result"
        }
      ],
      "source": [
        "# Taxa de sobreviventes por faixa etária\n",
        "# Outra forma ( por apply + por função)\n",
        "\n",
        "def age_range(age):\n",
        "    try:\n",
        "        age = float(age)\n",
        "        if age < 18.0:\n",
        "            return 'minor: 0-17'\n",
        "        elif 18.0 <= age <= 30.0:\n",
        "            return 'young: 18 - 30'\n",
        "        elif 31.0 <= age <= 50.0:\n",
        "            return 'adult: 31-50'\n",
        "        else:\n",
        "            return 'elderly: 51+'\n",
        "    except ValueError:\n",
        "        return np.NaN\n",
        "\n",
        "df_titanic['age_range'] = df_titanic['age'].apply(age_range)\n",
        "\n",
        "df_titanic.head()\n"
      ]
    },
    {
      "cell_type": "code",
      "execution_count": null,
      "id": "06b27e60-154c-4f11-b0b7-9caa11320d01",
      "metadata": {
        "tags": [],
        "id": "06b27e60-154c-4f11-b0b7-9caa11320d01",
        "outputId": "dcfe1687-ee71-4cde-dafc-e4a691495af5"
      },
      "outputs": [
        {
          "data": {
            "text/html": [
              "<div>\n",
              "<style scoped>\n",
              "    .dataframe tbody tr th:only-of-type {\n",
              "        vertical-align: middle;\n",
              "    }\n",
              "\n",
              "    .dataframe tbody tr th {\n",
              "        vertical-align: top;\n",
              "    }\n",
              "\n",
              "    .dataframe thead th {\n",
              "        text-align: right;\n",
              "    }\n",
              "</style>\n",
              "<table border=\"1\" class=\"dataframe\">\n",
              "  <thead>\n",
              "    <tr style=\"text-align: right;\">\n",
              "      <th></th>\n",
              "      <th>survived</th>\n",
              "    </tr>\n",
              "    <tr>\n",
              "      <th>age_range</th>\n",
              "      <th></th>\n",
              "    </tr>\n",
              "  </thead>\n",
              "  <tbody>\n",
              "    <tr>\n",
              "      <th>adult: 31-50</th>\n",
              "      <td>0.414706</td>\n",
              "    </tr>\n",
              "    <tr>\n",
              "      <th>elderly: 51+</th>\n",
              "      <td>0.308333</td>\n",
              "    </tr>\n",
              "    <tr>\n",
              "      <th>minor: 0-17</th>\n",
              "      <td>0.525974</td>\n",
              "    </tr>\n",
              "    <tr>\n",
              "      <th>young: 18 - 30</th>\n",
              "      <td>0.367033</td>\n",
              "    </tr>\n",
              "  </tbody>\n",
              "</table>\n",
              "</div>"
            ],
            "text/plain": [
              "                survived\n",
              "age_range               \n",
              "adult: 31-50    0.414706\n",
              "elderly: 51+    0.308333\n",
              "minor: 0-17     0.525974\n",
              "young: 18 - 30  0.367033"
            ]
          },
          "execution_count": 19,
          "metadata": {},
          "output_type": "execute_result"
        }
      ],
      "source": [
        "df_titanic.pivot_table(index='age_range', values='survived', aggfunc='mean')\n",
        "#df_titanic.groupby('age_range')['survived'].mean()"
      ]
    },
    {
      "cell_type": "code",
      "execution_count": null,
      "id": "2f47427e",
      "metadata": {
        "tags": [],
        "id": "2f47427e",
        "outputId": "59652306-4292-4974-adcd-b17052219d9a"
      },
      "outputs": [
        {
          "data": {
            "text/plain": [
              "sex\n",
              "female    0.727468\n",
              "male      0.190985\n",
              "Name: survived, dtype: float64"
            ]
          },
          "execution_count": 51,
          "metadata": {},
          "output_type": "execute_result"
        }
      ],
      "source": [
        "# 3 Taxa de sobrevivencia por sexo\n",
        "\n",
        "df_titanic.groupby('sex')['survived'].mean()"
      ]
    },
    {
      "cell_type": "code",
      "execution_count": null,
      "id": "e42b0b10-e7da-4520-abee-d8e0fcd3668e",
      "metadata": {
        "tags": [],
        "id": "e42b0b10-e7da-4520-abee-d8e0fcd3668e",
        "outputId": "1b6883d2-b7ff-4004-c103-b9157197a420"
      },
      "outputs": [
        {
          "data": {
            "text/html": [
              "<div>\n",
              "<style scoped>\n",
              "    .dataframe tbody tr th:only-of-type {\n",
              "        vertical-align: middle;\n",
              "    }\n",
              "\n",
              "    .dataframe tbody tr th {\n",
              "        vertical-align: top;\n",
              "    }\n",
              "\n",
              "    .dataframe thead th {\n",
              "        text-align: right;\n",
              "    }\n",
              "</style>\n",
              "<table border=\"1\" class=\"dataframe\">\n",
              "  <thead>\n",
              "    <tr style=\"text-align: right;\">\n",
              "      <th></th>\n",
              "      <th>survived</th>\n",
              "    </tr>\n",
              "    <tr>\n",
              "      <th>sex</th>\n",
              "      <th></th>\n",
              "    </tr>\n",
              "  </thead>\n",
              "  <tbody>\n",
              "    <tr>\n",
              "      <th>female</th>\n",
              "      <td>72.746781</td>\n",
              "    </tr>\n",
              "    <tr>\n",
              "      <th>male</th>\n",
              "      <td>19.098458</td>\n",
              "    </tr>\n",
              "  </tbody>\n",
              "</table>\n",
              "</div>"
            ],
            "text/plain": [
              "         survived\n",
              "sex              \n",
              "female  72.746781\n",
              "male    19.098458"
            ]
          },
          "execution_count": 56,
          "metadata": {},
          "output_type": "execute_result"
        }
      ],
      "source": [
        "# Outro jeito\n",
        "df_titanic.pivot_table(index='sex', values='survived', aggfunc='mean') * 100"
      ]
    },
    {
      "cell_type": "code",
      "execution_count": null,
      "id": "0693fb2d-7bd4-47f8-8aeb-75afd175925b",
      "metadata": {
        "tags": [],
        "id": "0693fb2d-7bd4-47f8-8aeb-75afd175925b",
        "outputId": "0e62e601-5872-4ee1-b57e-ceba4d8be317"
      },
      "outputs": [
        {
          "data": {
            "text/plain": [
              "parch    0.476\n",
              "dtype: float64"
            ]
          },
          "execution_count": 59,
          "metadata": {},
          "output_type": "execute_result"
        }
      ],
      "source": [
        "# Dos que sobreviveram, quantos parentes em media tinham no navio?\n",
        "#df_titanic[df_titanic['survived'] == 1][['sibsp', 'parch']].mean()\n",
        "\n",
        "\n",
        "df_titanic[df_titanic['survived']== 1][['parch']].mean()"
      ]
    },
    {
      "cell_type": "code",
      "execution_count": null,
      "id": "6096a936-66b0-40ea-9899-eb4499d3d44c",
      "metadata": {
        "tags": [],
        "id": "6096a936-66b0-40ea-9899-eb4499d3d44c",
        "outputId": "8e57b65d-fad7-40f2-8a0a-b676bfbb3b07"
      },
      "outputs": [
        {
          "data": {
            "text/plain": [
              "parch    0.476\n",
              "Name: 1, dtype: float64"
            ]
          },
          "execution_count": 58,
          "metadata": {},
          "output_type": "execute_result"
        }
      ],
      "source": [
        "# Outro jeito\n",
        "df_titanic.pivot_table(index='survived', values='parch', aggfunc='mean').loc[1]"
      ]
    },
    {
      "cell_type": "code",
      "execution_count": null,
      "id": "c4712bee",
      "metadata": {
        "id": "c4712bee",
        "outputId": "eba2a2e2-b79e-42ba-8e44-fc01f8560ee5"
      },
      "outputs": [
        {
          "data": {
            "text/html": [
              "<div>\n",
              "<style scoped>\n",
              "    .dataframe tbody tr th:only-of-type {\n",
              "        vertical-align: middle;\n",
              "    }\n",
              "\n",
              "    .dataframe tbody tr th {\n",
              "        vertical-align: top;\n",
              "    }\n",
              "\n",
              "    .dataframe thead th {\n",
              "        text-align: right;\n",
              "    }\n",
              "</style>\n",
              "<table border=\"1\" class=\"dataframe\">\n",
              "  <thead>\n",
              "    <tr style=\"text-align: right;\">\n",
              "      <th></th>\n",
              "      <th>survived</th>\n",
              "    </tr>\n",
              "    <tr>\n",
              "      <th>pclass</th>\n",
              "      <th></th>\n",
              "    </tr>\n",
              "  </thead>\n",
              "  <tbody>\n",
              "    <tr>\n",
              "      <th>1</th>\n",
              "      <td>0.619195</td>\n",
              "    </tr>\n",
              "    <tr>\n",
              "      <th>2</th>\n",
              "      <td>0.429603</td>\n",
              "    </tr>\n",
              "    <tr>\n",
              "      <th>3</th>\n",
              "      <td>0.255289</td>\n",
              "    </tr>\n",
              "  </tbody>\n",
              "</table>\n",
              "</div>"
            ],
            "text/plain": [
              "        survived\n",
              "pclass          \n",
              "1       0.619195\n",
              "2       0.429603\n",
              "3       0.255289"
            ]
          },
          "execution_count": 22,
          "metadata": {},
          "output_type": "execute_result"
        }
      ],
      "source": [
        "# 4 Taxa de sobrevivencia por classe\n",
        "\n",
        "df_titanic.pivot_table(index='pclass', values='survived', aggfunc='mean')\n",
        "#df_titanic.groupby('pclass')['survived'].mean()"
      ]
    },
    {
      "cell_type": "markdown",
      "source": [
        "# 5) Taxa de sobrevivencia por porto de embarque?"
      ],
      "metadata": {
        "id": "oLuz7a09wkP5"
      },
      "id": "oLuz7a09wkP5"
    },
    {
      "cell_type": "code",
      "execution_count": null,
      "id": "236438b9",
      "metadata": {
        "colab": {
          "base_uri": "https://localhost:8080/",
          "height": 175
        },
        "id": "236438b9",
        "outputId": "8c18ce43-7dd5-49b3-8cbc-5cffb82529c9"
      },
      "outputs": [
        {
          "output_type": "execute_result",
          "data": {
            "text/plain": [
              "          survived\n",
              "embarked          \n",
              "C         0.555556\n",
              "Q         0.357724\n",
              "S         0.332604"
            ],
            "text/html": [
              "\n",
              "  <div id=\"df-d71e59bc-890e-49fe-bb9d-2a6f6ab95483\" class=\"colab-df-container\">\n",
              "    <div>\n",
              "<style scoped>\n",
              "    .dataframe tbody tr th:only-of-type {\n",
              "        vertical-align: middle;\n",
              "    }\n",
              "\n",
              "    .dataframe tbody tr th {\n",
              "        vertical-align: top;\n",
              "    }\n",
              "\n",
              "    .dataframe thead th {\n",
              "        text-align: right;\n",
              "    }\n",
              "</style>\n",
              "<table border=\"1\" class=\"dataframe\">\n",
              "  <thead>\n",
              "    <tr style=\"text-align: right;\">\n",
              "      <th></th>\n",
              "      <th>survived</th>\n",
              "    </tr>\n",
              "    <tr>\n",
              "      <th>embarked</th>\n",
              "      <th></th>\n",
              "    </tr>\n",
              "  </thead>\n",
              "  <tbody>\n",
              "    <tr>\n",
              "      <th>C</th>\n",
              "      <td>0.555556</td>\n",
              "    </tr>\n",
              "    <tr>\n",
              "      <th>Q</th>\n",
              "      <td>0.357724</td>\n",
              "    </tr>\n",
              "    <tr>\n",
              "      <th>S</th>\n",
              "      <td>0.332604</td>\n",
              "    </tr>\n",
              "  </tbody>\n",
              "</table>\n",
              "</div>\n",
              "    <div class=\"colab-df-buttons\">\n",
              "\n",
              "  <div class=\"colab-df-container\">\n",
              "    <button class=\"colab-df-convert\" onclick=\"convertToInteractive('df-d71e59bc-890e-49fe-bb9d-2a6f6ab95483')\"\n",
              "            title=\"Convert this dataframe to an interactive table.\"\n",
              "            style=\"display:none;\">\n",
              "\n",
              "  <svg xmlns=\"http://www.w3.org/2000/svg\" height=\"24px\" viewBox=\"0 -960 960 960\">\n",
              "    <path d=\"M120-120v-720h720v720H120Zm60-500h600v-160H180v160Zm220 220h160v-160H400v160Zm0 220h160v-160H400v160ZM180-400h160v-160H180v160Zm440 0h160v-160H620v160ZM180-180h160v-160H180v160Zm440 0h160v-160H620v160Z\"/>\n",
              "  </svg>\n",
              "    </button>\n",
              "\n",
              "  <style>\n",
              "    .colab-df-container {\n",
              "      display:flex;\n",
              "      gap: 12px;\n",
              "    }\n",
              "\n",
              "    .colab-df-convert {\n",
              "      background-color: #E8F0FE;\n",
              "      border: none;\n",
              "      border-radius: 50%;\n",
              "      cursor: pointer;\n",
              "      display: none;\n",
              "      fill: #1967D2;\n",
              "      height: 32px;\n",
              "      padding: 0 0 0 0;\n",
              "      width: 32px;\n",
              "    }\n",
              "\n",
              "    .colab-df-convert:hover {\n",
              "      background-color: #E2EBFA;\n",
              "      box-shadow: 0px 1px 2px rgba(60, 64, 67, 0.3), 0px 1px 3px 1px rgba(60, 64, 67, 0.15);\n",
              "      fill: #174EA6;\n",
              "    }\n",
              "\n",
              "    .colab-df-buttons div {\n",
              "      margin-bottom: 4px;\n",
              "    }\n",
              "\n",
              "    [theme=dark] .colab-df-convert {\n",
              "      background-color: #3B4455;\n",
              "      fill: #D2E3FC;\n",
              "    }\n",
              "\n",
              "    [theme=dark] .colab-df-convert:hover {\n",
              "      background-color: #434B5C;\n",
              "      box-shadow: 0px 1px 3px 1px rgba(0, 0, 0, 0.15);\n",
              "      filter: drop-shadow(0px 1px 2px rgba(0, 0, 0, 0.3));\n",
              "      fill: #FFFFFF;\n",
              "    }\n",
              "  </style>\n",
              "\n",
              "    <script>\n",
              "      const buttonEl =\n",
              "        document.querySelector('#df-d71e59bc-890e-49fe-bb9d-2a6f6ab95483 button.colab-df-convert');\n",
              "      buttonEl.style.display =\n",
              "        google.colab.kernel.accessAllowed ? 'block' : 'none';\n",
              "\n",
              "      async function convertToInteractive(key) {\n",
              "        const element = document.querySelector('#df-d71e59bc-890e-49fe-bb9d-2a6f6ab95483');\n",
              "        const dataTable =\n",
              "          await google.colab.kernel.invokeFunction('convertToInteractive',\n",
              "                                                    [key], {});\n",
              "        if (!dataTable) return;\n",
              "\n",
              "        const docLinkHtml = 'Like what you see? Visit the ' +\n",
              "          '<a target=\"_blank\" href=https://colab.research.google.com/notebooks/data_table.ipynb>data table notebook</a>'\n",
              "          + ' to learn more about interactive tables.';\n",
              "        element.innerHTML = '';\n",
              "        dataTable['output_type'] = 'display_data';\n",
              "        await google.colab.output.renderOutput(dataTable, element);\n",
              "        const docLink = document.createElement('div');\n",
              "        docLink.innerHTML = docLinkHtml;\n",
              "        element.appendChild(docLink);\n",
              "      }\n",
              "    </script>\n",
              "  </div>\n",
              "\n",
              "\n",
              "<div id=\"df-a9fad4d8-e1db-4efd-ab1c-476728a4a7b2\">\n",
              "  <button class=\"colab-df-quickchart\" onclick=\"quickchart('df-a9fad4d8-e1db-4efd-ab1c-476728a4a7b2')\"\n",
              "            title=\"Suggest charts\"\n",
              "            style=\"display:none;\">\n",
              "\n",
              "<svg xmlns=\"http://www.w3.org/2000/svg\" height=\"24px\"viewBox=\"0 0 24 24\"\n",
              "     width=\"24px\">\n",
              "    <g>\n",
              "        <path d=\"M19 3H5c-1.1 0-2 .9-2 2v14c0 1.1.9 2 2 2h14c1.1 0 2-.9 2-2V5c0-1.1-.9-2-2-2zM9 17H7v-7h2v7zm4 0h-2V7h2v10zm4 0h-2v-4h2v4z\"/>\n",
              "    </g>\n",
              "</svg>\n",
              "  </button>\n",
              "\n",
              "<style>\n",
              "  .colab-df-quickchart {\n",
              "      --bg-color: #E8F0FE;\n",
              "      --fill-color: #1967D2;\n",
              "      --hover-bg-color: #E2EBFA;\n",
              "      --hover-fill-color: #174EA6;\n",
              "      --disabled-fill-color: #AAA;\n",
              "      --disabled-bg-color: #DDD;\n",
              "  }\n",
              "\n",
              "  [theme=dark] .colab-df-quickchart {\n",
              "      --bg-color: #3B4455;\n",
              "      --fill-color: #D2E3FC;\n",
              "      --hover-bg-color: #434B5C;\n",
              "      --hover-fill-color: #FFFFFF;\n",
              "      --disabled-bg-color: #3B4455;\n",
              "      --disabled-fill-color: #666;\n",
              "  }\n",
              "\n",
              "  .colab-df-quickchart {\n",
              "    background-color: var(--bg-color);\n",
              "    border: none;\n",
              "    border-radius: 50%;\n",
              "    cursor: pointer;\n",
              "    display: none;\n",
              "    fill: var(--fill-color);\n",
              "    height: 32px;\n",
              "    padding: 0;\n",
              "    width: 32px;\n",
              "  }\n",
              "\n",
              "  .colab-df-quickchart:hover {\n",
              "    background-color: var(--hover-bg-color);\n",
              "    box-shadow: 0 1px 2px rgba(60, 64, 67, 0.3), 0 1px 3px 1px rgba(60, 64, 67, 0.15);\n",
              "    fill: var(--button-hover-fill-color);\n",
              "  }\n",
              "\n",
              "  .colab-df-quickchart-complete:disabled,\n",
              "  .colab-df-quickchart-complete:disabled:hover {\n",
              "    background-color: var(--disabled-bg-color);\n",
              "    fill: var(--disabled-fill-color);\n",
              "    box-shadow: none;\n",
              "  }\n",
              "\n",
              "  .colab-df-spinner {\n",
              "    border: 2px solid var(--fill-color);\n",
              "    border-color: transparent;\n",
              "    border-bottom-color: var(--fill-color);\n",
              "    animation:\n",
              "      spin 1s steps(1) infinite;\n",
              "  }\n",
              "\n",
              "  @keyframes spin {\n",
              "    0% {\n",
              "      border-color: transparent;\n",
              "      border-bottom-color: var(--fill-color);\n",
              "      border-left-color: var(--fill-color);\n",
              "    }\n",
              "    20% {\n",
              "      border-color: transparent;\n",
              "      border-left-color: var(--fill-color);\n",
              "      border-top-color: var(--fill-color);\n",
              "    }\n",
              "    30% {\n",
              "      border-color: transparent;\n",
              "      border-left-color: var(--fill-color);\n",
              "      border-top-color: var(--fill-color);\n",
              "      border-right-color: var(--fill-color);\n",
              "    }\n",
              "    40% {\n",
              "      border-color: transparent;\n",
              "      border-right-color: var(--fill-color);\n",
              "      border-top-color: var(--fill-color);\n",
              "    }\n",
              "    60% {\n",
              "      border-color: transparent;\n",
              "      border-right-color: var(--fill-color);\n",
              "    }\n",
              "    80% {\n",
              "      border-color: transparent;\n",
              "      border-right-color: var(--fill-color);\n",
              "      border-bottom-color: var(--fill-color);\n",
              "    }\n",
              "    90% {\n",
              "      border-color: transparent;\n",
              "      border-bottom-color: var(--fill-color);\n",
              "    }\n",
              "  }\n",
              "</style>\n",
              "\n",
              "  <script>\n",
              "    async function quickchart(key) {\n",
              "      const quickchartButtonEl =\n",
              "        document.querySelector('#' + key + ' button');\n",
              "      quickchartButtonEl.disabled = true;  // To prevent multiple clicks.\n",
              "      quickchartButtonEl.classList.add('colab-df-spinner');\n",
              "      try {\n",
              "        const charts = await google.colab.kernel.invokeFunction(\n",
              "            'suggestCharts', [key], {});\n",
              "      } catch (error) {\n",
              "        console.error('Error during call to suggestCharts:', error);\n",
              "      }\n",
              "      quickchartButtonEl.classList.remove('colab-df-spinner');\n",
              "      quickchartButtonEl.classList.add('colab-df-quickchart-complete');\n",
              "    }\n",
              "    (() => {\n",
              "      let quickchartButtonEl =\n",
              "        document.querySelector('#df-a9fad4d8-e1db-4efd-ab1c-476728a4a7b2 button');\n",
              "      quickchartButtonEl.style.display =\n",
              "        google.colab.kernel.accessAllowed ? 'block' : 'none';\n",
              "    })();\n",
              "  </script>\n",
              "</div>\n",
              "\n",
              "    </div>\n",
              "  </div>\n"
            ]
          },
          "metadata": {},
          "execution_count": 13
        }
      ],
      "source": [
        "# 5) porto de embarque?\n",
        "\n",
        "#df_titanic.groupby('embarked')['survived'].mean()\n",
        "df_titanic.pivot_table(index='embarked', values='survived', aggfunc='mean')"
      ]
    },
    {
      "cell_type": "markdown",
      "source": [
        "# 6)Taxa de sobrevivência por preço medio por classe?\n"
      ],
      "metadata": {
        "id": "5LBb2Xe4wzFy"
      },
      "id": "5LBb2Xe4wzFy"
    },
    {
      "cell_type": "code",
      "source": [
        "# Resolução Efetiva\n",
        "fare_tratada = pd.to_numeric(df_titanic['fare'], errors='coerce')\n",
        "fare_tratada\n",
        "\n",
        "df_titanic_tratado = df_titanic.copy()\n",
        "\n",
        "df_titanic_tratado['fare'] = fare_tratada\n",
        "\n",
        "df_titanic_tratado.groupby('pclass')['fare'].mean()"
      ],
      "metadata": {
        "colab": {
          "base_uri": "https://localhost:8080/"
        },
        "id": "UFn8yBV7Dq62",
        "outputId": "1fe8876c-e937-4081-98f3-53d562d01d43"
      },
      "id": "UFn8yBV7Dq62",
      "execution_count": null,
      "outputs": [
        {
          "output_type": "execute_result",
          "data": {
            "text/plain": [
              "pclass\n",
              "1    87.508992\n",
              "2    21.179196\n",
              "3    13.302889\n",
              "Name: fare, dtype: float64"
            ]
          },
          "metadata": {},
          "execution_count": 64
        }
      ]
    },
    {
      "cell_type": "code",
      "source": [
        "def FareForClass (pclass):\n",
        "  if pclass == 1:\n",
        "    return 87.508992\n",
        "  elif pclass == 2:\n",
        "    return 21.179196\n",
        "  else:\n",
        "    return 13.302889\n",
        "\n"
      ],
      "metadata": {
        "id": "gSIhxiMSLVqe"
      },
      "id": "gSIhxiMSLVqe",
      "execution_count": null,
      "outputs": []
    },
    {
      "cell_type": "code",
      "source": [
        "df_titanic_tratado.pivot_table(index='pclass', values='fare', aggfunc='mean')"
      ],
      "metadata": {
        "colab": {
          "base_uri": "https://localhost:8080/",
          "height": 175
        },
        "id": "nmSPpYTHG2p4",
        "outputId": "579cf1af-febb-4b36-80f0-5e503ab92fdf"
      },
      "id": "nmSPpYTHG2p4",
      "execution_count": null,
      "outputs": [
        {
          "output_type": "execute_result",
          "data": {
            "text/plain": [
              "             fare\n",
              "pclass           \n",
              "1       87.508992\n",
              "2       21.179196\n",
              "3       13.302889"
            ],
            "text/html": [
              "\n",
              "  <div id=\"df-f919814e-32a7-4b4b-95da-c230effbde4c\" class=\"colab-df-container\">\n",
              "    <div>\n",
              "<style scoped>\n",
              "    .dataframe tbody tr th:only-of-type {\n",
              "        vertical-align: middle;\n",
              "    }\n",
              "\n",
              "    .dataframe tbody tr th {\n",
              "        vertical-align: top;\n",
              "    }\n",
              "\n",
              "    .dataframe thead th {\n",
              "        text-align: right;\n",
              "    }\n",
              "</style>\n",
              "<table border=\"1\" class=\"dataframe\">\n",
              "  <thead>\n",
              "    <tr style=\"text-align: right;\">\n",
              "      <th></th>\n",
              "      <th>fare</th>\n",
              "    </tr>\n",
              "    <tr>\n",
              "      <th>pclass</th>\n",
              "      <th></th>\n",
              "    </tr>\n",
              "  </thead>\n",
              "  <tbody>\n",
              "    <tr>\n",
              "      <th>1</th>\n",
              "      <td>87.508992</td>\n",
              "    </tr>\n",
              "    <tr>\n",
              "      <th>2</th>\n",
              "      <td>21.179196</td>\n",
              "    </tr>\n",
              "    <tr>\n",
              "      <th>3</th>\n",
              "      <td>13.302889</td>\n",
              "    </tr>\n",
              "  </tbody>\n",
              "</table>\n",
              "</div>\n",
              "    <div class=\"colab-df-buttons\">\n",
              "\n",
              "  <div class=\"colab-df-container\">\n",
              "    <button class=\"colab-df-convert\" onclick=\"convertToInteractive('df-f919814e-32a7-4b4b-95da-c230effbde4c')\"\n",
              "            title=\"Convert this dataframe to an interactive table.\"\n",
              "            style=\"display:none;\">\n",
              "\n",
              "  <svg xmlns=\"http://www.w3.org/2000/svg\" height=\"24px\" viewBox=\"0 -960 960 960\">\n",
              "    <path d=\"M120-120v-720h720v720H120Zm60-500h600v-160H180v160Zm220 220h160v-160H400v160Zm0 220h160v-160H400v160ZM180-400h160v-160H180v160Zm440 0h160v-160H620v160ZM180-180h160v-160H180v160Zm440 0h160v-160H620v160Z\"/>\n",
              "  </svg>\n",
              "    </button>\n",
              "\n",
              "  <style>\n",
              "    .colab-df-container {\n",
              "      display:flex;\n",
              "      gap: 12px;\n",
              "    }\n",
              "\n",
              "    .colab-df-convert {\n",
              "      background-color: #E8F0FE;\n",
              "      border: none;\n",
              "      border-radius: 50%;\n",
              "      cursor: pointer;\n",
              "      display: none;\n",
              "      fill: #1967D2;\n",
              "      height: 32px;\n",
              "      padding: 0 0 0 0;\n",
              "      width: 32px;\n",
              "    }\n",
              "\n",
              "    .colab-df-convert:hover {\n",
              "      background-color: #E2EBFA;\n",
              "      box-shadow: 0px 1px 2px rgba(60, 64, 67, 0.3), 0px 1px 3px 1px rgba(60, 64, 67, 0.15);\n",
              "      fill: #174EA6;\n",
              "    }\n",
              "\n",
              "    .colab-df-buttons div {\n",
              "      margin-bottom: 4px;\n",
              "    }\n",
              "\n",
              "    [theme=dark] .colab-df-convert {\n",
              "      background-color: #3B4455;\n",
              "      fill: #D2E3FC;\n",
              "    }\n",
              "\n",
              "    [theme=dark] .colab-df-convert:hover {\n",
              "      background-color: #434B5C;\n",
              "      box-shadow: 0px 1px 3px 1px rgba(0, 0, 0, 0.15);\n",
              "      filter: drop-shadow(0px 1px 2px rgba(0, 0, 0, 0.3));\n",
              "      fill: #FFFFFF;\n",
              "    }\n",
              "  </style>\n",
              "\n",
              "    <script>\n",
              "      const buttonEl =\n",
              "        document.querySelector('#df-f919814e-32a7-4b4b-95da-c230effbde4c button.colab-df-convert');\n",
              "      buttonEl.style.display =\n",
              "        google.colab.kernel.accessAllowed ? 'block' : 'none';\n",
              "\n",
              "      async function convertToInteractive(key) {\n",
              "        const element = document.querySelector('#df-f919814e-32a7-4b4b-95da-c230effbde4c');\n",
              "        const dataTable =\n",
              "          await google.colab.kernel.invokeFunction('convertToInteractive',\n",
              "                                                    [key], {});\n",
              "        if (!dataTable) return;\n",
              "\n",
              "        const docLinkHtml = 'Like what you see? Visit the ' +\n",
              "          '<a target=\"_blank\" href=https://colab.research.google.com/notebooks/data_table.ipynb>data table notebook</a>'\n",
              "          + ' to learn more about interactive tables.';\n",
              "        element.innerHTML = '';\n",
              "        dataTable['output_type'] = 'display_data';\n",
              "        await google.colab.output.renderOutput(dataTable, element);\n",
              "        const docLink = document.createElement('div');\n",
              "        docLink.innerHTML = docLinkHtml;\n",
              "        element.appendChild(docLink);\n",
              "      }\n",
              "    </script>\n",
              "  </div>\n",
              "\n",
              "\n",
              "<div id=\"df-5d8ac245-909a-4e5e-a8ff-5d779130f9dc\">\n",
              "  <button class=\"colab-df-quickchart\" onclick=\"quickchart('df-5d8ac245-909a-4e5e-a8ff-5d779130f9dc')\"\n",
              "            title=\"Suggest charts\"\n",
              "            style=\"display:none;\">\n",
              "\n",
              "<svg xmlns=\"http://www.w3.org/2000/svg\" height=\"24px\"viewBox=\"0 0 24 24\"\n",
              "     width=\"24px\">\n",
              "    <g>\n",
              "        <path d=\"M19 3H5c-1.1 0-2 .9-2 2v14c0 1.1.9 2 2 2h14c1.1 0 2-.9 2-2V5c0-1.1-.9-2-2-2zM9 17H7v-7h2v7zm4 0h-2V7h2v10zm4 0h-2v-4h2v4z\"/>\n",
              "    </g>\n",
              "</svg>\n",
              "  </button>\n",
              "\n",
              "<style>\n",
              "  .colab-df-quickchart {\n",
              "      --bg-color: #E8F0FE;\n",
              "      --fill-color: #1967D2;\n",
              "      --hover-bg-color: #E2EBFA;\n",
              "      --hover-fill-color: #174EA6;\n",
              "      --disabled-fill-color: #AAA;\n",
              "      --disabled-bg-color: #DDD;\n",
              "  }\n",
              "\n",
              "  [theme=dark] .colab-df-quickchart {\n",
              "      --bg-color: #3B4455;\n",
              "      --fill-color: #D2E3FC;\n",
              "      --hover-bg-color: #434B5C;\n",
              "      --hover-fill-color: #FFFFFF;\n",
              "      --disabled-bg-color: #3B4455;\n",
              "      --disabled-fill-color: #666;\n",
              "  }\n",
              "\n",
              "  .colab-df-quickchart {\n",
              "    background-color: var(--bg-color);\n",
              "    border: none;\n",
              "    border-radius: 50%;\n",
              "    cursor: pointer;\n",
              "    display: none;\n",
              "    fill: var(--fill-color);\n",
              "    height: 32px;\n",
              "    padding: 0;\n",
              "    width: 32px;\n",
              "  }\n",
              "\n",
              "  .colab-df-quickchart:hover {\n",
              "    background-color: var(--hover-bg-color);\n",
              "    box-shadow: 0 1px 2px rgba(60, 64, 67, 0.3), 0 1px 3px 1px rgba(60, 64, 67, 0.15);\n",
              "    fill: var(--button-hover-fill-color);\n",
              "  }\n",
              "\n",
              "  .colab-df-quickchart-complete:disabled,\n",
              "  .colab-df-quickchart-complete:disabled:hover {\n",
              "    background-color: var(--disabled-bg-color);\n",
              "    fill: var(--disabled-fill-color);\n",
              "    box-shadow: none;\n",
              "  }\n",
              "\n",
              "  .colab-df-spinner {\n",
              "    border: 2px solid var(--fill-color);\n",
              "    border-color: transparent;\n",
              "    border-bottom-color: var(--fill-color);\n",
              "    animation:\n",
              "      spin 1s steps(1) infinite;\n",
              "  }\n",
              "\n",
              "  @keyframes spin {\n",
              "    0% {\n",
              "      border-color: transparent;\n",
              "      border-bottom-color: var(--fill-color);\n",
              "      border-left-color: var(--fill-color);\n",
              "    }\n",
              "    20% {\n",
              "      border-color: transparent;\n",
              "      border-left-color: var(--fill-color);\n",
              "      border-top-color: var(--fill-color);\n",
              "    }\n",
              "    30% {\n",
              "      border-color: transparent;\n",
              "      border-left-color: var(--fill-color);\n",
              "      border-top-color: var(--fill-color);\n",
              "      border-right-color: var(--fill-color);\n",
              "    }\n",
              "    40% {\n",
              "      border-color: transparent;\n",
              "      border-right-color: var(--fill-color);\n",
              "      border-top-color: var(--fill-color);\n",
              "    }\n",
              "    60% {\n",
              "      border-color: transparent;\n",
              "      border-right-color: var(--fill-color);\n",
              "    }\n",
              "    80% {\n",
              "      border-color: transparent;\n",
              "      border-right-color: var(--fill-color);\n",
              "      border-bottom-color: var(--fill-color);\n",
              "    }\n",
              "    90% {\n",
              "      border-color: transparent;\n",
              "      border-bottom-color: var(--fill-color);\n",
              "    }\n",
              "  }\n",
              "</style>\n",
              "\n",
              "  <script>\n",
              "    async function quickchart(key) {\n",
              "      const quickchartButtonEl =\n",
              "        document.querySelector('#' + key + ' button');\n",
              "      quickchartButtonEl.disabled = true;  // To prevent multiple clicks.\n",
              "      quickchartButtonEl.classList.add('colab-df-spinner');\n",
              "      try {\n",
              "        const charts = await google.colab.kernel.invokeFunction(\n",
              "            'suggestCharts', [key], {});\n",
              "      } catch (error) {\n",
              "        console.error('Error during call to suggestCharts:', error);\n",
              "      }\n",
              "      quickchartButtonEl.classList.remove('colab-df-spinner');\n",
              "      quickchartButtonEl.classList.add('colab-df-quickchart-complete');\n",
              "    }\n",
              "    (() => {\n",
              "      let quickchartButtonEl =\n",
              "        document.querySelector('#df-5d8ac245-909a-4e5e-a8ff-5d779130f9dc button');\n",
              "      quickchartButtonEl.style.display =\n",
              "        google.colab.kernel.accessAllowed ? 'block' : 'none';\n",
              "    })();\n",
              "  </script>\n",
              "</div>\n",
              "\n",
              "    </div>\n",
              "  </div>\n"
            ]
          },
          "metadata": {},
          "execution_count": 81
        }
      ]
    },
    {
      "cell_type": "code",
      "source": [
        "df_titanic_tratado['Fare_for_Class'] = df_titanic_tratado['pclass'].apply(FareForClass)\n",
        "df_titanic_tratado.head()\n",
        "\n"
      ],
      "metadata": {
        "colab": {
          "base_uri": "https://localhost:8080/",
          "height": 293
        },
        "id": "OnP3udBNH7DG",
        "outputId": "9e826a2f-bccc-485d-e722-d351a582970c"
      },
      "id": "OnP3udBNH7DG",
      "execution_count": null,
      "outputs": [
        {
          "output_type": "execute_result",
          "data": {
            "text/plain": [
              "   pclass  survived                                             name     sex  \\\n",
              "0       1         1                    Allen, Miss. Elisabeth Walton  female   \n",
              "1       1         1                   Allison, Master. Hudson Trevor    male   \n",
              "2       1         0                     Allison, Miss. Helen Loraine  female   \n",
              "3       1         0             Allison, Mr. Hudson Joshua Creighton    male   \n",
              "4       1         0  Allison, Mrs. Hudson J C (Bessie Waldo Daniels)  female   \n",
              "\n",
              "      age  sibsp  parch  ticket      fare    cabin embarked boat body  \\\n",
              "0      29      0      0   24160  211.3375       B5        S    2  NaN   \n",
              "1  0.9167      1      2  113781  151.5500  C22 C26        S   11  NaN   \n",
              "2       2      1      2  113781  151.5500  C22 C26        S  NaN  NaN   \n",
              "3      30      1      2  113781  151.5500  C22 C26        S  NaN  135   \n",
              "4      25      1      2  113781  151.5500  C22 C26        S  NaN  NaN   \n",
              "\n",
              "                         home.dest  Fare_for_Class  \n",
              "0                     St Louis, MO       87.508992  \n",
              "1  Montreal, PQ / Chesterville, ON       87.508992  \n",
              "2  Montreal, PQ / Chesterville, ON       87.508992  \n",
              "3  Montreal, PQ / Chesterville, ON       87.508992  \n",
              "4  Montreal, PQ / Chesterville, ON       87.508992  "
            ],
            "text/html": [
              "\n",
              "  <div id=\"df-857c250b-f2c6-4d7b-bb41-9e15c9350b07\" class=\"colab-df-container\">\n",
              "    <div>\n",
              "<style scoped>\n",
              "    .dataframe tbody tr th:only-of-type {\n",
              "        vertical-align: middle;\n",
              "    }\n",
              "\n",
              "    .dataframe tbody tr th {\n",
              "        vertical-align: top;\n",
              "    }\n",
              "\n",
              "    .dataframe thead th {\n",
              "        text-align: right;\n",
              "    }\n",
              "</style>\n",
              "<table border=\"1\" class=\"dataframe\">\n",
              "  <thead>\n",
              "    <tr style=\"text-align: right;\">\n",
              "      <th></th>\n",
              "      <th>pclass</th>\n",
              "      <th>survived</th>\n",
              "      <th>name</th>\n",
              "      <th>sex</th>\n",
              "      <th>age</th>\n",
              "      <th>sibsp</th>\n",
              "      <th>parch</th>\n",
              "      <th>ticket</th>\n",
              "      <th>fare</th>\n",
              "      <th>cabin</th>\n",
              "      <th>embarked</th>\n",
              "      <th>boat</th>\n",
              "      <th>body</th>\n",
              "      <th>home.dest</th>\n",
              "      <th>Fare_for_Class</th>\n",
              "    </tr>\n",
              "  </thead>\n",
              "  <tbody>\n",
              "    <tr>\n",
              "      <th>0</th>\n",
              "      <td>1</td>\n",
              "      <td>1</td>\n",
              "      <td>Allen, Miss. Elisabeth Walton</td>\n",
              "      <td>female</td>\n",
              "      <td>29</td>\n",
              "      <td>0</td>\n",
              "      <td>0</td>\n",
              "      <td>24160</td>\n",
              "      <td>211.3375</td>\n",
              "      <td>B5</td>\n",
              "      <td>S</td>\n",
              "      <td>2</td>\n",
              "      <td>NaN</td>\n",
              "      <td>St Louis, MO</td>\n",
              "      <td>87.508992</td>\n",
              "    </tr>\n",
              "    <tr>\n",
              "      <th>1</th>\n",
              "      <td>1</td>\n",
              "      <td>1</td>\n",
              "      <td>Allison, Master. Hudson Trevor</td>\n",
              "      <td>male</td>\n",
              "      <td>0.9167</td>\n",
              "      <td>1</td>\n",
              "      <td>2</td>\n",
              "      <td>113781</td>\n",
              "      <td>151.5500</td>\n",
              "      <td>C22 C26</td>\n",
              "      <td>S</td>\n",
              "      <td>11</td>\n",
              "      <td>NaN</td>\n",
              "      <td>Montreal, PQ / Chesterville, ON</td>\n",
              "      <td>87.508992</td>\n",
              "    </tr>\n",
              "    <tr>\n",
              "      <th>2</th>\n",
              "      <td>1</td>\n",
              "      <td>0</td>\n",
              "      <td>Allison, Miss. Helen Loraine</td>\n",
              "      <td>female</td>\n",
              "      <td>2</td>\n",
              "      <td>1</td>\n",
              "      <td>2</td>\n",
              "      <td>113781</td>\n",
              "      <td>151.5500</td>\n",
              "      <td>C22 C26</td>\n",
              "      <td>S</td>\n",
              "      <td>NaN</td>\n",
              "      <td>NaN</td>\n",
              "      <td>Montreal, PQ / Chesterville, ON</td>\n",
              "      <td>87.508992</td>\n",
              "    </tr>\n",
              "    <tr>\n",
              "      <th>3</th>\n",
              "      <td>1</td>\n",
              "      <td>0</td>\n",
              "      <td>Allison, Mr. Hudson Joshua Creighton</td>\n",
              "      <td>male</td>\n",
              "      <td>30</td>\n",
              "      <td>1</td>\n",
              "      <td>2</td>\n",
              "      <td>113781</td>\n",
              "      <td>151.5500</td>\n",
              "      <td>C22 C26</td>\n",
              "      <td>S</td>\n",
              "      <td>NaN</td>\n",
              "      <td>135</td>\n",
              "      <td>Montreal, PQ / Chesterville, ON</td>\n",
              "      <td>87.508992</td>\n",
              "    </tr>\n",
              "    <tr>\n",
              "      <th>4</th>\n",
              "      <td>1</td>\n",
              "      <td>0</td>\n",
              "      <td>Allison, Mrs. Hudson J C (Bessie Waldo Daniels)</td>\n",
              "      <td>female</td>\n",
              "      <td>25</td>\n",
              "      <td>1</td>\n",
              "      <td>2</td>\n",
              "      <td>113781</td>\n",
              "      <td>151.5500</td>\n",
              "      <td>C22 C26</td>\n",
              "      <td>S</td>\n",
              "      <td>NaN</td>\n",
              "      <td>NaN</td>\n",
              "      <td>Montreal, PQ / Chesterville, ON</td>\n",
              "      <td>87.508992</td>\n",
              "    </tr>\n",
              "  </tbody>\n",
              "</table>\n",
              "</div>\n",
              "    <div class=\"colab-df-buttons\">\n",
              "\n",
              "  <div class=\"colab-df-container\">\n",
              "    <button class=\"colab-df-convert\" onclick=\"convertToInteractive('df-857c250b-f2c6-4d7b-bb41-9e15c9350b07')\"\n",
              "            title=\"Convert this dataframe to an interactive table.\"\n",
              "            style=\"display:none;\">\n",
              "\n",
              "  <svg xmlns=\"http://www.w3.org/2000/svg\" height=\"24px\" viewBox=\"0 -960 960 960\">\n",
              "    <path d=\"M120-120v-720h720v720H120Zm60-500h600v-160H180v160Zm220 220h160v-160H400v160Zm0 220h160v-160H400v160ZM180-400h160v-160H180v160Zm440 0h160v-160H620v160ZM180-180h160v-160H180v160Zm440 0h160v-160H620v160Z\"/>\n",
              "  </svg>\n",
              "    </button>\n",
              "\n",
              "  <style>\n",
              "    .colab-df-container {\n",
              "      display:flex;\n",
              "      gap: 12px;\n",
              "    }\n",
              "\n",
              "    .colab-df-convert {\n",
              "      background-color: #E8F0FE;\n",
              "      border: none;\n",
              "      border-radius: 50%;\n",
              "      cursor: pointer;\n",
              "      display: none;\n",
              "      fill: #1967D2;\n",
              "      height: 32px;\n",
              "      padding: 0 0 0 0;\n",
              "      width: 32px;\n",
              "    }\n",
              "\n",
              "    .colab-df-convert:hover {\n",
              "      background-color: #E2EBFA;\n",
              "      box-shadow: 0px 1px 2px rgba(60, 64, 67, 0.3), 0px 1px 3px 1px rgba(60, 64, 67, 0.15);\n",
              "      fill: #174EA6;\n",
              "    }\n",
              "\n",
              "    .colab-df-buttons div {\n",
              "      margin-bottom: 4px;\n",
              "    }\n",
              "\n",
              "    [theme=dark] .colab-df-convert {\n",
              "      background-color: #3B4455;\n",
              "      fill: #D2E3FC;\n",
              "    }\n",
              "\n",
              "    [theme=dark] .colab-df-convert:hover {\n",
              "      background-color: #434B5C;\n",
              "      box-shadow: 0px 1px 3px 1px rgba(0, 0, 0, 0.15);\n",
              "      filter: drop-shadow(0px 1px 2px rgba(0, 0, 0, 0.3));\n",
              "      fill: #FFFFFF;\n",
              "    }\n",
              "  </style>\n",
              "\n",
              "    <script>\n",
              "      const buttonEl =\n",
              "        document.querySelector('#df-857c250b-f2c6-4d7b-bb41-9e15c9350b07 button.colab-df-convert');\n",
              "      buttonEl.style.display =\n",
              "        google.colab.kernel.accessAllowed ? 'block' : 'none';\n",
              "\n",
              "      async function convertToInteractive(key) {\n",
              "        const element = document.querySelector('#df-857c250b-f2c6-4d7b-bb41-9e15c9350b07');\n",
              "        const dataTable =\n",
              "          await google.colab.kernel.invokeFunction('convertToInteractive',\n",
              "                                                    [key], {});\n",
              "        if (!dataTable) return;\n",
              "\n",
              "        const docLinkHtml = 'Like what you see? Visit the ' +\n",
              "          '<a target=\"_blank\" href=https://colab.research.google.com/notebooks/data_table.ipynb>data table notebook</a>'\n",
              "          + ' to learn more about interactive tables.';\n",
              "        element.innerHTML = '';\n",
              "        dataTable['output_type'] = 'display_data';\n",
              "        await google.colab.output.renderOutput(dataTable, element);\n",
              "        const docLink = document.createElement('div');\n",
              "        docLink.innerHTML = docLinkHtml;\n",
              "        element.appendChild(docLink);\n",
              "      }\n",
              "    </script>\n",
              "  </div>\n",
              "\n",
              "\n",
              "<div id=\"df-8b8cde34-a2e9-42c0-982f-497d6219d983\">\n",
              "  <button class=\"colab-df-quickchart\" onclick=\"quickchart('df-8b8cde34-a2e9-42c0-982f-497d6219d983')\"\n",
              "            title=\"Suggest charts\"\n",
              "            style=\"display:none;\">\n",
              "\n",
              "<svg xmlns=\"http://www.w3.org/2000/svg\" height=\"24px\"viewBox=\"0 0 24 24\"\n",
              "     width=\"24px\">\n",
              "    <g>\n",
              "        <path d=\"M19 3H5c-1.1 0-2 .9-2 2v14c0 1.1.9 2 2 2h14c1.1 0 2-.9 2-2V5c0-1.1-.9-2-2-2zM9 17H7v-7h2v7zm4 0h-2V7h2v10zm4 0h-2v-4h2v4z\"/>\n",
              "    </g>\n",
              "</svg>\n",
              "  </button>\n",
              "\n",
              "<style>\n",
              "  .colab-df-quickchart {\n",
              "      --bg-color: #E8F0FE;\n",
              "      --fill-color: #1967D2;\n",
              "      --hover-bg-color: #E2EBFA;\n",
              "      --hover-fill-color: #174EA6;\n",
              "      --disabled-fill-color: #AAA;\n",
              "      --disabled-bg-color: #DDD;\n",
              "  }\n",
              "\n",
              "  [theme=dark] .colab-df-quickchart {\n",
              "      --bg-color: #3B4455;\n",
              "      --fill-color: #D2E3FC;\n",
              "      --hover-bg-color: #434B5C;\n",
              "      --hover-fill-color: #FFFFFF;\n",
              "      --disabled-bg-color: #3B4455;\n",
              "      --disabled-fill-color: #666;\n",
              "  }\n",
              "\n",
              "  .colab-df-quickchart {\n",
              "    background-color: var(--bg-color);\n",
              "    border: none;\n",
              "    border-radius: 50%;\n",
              "    cursor: pointer;\n",
              "    display: none;\n",
              "    fill: var(--fill-color);\n",
              "    height: 32px;\n",
              "    padding: 0;\n",
              "    width: 32px;\n",
              "  }\n",
              "\n",
              "  .colab-df-quickchart:hover {\n",
              "    background-color: var(--hover-bg-color);\n",
              "    box-shadow: 0 1px 2px rgba(60, 64, 67, 0.3), 0 1px 3px 1px rgba(60, 64, 67, 0.15);\n",
              "    fill: var(--button-hover-fill-color);\n",
              "  }\n",
              "\n",
              "  .colab-df-quickchart-complete:disabled,\n",
              "  .colab-df-quickchart-complete:disabled:hover {\n",
              "    background-color: var(--disabled-bg-color);\n",
              "    fill: var(--disabled-fill-color);\n",
              "    box-shadow: none;\n",
              "  }\n",
              "\n",
              "  .colab-df-spinner {\n",
              "    border: 2px solid var(--fill-color);\n",
              "    border-color: transparent;\n",
              "    border-bottom-color: var(--fill-color);\n",
              "    animation:\n",
              "      spin 1s steps(1) infinite;\n",
              "  }\n",
              "\n",
              "  @keyframes spin {\n",
              "    0% {\n",
              "      border-color: transparent;\n",
              "      border-bottom-color: var(--fill-color);\n",
              "      border-left-color: var(--fill-color);\n",
              "    }\n",
              "    20% {\n",
              "      border-color: transparent;\n",
              "      border-left-color: var(--fill-color);\n",
              "      border-top-color: var(--fill-color);\n",
              "    }\n",
              "    30% {\n",
              "      border-color: transparent;\n",
              "      border-left-color: var(--fill-color);\n",
              "      border-top-color: var(--fill-color);\n",
              "      border-right-color: var(--fill-color);\n",
              "    }\n",
              "    40% {\n",
              "      border-color: transparent;\n",
              "      border-right-color: var(--fill-color);\n",
              "      border-top-color: var(--fill-color);\n",
              "    }\n",
              "    60% {\n",
              "      border-color: transparent;\n",
              "      border-right-color: var(--fill-color);\n",
              "    }\n",
              "    80% {\n",
              "      border-color: transparent;\n",
              "      border-right-color: var(--fill-color);\n",
              "      border-bottom-color: var(--fill-color);\n",
              "    }\n",
              "    90% {\n",
              "      border-color: transparent;\n",
              "      border-bottom-color: var(--fill-color);\n",
              "    }\n",
              "  }\n",
              "</style>\n",
              "\n",
              "  <script>\n",
              "    async function quickchart(key) {\n",
              "      const quickchartButtonEl =\n",
              "        document.querySelector('#' + key + ' button');\n",
              "      quickchartButtonEl.disabled = true;  // To prevent multiple clicks.\n",
              "      quickchartButtonEl.classList.add('colab-df-spinner');\n",
              "      try {\n",
              "        const charts = await google.colab.kernel.invokeFunction(\n",
              "            'suggestCharts', [key], {});\n",
              "      } catch (error) {\n",
              "        console.error('Error during call to suggestCharts:', error);\n",
              "      }\n",
              "      quickchartButtonEl.classList.remove('colab-df-spinner');\n",
              "      quickchartButtonEl.classList.add('colab-df-quickchart-complete');\n",
              "    }\n",
              "    (() => {\n",
              "      let quickchartButtonEl =\n",
              "        document.querySelector('#df-8b8cde34-a2e9-42c0-982f-497d6219d983 button');\n",
              "      quickchartButtonEl.style.display =\n",
              "        google.colab.kernel.accessAllowed ? 'block' : 'none';\n",
              "    })();\n",
              "  </script>\n",
              "</div>\n",
              "\n",
              "    </div>\n",
              "  </div>\n"
            ]
          },
          "metadata": {},
          "execution_count": 82
        }
      ]
    },
    {
      "cell_type": "code",
      "source": [
        "df_titanic_tratado.pivot_table(index='Fare_for_Class', values='survived', aggfunc='mean')\n",
        "#df_titanic_tratado.groupby('Fare_for_Class')['survived'].mean()"
      ],
      "metadata": {
        "colab": {
          "base_uri": "https://localhost:8080/",
          "height": 175
        },
        "id": "Pcp9V-0xMt-z",
        "outputId": "69343d1e-edc2-4a80-85d7-a260c66cac36"
      },
      "id": "Pcp9V-0xMt-z",
      "execution_count": null,
      "outputs": [
        {
          "output_type": "execute_result",
          "data": {
            "text/plain": [
              "                survived\n",
              "Fare_for_Class          \n",
              "13.302889       0.255289\n",
              "21.179196       0.429603\n",
              "87.508992       0.619195"
            ],
            "text/html": [
              "\n",
              "  <div id=\"df-6fc7d979-df6b-415e-95a0-08dccae9cbb7\" class=\"colab-df-container\">\n",
              "    <div>\n",
              "<style scoped>\n",
              "    .dataframe tbody tr th:only-of-type {\n",
              "        vertical-align: middle;\n",
              "    }\n",
              "\n",
              "    .dataframe tbody tr th {\n",
              "        vertical-align: top;\n",
              "    }\n",
              "\n",
              "    .dataframe thead th {\n",
              "        text-align: right;\n",
              "    }\n",
              "</style>\n",
              "<table border=\"1\" class=\"dataframe\">\n",
              "  <thead>\n",
              "    <tr style=\"text-align: right;\">\n",
              "      <th></th>\n",
              "      <th>survived</th>\n",
              "    </tr>\n",
              "    <tr>\n",
              "      <th>Fare_for_Class</th>\n",
              "      <th></th>\n",
              "    </tr>\n",
              "  </thead>\n",
              "  <tbody>\n",
              "    <tr>\n",
              "      <th>13.302889</th>\n",
              "      <td>0.255289</td>\n",
              "    </tr>\n",
              "    <tr>\n",
              "      <th>21.179196</th>\n",
              "      <td>0.429603</td>\n",
              "    </tr>\n",
              "    <tr>\n",
              "      <th>87.508992</th>\n",
              "      <td>0.619195</td>\n",
              "    </tr>\n",
              "  </tbody>\n",
              "</table>\n",
              "</div>\n",
              "    <div class=\"colab-df-buttons\">\n",
              "\n",
              "  <div class=\"colab-df-container\">\n",
              "    <button class=\"colab-df-convert\" onclick=\"convertToInteractive('df-6fc7d979-df6b-415e-95a0-08dccae9cbb7')\"\n",
              "            title=\"Convert this dataframe to an interactive table.\"\n",
              "            style=\"display:none;\">\n",
              "\n",
              "  <svg xmlns=\"http://www.w3.org/2000/svg\" height=\"24px\" viewBox=\"0 -960 960 960\">\n",
              "    <path d=\"M120-120v-720h720v720H120Zm60-500h600v-160H180v160Zm220 220h160v-160H400v160Zm0 220h160v-160H400v160ZM180-400h160v-160H180v160Zm440 0h160v-160H620v160ZM180-180h160v-160H180v160Zm440 0h160v-160H620v160Z\"/>\n",
              "  </svg>\n",
              "    </button>\n",
              "\n",
              "  <style>\n",
              "    .colab-df-container {\n",
              "      display:flex;\n",
              "      gap: 12px;\n",
              "    }\n",
              "\n",
              "    .colab-df-convert {\n",
              "      background-color: #E8F0FE;\n",
              "      border: none;\n",
              "      border-radius: 50%;\n",
              "      cursor: pointer;\n",
              "      display: none;\n",
              "      fill: #1967D2;\n",
              "      height: 32px;\n",
              "      padding: 0 0 0 0;\n",
              "      width: 32px;\n",
              "    }\n",
              "\n",
              "    .colab-df-convert:hover {\n",
              "      background-color: #E2EBFA;\n",
              "      box-shadow: 0px 1px 2px rgba(60, 64, 67, 0.3), 0px 1px 3px 1px rgba(60, 64, 67, 0.15);\n",
              "      fill: #174EA6;\n",
              "    }\n",
              "\n",
              "    .colab-df-buttons div {\n",
              "      margin-bottom: 4px;\n",
              "    }\n",
              "\n",
              "    [theme=dark] .colab-df-convert {\n",
              "      background-color: #3B4455;\n",
              "      fill: #D2E3FC;\n",
              "    }\n",
              "\n",
              "    [theme=dark] .colab-df-convert:hover {\n",
              "      background-color: #434B5C;\n",
              "      box-shadow: 0px 1px 3px 1px rgba(0, 0, 0, 0.15);\n",
              "      filter: drop-shadow(0px 1px 2px rgba(0, 0, 0, 0.3));\n",
              "      fill: #FFFFFF;\n",
              "    }\n",
              "  </style>\n",
              "\n",
              "    <script>\n",
              "      const buttonEl =\n",
              "        document.querySelector('#df-6fc7d979-df6b-415e-95a0-08dccae9cbb7 button.colab-df-convert');\n",
              "      buttonEl.style.display =\n",
              "        google.colab.kernel.accessAllowed ? 'block' : 'none';\n",
              "\n",
              "      async function convertToInteractive(key) {\n",
              "        const element = document.querySelector('#df-6fc7d979-df6b-415e-95a0-08dccae9cbb7');\n",
              "        const dataTable =\n",
              "          await google.colab.kernel.invokeFunction('convertToInteractive',\n",
              "                                                    [key], {});\n",
              "        if (!dataTable) return;\n",
              "\n",
              "        const docLinkHtml = 'Like what you see? Visit the ' +\n",
              "          '<a target=\"_blank\" href=https://colab.research.google.com/notebooks/data_table.ipynb>data table notebook</a>'\n",
              "          + ' to learn more about interactive tables.';\n",
              "        element.innerHTML = '';\n",
              "        dataTable['output_type'] = 'display_data';\n",
              "        await google.colab.output.renderOutput(dataTable, element);\n",
              "        const docLink = document.createElement('div');\n",
              "        docLink.innerHTML = docLinkHtml;\n",
              "        element.appendChild(docLink);\n",
              "      }\n",
              "    </script>\n",
              "  </div>\n",
              "\n",
              "\n",
              "<div id=\"df-f5b879fc-81ce-4e31-95ff-e06393b1675b\">\n",
              "  <button class=\"colab-df-quickchart\" onclick=\"quickchart('df-f5b879fc-81ce-4e31-95ff-e06393b1675b')\"\n",
              "            title=\"Suggest charts\"\n",
              "            style=\"display:none;\">\n",
              "\n",
              "<svg xmlns=\"http://www.w3.org/2000/svg\" height=\"24px\"viewBox=\"0 0 24 24\"\n",
              "     width=\"24px\">\n",
              "    <g>\n",
              "        <path d=\"M19 3H5c-1.1 0-2 .9-2 2v14c0 1.1.9 2 2 2h14c1.1 0 2-.9 2-2V5c0-1.1-.9-2-2-2zM9 17H7v-7h2v7zm4 0h-2V7h2v10zm4 0h-2v-4h2v4z\"/>\n",
              "    </g>\n",
              "</svg>\n",
              "  </button>\n",
              "\n",
              "<style>\n",
              "  .colab-df-quickchart {\n",
              "      --bg-color: #E8F0FE;\n",
              "      --fill-color: #1967D2;\n",
              "      --hover-bg-color: #E2EBFA;\n",
              "      --hover-fill-color: #174EA6;\n",
              "      --disabled-fill-color: #AAA;\n",
              "      --disabled-bg-color: #DDD;\n",
              "  }\n",
              "\n",
              "  [theme=dark] .colab-df-quickchart {\n",
              "      --bg-color: #3B4455;\n",
              "      --fill-color: #D2E3FC;\n",
              "      --hover-bg-color: #434B5C;\n",
              "      --hover-fill-color: #FFFFFF;\n",
              "      --disabled-bg-color: #3B4455;\n",
              "      --disabled-fill-color: #666;\n",
              "  }\n",
              "\n",
              "  .colab-df-quickchart {\n",
              "    background-color: var(--bg-color);\n",
              "    border: none;\n",
              "    border-radius: 50%;\n",
              "    cursor: pointer;\n",
              "    display: none;\n",
              "    fill: var(--fill-color);\n",
              "    height: 32px;\n",
              "    padding: 0;\n",
              "    width: 32px;\n",
              "  }\n",
              "\n",
              "  .colab-df-quickchart:hover {\n",
              "    background-color: var(--hover-bg-color);\n",
              "    box-shadow: 0 1px 2px rgba(60, 64, 67, 0.3), 0 1px 3px 1px rgba(60, 64, 67, 0.15);\n",
              "    fill: var(--button-hover-fill-color);\n",
              "  }\n",
              "\n",
              "  .colab-df-quickchart-complete:disabled,\n",
              "  .colab-df-quickchart-complete:disabled:hover {\n",
              "    background-color: var(--disabled-bg-color);\n",
              "    fill: var(--disabled-fill-color);\n",
              "    box-shadow: none;\n",
              "  }\n",
              "\n",
              "  .colab-df-spinner {\n",
              "    border: 2px solid var(--fill-color);\n",
              "    border-color: transparent;\n",
              "    border-bottom-color: var(--fill-color);\n",
              "    animation:\n",
              "      spin 1s steps(1) infinite;\n",
              "  }\n",
              "\n",
              "  @keyframes spin {\n",
              "    0% {\n",
              "      border-color: transparent;\n",
              "      border-bottom-color: var(--fill-color);\n",
              "      border-left-color: var(--fill-color);\n",
              "    }\n",
              "    20% {\n",
              "      border-color: transparent;\n",
              "      border-left-color: var(--fill-color);\n",
              "      border-top-color: var(--fill-color);\n",
              "    }\n",
              "    30% {\n",
              "      border-color: transparent;\n",
              "      border-left-color: var(--fill-color);\n",
              "      border-top-color: var(--fill-color);\n",
              "      border-right-color: var(--fill-color);\n",
              "    }\n",
              "    40% {\n",
              "      border-color: transparent;\n",
              "      border-right-color: var(--fill-color);\n",
              "      border-top-color: var(--fill-color);\n",
              "    }\n",
              "    60% {\n",
              "      border-color: transparent;\n",
              "      border-right-color: var(--fill-color);\n",
              "    }\n",
              "    80% {\n",
              "      border-color: transparent;\n",
              "      border-right-color: var(--fill-color);\n",
              "      border-bottom-color: var(--fill-color);\n",
              "    }\n",
              "    90% {\n",
              "      border-color: transparent;\n",
              "      border-bottom-color: var(--fill-color);\n",
              "    }\n",
              "  }\n",
              "</style>\n",
              "\n",
              "  <script>\n",
              "    async function quickchart(key) {\n",
              "      const quickchartButtonEl =\n",
              "        document.querySelector('#' + key + ' button');\n",
              "      quickchartButtonEl.disabled = true;  // To prevent multiple clicks.\n",
              "      quickchartButtonEl.classList.add('colab-df-spinner');\n",
              "      try {\n",
              "        const charts = await google.colab.kernel.invokeFunction(\n",
              "            'suggestCharts', [key], {});\n",
              "      } catch (error) {\n",
              "        console.error('Error during call to suggestCharts:', error);\n",
              "      }\n",
              "      quickchartButtonEl.classList.remove('colab-df-spinner');\n",
              "      quickchartButtonEl.classList.add('colab-df-quickchart-complete');\n",
              "    }\n",
              "    (() => {\n",
              "      let quickchartButtonEl =\n",
              "        document.querySelector('#df-f5b879fc-81ce-4e31-95ff-e06393b1675b button');\n",
              "      quickchartButtonEl.style.display =\n",
              "        google.colab.kernel.accessAllowed ? 'block' : 'none';\n",
              "    })();\n",
              "  </script>\n",
              "</div>\n",
              "\n",
              "    </div>\n",
              "  </div>\n"
            ]
          },
          "metadata": {},
          "execution_count": 72
        }
      ]
    },
    {
      "cell_type": "markdown",
      "source": [
        "### Caminho do código e tentativas."
      ],
      "metadata": {
        "id": "4sb--q86Db4e"
      },
      "id": "4sb--q86Db4e"
    },
    {
      "cell_type": "code",
      "source": [
        "df_titanic['pclass'].isnull().sum() / df_titanic.shape[0] * 100\n",
        "df_titanic['pclass'].isnull().sum()"
      ],
      "metadata": {
        "colab": {
          "base_uri": "https://localhost:8080/"
        },
        "id": "87yBpDc59y5J",
        "outputId": "139c6ca9-972a-46e9-88be-ffbca1c4e5cc"
      },
      "id": "87yBpDc59y5J",
      "execution_count": null,
      "outputs": [
        {
          "output_type": "execute_result",
          "data": {
            "text/plain": [
              "0"
            ]
          },
          "metadata": {},
          "execution_count": 40
        }
      ]
    },
    {
      "cell_type": "code",
      "source": [
        "df_titanic['fare']"
      ],
      "metadata": {
        "id": "0mPa7NBU-QEa"
      },
      "id": "0mPa7NBU-QEa",
      "execution_count": null,
      "outputs": []
    },
    {
      "cell_type": "code",
      "source": [
        "fare_tratada = pd.to_numeric(df_titanic['fare'], errors='coerce')\n",
        "\n",
        "fare_tratada"
      ],
      "metadata": {
        "id": "D5tu1Fab-uN-"
      },
      "id": "D5tu1Fab-uN-",
      "execution_count": null,
      "outputs": []
    },
    {
      "cell_type": "code",
      "source": [
        "df_titanic_tratado = df_titanic.copy()\n",
        "\n",
        "df_titanic_tratado['fare'] = fare_tratada"
      ],
      "metadata": {
        "id": "5nLR8VLQ_Yn-"
      },
      "id": "5nLR8VLQ_Yn-",
      "execution_count": null,
      "outputs": []
    },
    {
      "cell_type": "code",
      "source": [
        "# Interessante\n",
        "import pandas as pd\n",
        "\n",
        "# Supondo que você já tenha carregado o DataFrame df_titanic\n",
        "\n",
        "# Função para calcular qualquer estatística por grupo\n",
        "def calculate_statistic_by_group(group, column, statistic='mean'):\n",
        "    if statistic == 'mean':\n",
        "        return group[column].mean()\n",
        "    elif statistic == 'median':\n",
        "        return group[column].median()\n",
        "    # Adicione mais estatísticas conforme necessário\n",
        "\n",
        "# Aplicar a função ao DataFrame usando o método apply\n",
        "fare_for_class_mean = df_titanic.groupby('pclass').apply(calculate_statistic_by_group, column='fare', statistic='mean')\n",
        "fare_for_class_median = df_titanic.groupby('pclass').apply(calculate_statistic_by_group, column='fare', statistic='median')\n",
        "\n",
        "# Reinicializar o índice para obter séries com índices simples\n",
        "fare_for_class_mean = fare_for_class_mean.reset_index(drop=True)\n",
        "fare_for_class_median = fare_for_class_median.reset_index(drop=True)\n",
        "\n",
        "print(\"Mean Fare for each Class:\")\n",
        "print(fare_for_class_mean)\n",
        "\n",
        "print(\"\\nMedian Fare for each Class:\")\n",
        "print(fare_for_class_median)\n"
      ],
      "metadata": {
        "id": "XSg9y-E4wRqq"
      },
      "id": "XSg9y-E4wRqq",
      "execution_count": null,
      "outputs": []
    },
    {
      "cell_type": "code",
      "source": [
        "df_titanic['fare'] = pd.to_numeric(df_titanic['fare'].str.replace('[^\\d.]', ''), errors='coerce')\n"
      ],
      "metadata": {
        "colab": {
          "base_uri": "https://localhost:8080/"
        },
        "id": "-tSX8WK15VHJ",
        "outputId": "4d3c3f7e-debd-4c2e-84d7-bbd071d14cf9"
      },
      "id": "-tSX8WK15VHJ",
      "execution_count": null,
      "outputs": [
        {
          "output_type": "stream",
          "name": "stderr",
          "text": [
            "<ipython-input-27-6ba495896291>:1: FutureWarning: The default value of regex will change from True to False in a future version.\n",
            "  df_titanic['fare'] = pd.to_numeric(df_titanic['fare'].str.replace('[^\\d.]', ''), errors='coerce')\n"
          ]
        }
      ]
    },
    {
      "cell_type": "code",
      "source": [
        "\n",
        "\n",
        "def FareForClass(group, column='fare'):\n",
        "    try:\n",
        "        return group[column].mean()\n",
        "    except Exception as e:\n",
        "        print(f\"Error: {e}\")\n",
        "        return np.NaN\n",
        "\n",
        "# Aplicar a função ao DataFrame usando o método apply\n",
        "df_titanic_tratado['FareForClass'] = df_titanic_tratado.groupby('pclass').apply(FareForClass)\n",
        "\n"
      ],
      "metadata": {
        "id": "2c1EaNuHxT-h"
      },
      "id": "2c1EaNuHxT-h",
      "execution_count": null,
      "outputs": []
    },
    {
      "cell_type": "code",
      "source": [
        "df_titanic_tratado['pclass'].isnull().sum()"
      ],
      "metadata": {
        "colab": {
          "base_uri": "https://localhost:8080/"
        },
        "id": "9NUwZFhV7Zi3",
        "outputId": "3b0b6489-0f11-4143-b99b-2e49c5731e3b"
      },
      "id": "9NUwZFhV7Zi3",
      "execution_count": null,
      "outputs": [
        {
          "output_type": "execute_result",
          "data": {
            "text/plain": [
              "0"
            ]
          },
          "metadata": {},
          "execution_count": 52
        }
      ]
    },
    {
      "cell_type": "code",
      "source": [
        "percentage_null = df_titanic_tratado['FareForClass'].isnull().sum() / df_titanic_tratado.shape[0] * 100\n",
        "percentage_null"
      ],
      "metadata": {
        "colab": {
          "base_uri": "https://localhost:8080/"
        },
        "id": "QHw21fpp3Ugk",
        "outputId": "b04b9b1a-11f6-4bcb-b294-9be525417618"
      },
      "id": "QHw21fpp3Ugk",
      "execution_count": null,
      "outputs": [
        {
          "output_type": "execute_result",
          "data": {
            "text/plain": [
              "99.77081741787624"
            ]
          },
          "metadata": {},
          "execution_count": 50
        }
      ]
    },
    {
      "cell_type": "code",
      "source": [
        "df_titanic_tratado['fare'].mean()"
      ],
      "metadata": {
        "colab": {
          "base_uri": "https://localhost:8080/"
        },
        "id": "OM_2gBlmBrvk",
        "outputId": "c115e84c-8873-4f55-b778-5515b51dca07"
      },
      "id": "OM_2gBlmBrvk",
      "execution_count": null,
      "outputs": [
        {
          "output_type": "execute_result",
          "data": {
            "text/plain": [
              "33.29547928134557"
            ]
          },
          "metadata": {},
          "execution_count": 53
        }
      ]
    },
    {
      "cell_type": "code",
      "source": [
        "df_titanic_tratado.groupby('pclass')['fare'].mean()"
      ],
      "metadata": {
        "colab": {
          "base_uri": "https://localhost:8080/"
        },
        "id": "yxzyv0n_DR9e",
        "outputId": "bdd7fd6e-701a-4951-d7ce-527c820be9a2"
      },
      "id": "yxzyv0n_DR9e",
      "execution_count": null,
      "outputs": [
        {
          "output_type": "execute_result",
          "data": {
            "text/plain": [
              "pclass\n",
              "1    87.508992\n",
              "2    21.179196\n",
              "3    13.302889\n",
              "Name: fare, dtype: float64"
            ]
          },
          "metadata": {},
          "execution_count": 56
        }
      ]
    },
    {
      "cell_type": "code",
      "source": [
        "df_titanic_tratado.head(10)"
      ],
      "metadata": {
        "id": "hHS0nFWc12-A"
      },
      "id": "hHS0nFWc12-A",
      "execution_count": null,
      "outputs": []
    },
    {
      "cell_type": "code",
      "execution_count": null,
      "id": "476d9175",
      "metadata": {
        "id": "476d9175"
      },
      "outputs": [],
      "source": [
        "# Qual a taxa de sobrevivencia por preço medio por classe?\n",
        "\n",
        "#df_titanic['fare_for_class'] = df_titanic['pclass'].apply(lambda x: )\n",
        "#average_fare_by_class = df_titanic.groupby('pclass')['fare'].apply(lambda group: group.mean())\n",
        "\n",
        "#df_titanic['fare_for_class'] = df_titanic['pclass'].apply(lambda x: df_titanic[df_titanic['pclass'] == x]['fare'].mean())\n",
        "\n",
        "#def FareForClass (pclass, fare):\n"
      ]
    },
    {
      "cell_type": "markdown",
      "source": [
        "# 6) Qual a taxa de sobrevivencia por tarifa?"
      ],
      "metadata": {
        "id": "uhLoyd0WGom_"
      },
      "id": "uhLoyd0WGom_"
    },
    {
      "cell_type": "code",
      "execution_count": null,
      "id": "35215d75",
      "metadata": {
        "id": "35215d75",
        "colab": {
          "base_uri": "https://localhost:8080/",
          "height": 455
        },
        "outputId": "2db389cf-9e69-4791-fe15-6da9b571fe37"
      },
      "outputs": [
        {
          "output_type": "execute_result",
          "data": {
            "text/plain": [
              "          survived\n",
              "fare              \n",
              "0.0000    0.117647\n",
              "3.1708    1.000000\n",
              "4.0125    0.000000\n",
              "5.0000    0.000000\n",
              "6.2375    0.000000\n",
              "...            ...\n",
              "227.5250  0.600000\n",
              "247.5208  0.666667\n",
              "262.3750  0.857143\n",
              "263.0000  0.666667\n",
              "512.3292  1.000000\n",
              "\n",
              "[281 rows x 1 columns]"
            ],
            "text/html": [
              "\n",
              "  <div id=\"df-e8e4414e-8878-44e4-90fc-2ef72cea8246\" class=\"colab-df-container\">\n",
              "    <div>\n",
              "<style scoped>\n",
              "    .dataframe tbody tr th:only-of-type {\n",
              "        vertical-align: middle;\n",
              "    }\n",
              "\n",
              "    .dataframe tbody tr th {\n",
              "        vertical-align: top;\n",
              "    }\n",
              "\n",
              "    .dataframe thead th {\n",
              "        text-align: right;\n",
              "    }\n",
              "</style>\n",
              "<table border=\"1\" class=\"dataframe\">\n",
              "  <thead>\n",
              "    <tr style=\"text-align: right;\">\n",
              "      <th></th>\n",
              "      <th>survived</th>\n",
              "    </tr>\n",
              "    <tr>\n",
              "      <th>fare</th>\n",
              "      <th></th>\n",
              "    </tr>\n",
              "  </thead>\n",
              "  <tbody>\n",
              "    <tr>\n",
              "      <th>0.0000</th>\n",
              "      <td>0.117647</td>\n",
              "    </tr>\n",
              "    <tr>\n",
              "      <th>3.1708</th>\n",
              "      <td>1.000000</td>\n",
              "    </tr>\n",
              "    <tr>\n",
              "      <th>4.0125</th>\n",
              "      <td>0.000000</td>\n",
              "    </tr>\n",
              "    <tr>\n",
              "      <th>5.0000</th>\n",
              "      <td>0.000000</td>\n",
              "    </tr>\n",
              "    <tr>\n",
              "      <th>6.2375</th>\n",
              "      <td>0.000000</td>\n",
              "    </tr>\n",
              "    <tr>\n",
              "      <th>...</th>\n",
              "      <td>...</td>\n",
              "    </tr>\n",
              "    <tr>\n",
              "      <th>227.5250</th>\n",
              "      <td>0.600000</td>\n",
              "    </tr>\n",
              "    <tr>\n",
              "      <th>247.5208</th>\n",
              "      <td>0.666667</td>\n",
              "    </tr>\n",
              "    <tr>\n",
              "      <th>262.3750</th>\n",
              "      <td>0.857143</td>\n",
              "    </tr>\n",
              "    <tr>\n",
              "      <th>263.0000</th>\n",
              "      <td>0.666667</td>\n",
              "    </tr>\n",
              "    <tr>\n",
              "      <th>512.3292</th>\n",
              "      <td>1.000000</td>\n",
              "    </tr>\n",
              "  </tbody>\n",
              "</table>\n",
              "<p>281 rows × 1 columns</p>\n",
              "</div>\n",
              "    <div class=\"colab-df-buttons\">\n",
              "\n",
              "  <div class=\"colab-df-container\">\n",
              "    <button class=\"colab-df-convert\" onclick=\"convertToInteractive('df-e8e4414e-8878-44e4-90fc-2ef72cea8246')\"\n",
              "            title=\"Convert this dataframe to an interactive table.\"\n",
              "            style=\"display:none;\">\n",
              "\n",
              "  <svg xmlns=\"http://www.w3.org/2000/svg\" height=\"24px\" viewBox=\"0 -960 960 960\">\n",
              "    <path d=\"M120-120v-720h720v720H120Zm60-500h600v-160H180v160Zm220 220h160v-160H400v160Zm0 220h160v-160H400v160ZM180-400h160v-160H180v160Zm440 0h160v-160H620v160ZM180-180h160v-160H180v160Zm440 0h160v-160H620v160Z\"/>\n",
              "  </svg>\n",
              "    </button>\n",
              "\n",
              "  <style>\n",
              "    .colab-df-container {\n",
              "      display:flex;\n",
              "      gap: 12px;\n",
              "    }\n",
              "\n",
              "    .colab-df-convert {\n",
              "      background-color: #E8F0FE;\n",
              "      border: none;\n",
              "      border-radius: 50%;\n",
              "      cursor: pointer;\n",
              "      display: none;\n",
              "      fill: #1967D2;\n",
              "      height: 32px;\n",
              "      padding: 0 0 0 0;\n",
              "      width: 32px;\n",
              "    }\n",
              "\n",
              "    .colab-df-convert:hover {\n",
              "      background-color: #E2EBFA;\n",
              "      box-shadow: 0px 1px 2px rgba(60, 64, 67, 0.3), 0px 1px 3px 1px rgba(60, 64, 67, 0.15);\n",
              "      fill: #174EA6;\n",
              "    }\n",
              "\n",
              "    .colab-df-buttons div {\n",
              "      margin-bottom: 4px;\n",
              "    }\n",
              "\n",
              "    [theme=dark] .colab-df-convert {\n",
              "      background-color: #3B4455;\n",
              "      fill: #D2E3FC;\n",
              "    }\n",
              "\n",
              "    [theme=dark] .colab-df-convert:hover {\n",
              "      background-color: #434B5C;\n",
              "      box-shadow: 0px 1px 3px 1px rgba(0, 0, 0, 0.15);\n",
              "      filter: drop-shadow(0px 1px 2px rgba(0, 0, 0, 0.3));\n",
              "      fill: #FFFFFF;\n",
              "    }\n",
              "  </style>\n",
              "\n",
              "    <script>\n",
              "      const buttonEl =\n",
              "        document.querySelector('#df-e8e4414e-8878-44e4-90fc-2ef72cea8246 button.colab-df-convert');\n",
              "      buttonEl.style.display =\n",
              "        google.colab.kernel.accessAllowed ? 'block' : 'none';\n",
              "\n",
              "      async function convertToInteractive(key) {\n",
              "        const element = document.querySelector('#df-e8e4414e-8878-44e4-90fc-2ef72cea8246');\n",
              "        const dataTable =\n",
              "          await google.colab.kernel.invokeFunction('convertToInteractive',\n",
              "                                                    [key], {});\n",
              "        if (!dataTable) return;\n",
              "\n",
              "        const docLinkHtml = 'Like what you see? Visit the ' +\n",
              "          '<a target=\"_blank\" href=https://colab.research.google.com/notebooks/data_table.ipynb>data table notebook</a>'\n",
              "          + ' to learn more about interactive tables.';\n",
              "        element.innerHTML = '';\n",
              "        dataTable['output_type'] = 'display_data';\n",
              "        await google.colab.output.renderOutput(dataTable, element);\n",
              "        const docLink = document.createElement('div');\n",
              "        docLink.innerHTML = docLinkHtml;\n",
              "        element.appendChild(docLink);\n",
              "      }\n",
              "    </script>\n",
              "  </div>\n",
              "\n",
              "\n",
              "<div id=\"df-36e50aa6-166a-4494-8b6c-f61d492d2aa9\">\n",
              "  <button class=\"colab-df-quickchart\" onclick=\"quickchart('df-36e50aa6-166a-4494-8b6c-f61d492d2aa9')\"\n",
              "            title=\"Suggest charts\"\n",
              "            style=\"display:none;\">\n",
              "\n",
              "<svg xmlns=\"http://www.w3.org/2000/svg\" height=\"24px\"viewBox=\"0 0 24 24\"\n",
              "     width=\"24px\">\n",
              "    <g>\n",
              "        <path d=\"M19 3H5c-1.1 0-2 .9-2 2v14c0 1.1.9 2 2 2h14c1.1 0 2-.9 2-2V5c0-1.1-.9-2-2-2zM9 17H7v-7h2v7zm4 0h-2V7h2v10zm4 0h-2v-4h2v4z\"/>\n",
              "    </g>\n",
              "</svg>\n",
              "  </button>\n",
              "\n",
              "<style>\n",
              "  .colab-df-quickchart {\n",
              "      --bg-color: #E8F0FE;\n",
              "      --fill-color: #1967D2;\n",
              "      --hover-bg-color: #E2EBFA;\n",
              "      --hover-fill-color: #174EA6;\n",
              "      --disabled-fill-color: #AAA;\n",
              "      --disabled-bg-color: #DDD;\n",
              "  }\n",
              "\n",
              "  [theme=dark] .colab-df-quickchart {\n",
              "      --bg-color: #3B4455;\n",
              "      --fill-color: #D2E3FC;\n",
              "      --hover-bg-color: #434B5C;\n",
              "      --hover-fill-color: #FFFFFF;\n",
              "      --disabled-bg-color: #3B4455;\n",
              "      --disabled-fill-color: #666;\n",
              "  }\n",
              "\n",
              "  .colab-df-quickchart {\n",
              "    background-color: var(--bg-color);\n",
              "    border: none;\n",
              "    border-radius: 50%;\n",
              "    cursor: pointer;\n",
              "    display: none;\n",
              "    fill: var(--fill-color);\n",
              "    height: 32px;\n",
              "    padding: 0;\n",
              "    width: 32px;\n",
              "  }\n",
              "\n",
              "  .colab-df-quickchart:hover {\n",
              "    background-color: var(--hover-bg-color);\n",
              "    box-shadow: 0 1px 2px rgba(60, 64, 67, 0.3), 0 1px 3px 1px rgba(60, 64, 67, 0.15);\n",
              "    fill: var(--button-hover-fill-color);\n",
              "  }\n",
              "\n",
              "  .colab-df-quickchart-complete:disabled,\n",
              "  .colab-df-quickchart-complete:disabled:hover {\n",
              "    background-color: var(--disabled-bg-color);\n",
              "    fill: var(--disabled-fill-color);\n",
              "    box-shadow: none;\n",
              "  }\n",
              "\n",
              "  .colab-df-spinner {\n",
              "    border: 2px solid var(--fill-color);\n",
              "    border-color: transparent;\n",
              "    border-bottom-color: var(--fill-color);\n",
              "    animation:\n",
              "      spin 1s steps(1) infinite;\n",
              "  }\n",
              "\n",
              "  @keyframes spin {\n",
              "    0% {\n",
              "      border-color: transparent;\n",
              "      border-bottom-color: var(--fill-color);\n",
              "      border-left-color: var(--fill-color);\n",
              "    }\n",
              "    20% {\n",
              "      border-color: transparent;\n",
              "      border-left-color: var(--fill-color);\n",
              "      border-top-color: var(--fill-color);\n",
              "    }\n",
              "    30% {\n",
              "      border-color: transparent;\n",
              "      border-left-color: var(--fill-color);\n",
              "      border-top-color: var(--fill-color);\n",
              "      border-right-color: var(--fill-color);\n",
              "    }\n",
              "    40% {\n",
              "      border-color: transparent;\n",
              "      border-right-color: var(--fill-color);\n",
              "      border-top-color: var(--fill-color);\n",
              "    }\n",
              "    60% {\n",
              "      border-color: transparent;\n",
              "      border-right-color: var(--fill-color);\n",
              "    }\n",
              "    80% {\n",
              "      border-color: transparent;\n",
              "      border-right-color: var(--fill-color);\n",
              "      border-bottom-color: var(--fill-color);\n",
              "    }\n",
              "    90% {\n",
              "      border-color: transparent;\n",
              "      border-bottom-color: var(--fill-color);\n",
              "    }\n",
              "  }\n",
              "</style>\n",
              "\n",
              "  <script>\n",
              "    async function quickchart(key) {\n",
              "      const quickchartButtonEl =\n",
              "        document.querySelector('#' + key + ' button');\n",
              "      quickchartButtonEl.disabled = true;  // To prevent multiple clicks.\n",
              "      quickchartButtonEl.classList.add('colab-df-spinner');\n",
              "      try {\n",
              "        const charts = await google.colab.kernel.invokeFunction(\n",
              "            'suggestCharts', [key], {});\n",
              "      } catch (error) {\n",
              "        console.error('Error during call to suggestCharts:', error);\n",
              "      }\n",
              "      quickchartButtonEl.classList.remove('colab-df-spinner');\n",
              "      quickchartButtonEl.classList.add('colab-df-quickchart-complete');\n",
              "    }\n",
              "    (() => {\n",
              "      let quickchartButtonEl =\n",
              "        document.querySelector('#df-36e50aa6-166a-4494-8b6c-f61d492d2aa9 button');\n",
              "      quickchartButtonEl.style.display =\n",
              "        google.colab.kernel.accessAllowed ? 'block' : 'none';\n",
              "    })();\n",
              "  </script>\n",
              "</div>\n",
              "\n",
              "    </div>\n",
              "  </div>\n"
            ]
          },
          "metadata": {},
          "execution_count": 74
        }
      ],
      "source": [
        "\n",
        "\n",
        "#df_titanic_tratado.groupby('fare')['survived'].mean()\n",
        "df_titanic_tratado.pivot_table(index='fare', values='survived', aggfunc='mean')"
      ]
    },
    {
      "cell_type": "code",
      "execution_count": null,
      "id": "6c2fc977",
      "metadata": {
        "id": "6c2fc977"
      },
      "outputs": [],
      "source": []
    },
    {
      "cell_type": "markdown",
      "id": "9e3cb8b3",
      "metadata": {
        "id": "9e3cb8b3"
      },
      "source": [
        "**Qual a taxa de sobrevivência entre os gêneros (homens e mulheres) e classe do navio?**"
      ]
    },
    {
      "cell_type": "code",
      "execution_count": null,
      "id": "30b447ec",
      "metadata": {
        "id": "30b447ec"
      },
      "outputs": [],
      "source": []
    },
    {
      "cell_type": "code",
      "execution_count": null,
      "id": "f80decb0",
      "metadata": {
        "id": "f80decb0"
      },
      "outputs": [],
      "source": []
    },
    {
      "cell_type": "markdown",
      "id": "6d91e84f",
      "metadata": {
        "id": "6d91e84f"
      },
      "source": [
        "**O local de embarque também afeta a taxa de sobrevivência? E há relação com a classe?**"
      ]
    },
    {
      "cell_type": "code",
      "execution_count": null,
      "id": "c516d733",
      "metadata": {
        "id": "c516d733"
      },
      "outputs": [],
      "source": []
    },
    {
      "cell_type": "markdown",
      "id": "ffe6ef31",
      "metadata": {
        "id": "ffe6ef31"
      },
      "source": [
        "## Mini tarefa"
      ]
    },
    {
      "cell_type": "markdown",
      "id": "342fb3e9",
      "metadata": {
        "id": "342fb3e9"
      },
      "source": [
        "A partir do dataset Titanic, caso retiremos todos os missing values considerando apenas as 10 primeiras colunas, responda no [link](https://forms.gle/JZNUVw3qpkmJNfui9) quantos registros nos sobrarão?"
      ]
    },
    {
      "cell_type": "code",
      "execution_count": null,
      "id": "253f2943",
      "metadata": {
        "id": "253f2943",
        "colab": {
          "base_uri": "https://localhost:8080/"
        },
        "outputId": "228dcd6c-01a0-4f7e-b800-d2e2e437a98c"
      },
      "outputs": [
        {
          "output_type": "execute_result",
          "data": {
            "text/plain": [
              "0"
            ]
          },
          "metadata": {},
          "execution_count": 75
        }
      ],
      "source": [
        "# prompt: A partir do dataset Titanic, caso retiremos todos os missing values considerando apenas as 10 primeiras colunas, responda no link quantos registros nos sobrarão?\n",
        "\n",
        "# df_titanic.head(10)\n",
        "# df_titanic.head(10).isnull().sum()\n",
        "# df_titanic.head(10).isnull().sum().sum()\n",
        "# df_titanic.head(10).dropna().shape[0]\n"
      ]
    },
    {
      "cell_type": "code",
      "source": [
        "df_titanic.head(10)\n",
        "\n",
        "qtde_NaN = df_titanic.head(10).isnull().sum().sum()\n",
        "num_values = df_titanic.head(10).values.size\n",
        "\n",
        "print(f'A Quantidade de valores não nulos no df_titanic.head() é: {num_values - qtde_NaN}')"
      ],
      "metadata": {
        "colab": {
          "base_uri": "https://localhost:8080/"
        },
        "id": "VkixkQS7OAuy",
        "outputId": "cdc4b67a-d46e-4269-c3a8-d2b9e0d683e0"
      },
      "id": "VkixkQS7OAuy",
      "execution_count": null,
      "outputs": [
        {
          "output_type": "stream",
          "name": "stdout",
          "text": [
            "A Quantidade de valores não nulos no df_titanic.head() é: 126\n"
          ]
        }
      ]
    },
    {
      "cell_type": "code",
      "source": [
        "# Remove linhas com valores nulos nas 10 primeiras colunas\n",
        "df_titanic_limpo = df_titanic.iloc[:, :10].dropna()\n",
        "\n",
        "# linhas remanescentes\n",
        "num_rows_restantes = df_titanic_limpo.shape[0]\n",
        "\n",
        "# Exibe o resultado\n",
        "print(\"Número de registros não nulos nas 10 primeiras colunas:\", num_rows_restantes)\n"
      ],
      "metadata": {
        "colab": {
          "base_uri": "https://localhost:8080/"
        },
        "id": "OPU-8dAjPhAx",
        "outputId": "c042d540-91a7-4122-89c0-b3bad6b91983"
      },
      "id": "OPU-8dAjPhAx",
      "execution_count": null,
      "outputs": [
        {
          "output_type": "stream",
          "name": "stdout",
          "text": [
            "Número de registros não nulos nas 10 primeiras colunas: 272\n"
          ]
        }
      ]
    },
    {
      "cell_type": "code",
      "source": [],
      "metadata": {
        "id": "zvJvkzHsP5L_"
      },
      "id": "zvJvkzHsP5L_",
      "execution_count": null,
      "outputs": []
    }
  ],
  "metadata": {
    "kernelspec": {
      "display_name": "Python 3 (ipykernel)",
      "language": "python",
      "name": "python3"
    },
    "language_info": {
      "codemirror_mode": {
        "name": "ipython",
        "version": 3
      },
      "file_extension": ".py",
      "mimetype": "text/x-python",
      "name": "python",
      "nbconvert_exporter": "python",
      "pygments_lexer": "ipython3",
      "version": "3.11.5"
    },
    "colab": {
      "provenance": [],
      "collapsed_sections": [
        "4sb--q86Db4e"
      ]
    }
  },
  "nbformat": 4,
  "nbformat_minor": 5
}