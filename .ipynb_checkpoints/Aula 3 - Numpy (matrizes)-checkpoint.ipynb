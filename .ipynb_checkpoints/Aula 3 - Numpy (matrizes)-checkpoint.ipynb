{
 "cells": [
  {
   "cell_type": "markdown",
   "id": "396e845d",
   "metadata": {},
   "source": [
    "# Numpy"
   ]
  },
  {
   "cell_type": "markdown",
   "id": "f7b40eb6",
   "metadata": {},
   "source": [
    "**Relembrando**  \n",
    "  \n",
    "A biblioteca **NumPy** _(Numerical Python)_ proporciona uma forma eficiente de armazenagem e processamento de conjuntos de dados, e é utilizada como base para a construção da biblioteca Pandas, que estudaremos a seguir.\n",
    "\n",
    "O diferencial do Numpy é sua velocidade e eficiência, o que faz com que ela seja amplamente utilizada para computação científica e analise de dados. \n",
    "\n",
    "A velocidade e eficiência é possível graças à estrutura chamada **numpy array**, que é um forma eficiente de guardar e manipular matrizes, que serve como base para as tabelas que iremos utilizar."
   ]
  },
  {
   "cell_type": "code",
   "execution_count": 1,
   "id": "9c2e96a9",
   "metadata": {
    "tags": []
   },
   "outputs": [],
   "source": [
    "# A gente importa o numpy sempre chamando ele de \"np\"\n",
    "import numpy as np"
   ]
  },
  {
   "cell_type": "code",
   "execution_count": 2,
   "id": "ac030a72-cee0-47e6-b595-57f9afa9639a",
   "metadata": {
    "tags": []
   },
   "outputs": [
    {
     "name": "stdout",
     "output_type": "stream",
     "text": [
      "[1 2 3]\n",
      "<class 'numpy.ndarray'>\n"
     ]
    }
   ],
   "source": [
    "py_array = [1, 2, 3]\n",
    "np_array = np.array(py_array)\n",
    "\n",
    "print(np_array)\n",
    "print(type(np_array))"
   ]
  },
  {
   "cell_type": "code",
   "execution_count": 4,
   "id": "c2a994d7-234d-454a-b9df-8edcb2f3e39c",
   "metadata": {
    "tags": []
   },
   "outputs": [
    {
     "name": "stdout",
     "output_type": "stream",
     "text": [
      "<class 'numpy.int32'>\n"
     ]
    }
   ],
   "source": [
    "print(type(np_array[0]))"
   ]
  },
  {
   "cell_type": "raw",
   "id": "52127885-4c29-47df-b6c2-fe64adbfa544",
   "metadata": {},
   "source": []
  },
  {
   "cell_type": "code",
   "execution_count": null,
   "id": "7ab9fbe9",
   "metadata": {},
   "outputs": [],
   "source": []
  },
  {
   "cell_type": "code",
   "execution_count": null,
   "id": "5f3a07bf",
   "metadata": {},
   "outputs": [],
   "source": []
  },
  {
   "cell_type": "code",
   "execution_count": 5,
   "id": "7b65c4bc",
   "metadata": {
    "tags": []
   },
   "outputs": [
    {
     "name": "stdout",
     "output_type": "stream",
     "text": [
      "[[ 1  2  3]\n",
      " [ 4  5  6]\n",
      " [ 7  8  9]\n",
      " [10 11 12]]\n",
      "<class 'numpy.ndarray'>\n"
     ]
    }
   ],
   "source": [
    "# Vamos fazer uma comparação com um vetor do numpy\n",
    "py_matriz = [[1, 2, 3],\n",
    "             [4, 5, 6],\n",
    "             [7, 8, 9],\n",
    "             [10, 11, 12]]\n",
    "\n",
    "np_matriz = np.array(py_matriz)\n",
    "\n",
    "print(np_matriz)\n",
    "print(type(np_matriz))"
   ]
  },
  {
   "cell_type": "code",
   "execution_count": 6,
   "id": "4ec6934a",
   "metadata": {
    "tags": []
   },
   "outputs": [
    {
     "data": {
      "text/plain": [
       "array([1, 2, 3])"
      ]
     },
     "execution_count": 6,
     "metadata": {},
     "output_type": "execute_result"
    }
   ],
   "source": [
    "np_matriz[0]"
   ]
  },
  {
   "cell_type": "code",
   "execution_count": 7,
   "id": "0860bb98-cf95-4f56-9f09-41bbd46e1903",
   "metadata": {
    "tags": []
   },
   "outputs": [
    {
     "name": "stdout",
     "output_type": "stream",
     "text": [
      "<class 'numpy.ndarray'>\n"
     ]
    }
   ],
   "source": [
    "print(type(np_matriz[0]))"
   ]
  },
  {
   "cell_type": "code",
   "execution_count": 8,
   "id": "7cbb8c76",
   "metadata": {
    "tags": []
   },
   "outputs": [
    {
     "data": {
      "text/plain": [
       "1"
      ]
     },
     "execution_count": 8,
     "metadata": {},
     "output_type": "execute_result"
    }
   ],
   "source": [
    "# acessando um elemento específico dentro da matriz\n",
    "np_matriz[0,0] # acessando a linha e a coluna\n",
    "np_matriz[0][0] # Funciona da mesma maneira"
   ]
  },
  {
   "cell_type": "code",
   "execution_count": null,
   "id": "70a6c74c",
   "metadata": {},
   "outputs": [],
   "source": []
  },
  {
   "cell_type": "code",
   "execution_count": 10,
   "id": "ad7087b8",
   "metadata": {
    "tags": []
   },
   "outputs": [
    {
     "name": "stdout",
     "output_type": "stream",
     "text": [
      "(4, 3)\n",
      "2\n",
      "int32\n"
     ]
    }
   ],
   "source": [
    "# 3 atributos básicos pra um ndarray\n",
    "print(np_matriz.shape) # O Formato da Matriz\n",
    "print(np_matriz.ndim) # Quantidade de dimensões\n",
    "print(np_matriz.dtype) # Tipo de dado dos elementos da matriz"
   ]
  },
  {
   "cell_type": "code",
   "execution_count": 13,
   "id": "61e3d7b5",
   "metadata": {
    "tags": []
   },
   "outputs": [
    {
     "name": "stdout",
     "output_type": "stream",
     "text": [
      "[1 2 3]\n",
      "<class 'numpy.ndarray'>\n",
      "int32\n"
     ]
    }
   ],
   "source": [
    "x = np.array([1, 2, 3])\n",
    "print(x)\n",
    "print(type(x))\n",
    "print(x.dtype)"
   ]
  },
  {
   "cell_type": "code",
   "execution_count": 14,
   "id": "30797cb3",
   "metadata": {
    "tags": []
   },
   "outputs": [],
   "source": [
    "# O dtype de um array do numpy pode ser controlado na hora que a gente cria.\n",
    "py_matriz = [[1, 2, 3],\n",
    "             [4, 5, 6],\n",
    "             [7, 8, 9],\n",
    "             [10, 11, 12]]\n",
    "\n",
    "matriz = np.array(py_matriz, dtype=np.float64)"
   ]
  },
  {
   "cell_type": "code",
   "execution_count": 16,
   "id": "bc3a2f7f",
   "metadata": {
    "tags": []
   },
   "outputs": [
    {
     "name": "stdout",
     "output_type": "stream",
     "text": [
      "[[ 1.  2.  3.]\n",
      " [ 4.  5.  6.]\n",
      " [ 7.  8.  9.]\n",
      " [10. 11. 12.]]\n",
      "float64\n"
     ]
    }
   ],
   "source": [
    "print(matriz)\n",
    "print(matriz.dtype)"
   ]
  },
  {
   "cell_type": "code",
   "execution_count": 17,
   "id": "99c0d86d",
   "metadata": {
    "tags": []
   },
   "outputs": [
    {
     "name": "stdout",
     "output_type": "stream",
     "text": [
      "1.0\n",
      "1.0\n"
     ]
    }
   ],
   "source": [
    "# Para selecionar um elemento de uma tabela no Python e no Numpy, tem uma ligeira diferença.\n",
    "\n",
    "print(matriz[0][0])\n",
    "print(matriz[0,0])\n",
    "\n"
   ]
  },
  {
   "cell_type": "markdown",
   "id": "6bda33f8",
   "metadata": {},
   "source": [
    "Slicing com matriz"
   ]
  },
  {
   "cell_type": "code",
   "execution_count": 21,
   "id": "8f9e2122",
   "metadata": {
    "tags": []
   },
   "outputs": [
    {
     "name": "stdout",
     "output_type": "stream",
     "text": [
      "[[ 1.  2.  3.]\n",
      " [ 4.  5.  6.]\n",
      " [ 7.  8.  9.]\n",
      " [10. 11. 12.]]\n",
      "\n",
      "[[ 1.  2.  3.]\n",
      " [ 4.  5.  6.]\n",
      " [ 7.  8.  9.]\n",
      " [10. 11. 12.]]\n",
      "\n",
      "[[ 2.  3.]\n",
      " [ 5.  6.]\n",
      " [ 8.  9.]\n",
      " [11. 12.]]\n",
      "\n",
      "[[ 4.  5.  6.]\n",
      " [ 7.  8.  9.]\n",
      " [10. 11. 12.]]\n",
      "\n",
      "[6. 5. 4.]\n",
      "\n"
     ]
    }
   ],
   "source": [
    "# Slicing funciona no numpy!\n",
    "print(matriz, end = '\\n\\n')\n",
    "\n",
    "print(matriz[:,:], end = '\\n\\n')  # Assim eu pego todas as colunas\n",
    "\n",
    "print(matriz[:,1:], end = '\\n\\n') # pegando da segunda coluna em diante\n",
    "\n",
    "print(matriz[1:,:], end = '\\n\\n') # pegando da seguna linha em diante\n",
    "\n",
    "print(matriz[1,::-1], end = '\\n\\n') # pegando a segunda linha e invertendo ela\n"
   ]
  },
  {
   "cell_type": "markdown",
   "id": "e864132c",
   "metadata": {},
   "source": [
    "**Funções numpy**  \n",
    "O numpy também tem diversas funções para facilitar criação de matrizes."
   ]
  },
  {
   "cell_type": "code",
   "execution_count": 25,
   "id": "cb47ae67",
   "metadata": {
    "tags": []
   },
   "outputs": [
    {
     "name": "stdout",
     "output_type": "stream",
     "text": [
      "[[0. 0. 0.]\n",
      " [0. 0. 0.]]\n",
      "\n",
      "[[1. 1.]\n",
      " [1. 1.]\n",
      " [1. 1.]]\n",
      "\n",
      "[[1. 0. 0.]\n",
      " [0. 1. 0.]\n",
      " [0. 0. 1.]]\n",
      "\n"
     ]
    }
   ],
   "source": [
    "print(np.zeros((2,3)), end = '\\n\\n')\n",
    "print(np.ones((3, 2)), end = '\\n\\n')\n",
    "print(np.identity(3), end = '\\n\\n')\n"
   ]
  },
  {
   "cell_type": "markdown",
   "id": "af8b483d",
   "metadata": {},
   "source": [
    "# Manipulações de matrizes"
   ]
  },
  {
   "cell_type": "code",
   "execution_count": 26,
   "id": "103153e3",
   "metadata": {
    "tags": []
   },
   "outputs": [
    {
     "data": {
      "text/plain": [
       "array([[ 1.,  2.,  3.],\n",
       "       [ 4.,  5.,  6.],\n",
       "       [ 7.,  8.,  9.],\n",
       "       [10., 11., 12.]])"
      ]
     },
     "execution_count": 26,
     "metadata": {},
     "output_type": "execute_result"
    }
   ],
   "source": [
    "matriz"
   ]
  },
  {
   "cell_type": "code",
   "execution_count": 27,
   "id": "5ead4367",
   "metadata": {
    "tags": []
   },
   "outputs": [
    {
     "data": {
      "text/plain": [
       "array([[ 1.,  4.,  7., 10.],\n",
       "       [ 2.,  5.,  8., 11.],\n",
       "       [ 3.,  6.,  9., 12.]])"
      ]
     },
     "execution_count": 27,
     "metadata": {},
     "output_type": "execute_result"
    }
   ],
   "source": [
    "# Transposição de matrizes\n",
    "\n",
    "matriz.T # quando as linhas viram colunas e colunas viram linha, com o .T\n",
    "\n",
    "#matriz.transpose()\n",
    "#np.transpose(matriz)\n",
    "\n",
    "# todos essas fazem a transposição."
   ]
  },
  {
   "cell_type": "code",
   "execution_count": 29,
   "id": "87df6a49",
   "metadata": {
    "tags": []
   },
   "outputs": [
    {
     "data": {
      "text/plain": [
       "array([[ 1.,  4.,  7., 10.],\n",
       "       [ 2.,  5.,  8., 11.],\n",
       "       [ 3.,  6.,  9., 12.]])"
      ]
     },
     "execution_count": 29,
     "metadata": {},
     "output_type": "execute_result"
    }
   ],
   "source": [
    "np.transpose(matriz)"
   ]
  },
  {
   "cell_type": "code",
   "execution_count": null,
   "id": "b7bc6bc8",
   "metadata": {},
   "outputs": [],
   "source": [
    "matriz.transpose()"
   ]
  },
  {
   "cell_type": "code",
   "execution_count": 31,
   "id": "e347d8b8",
   "metadata": {
    "tags": []
   },
   "outputs": [],
   "source": [
    "x = np.array([0.1, 0.4, 1.0, 0.2, 0.7, 1.2, 1.1, 1.0, 0.9])"
   ]
  },
  {
   "cell_type": "code",
   "execution_count": 33,
   "id": "5c298535",
   "metadata": {
    "tags": []
   },
   "outputs": [
    {
     "data": {
      "text/plain": [
       "array([[0.1, 0.4, 1. , 0.2, 0.7, 1.2, 1.1, 1. , 0.9]])"
      ]
     },
     "execution_count": 33,
     "metadata": {},
     "output_type": "execute_result"
    }
   ],
   "source": [
    "# Redimensionamento\n",
    "x.reshape(3,3) # Eu transformo um array em uma matriz, porem ele deve conseguir ser redimensionado, ou seja no caso 9 elementos viram uma matriz 3x3\n",
    "\n",
    "#x.reshape(-1,9)  # consigo definir "
   ]
  },
  {
   "cell_type": "code",
   "execution_count": null,
   "id": "1e9da38a-0911-4f59-9692-378b6fc0388e",
   "metadata": {},
   "outputs": [],
   "source": [
    "# "
   ]
  },
  {
   "cell_type": "code",
   "execution_count": null,
   "id": "9e51e72f",
   "metadata": {},
   "outputs": [],
   "source": [
    "y = np.array([0.1, 0.4, 1.0, 0.2, 0.7, 1.2, 1.1, 1.0, 0.9, 2.0,\n",
    "              1.5, 1.6])"
   ]
  },
  {
   "cell_type": "code",
   "execution_count": null,
   "id": "01201e9a",
   "metadata": {
    "scrolled": true
   },
   "outputs": [],
   "source": [
    "# Vejam o que acontece se as dimensões não são condizentes"
   ]
  },
  {
   "cell_type": "code",
   "execution_count": null,
   "id": "b64b9ce4",
   "metadata": {},
   "outputs": [],
   "source": [
    "# E se eu quiser retornar para um vetor\n",
    "x = np.array([[1, 2, 3],\n",
    "              [4, 5, 6],\n",
    "              [7, 8, 9]])"
   ]
  },
  {
   "cell_type": "code",
   "execution_count": 34,
   "id": "69d11867",
   "metadata": {
    "tags": []
   },
   "outputs": [
    {
     "data": {
      "text/plain": [
       "array([0.1, 0.4, 1. , 0.2, 0.7, 1.2, 1.1, 1. , 0.9])"
      ]
     },
     "execution_count": 34,
     "metadata": {},
     "output_type": "execute_result"
    }
   ],
   "source": [
    "# Também é possível utilizar o flatten\n",
    "x.flatten()"
   ]
  },
  {
   "cell_type": "code",
   "execution_count": 38,
   "id": "0bf692ae",
   "metadata": {
    "tags": []
   },
   "outputs": [],
   "source": [
    "# Também podemos combinar arrays diferentes.\n",
    "# Imagina que temos duas features, altura e peso de pessoas físicas.\n",
    "x1 = np.array([[1.67, 89.],\n",
    "               [1.79, 85.],\n",
    "               [1.69, 65.],\n",
    "               [1.54, 57.],\n",
    "               [1.50, 45.]])\n",
    "\n",
    "# Porém, nós queremos testar agora adicionar uma terceira feature, se a pessoa é homem ou mulher.\n",
    "# 1 é mulher, 0 é homem\n",
    "x2 = np.array([1, 0, 1, 0, 1])\n",
    "\n",
    "# Como podemos fazer?"
   ]
  },
  {
   "cell_type": "code",
   "execution_count": 39,
   "id": "6767c5b6-0e3f-4df1-af7a-0e6d2a5e9282",
   "metadata": {
    "tags": []
   },
   "outputs": [
    {
     "data": {
      "text/plain": [
       "array([[1],\n",
       "       [0],\n",
       "       [1],\n",
       "       [0],\n",
       "       [1]])"
      ]
     },
     "execution_count": 39,
     "metadata": {},
     "output_type": "execute_result"
    }
   ],
   "source": [
    "x2.reshape(-1,1)\n",
    "\n",
    "# primeiro eu transformo o x2 em coluna e não em linha"
   ]
  },
  {
   "cell_type": "markdown",
   "id": "1d4e6a42-e225-48df-b598-515364b96190",
   "metadata": {},
   "source": [
    "# O Concatenate é o mais usado"
   ]
  },
  {
   "cell_type": "code",
   "execution_count": 41,
   "id": "71f46c3f",
   "metadata": {
    "tags": []
   },
   "outputs": [
    {
     "data": {
      "text/plain": [
       "array([[ 1.67, 89.  ,  1.  ],\n",
       "       [ 1.79, 85.  ,  0.  ],\n",
       "       [ 1.69, 65.  ,  1.  ],\n",
       "       [ 1.54, 57.  ,  0.  ],\n",
       "       [ 1.5 , 45.  ,  1.  ]])"
      ]
     },
     "execution_count": 41,
     "metadata": {},
     "output_type": "execute_result"
    }
   ],
   "source": [
    "#Podemos utilizar o concatenate\n",
    "\n",
    "np.concatenate((x1, x2.reshape(-1,1)), axis=1)  # No reshape, o -1 me permite que eu não saiba a quantidade de linhas. \n",
    "\n",
    "# Por exemplo se eu estiver concatenando e não souber quantas linhas tem eu posso usar o -1, pois caso contrário eu precisaria inserir exata\n",
    "#mente a qtde de linhas que estão sendo contatenadas.\n",
    "\n",
    "# Ja o reshape transforma ele em coluna para ser inserido"
   ]
  },
  {
   "cell_type": "code",
   "execution_count": null,
   "id": "f50d4542",
   "metadata": {},
   "outputs": [],
   "source": [
    "np.concatenate(((x1, x2.T)))"
   ]
  },
  {
   "cell_type": "code",
   "execution_count": 42,
   "id": "f8679c60",
   "metadata": {
    "tags": []
   },
   "outputs": [
    {
     "data": {
      "text/plain": [
       "array([[ 1.67, 89.  ,  1.  ],\n",
       "       [ 1.79, 85.  ,  0.  ],\n",
       "       [ 1.69, 65.  ,  1.  ],\n",
       "       [ 1.54, 57.  ,  0.  ],\n",
       "       [ 1.5 , 45.  ,  1.  ]])"
      ]
     },
     "execution_count": 42,
     "metadata": {},
     "output_type": "execute_result"
    }
   ],
   "source": [
    "np.append(x1, x2.reshape(-1,1), axis=1) # o axis 0 é para inserir em linhas, ja o axis= 1 insere em colunas"
   ]
  },
  {
   "cell_type": "code",
   "execution_count": 43,
   "id": "b44bef12",
   "metadata": {
    "tags": []
   },
   "outputs": [
    {
     "data": {
      "text/plain": [
       "array([[ 1.67,  1.  , 89.  ],\n",
       "       [ 1.79,  0.  , 85.  ],\n",
       "       [ 1.69,  1.  , 65.  ],\n",
       "       [ 1.54,  0.  , 57.  ],\n",
       "       [ 1.5 ,  1.  , 45.  ]])"
      ]
     },
     "execution_count": 43,
     "metadata": {},
     "output_type": "execute_result"
    }
   ],
   "source": [
    "# caso eu não quera inserir a coluna no final e sim em outro local\n",
    "\n",
    "# eu uso o insert\n",
    "\n",
    "np.insert(x1, 1, x2, axis=1) # Então aqui eu estou falando primeira matriz (x), onde quero inserir '1'(ou seja segunda coluna), x2 o que eu \n",
    "# estou inserindo, e axis = 1 indicando que estou inserindo uma coluna"
   ]
  },
  {
   "cell_type": "code",
   "execution_count": 45,
   "id": "f427bf99",
   "metadata": {
    "tags": []
   },
   "outputs": [
    {
     "data": {
      "text/plain": [
       "array([[ 1.67, 89.  ,  1.  ],\n",
       "       [ 1.79, 85.  ,  0.  ],\n",
       "       [ 1.69, 65.  ,  1.  ],\n",
       "       [ 1.54, 57.  ,  0.  ],\n",
       "       [ 1.5 , 45.  ,  1.  ]])"
      ]
     },
     "execution_count": 45,
     "metadata": {},
     "output_type": "execute_result"
    }
   ],
   "source": [
    "np.vstack([x1.T, x2]).T # vertical stack, une dados verticalmente. Ou seja obrigatoriamente coloca uma coluna\n",
    "\n",
    "# O Vstack é mais um concatenate. Acima eu precisei transpor o X1 e depois transpor a matriz toda."
   ]
  },
  {
   "cell_type": "code",
   "execution_count": 46,
   "id": "6abcbb1c",
   "metadata": {
    "tags": []
   },
   "outputs": [
    {
     "data": {
      "text/plain": [
       "array([[ 1.67, 89.  ,  1.  ],\n",
       "       [ 1.79, 85.  ,  0.  ],\n",
       "       [ 1.69, 65.  ,  1.  ],\n",
       "       [ 1.54, 57.  ,  0.  ],\n",
       "       [ 1.5 , 45.  ,  1.  ]])"
      ]
     },
     "execution_count": 46,
     "metadata": {},
     "output_type": "execute_result"
    }
   ],
   "source": [
    "np.hstack([x1, x2.reshape(-1,1)]) # mesma coisa que vstarck, só que horizontalmente. Ou seja adiciona linha"
   ]
  },
  {
   "cell_type": "code",
   "execution_count": 47,
   "id": "429fec63",
   "metadata": {
    "tags": []
   },
   "outputs": [
    {
     "data": {
      "text/plain": [
       "array([[ 1.67, 89.  ,  1.  ],\n",
       "       [ 1.79, 85.  ,  0.  ],\n",
       "       [ 1.69, 65.  ,  1.  ],\n",
       "       [ 1.54, 57.  ,  0.  ],\n",
       "       [ 1.5 , 45.  ,  1.  ]])"
      ]
     },
     "execution_count": 47,
     "metadata": {},
     "output_type": "execute_result"
    }
   ],
   "source": [
    "np.column_stack([x1,x2])"
   ]
  },
  {
   "cell_type": "code",
   "execution_count": null,
   "id": "19ae7488",
   "metadata": {},
   "outputs": [],
   "source": []
  },
  {
   "cell_type": "code",
   "execution_count": 53,
   "id": "42ac946c",
   "metadata": {
    "tags": []
   },
   "outputs": [],
   "source": [
    "# Agora temos a tabela de dados abaixo.\n",
    "table = np.array([[1.67, 89., 1],\n",
    "                  [1.79, 85., 0],\n",
    "                  [1.69, 65., 1],\n",
    "                  [1.54, 57., 0],\n",
    "                  [1.50, 45., 1]])\n",
    "\n",
    "# Mas tinhamos esquecido de outras 3 pessoas!\n",
    "new_table = np.array([[1.78, 91, 0],\n",
    "                      [1.72, 67, 1],\n",
    "                      [1.77, 76, 1]])"
   ]
  },
  {
   "cell_type": "code",
   "execution_count": 55,
   "id": "582baf26",
   "metadata": {
    "tags": []
   },
   "outputs": [
    {
     "data": {
      "text/plain": [
       "array([[ 1.67, 89.  ,  1.  ],\n",
       "       [ 1.79, 85.  ,  0.  ],\n",
       "       [ 1.69, 65.  ,  1.  ],\n",
       "       [ 1.54, 57.  ,  0.  ],\n",
       "       [ 1.5 , 45.  ,  1.  ],\n",
       "       [ 1.78, 91.  ,  0.  ],\n",
       "       [ 1.72, 67.  ,  1.  ],\n",
       "       [ 1.77, 76.  ,  1.  ]])"
      ]
     },
     "execution_count": 55,
     "metadata": {},
     "output_type": "execute_result"
    }
   ],
   "source": [
    "# Como podemos juntar as tabelas?\n",
    "\n",
    "#np.vstack([table, new_table])\n",
    "#np.concatenate((table, new_table), axis=0)\n",
    "np.append(table,new_table, axis=0)"
   ]
  },
  {
   "cell_type": "code",
   "execution_count": null,
   "id": "2aa445e6",
   "metadata": {},
   "outputs": [],
   "source": []
  },
  {
   "cell_type": "code",
   "execution_count": null,
   "id": "1ff93db0",
   "metadata": {},
   "outputs": [],
   "source": []
  },
  {
   "cell_type": "markdown",
   "id": "ca533559",
   "metadata": {},
   "source": [
    "Extra"
   ]
  },
  {
   "cell_type": "code",
   "execution_count": 56,
   "id": "2125056d",
   "metadata": {
    "tags": []
   },
   "outputs": [
    {
     "data": {
      "text/plain": [
       "array([[ 0.17647059, -0.00326797, -0.02287582],\n",
       "       [ 0.05882353, -0.13071895,  0.08496732],\n",
       "       [-0.11764706,  0.1503268 ,  0.05228758]])"
      ]
     },
     "execution_count": 56,
     "metadata": {},
     "output_type": "execute_result"
    }
   ],
   "source": [
    "# Inversão de matriz\n",
    "\n",
    "A = np.array(\n",
    "    [[6, 1, 1],\n",
    "     [4, -2, 5],\n",
    "     [2, 8, 7]] \n",
    ")\n",
    "\n",
    "np.linalg.inv(A)"
   ]
  },
  {
   "cell_type": "markdown",
   "id": "5e63879e",
   "metadata": {},
   "source": [
    "# Operações Básicas"
   ]
  },
  {
   "cell_type": "code",
   "execution_count": null,
   "id": "92aa6dfc",
   "metadata": {},
   "outputs": [],
   "source": []
  },
  {
   "cell_type": "code",
   "execution_count": 57,
   "id": "dd788bdd",
   "metadata": {
    "tags": []
   },
   "outputs": [
    {
     "data": {
      "text/plain": [
       "array([[ 2.,  4.,  6.],\n",
       "       [ 8., 10., 12.],\n",
       "       [14., 16., 18.],\n",
       "       [20., 22., 24.]])"
      ]
     },
     "execution_count": 57,
     "metadata": {},
     "output_type": "execute_result"
    }
   ],
   "source": [
    "#Podemos multiplicar por um escalar\n",
    "matriz_dobro = 2 * matriz\n",
    "matriz_dobro\n",
    "# multiplica cada elemento por 2."
   ]
  },
  {
   "cell_type": "code",
   "execution_count": 58,
   "id": "a7002dda",
   "metadata": {
    "tags": []
   },
   "outputs": [
    {
     "name": "stdout",
     "output_type": "stream",
     "text": [
      "[[ 3.  6.  9.]\n",
      " [12. 15. 18.]\n",
      " [21. 24. 27.]\n",
      " [30. 33. 36.]]\n"
     ]
    }
   ],
   "source": [
    "# Podemos somar duas matrizes\n",
    "print(matriz + matriz_dobro)"
   ]
  },
  {
   "cell_type": "code",
   "execution_count": 59,
   "id": "cf606dab",
   "metadata": {
    "tags": []
   },
   "outputs": [
    {
     "name": "stdout",
     "output_type": "stream",
     "text": [
      "[[  2.   8.  18.]\n",
      " [ 32.  50.  72.]\n",
      " [ 98. 128. 162.]\n",
      " [200. 242. 288.]]\n"
     ]
    }
   ],
   "source": [
    "# Multiplicação elemento por elemento\n",
    "print(matriz * matriz_dobro)"
   ]
  },
  {
   "cell_type": "code",
   "execution_count": 60,
   "id": "4fedf1b6",
   "metadata": {
    "tags": []
   },
   "outputs": [
    {
     "name": "stdout",
     "output_type": "stream",
     "text": [
      "(4, 3)\n",
      "(4, 3)\n"
     ]
    }
   ],
   "source": [
    "print(matriz.shape)\n",
    "print(matriz_dobro.shape)"
   ]
  },
  {
   "cell_type": "code",
   "execution_count": 62,
   "id": "97971086",
   "metadata": {
    "tags": []
   },
   "outputs": [
    {
     "name": "stdout",
     "output_type": "stream",
     "text": [
      "[[ 28.  64. 100. 136.]\n",
      " [ 64. 154. 244. 334.]\n",
      " [100. 244. 388. 532.]\n",
      " [136. 334. 532. 730.]]\n"
     ]
    }
   ],
   "source": [
    "# Produto matricial\n",
    "# Para fazer a multiplicação matricial eu preciso ter o numero de linhas igual ao numero de colunas da \n",
    "# outra matriz\n",
    "\n",
    "# Portanto nesse caso eu transponho uma das matrizes.\n",
    "print(matriz @ matriz_dobro.T)"
   ]
  },
  {
   "cell_type": "markdown",
   "id": "9384d618",
   "metadata": {},
   "source": [
    "**Bora praticar!**  \n",
    "  \n",
    "Transforme os dados presentes no arquivo csv **dados_artificiais.csv**, que está na pasta **dados** em um numpy array (matriz). Apenas para facilitar o exercício, os dados do arquivo já se encontram na célula abaixo, mas aqui cabe ressaltar o motivo de estarmos utilizando o numpy para análise de dados."
   ]
  },
  {
   "cell_type": "code",
   "execution_count": 63,
   "id": "4b3dd763",
   "metadata": {
    "tags": []
   },
   "outputs": [],
   "source": [
    "lista_artificial        =      [[1.78881069287776, 65.6481019432242, 0],\n",
    "                                [1.5667844336950, 76.6427679834926, 0],\n",
    "                                [2.0921930548074, 55.4681853258539, 1],\n",
    "                                [1.7824709172724, 67.28199736248, 1],\n",
    "                                [1.7357669765411, 69.2890076331505, 0],\n",
    "                                [1.6869746476945, 56.8400511361321, 0],\n",
    "                                [1.7971046329794, 65.2089732846482, 1],\n",
    "                                [1.1873490549389, 48.1647639458379, 0],\n",
    "                                [1.5958914364289, 45.4106481398706, 1],\n",
    "                                [1.3962817760658, 67.9301133367375, 0],\n",
    "                                [1.6061481645731, 67.7196040973561, 0],\n",
    "                                [1.7075899674617, 45.6093326162225, 0],\n",
    "                                [1.7355131159863, 64.8454515098479, 0],\n",
    "                                [1.6720551819612, 39.7059515043444, 1],\n",
    "                                [1.7233770692063, 50.0588802056305, 1],\n",
    "                                [1.6845742723083, 56.5450873826135, 1],\n",
    "                                [1.7332589297219, 37.5121875909276, 0],\n",
    "                                [1.7578996592814, 57.3624223948134, 0],\n",
    "                                [1.9133377051681, 69.3072463864561, 1],\n",
    "                                [1.4560483434458, 69.3423371108747, 0]\n",
    "]"
   ]
  },
  {
   "cell_type": "markdown",
   "id": "5743e18c",
   "metadata": {},
   "source": [
    "Utilize esta matriz para calcular o IMC, utilizando a equação\n",
    "\n",
    "```\n",
    "IMC = peso / altura**2\n",
    "```\n",
    "e insira na nova tabela"
   ]
  },
  {
   "cell_type": "code",
   "execution_count": 75,
   "id": "73c03462-7089-4743-9a4c-5afa33093981",
   "metadata": {
    "tags": []
   },
   "outputs": [],
   "source": [
    "dadosMatriz = np.array(lista_artificial)"
   ]
  },
  {
   "cell_type": "code",
   "execution_count": 82,
   "id": "54d6742f",
   "metadata": {
    "tags": []
   },
   "outputs": [
    {
     "name": "stdout",
     "output_type": "stream",
     "text": [
      "[[ 1.78881069 65.64810194 20.51603397  0.        ]\n",
      " [ 1.56678443 76.64276798 31.22142239  0.        ]\n",
      " [ 2.09219305 55.46818533 12.67186232  1.        ]\n",
      " [ 1.78247092 67.28199736 21.17648965  1.        ]\n",
      " [ 1.73576698 69.28900763 22.99754611  0.        ]\n",
      " [ 1.68697465 56.84005114 19.97272618  0.        ]\n",
      " [ 1.79710463 65.20897328 20.19113045  1.        ]\n",
      " [ 1.18734905 48.16476395 34.16430689  0.        ]\n",
      " [ 1.59589144 45.41064814 17.8299864   1.        ]\n",
      " [ 1.39628178 67.93011334 34.84305285  0.        ]\n",
      " [ 1.60614816 67.7196041  26.25083964  0.        ]\n",
      " [ 1.70758997 45.60933262 15.64179279  0.        ]\n",
      " [ 1.73551312 64.84545151 21.52899308  0.        ]\n",
      " [ 1.67205518 39.7059515  14.20215982  1.        ]\n",
      " [ 1.72337707 50.05888021 16.85467995  1.        ]\n",
      " [ 1.68457427 56.54508738 19.92574427  1.        ]\n",
      " [ 1.73325893 37.51218759 12.48663736  0.        ]\n",
      " [ 1.75789966 57.36242239 18.56262192  0.        ]\n",
      " [ 1.91333771 69.30724639 18.93195155  1.        ]\n",
      " [ 1.45604834 69.34233711 32.70746504  0.        ]]\n"
     ]
    }
   ],
   "source": [
    "dadosMatriz = np.array(lista_artificial)\n",
    "\n",
    "IMC = [i[1] / (i[0] ** 2) for i in dadosMatriz]\n",
    "IMC_matriz = np.array(IMC)\n",
    "#print(IMC)\n",
    "#np.insert(lista_artificial, 2, IMC, axis = 1)\n",
    "\n",
    "lista_artificial_com_IMC = np.insert(dadosMatriz, 2, IMC_matriz.T, axis=1)\n",
    "\n",
    "print(lista_artificial_com_IMC)"
   ]
  },
  {
   "cell_type": "markdown",
   "id": "e113561c",
   "metadata": {},
   "source": [
    "| IMC             | Categoria           |   |\n",
    "|-----------------|---------------------|---|\n",
    "| abaixo de 16,00 | Baixo peso Grau III |   |\n",
    "| 16,00 a 16,99   | Baixo peso Grau II  |   |\n",
    "| 17,00 a 18.49   | Baixo peso Grau I   |   |\n",
    "| 18,50 a 24,99   | Peso ideal          |   |\n",
    "| 25,00 a 29,99   | Sobrepeso           |   |\n",
    "| 30,00 a 34,99   | Obesidade Grau I    |   |\n",
    "| 35,00 a 39,99   | Obesidade Grau II   |   |\n",
    "| 40,0 e acima    | Obesidade Grau III  |   |\n",
    "\n",
    "Agora utilize a tabela acima para indicar a qual categoria cada valor de IMC se enquadra. Insira novamente na tabela."
   ]
  },
  {
   "cell_type": "code",
   "execution_count": 73,
   "id": "f2230965-1ad4-4e15-8175-92c5c34f0b1d",
   "metadata": {
    "tags": []
   },
   "outputs": [],
   "source": [
    "import numpy as np"
   ]
  },
  {
   "cell_type": "code",
   "execution_count": 89,
   "id": "167c5b2a-37e4-4ff0-8dc7-3955a0830539",
   "metadata": {
    "tags": []
   },
   "outputs": [
    {
     "name": "stdout",
     "output_type": "stream",
     "text": [
      "[[1.78881069287776 65.6481019432242 20.516033969644194 0.0 'Peso ideal']\n",
      " [1.566784433695 76.6427679834926 31.221422393286545 0.0\n",
      "  'Obesidade Grau I']\n",
      " [2.0921930548074 55.4681853258539 12.671862322378622 1.0\n",
      "  'Baixo peso Grau III']\n",
      " [1.7824709172724 67.28199736248 21.17648965106973 1.0 'Peso ideal']\n",
      " [1.7357669765411 69.2890076331505 22.99754610962119 0.0 'Peso ideal']\n",
      " [1.6869746476945 56.8400511361321 19.972726183561296 0.0 'Peso ideal']\n",
      " [1.7971046329794 65.2089732846482 20.191130450290462 1.0 'Peso ideal']\n",
      " [1.1873490549389 48.1647639458379 34.16430688742957 0.0\n",
      "  'Obesidade Grau I']\n",
      " [1.5958914364289 45.4106481398706 17.82998640186705 1.0\n",
      "  'Baixo peso Grau I']\n",
      " [1.3962817760658 67.9301133367375 34.84305285178067 0.0\n",
      "  'Obesidade Grau I']\n",
      " [1.6061481645731 67.7196040973561 26.250839638369474 0.0 'Sobrepeso']\n",
      " [1.7075899674617 45.6093326162225 15.641792787462661 0.0\n",
      "  'Baixo peso Grau III']\n",
      " [1.7355131159863 64.8454515098479 21.528993082184783 0.0 'Peso ideal']\n",
      " [1.6720551819612 39.7059515043444 14.20215981997273 1.0\n",
      "  'Baixo peso Grau III']\n",
      " [1.7233770692063 50.0588802056305 16.854679954620202 1.0\n",
      "  'Baixo peso Grau II']\n",
      " [1.6845742723083 56.5450873826135 19.92574427273178 1.0 'Peso ideal']\n",
      " [1.7332589297219 37.5121875909276 12.486637355204843 0.0\n",
      "  'Baixo peso Grau III']\n",
      " [1.7578996592814 57.3624223948134 18.56262192376198 0.0 'Peso ideal']\n",
      " [1.9133377051681 69.3072463864561 18.931951552368982 1.0 'Peso ideal']\n",
      " [1.4560483434458 69.3423371108747 32.70746503885114 0.0\n",
      "  'Obesidade Grau I']]\n"
     ]
    }
   ],
   "source": [
    "categorias_IMC = np.array([\n",
    "    \"Baixo peso Grau III\" if imc < 16.00\n",
    "    else \"Baixo peso Grau II\" if 16.00 <= imc <= 16.99\n",
    "    else \"Baixo peso Grau I\" if 17.00 <= imc <= 18.49\n",
    "    else \"Peso ideal\" if 18.50 <= imc <= 24.99\n",
    "    else \"Sobrepeso\" if 25.00 <= imc <= 29.99\n",
    "    else \"Obesidade Grau I\" if 30.00 <= imc <= 34.99\n",
    "    else \"Obesidade Grau II\" if 35.00 <= imc <= 39.99\n",
    "    else \"Obesidade Grau III\"\n",
    "    for imc in lista_artificial_com_IMC[:, 2]\n",
    "], dtype=object)\n",
    "\n",
    "# Adiciona coluna de categorias à matriz\n",
    "lista_artificial_com_categorias = np.column_stack((lista_artificial_com_IMC, categorias_IMC))\n",
    "\n",
    "print(lista_artificial_com_categorias)"
   ]
  },
  {
   "cell_type": "code",
   "execution_count": 83,
   "id": "9cbabb4b-4bb6-41bb-93f1-ec23aad3b63c",
   "metadata": {
    "tags": []
   },
   "outputs": [
    {
     "ename": "ValueError",
     "evalue": "could not convert string to float: 'Peso ideal'",
     "output_type": "error",
     "traceback": [
      "\u001b[1;31m---------------------------------------------------------------------------\u001b[0m",
      "\u001b[1;31mValueError\u001b[0m                                Traceback (most recent call last)",
      "Cell \u001b[1;32mIn[83], line 23\u001b[0m\n\u001b[0;32m     19\u001b[0m     \u001b[38;5;28;01melse\u001b[39;00m:\n\u001b[0;32m     20\u001b[0m         categorias_IMC\u001b[38;5;241m.\u001b[39mappend(\u001b[38;5;124m\"\u001b[39m\u001b[38;5;124mObesidade Grau III\u001b[39m\u001b[38;5;124m\"\u001b[39m)\n\u001b[1;32m---> 23\u001b[0m lista_artificial_com_IMC \u001b[38;5;241m=\u001b[39m \u001b[43mnp\u001b[49m\u001b[38;5;241;43m.\u001b[39;49m\u001b[43minsert\u001b[49m\u001b[43m(\u001b[49m\u001b[43mlista_artificial_com_IMC\u001b[49m\u001b[43m,\u001b[49m\u001b[43m \u001b[49m\u001b[38;5;241;43m3\u001b[39;49m\u001b[43m,\u001b[49m\u001b[43m \u001b[49m\u001b[43mcategorias_IMC\u001b[49m\u001b[43m,\u001b[49m\u001b[43m \u001b[49m\u001b[43maxis\u001b[49m\u001b[38;5;241;43m=\u001b[39;49m\u001b[38;5;241;43m1\u001b[39;49m\u001b[43m)\u001b[49m\n\u001b[0;32m     25\u001b[0m \u001b[38;5;28mprint\u001b[39m(lista_artificial_com_IMC)\n",
      "File \u001b[1;32m<__array_function__ internals>:200\u001b[0m, in \u001b[0;36minsert\u001b[1;34m(*args, **kwargs)\u001b[0m\n",
      "File \u001b[1;32mD:\\T.I\\Anaconda\\Lib\\site-packages\\numpy\\lib\\function_base.py:5394\u001b[0m, in \u001b[0;36minsert\u001b[1;34m(arr, obj, values, axis)\u001b[0m\n\u001b[0;32m   5390\u001b[0m     index \u001b[38;5;241m+\u001b[39m\u001b[38;5;241m=\u001b[39m N\n\u001b[0;32m   5392\u001b[0m \u001b[38;5;66;03m# There are some object array corner cases here, but we cannot avoid\u001b[39;00m\n\u001b[0;32m   5393\u001b[0m \u001b[38;5;66;03m# that:\u001b[39;00m\n\u001b[1;32m-> 5394\u001b[0m values \u001b[38;5;241m=\u001b[39m array(values, copy\u001b[38;5;241m=\u001b[39m\u001b[38;5;28;01mFalse\u001b[39;00m, ndmin\u001b[38;5;241m=\u001b[39marr\u001b[38;5;241m.\u001b[39mndim, dtype\u001b[38;5;241m=\u001b[39marr\u001b[38;5;241m.\u001b[39mdtype)\n\u001b[0;32m   5395\u001b[0m \u001b[38;5;28;01mif\u001b[39;00m indices\u001b[38;5;241m.\u001b[39mndim \u001b[38;5;241m==\u001b[39m \u001b[38;5;241m0\u001b[39m:\n\u001b[0;32m   5396\u001b[0m     \u001b[38;5;66;03m# broadcasting is very different here, since a[:,0,:] = ... behaves\u001b[39;00m\n\u001b[0;32m   5397\u001b[0m     \u001b[38;5;66;03m# very different from a[:,[0],:] = ...! This changes values so that\u001b[39;00m\n\u001b[0;32m   5398\u001b[0m     \u001b[38;5;66;03m# it works likes the second case. (here a[:,0:1,:])\u001b[39;00m\n\u001b[0;32m   5399\u001b[0m     values \u001b[38;5;241m=\u001b[39m np\u001b[38;5;241m.\u001b[39mmoveaxis(values, \u001b[38;5;241m0\u001b[39m, axis)\n",
      "\u001b[1;31mValueError\u001b[0m: could not convert string to float: 'Peso ideal'"
     ]
    }
   ],
   "source": [
    "\n",
    "\n",
    "# # Fazendo a categorização\n",
    "# categorias_IMC = []\n",
    "\n",
    "# for imc_valor in IMC_matriz:\n",
    "#     if imc_valor < 16.00:\n",
    "#         categorias_IMC.append(\"Baixo peso Grau III\")\n",
    "#     elif 16.00 <= imc_valor <= 16.99:\n",
    "#         categorias_IMC.append(\"Baixo peso Grau II\")\n",
    "#     elif 17.00 <= imc_valor <= 18.49:\n",
    "#         categorias_IMC.append(\"Baixo peso Grau I\")\n",
    "#     elif 18.50 <= imc_valor <= 24.99:\n",
    "#         categorias_IMC.append(\"Peso ideal\")\n",
    "#     elif 25.00 <= imc_valor <= 29.99:\n",
    "#         categorias_IMC.append(\"Sobrepeso\")\n",
    "#     elif 30.00 <= imc_valor <= 34.99:\n",
    "#         categorias_IMC.append(\"Obesidade Grau I\")\n",
    "#     elif 35.00 <= imc_valor <= 39.99:\n",
    "#         categorias_IMC.append(\"Obesidade Grau II\")\n",
    "#     else:\n",
    "#         categorias_IMC.append(\"Obesidade Grau III\")\n",
    "\n",
    "\n",
    "# lista_artificial_com_IMC = np.insert(lista_artificial_com_IMC, 3, categorias_IMC, axis=1)\n",
    "\n",
    "# print(lista_artificial_com_IMC)"
   ]
  },
  {
   "cell_type": "code",
   "execution_count": null,
   "id": "b391ff54",
   "metadata": {},
   "outputs": [],
   "source": [
    "categorias_IMC = []\n",
    "\n",
    "for imc_valor in IMC:\n",
    "    if imc_valor < 16.00:\n",
    "        categorias_IMC.append(\"Baixo peso Grau III\")\n",
    "    elif 16.00 <= imc_valor <= 16.99:\n",
    "        categorias_IMC.append(\"Baixo peso Grau II\")\n",
    "    elif 17.00 <= imc_valor <= 18.49:\n",
    "        categorias_IMC.append(\"Baixo peso Grau I\")\n",
    "    elif 18.50 <= imc_valor <= 24.99:\n",
    "        categorias_IMC.append(\"Peso ideal\")\n",
    "    elif 25.00 <= imc_valor <= 29.99:\n",
    "        categorias_IMC.append(\"Sobrepeso\")\n",
    "    elif 30.00 <= imc_valor <= 34.99:\n",
    "        categorias_IMC.append(\"Obesidade Grau I\")\n",
    "    elif 35.00 <= imc_valor <= 39.99:\n",
    "        categorias_IMC.append(\"Obesidade Grau II\")\n",
    "    else:\n",
    "        categorias_IMC.append(\"Obesidade Grau III\")\n",
    "\n",
    "            "
   ]
  },
  {
   "cell_type": "code",
   "execution_count": null,
   "id": "1a081d2f-0c8a-419f-bdce-055dbc2cf014",
   "metadata": {},
   "outputs": [],
   "source": []
  },
  {
   "cell_type": "markdown",
   "id": "a098d472",
   "metadata": {},
   "source": [
    "### Tipos de dados"
   ]
  },
  {
   "cell_type": "markdown",
   "id": "df4dff6f",
   "metadata": {},
   "source": [
    "Primeiro vamos falar do infinito (e além).\n",
    "\n",
    "Quando fazemos operações de ponto flutuante no computador, existe um padrão técnico (definido pela IEEE, o Instituto de Engenheiros Eletro-eletrônicos) que define algumas coisas que uma biblioteca tem que ter.\n",
    "\n",
    "Especificamente, aqui vamos falar de duas coisas:\n",
    "- Not a Number (NAN)\n",
    "- Infinito"
   ]
  },
  {
   "cell_type": "code",
   "execution_count": null,
   "id": "9b952e58",
   "metadata": {},
   "outputs": [],
   "source": [
    "# Not a Number é o resultado de operações inválidas.\n",
    "# Embora ele exista no Python, operações inválidas tendem a levantar um erro.\n",
    "\n",
    "# são exemplos de operações inválidas tais quais dividir por 0"
   ]
  },
  {
   "cell_type": "code",
   "execution_count": 90,
   "id": "7cd1a71f",
   "metadata": {
    "tags": []
   },
   "outputs": [
    {
     "data": {
      "text/plain": [
       "nan"
      ]
     },
     "execution_count": 90,
     "metadata": {},
     "output_type": "execute_result"
    }
   ],
   "source": [
    "# Para usá-lo no python, temos que converter string para float.\n",
    "float('NaN')"
   ]
  },
  {
   "cell_type": "code",
   "execution_count": 92,
   "id": "2ed080c8",
   "metadata": {
    "tags": []
   },
   "outputs": [
    {
     "name": "stdout",
     "output_type": "stream",
     "text": [
      "nan\n",
      "<class 'float'>\n"
     ]
    }
   ],
   "source": [
    "# No numpy, temos o objeto nan.\n",
    "print(np.nan)\n",
    "print(type(np.nan))"
   ]
  },
  {
   "cell_type": "code",
   "execution_count": 98,
   "id": "2e9e1480",
   "metadata": {
    "tags": []
   },
   "outputs": [
    {
     "name": "stdout",
     "output_type": "stream",
     "text": [
      "[0.5 0.  0.5 nan]\n",
      "\n",
      "[ 2. inf  2. nan]\n"
     ]
    },
    {
     "name": "stderr",
     "output_type": "stream",
     "text": [
      "C:\\Users\\User\\AppData\\Local\\Temp\\ipykernel_5428\\106739406.py:5: RuntimeWarning: invalid value encountered in divide\n",
      "  print(x1/x2, end = '\\n\\n')\n",
      "C:\\Users\\User\\AppData\\Local\\Temp\\ipykernel_5428\\106739406.py:6: RuntimeWarning: divide by zero encountered in divide\n",
      "  print(x2/x1)\n",
      "C:\\Users\\User\\AppData\\Local\\Temp\\ipykernel_5428\\106739406.py:6: RuntimeWarning: invalid value encountered in divide\n",
      "  print(x2/x1)\n"
     ]
    }
   ],
   "source": [
    "# Já no numpy, operações inválidas retornam NaN mesmo.\n",
    "x1 = np.array([1, 0, 1, 0])\n",
    "x2 = np.array([2, 1, 2, 0])\n",
    "\n",
    "print(x1/x2, end = '\\n\\n')\n",
    "print(x2/x1)"
   ]
  },
  {
   "cell_type": "code",
   "execution_count": 94,
   "id": "14ff5b7f",
   "metadata": {
    "tags": []
   },
   "outputs": [
    {
     "ename": "ZeroDivisionError",
     "evalue": "division by zero",
     "output_type": "error",
     "traceback": [
      "\u001b[1;31m---------------------------------------------------------------------------\u001b[0m",
      "\u001b[1;31mZeroDivisionError\u001b[0m                         Traceback (most recent call last)",
      "Cell \u001b[1;32mIn[94], line 4\u001b[0m\n\u001b[0;32m      1\u001b[0m \u001b[38;5;66;03m# \"Infinito\", no padrão, pode ser pensado como um número que é maior que qualquer outro número.\u001b[39;00m\n\u001b[0;32m      2\u001b[0m \u001b[38;5;66;03m# No caso de \"-infinito\", temos um número que é menor que qualquer outro número.\u001b[39;00m\n\u001b[1;32m----> 4\u001b[0m \u001b[38;5;241;43m1\u001b[39;49m\u001b[38;5;241;43m/\u001b[39;49m\u001b[38;5;241;43m0\u001b[39;49m\n",
      "\u001b[1;31mZeroDivisionError\u001b[0m: division by zero"
     ]
    }
   ],
   "source": [
    "# \"Infinito\", no padrão, pode ser pensado como um número que é maior que qualquer outro número.\n",
    "# No caso de \"-infinito\", temos um número que é menor que qualquer outro número.\n",
    "\n",
    "1/0"
   ]
  },
  {
   "cell_type": "code",
   "execution_count": 96,
   "id": "5fada44a",
   "metadata": {
    "tags": []
   },
   "outputs": [
    {
     "name": "stdout",
     "output_type": "stream",
     "text": [
      "inf\n",
      "True\n",
      "True\n"
     ]
    }
   ],
   "source": [
    "print(float('inf'))\n",
    "print(float('inf')> 100000000000000000) \n",
    "print(-float('inf') < -100000000000000)"
   ]
  },
  {
   "cell_type": "code",
   "execution_count": 97,
   "id": "5d5c065e",
   "metadata": {
    "tags": []
   },
   "outputs": [
    {
     "name": "stdout",
     "output_type": "stream",
     "text": [
      "inf\n",
      "True\n",
      "True\n",
      "<class 'float'>\n"
     ]
    }
   ],
   "source": [
    "# No Numpy, não seria diferente.\n",
    "print(np.inf)\n",
    "print(np.inf > 10000000000000000000)\n",
    "print(-np.inf < -10000000000000000000)\n",
    "print(type(np.inf))"
   ]
  },
  {
   "cell_type": "code",
   "execution_count": null,
   "id": "2d1714ff",
   "metadata": {
    "scrolled": true
   },
   "outputs": [],
   "source": [
    "# No numpy, algumas operações podem gerar infinitos."
   ]
  },
  {
   "cell_type": "markdown",
   "id": "2fa8e736",
   "metadata": {},
   "source": [
    "Notou que tanto infinito quanto NaN são do tipo \"float\"? Não são float64, nem float32, nem nada assim.\n",
    "\n",
    "Isso é devido à hierarquia de dtypes do numpy.\n",
    "\n",
    "![hierarchy](https://numpy.org/doc/stable/_images/dtype-hierarchy.png)"
   ]
  },
  {
   "cell_type": "markdown",
   "id": "569060dd",
   "metadata": {},
   "source": [
    "## Mini tarefa"
   ]
  },
  {
   "cell_type": "markdown",
   "id": "a934e3b6",
   "metadata": {},
   "source": [
    "Utilizando numpy crie duas matrizes com 5 linhas e 4 colunas, sendo uma delas apenas contendo números 1 e a segunda uma matriz olho (eye). Após isso, some as duas matrizes. Envie o código para realizar esta operação através do [link](https://forms.gle/SDCiDSG9FhmqXQTG6)."
   ]
  },
  {
   "cell_type": "code",
   "execution_count": 107,
   "id": "fce81fb7-4f58-4d5d-a0e2-26e94b812ecb",
   "metadata": {
    "tags": []
   },
   "outputs": [
    {
     "name": "stdout",
     "output_type": "stream",
     "text": [
      "[[1. 1. 1. 1.]\n",
      " [1. 1. 1. 1.]\n",
      " [1. 1. 1. 1.]\n",
      " [1. 1. 1. 1.]\n",
      " [1. 1. 1. 1.]] \n",
      "\n",
      " [[1. 0. 0. 0.]\n",
      " [0. 1. 0. 0.]\n",
      " [0. 0. 1. 0.]\n",
      " [0. 0. 0. 1.]\n",
      " [0. 0. 0. 0.]] \n",
      "\n",
      " A soma das duas matrizes é: \n",
      "\n",
      " [[2. 1. 1. 1.]\n",
      " [1. 2. 1. 1.]\n",
      " [1. 1. 2. 1.]\n",
      " [1. 1. 1. 2.]\n",
      " [1. 1. 1. 1.]]\n"
     ]
    }
   ],
   "source": [
    "m1 = np.ones((5, 4))\n",
    "m2 = np.eye(5,4)\n",
    "mSoma = (m1 + m2)\n",
    "\n",
    "print(m1, '\\n\\n', m2, '\\n\\n', f'A soma das duas matrizes é: \\n\\n {mSoma}')\n"
   ]
  },
  {
   "cell_type": "code",
   "execution_count": 99,
   "id": "3de8b1f2",
   "metadata": {
    "tags": []
   },
   "outputs": [
    {
     "name": "stdout",
     "output_type": "stream",
     "text": [
      "[[1. 0. 0.]\n",
      " [0. 1. 0.]\n",
      " [0. 0. 1.]]\n",
      "\n"
     ]
    }
   ],
   "source": [
    "# print(np.zeros((2,3)), end = '\\n\\n')\n",
    "# print(np.ones((3, 2)), end = '\\n\\n')\n",
    "# print(np.identity(3), end = '\\n\\n')\n",
    "# print(np.eye(3), end = '\\n\\n')"
   ]
  }
 ],
 "metadata": {
  "kernelspec": {
   "display_name": "Python 3 (ipykernel)",
   "language": "python",
   "name": "python3"
  },
  "language_info": {
   "codemirror_mode": {
    "name": "ipython",
    "version": 3
   },
   "file_extension": ".py",
   "mimetype": "text/x-python",
   "name": "python",
   "nbconvert_exporter": "python",
   "pygments_lexer": "ipython3",
   "version": "3.11.5"
  },
  "vscode": {
   "interpreter": {
    "hash": "7f52069df51f55474cef70a04f6de2c8e83f851022777c4983d9d0bb63ea6184"
   }
  }
 },
 "nbformat": 4,
 "nbformat_minor": 5
}
